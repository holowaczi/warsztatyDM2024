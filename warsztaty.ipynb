{
 "cells": [
  {
   "cell_type": "markdown",
   "metadata": {},
   "source": [
    "# https://github.com/holowaczi/warsztatyDM2024"
   ]
  },
  {
   "cell_type": "markdown",
   "metadata": {},
   "source": [
    "# Pobrać plik warsztaty.ipynb"
   ]
  },
  {
   "cell_type": "code",
   "execution_count": 143,
   "metadata": {},
   "outputs": [],
   "source": [
    "using Pkg"
   ]
  },
  {
   "cell_type": "code",
   "execution_count": 144,
   "metadata": {},
   "outputs": [
    {
     "name": "stderr",
     "output_type": "stream",
     "text": [
      "\u001b[32m\u001b[1m  Activating\u001b[22m\u001b[39m project at `~/Desktop/DM2024`\n"
     ]
    }
   ],
   "source": [
    "Pkg.activate(\".\")"
   ]
  },
  {
   "cell_type": "code",
   "execution_count": 145,
   "metadata": {},
   "outputs": [
    {
     "name": "stderr",
     "output_type": "stream",
     "text": [
      "\u001b[32m\u001b[1m   Resolving\u001b[22m\u001b[39m package versions...\n",
      "\u001b[32m\u001b[1m  No Changes\u001b[22m\u001b[39m to `~/Desktop/DM2024/Project.toml`\n",
      "\u001b[32m\u001b[1m  No Changes\u001b[22m\u001b[39m to `~/Desktop/DM2024/Manifest.toml`\n",
      "\u001b[32m\u001b[1m   Resolving\u001b[22m\u001b[39m package versions...\n",
      "\u001b[32m\u001b[1m  No Changes\u001b[22m\u001b[39m to `~/Desktop/DM2024/Project.toml`\n",
      "\u001b[32m\u001b[1m  No Changes\u001b[22m\u001b[39m to `~/Desktop/DM2024/Manifest.toml`\n",
      "\u001b[32m\u001b[1m   Resolving\u001b[22m\u001b[39m package versions...\n",
      "\u001b[32m\u001b[1m  No Changes\u001b[22m\u001b[39m to `~/Desktop/DM2024/Project.toml`\n",
      "\u001b[32m\u001b[1m  No Changes\u001b[22m\u001b[39m to `~/Desktop/DM2024/Manifest.toml`\n",
      "\u001b[32m\u001b[1m   Resolving\u001b[22m\u001b[39m package versions...\n",
      "\u001b[32m\u001b[1m  No Changes\u001b[22m\u001b[39m to `~/Desktop/DM2024/Project.toml`\n",
      "\u001b[32m\u001b[1m  No Changes\u001b[22m\u001b[39m to `~/Desktop/DM2024/Manifest.toml`\n",
      "\u001b[32m\u001b[1m   Resolving\u001b[22m\u001b[39m package versions...\n",
      "\u001b[32m\u001b[1m  No Changes\u001b[22m\u001b[39m to `~/Desktop/DM2024/Project.toml`\n",
      "\u001b[32m\u001b[1m  No Changes\u001b[22m\u001b[39m to `~/Desktop/DM2024/Manifest.toml`\n",
      "\u001b[32m\u001b[1m   Resolving\u001b[22m\u001b[39m package versions...\n",
      "\u001b[32m\u001b[1m  No Changes\u001b[22m\u001b[39m to `~/Desktop/DM2024/Project.toml`\n",
      "\u001b[32m\u001b[1m  No Changes\u001b[22m\u001b[39m to `~/Desktop/DM2024/Manifest.toml`\n",
      "\u001b[32m\u001b[1m   Resolving\u001b[22m\u001b[39m package versions...\n",
      "\u001b[32m\u001b[1m  No Changes\u001b[22m\u001b[39m to `~/Desktop/DM2024/Project.toml`\n",
      "\u001b[32m\u001b[1m  No Changes\u001b[22m\u001b[39m to `~/Desktop/DM2024/Manifest.toml`\n",
      "\u001b[32m\u001b[1m   Resolving\u001b[22m\u001b[39m package versions...\n",
      "\u001b[32m\u001b[1m  No Changes\u001b[22m\u001b[39m to `~/Desktop/DM2024/Project.toml`\n",
      "\u001b[32m\u001b[1m  No Changes\u001b[22m\u001b[39m to `~/Desktop/DM2024/Manifest.toml`\n",
      "\u001b[32m\u001b[1m   Resolving\u001b[22m\u001b[39m package versions...\n",
      "\u001b[32m\u001b[1m  No Changes\u001b[22m\u001b[39m to `~/Desktop/DM2024/Project.toml`\n",
      "\u001b[32m\u001b[1m  No Changes\u001b[22m\u001b[39m to `~/Desktop/DM2024/Manifest.toml`\n"
     ]
    }
   ],
   "source": [
    "Pkg.add(\"CSV\")\n",
    "Pkg.add(\"TypedTables\")\n",
    "Pkg.add(\"PrettyTables\")\n",
    "Pkg.add(\"DataFrames\")\n",
    "Pkg.add(\"Parquet2\")\n",
    "Pkg.add(\"Gadfly\")\n",
    "Pkg.add(\"DataFramesMeta\")\n",
    "Pkg.add(\"CategoricalArrays\")\n",
    "Pkg.add(\"HTTP"\)
   ]
  },
  {
   "cell_type": "code",
   "execution_count": 146,
   "metadata": {},
   "outputs": [],
   "source": [
    "using TypedTables, PrettyTables, DataFrames, DataFramesMeta, CSV, Parquet2, HTTP, Gadfly, DelimitedFiles, Statistics, CategoricalArrays"
   ]
  },
  {
   "cell_type": "markdown",
   "metadata": {},
   "source": [
    "# Warszaty DM 2024"
   ]
  },
  {
   "cell_type": "markdown",
   "metadata": {},
   "source": [
    "## DataFrames.jl: Wprowadzenie do analizy danych w języku Julia"
   ]
  },
  {
   "cell_type": "markdown",
   "metadata": {},
   "source": [
    "## Plan warsztatów:\n",
    "#### 1. Wprowadzenie\n",
    "#### 2. TypedTables i PrettyTables\n",
    "#### 3. Wstęp do DataFrames\n",
    "#### 4. Przetwarzanie danych\n",
    "#### 5. Więcej funkcji w DataFrames\n",
    "#### 6. Wizualizacja\n",
    "#### 7. Bardziej zaawansowane techniki i DataFramesMeta"
   ]
  },
  {
   "cell_type": "markdown",
   "metadata": {},
   "source": [
    "# 1. Wprowadzenie"
   ]
  },
  {
   "cell_type": "markdown",
   "metadata": {},
   "source": [
    "### Dane możemy przechowywać w wektorach"
   ]
  },
  {
   "cell_type": "code",
   "execution_count": 147,
   "metadata": {},
   "outputs": [
    {
     "data": {
      "text/plain": [
       "3-element Vector{Int64}:\n",
       " 30\n",
       "  7\n",
       " 25"
      ]
     },
     "metadata": {},
     "output_type": "display_data"
    }
   ],
   "source": [
    "brand = [ \"Company A\", \"Company A\", \"Company B\"]\n",
    "tier =  [\"Premium\", \"Economy\", \"Standard\"]\n",
    "quantity = [10, 100, 50]\n",
    "price = [100, 10, 50]\n",
    "cost = [30, 7, 25]"
   ]
  },
  {
   "cell_type": "markdown",
   "metadata": {},
   "source": [
    "### oraz stworzyć z nich macierz"
   ]
  },
  {
   "cell_type": "code",
   "execution_count": 148,
   "metadata": {},
   "outputs": [
    {
     "data": {
      "text/plain": [
       "3×5 Matrix{Any}:\n",
       " \"Company A\"  \"Premium\"    10  100  30\n",
       " \"Company A\"  \"Economy\"   100   10   7\n",
       " \"Company B\"  \"Standard\"   50   50  25"
      ]
     },
     "metadata": {},
     "output_type": "display_data"
    }
   ],
   "source": [
    "mymatrix = [brand tier quantity price cost]"
   ]
  },
  {
   "cell_type": "markdown",
   "metadata": {},
   "source": [
    "### Wtedy możemy mieć dostęp do kolumn"
   ]
  },
  {
   "cell_type": "code",
   "execution_count": 149,
   "metadata": {},
   "outputs": [
    {
     "data": {
      "text/plain": [
       "3-element Vector{Any}:\n",
       " 100\n",
       "  10\n",
       "  50"
      ]
     },
     "metadata": {},
     "output_type": "display_data"
    }
   ],
   "source": [
    "myprice = mymatrix[:, 4]"
   ]
  },
  {
   "cell_type": "markdown",
   "metadata": {},
   "source": [
    "### jak i do wierszy"
   ]
  },
  {
   "cell_type": "code",
   "execution_count": 150,
   "metadata": {},
   "outputs": [
    {
     "data": {
      "text/plain": [
       "5-element Vector{Any}:\n",
       "    \"Company A\"\n",
       "    \"Economy\"\n",
       " 100\n",
       "  10\n",
       "   7"
      ]
     },
     "metadata": {},
     "output_type": "display_data"
    }
   ],
   "source": [
    "myeconomy = mymatrix[2, :]"
   ]
  },
  {
   "cell_type": "markdown",
   "metadata": {},
   "source": [
    "### Możemy też wykonywać różne operacje"
   ]
  },
  {
   "cell_type": "code",
   "execution_count": 151,
   "metadata": {},
   "outputs": [
    {
     "data": {
      "text/plain": [
       "3-element Vector{Int64}:\n",
       " 1000\n",
       " 1000\n",
       " 2500"
      ]
     },
     "metadata": {},
     "output_type": "display_data"
    }
   ],
   "source": [
    "myquantity = mymatrix[:, 3]\n",
    "\n",
    "myrevenue = myquantity .* myprice"
   ]
  },
  {
   "cell_type": "markdown",
   "metadata": {},
   "source": [
    "### A otrzymaną kolumnę dodać do naszej macierzy"
   ]
  },
  {
   "cell_type": "code",
   "execution_count": 152,
   "metadata": {},
   "outputs": [
    {
     "data": {
      "text/plain": [
       "3×6 Matrix{Any}:\n",
       " \"Company A\"  \"Premium\"    10  100  30  1000\n",
       " \"Company A\"  \"Economy\"   100   10   7  1000\n",
       " \"Company B\"  \"Standard\"   50   50  25  2500"
      ]
     },
     "metadata": {},
     "output_type": "display_data"
    }
   ],
   "source": [
    "mymatrix = [mymatrix myrevenue]"
   ]
  },
  {
   "cell_type": "markdown",
   "metadata": {},
   "source": [
    "### Na końcu naszą macierz zapisać do pliku CSV"
   ]
  },
  {
   "cell_type": "code",
   "execution_count": 153,
   "metadata": {},
   "outputs": [],
   "source": [
    "writedlm(\"mymatrix.csv\", mymatrix, ',')"
   ]
  },
  {
   "cell_type": "markdown",
   "metadata": {},
   "source": [
    "### Jednak takie przechowywanie danych nie jest optymalne, a wizualizacja brzydka"
   ]
  },
  {
   "cell_type": "markdown",
   "metadata": {},
   "source": [
    "# 2. TypedTables i PrettyTables"
   ]
  },
  {
   "cell_type": "markdown",
   "metadata": {},
   "source": [
    "## Teraz zajmiemy się lepszym wyświetlaniem naszych danych"
   ]
  },
  {
   "cell_type": "code",
   "execution_count": 154,
   "metadata": {},
   "outputs": [
    {
     "data": {
      "text/plain": [
       "Table with 6 columns and 3 rows:\n",
       "     Brand      Tier      Quantity  Price  Cost  Revenue\n",
       "   ┌────────────────────────────────────────────────────\n",
       " 1 │ Company A  Premium   10        100    30    1000\n",
       " 2 │ Company A  Economy   100       10     7     1000\n",
       " 3 │ Company B  Standard  50        50     25    2500"
      ]
     },
     "metadata": {},
     "output_type": "display_data"
    }
   ],
   "source": [
    "mytable = Table(\n",
    "    Brand = brand,\n",
    "    Tier = tier,\n",
    "    Quantity = quantity,\n",
    "    Price = price,\n",
    "    Cost = cost,\n",
    "    Revenue = myrevenue,\n",
    ")"
   ]
  },
  {
   "cell_type": "markdown",
   "metadata": {},
   "source": [
    "## Tutaj również jest dostęp do kolumn"
   ]
  },
  {
   "cell_type": "code",
   "execution_count": 155,
   "metadata": {},
   "outputs": [
    {
     "data": {
      "text/plain": [
       "3-element Vector{String}:\n",
       " \"Premium\"\n",
       " \"Economy\"\n",
       " \"Standard\""
      ]
     },
     "metadata": {},
     "output_type": "display_data"
    }
   ],
   "source": [
    "mytable.Tier"
   ]
  },
  {
   "cell_type": "markdown",
   "metadata": {},
   "source": [
    "## i wierszy"
   ]
  },
  {
   "cell_type": "code",
   "execution_count": 156,
   "metadata": {},
   "outputs": [
    {
     "data": {
      "text/plain": [
       "Table with 6 columns and 1 row:\n",
       "     Brand      Tier     Quantity  Price  Cost  Revenue\n",
       "   ┌───────────────────────────────────────────────────\n",
       " 1 │ Company A  Economy  100       10     7     1000"
      ]
     },
     "metadata": {},
     "output_type": "display_data"
    }
   ],
   "source": [
    "mytable[2,:]"
   ]
  },
  {
   "cell_type": "markdown",
   "metadata": {},
   "source": [
    "## Możemy wyświetlić całą tabelę przy użyciu vscode"
   ]
  },
  {
   "cell_type": "code",
   "execution_count": 157,
   "metadata": {},
   "outputs": [],
   "source": [
    "vscodedisplay(mytable)"
   ]
  },
  {
   "cell_type": "markdown",
   "metadata": {},
   "source": [
    "## Oraz zapisać do pliku CSV"
   ]
  },
  {
   "cell_type": "code",
   "execution_count": 158,
   "metadata": {},
   "outputs": [
    {
     "data": {
      "text/plain": [
       "\"mytable.csv\""
      ]
     },
     "metadata": {},
     "output_type": "display_data"
    }
   ],
   "source": [
    "CSV.write(\"mytable.csv\", mytable)"
   ]
  },
  {
   "cell_type": "markdown",
   "metadata": {},
   "source": [
    "## Ale jak sama nazwa wskazuje, przy użyciu PrettyTables nasza tabela może wyglądać ładniej."
   ]
  },
  {
   "cell_type": "code",
   "execution_count": 159,
   "metadata": {},
   "outputs": [
    {
     "name": "stdout",
     "output_type": "stream",
     "text": [
      "┌───────────┬──────────┬──────────┬───────┬───────┬─────────┐\n",
      "│\u001b[1m     Brand \u001b[0m│\u001b[1m     Tier \u001b[0m│\u001b[1m Quantity \u001b[0m│\u001b[1m Price \u001b[0m│\u001b[1m  Cost \u001b[0m│\u001b[1m Revenue \u001b[0m│\n",
      "│\u001b[90m    String \u001b[0m│\u001b[90m   String \u001b[0m│\u001b[90m    Int64 \u001b[0m│\u001b[90m Int64 \u001b[0m│\u001b[90m Int64 \u001b[0m│\u001b[90m   Int64 \u001b[0m│\n",
      "├───────────┼──────────┼──────────┼───────┼───────┼─────────┤\n",
      "│ Company A │  Premium │       10 │   100 │    30 │    1000 │\n",
      "│ Company A │  Economy │      100 │    10 │     7 │    1000 │\n",
      "│ Company B │ Standard │       50 │    50 │    25 │    2500 │\n",
      "└───────────┴──────────┴──────────┴───────┴───────┴─────────┘\n"
     ]
    }
   ],
   "source": [
    "myprettytable = pretty_table(mytable)"
   ]
  },
  {
   "cell_type": "markdown",
   "metadata": {},
   "source": [
    "## A przy użyciu następującej funckji możemy nasze tabele zapisywać jako plik HTML"
   ]
  },
  {
   "cell_type": "code",
   "execution_count": 160,
   "metadata": {},
   "outputs": [
    {
     "data": {
      "text/plain": [
       "savehtml (generic function with 1 method)"
      ]
     },
     "metadata": {},
     "output_type": "display_data"
    }
   ],
   "source": [
    "function savehtml(filename, data)\n",
    "    open(\"$filename.html\", \"w\") do f\n",
    "        pretty_table(f, data, backend = Val(:html), standalone = true)\n",
    "    end\n",
    "end"
   ]
  },
  {
   "cell_type": "code",
   "execution_count": 161,
   "metadata": {},
   "outputs": [],
   "source": [
    "savehtml(\"myprettytable\", mytable)"
   ]
  },
  {
   "cell_type": "markdown",
   "metadata": {},
   "source": [
    "# 3. Wstęp do DataFrames"
   ]
  },
  {
   "cell_type": "markdown",
   "metadata": {},
   "source": [
    "## Tabele może wyglądają ładnie, ale ich użyteczność jest ograniczona."
   ]
  },
  {
   "cell_type": "markdown",
   "metadata": {},
   "source": [
    "## Dlatego teraz zajmiemy się paczką DataFrames.jl"
   ]
  },
  {
   "cell_type": "markdown",
   "metadata": {},
   "source": [
    "### DataFrame'a możemy utworzyć bezpośrednio z tabeli"
   ]
  },
  {
   "cell_type": "code",
   "execution_count": 162,
   "metadata": {},
   "outputs": [
    {
     "data": {
      "text/html": [
       "<div><div style = \"float: left;\"><span>3×6 DataFrame</span></div><div style = \"clear: both;\"></div></div><div class = \"data-frame\" style = \"overflow-x: scroll;\"><table class = \"data-frame\" style = \"margin-bottom: 6px;\"><thead><tr class = \"header\"><th class = \"rowNumber\" style = \"font-weight: bold; text-align: right;\">Row</th><th style = \"text-align: left;\">Brand</th><th style = \"text-align: left;\">Tier</th><th style = \"text-align: left;\">Quantity</th><th style = \"text-align: left;\">Price</th><th style = \"text-align: left;\">Cost</th><th style = \"text-align: left;\">Revenue</th></tr><tr class = \"subheader headerLastRow\"><th class = \"rowNumber\" style = \"font-weight: bold; text-align: right;\"></th><th title = \"String\" style = \"text-align: left;\">String</th><th title = \"String\" style = \"text-align: left;\">String</th><th title = \"Int64\" style = \"text-align: left;\">Int64</th><th title = \"Int64\" style = \"text-align: left;\">Int64</th><th title = \"Int64\" style = \"text-align: left;\">Int64</th><th title = \"Int64\" style = \"text-align: left;\">Int64</th></tr></thead><tbody><tr><td class = \"rowNumber\" style = \"font-weight: bold; text-align: right;\">1</td><td style = \"text-align: left;\">Company A</td><td style = \"text-align: left;\">Premium</td><td style = \"text-align: right;\">10</td><td style = \"text-align: right;\">100</td><td style = \"text-align: right;\">30</td><td style = \"text-align: right;\">1000</td></tr><tr><td class = \"rowNumber\" style = \"font-weight: bold; text-align: right;\">2</td><td style = \"text-align: left;\">Company A</td><td style = \"text-align: left;\">Economy</td><td style = \"text-align: right;\">100</td><td style = \"text-align: right;\">10</td><td style = \"text-align: right;\">7</td><td style = \"text-align: right;\">1000</td></tr><tr><td class = \"rowNumber\" style = \"font-weight: bold; text-align: right;\">3</td><td style = \"text-align: left;\">Company B</td><td style = \"text-align: left;\">Standard</td><td style = \"text-align: right;\">50</td><td style = \"text-align: right;\">50</td><td style = \"text-align: right;\">25</td><td style = \"text-align: right;\">2500</td></tr></tbody></table></div>"
      ],
      "text/latex": [
       "\\begin{tabular}{r|cccccc}\n",
       "\t& Brand & Tier & Quantity & Price & Cost & Revenue\\\\\n",
       "\t\\hline\n",
       "\t& String & String & Int64 & Int64 & Int64 & Int64\\\\\n",
       "\t\\hline\n",
       "\t1 & Company A & Premium & 10 & 100 & 30 & 1000 \\\\\n",
       "\t2 & Company A & Economy & 100 & 10 & 7 & 1000 \\\\\n",
       "\t3 & Company B & Standard & 50 & 50 & 25 & 2500 \\\\\n",
       "\\end{tabular}\n"
      ],
      "text/plain": [
       "\u001b[1m3×6 DataFrame\u001b[0m\n",
       "\u001b[1m Row \u001b[0m│\u001b[1m Brand     \u001b[0m\u001b[1m Tier     \u001b[0m\u001b[1m Quantity \u001b[0m\u001b[1m Price \u001b[0m\u001b[1m Cost  \u001b[0m\u001b[1m Revenue \u001b[0m\n",
       "     │\u001b[90m String    \u001b[0m\u001b[90m String   \u001b[0m\u001b[90m Int64    \u001b[0m\u001b[90m Int64 \u001b[0m\u001b[90m Int64 \u001b[0m\u001b[90m Int64   \u001b[0m\n",
       "─────┼──────────────────────────────────────────────────────\n",
       "   1 │ Company A  Premium         10    100     30     1000\n",
       "   2 │ Company A  Economy        100     10      7     1000\n",
       "   3 │ Company B  Standard        50     50     25     2500"
      ]
     },
     "metadata": {},
     "output_type": "display_data"
    }
   ],
   "source": [
    "mydataframe = DataFrame(mytable)"
   ]
  },
  {
   "cell_type": "markdown",
   "metadata": {},
   "source": [
    "### lub kolumnami"
   ]
  },
  {
   "cell_type": "code",
   "execution_count": 163,
   "metadata": {},
   "outputs": [
    {
     "data": {
      "text/html": [
       "<div><div style = \"float: left;\"><span>3×5 DataFrame</span></div><div style = \"clear: both;\"></div></div><div class = \"data-frame\" style = \"overflow-x: scroll;\"><table class = \"data-frame\" style = \"margin-bottom: 6px;\"><thead><tr class = \"header\"><th class = \"rowNumber\" style = \"font-weight: bold; text-align: right;\">Row</th><th style = \"text-align: left;\">Brand</th><th style = \"text-align: left;\">Tier</th><th style = \"text-align: left;\">Quantity</th><th style = \"text-align: left;\">Price</th><th style = \"text-align: left;\">Cost</th></tr><tr class = \"subheader headerLastRow\"><th class = \"rowNumber\" style = \"font-weight: bold; text-align: right;\"></th><th title = \"String\" style = \"text-align: left;\">String</th><th title = \"String\" style = \"text-align: left;\">String</th><th title = \"Int64\" style = \"text-align: left;\">Int64</th><th title = \"Int64\" style = \"text-align: left;\">Int64</th><th title = \"Int64\" style = \"text-align: left;\">Int64</th></tr></thead><tbody><tr><td class = \"rowNumber\" style = \"font-weight: bold; text-align: right;\">1</td><td style = \"text-align: left;\">Company A</td><td style = \"text-align: left;\">Premium</td><td style = \"text-align: right;\">10</td><td style = \"text-align: right;\">100</td><td style = \"text-align: right;\">30</td></tr><tr><td class = \"rowNumber\" style = \"font-weight: bold; text-align: right;\">2</td><td style = \"text-align: left;\">Company A</td><td style = \"text-align: left;\">Economy</td><td style = \"text-align: right;\">100</td><td style = \"text-align: right;\">10</td><td style = \"text-align: right;\">7</td></tr><tr><td class = \"rowNumber\" style = \"font-weight: bold; text-align: right;\">3</td><td style = \"text-align: left;\">Company B</td><td style = \"text-align: left;\">Standard</td><td style = \"text-align: right;\">50</td><td style = \"text-align: right;\">50</td><td style = \"text-align: right;\">25</td></tr></tbody></table></div>"
      ],
      "text/latex": [
       "\\begin{tabular}{r|ccccc}\n",
       "\t& Brand & Tier & Quantity & Price & Cost\\\\\n",
       "\t\\hline\n",
       "\t& String & String & Int64 & Int64 & Int64\\\\\n",
       "\t\\hline\n",
       "\t1 & Company A & Premium & 10 & 100 & 30 \\\\\n",
       "\t2 & Company A & Economy & 100 & 10 & 7 \\\\\n",
       "\t3 & Company B & Standard & 50 & 50 & 25 \\\\\n",
       "\\end{tabular}\n"
      ],
      "text/plain": [
       "\u001b[1m3×5 DataFrame\u001b[0m\n",
       "\u001b[1m Row \u001b[0m│\u001b[1m Brand     \u001b[0m\u001b[1m Tier     \u001b[0m\u001b[1m Quantity \u001b[0m\u001b[1m Price \u001b[0m\u001b[1m Cost  \u001b[0m\n",
       "     │\u001b[90m String    \u001b[0m\u001b[90m String   \u001b[0m\u001b[90m Int64    \u001b[0m\u001b[90m Int64 \u001b[0m\u001b[90m Int64 \u001b[0m\n",
       "─────┼─────────────────────────────────────────────\n",
       "   1 │ Company A  Premium         10    100     30\n",
       "   2 │ Company A  Economy        100     10      7\n",
       "   3 │ Company B  Standard        50     50     25"
      ]
     },
     "metadata": {},
     "output_type": "display_data"
    }
   ],
   "source": [
    "df = DataFrame(\n",
    "    Brand = brand,\n",
    "    Tier = tier,\n",
    "    Quantity = quantity,\n",
    "    Price = price,\n",
    "    Cost = cost\n",
    ")"
   ]
  },
  {
   "cell_type": "markdown",
   "metadata": {},
   "source": [
    "### Tak samo możemy wykonywać operacje i dodawać nowe kolumny"
   ]
  },
  {
   "cell_type": "code",
   "execution_count": 164,
   "metadata": {},
   "outputs": [
    {
     "data": {
      "text/html": [
       "<div><div style = \"float: left;\"><span>3×6 DataFrame</span></div><div style = \"clear: both;\"></div></div><div class = \"data-frame\" style = \"overflow-x: scroll;\"><table class = \"data-frame\" style = \"margin-bottom: 6px;\"><thead><tr class = \"header\"><th class = \"rowNumber\" style = \"font-weight: bold; text-align: right;\">Row</th><th style = \"text-align: left;\">Brand</th><th style = \"text-align: left;\">Tier</th><th style = \"text-align: left;\">Quantity</th><th style = \"text-align: left;\">Price</th><th style = \"text-align: left;\">Cost</th><th style = \"text-align: left;\">Revenue</th></tr><tr class = \"subheader headerLastRow\"><th class = \"rowNumber\" style = \"font-weight: bold; text-align: right;\"></th><th title = \"String\" style = \"text-align: left;\">String</th><th title = \"String\" style = \"text-align: left;\">String</th><th title = \"Int64\" style = \"text-align: left;\">Int64</th><th title = \"Int64\" style = \"text-align: left;\">Int64</th><th title = \"Int64\" style = \"text-align: left;\">Int64</th><th title = \"Int64\" style = \"text-align: left;\">Int64</th></tr></thead><tbody><tr><td class = \"rowNumber\" style = \"font-weight: bold; text-align: right;\">1</td><td style = \"text-align: left;\">Company A</td><td style = \"text-align: left;\">Premium</td><td style = \"text-align: right;\">10</td><td style = \"text-align: right;\">100</td><td style = \"text-align: right;\">30</td><td style = \"text-align: right;\">1000</td></tr><tr><td class = \"rowNumber\" style = \"font-weight: bold; text-align: right;\">2</td><td style = \"text-align: left;\">Company A</td><td style = \"text-align: left;\">Economy</td><td style = \"text-align: right;\">100</td><td style = \"text-align: right;\">10</td><td style = \"text-align: right;\">7</td><td style = \"text-align: right;\">1000</td></tr><tr><td class = \"rowNumber\" style = \"font-weight: bold; text-align: right;\">3</td><td style = \"text-align: left;\">Company B</td><td style = \"text-align: left;\">Standard</td><td style = \"text-align: right;\">50</td><td style = \"text-align: right;\">50</td><td style = \"text-align: right;\">25</td><td style = \"text-align: right;\">2500</td></tr></tbody></table></div>"
      ],
      "text/latex": [
       "\\begin{tabular}{r|cccccc}\n",
       "\t& Brand & Tier & Quantity & Price & Cost & Revenue\\\\\n",
       "\t\\hline\n",
       "\t& String & String & Int64 & Int64 & Int64 & Int64\\\\\n",
       "\t\\hline\n",
       "\t1 & Company A & Premium & 10 & 100 & 30 & 1000 \\\\\n",
       "\t2 & Company A & Economy & 100 & 10 & 7 & 1000 \\\\\n",
       "\t3 & Company B & Standard & 50 & 50 & 25 & 2500 \\\\\n",
       "\\end{tabular}\n"
      ],
      "text/plain": [
       "\u001b[1m3×6 DataFrame\u001b[0m\n",
       "\u001b[1m Row \u001b[0m│\u001b[1m Brand     \u001b[0m\u001b[1m Tier     \u001b[0m\u001b[1m Quantity \u001b[0m\u001b[1m Price \u001b[0m\u001b[1m Cost  \u001b[0m\u001b[1m Revenue \u001b[0m\n",
       "     │\u001b[90m String    \u001b[0m\u001b[90m String   \u001b[0m\u001b[90m Int64    \u001b[0m\u001b[90m Int64 \u001b[0m\u001b[90m Int64 \u001b[0m\u001b[90m Int64   \u001b[0m\n",
       "─────┼──────────────────────────────────────────────────────\n",
       "   1 │ Company A  Premium         10    100     30     1000\n",
       "   2 │ Company A  Economy        100     10      7     1000\n",
       "   3 │ Company B  Standard        50     50     25     2500"
      ]
     },
     "metadata": {},
     "output_type": "display_data"
    }
   ],
   "source": [
    "df.Revenue = df.Quantity .* df.Price\n",
    "df"
   ]
  },
  {
   "cell_type": "markdown",
   "metadata": {},
   "source": [
    "### Zarówno możemy używać takich funkcji jak poprzednio"
   ]
  },
  {
   "cell_type": "code",
   "execution_count": 165,
   "metadata": {},
   "outputs": [],
   "source": [
    "vscodedisplay(df)"
   ]
  },
  {
   "cell_type": "code",
   "execution_count": 166,
   "metadata": {},
   "outputs": [
    {
     "data": {
      "text/plain": [
       "\"mydf.csv\""
      ]
     },
     "metadata": {},
     "output_type": "display_data"
    }
   ],
   "source": [
    "CSV.write(\"mydf.csv\", df)"
   ]
  },
  {
   "cell_type": "code",
   "execution_count": 167,
   "metadata": {},
   "outputs": [],
   "source": [
    "savehtml(\"mydf\", df)"
   ]
  },
  {
   "cell_type": "markdown",
   "metadata": {},
   "source": [
    "## Teraz omówimy podstawowe funkcje"
   ]
  },
  {
   "cell_type": "code",
   "execution_count": 168,
   "metadata": {},
   "outputs": [
    {
     "data": {
      "text/html": [
       "<div><div style = \"float: left;\"><span>6×7 DataFrame</span></div><div style = \"clear: both;\"></div></div><div class = \"data-frame\" style = \"overflow-x: scroll;\"><table class = \"data-frame\" style = \"margin-bottom: 6px;\"><thead><tr class = \"header\"><th class = \"rowNumber\" style = \"font-weight: bold; text-align: right;\">Row</th><th style = \"text-align: left;\">variable</th><th style = \"text-align: left;\">mean</th><th style = \"text-align: left;\">min</th><th style = \"text-align: left;\">median</th><th style = \"text-align: left;\">max</th><th style = \"text-align: left;\">nmissing</th><th style = \"text-align: left;\">eltype</th></tr><tr class = \"subheader headerLastRow\"><th class = \"rowNumber\" style = \"font-weight: bold; text-align: right;\"></th><th title = \"Symbol\" style = \"text-align: left;\">Symbol</th><th title = \"Union{Nothing, Float64}\" style = \"text-align: left;\">Union…</th><th title = \"Any\" style = \"text-align: left;\">Any</th><th title = \"Union{Nothing, Float64}\" style = \"text-align: left;\">Union…</th><th title = \"Any\" style = \"text-align: left;\">Any</th><th title = \"Int64\" style = \"text-align: left;\">Int64</th><th title = \"DataType\" style = \"text-align: left;\">DataType</th></tr></thead><tbody><tr><td class = \"rowNumber\" style = \"font-weight: bold; text-align: right;\">1</td><td style = \"text-align: left;\">Brand</td><td style = \"font-style: italic; text-align: left;\"></td><td style = \"text-align: left;\">Company A</td><td style = \"font-style: italic; text-align: left;\"></td><td style = \"text-align: left;\">Company B</td><td style = \"text-align: right;\">0</td><td style = \"text-align: left;\">String</td></tr><tr><td class = \"rowNumber\" style = \"font-weight: bold; text-align: right;\">2</td><td style = \"text-align: left;\">Tier</td><td style = \"font-style: italic; text-align: left;\"></td><td style = \"text-align: left;\">Economy</td><td style = \"font-style: italic; text-align: left;\"></td><td style = \"text-align: left;\">Standard</td><td style = \"text-align: right;\">0</td><td style = \"text-align: left;\">String</td></tr><tr><td class = \"rowNumber\" style = \"font-weight: bold; text-align: right;\">3</td><td style = \"text-align: left;\">Quantity</td><td style = \"text-align: left;\">53.3333</td><td style = \"text-align: left;\">10</td><td style = \"text-align: left;\">50.0</td><td style = \"text-align: left;\">100</td><td style = \"text-align: right;\">0</td><td style = \"text-align: left;\">Int64</td></tr><tr><td class = \"rowNumber\" style = \"font-weight: bold; text-align: right;\">4</td><td style = \"text-align: left;\">Price</td><td style = \"text-align: left;\">53.3333</td><td style = \"text-align: left;\">10</td><td style = \"text-align: left;\">50.0</td><td style = \"text-align: left;\">100</td><td style = \"text-align: right;\">0</td><td style = \"text-align: left;\">Int64</td></tr><tr><td class = \"rowNumber\" style = \"font-weight: bold; text-align: right;\">5</td><td style = \"text-align: left;\">Cost</td><td style = \"text-align: left;\">20.6667</td><td style = \"text-align: left;\">7</td><td style = \"text-align: left;\">25.0</td><td style = \"text-align: left;\">30</td><td style = \"text-align: right;\">0</td><td style = \"text-align: left;\">Int64</td></tr><tr><td class = \"rowNumber\" style = \"font-weight: bold; text-align: right;\">6</td><td style = \"text-align: left;\">Revenue</td><td style = \"text-align: left;\">1500.0</td><td style = \"text-align: left;\">1000</td><td style = \"text-align: left;\">1000.0</td><td style = \"text-align: left;\">2500</td><td style = \"text-align: right;\">0</td><td style = \"text-align: left;\">Int64</td></tr></tbody></table></div>"
      ],
      "text/latex": [
       "\\begin{tabular}{r|ccccccc}\n",
       "\t& variable & mean & min & median & max & nmissing & eltype\\\\\n",
       "\t\\hline\n",
       "\t& Symbol & Union… & Any & Union… & Any & Int64 & DataType\\\\\n",
       "\t\\hline\n",
       "\t1 & Brand &  & Company A &  & Company B & 0 & String \\\\\n",
       "\t2 & Tier &  & Economy &  & Standard & 0 & String \\\\\n",
       "\t3 & Quantity & 53.3333 & 10 & 50.0 & 100 & 0 & Int64 \\\\\n",
       "\t4 & Price & 53.3333 & 10 & 50.0 & 100 & 0 & Int64 \\\\\n",
       "\t5 & Cost & 20.6667 & 7 & 25.0 & 30 & 0 & Int64 \\\\\n",
       "\t6 & Revenue & 1500.0 & 1000 & 1000.0 & 2500 & 0 & Int64 \\\\\n",
       "\\end{tabular}\n"
      ],
      "text/plain": [
       "\u001b[1m6×7 DataFrame\u001b[0m\n",
       "\u001b[1m Row \u001b[0m│\u001b[1m variable \u001b[0m\u001b[1m mean    \u001b[0m\u001b[1m min       \u001b[0m\u001b[1m median \u001b[0m\u001b[1m max       \u001b[0m\u001b[1m nmissing \u001b[0m\u001b[1m eltype   \u001b[0m\n",
       "     │\u001b[90m Symbol   \u001b[0m\u001b[90m Union…  \u001b[0m\u001b[90m Any       \u001b[0m\u001b[90m Union… \u001b[0m\u001b[90m Any       \u001b[0m\u001b[90m Int64    \u001b[0m\u001b[90m DataType \u001b[0m\n",
       "─────┼─────────────────────────────────────────────────────────────────────\n",
       "   1 │ Brand    \u001b[90m         \u001b[0m Company A \u001b[90m        \u001b[0m Company B         0  String\n",
       "   2 │ Tier     \u001b[90m         \u001b[0m Economy   \u001b[90m        \u001b[0m Standard          0  String\n",
       "   3 │ Quantity  53.3333  10         50.0    100               0  Int64\n",
       "   4 │ Price     53.3333  10         50.0    100               0  Int64\n",
       "   5 │ Cost      20.6667  7          25.0    30                0  Int64\n",
       "   6 │ Revenue   1500.0   1000       1000.0  2500              0  Int64"
      ]
     },
     "metadata": {},
     "output_type": "display_data"
    }
   ],
   "source": [
    "describe(df)"
   ]
  },
  {
   "cell_type": "code",
   "execution_count": 169,
   "metadata": {},
   "outputs": [
    {
     "data": {
      "text/plain": [
       "3"
      ]
     },
     "metadata": {},
     "output_type": "display_data"
    }
   ],
   "source": [
    "nrow(df)"
   ]
  },
  {
   "cell_type": "code",
   "execution_count": 170,
   "metadata": {},
   "outputs": [
    {
     "data": {
      "text/plain": [
       "6"
      ]
     },
     "metadata": {},
     "output_type": "display_data"
    }
   ],
   "source": [
    "ncol(df)"
   ]
  },
  {
   "cell_type": "code",
   "execution_count": 171,
   "metadata": {},
   "outputs": [
    {
     "data": {
      "text/plain": [
       "(3, 6)"
      ]
     },
     "metadata": {},
     "output_type": "display_data"
    }
   ],
   "source": [
    "size(df)"
   ]
  },
  {
   "cell_type": "code",
   "execution_count": 172,
   "metadata": {},
   "outputs": [
    {
     "data": {
      "text/plain": [
       "6-element Vector{String}:\n",
       " \"Brand\"\n",
       " \"Tier\"\n",
       " \"Quantity\"\n",
       " \"Price\"\n",
       " \"Cost\"\n",
       " \"Revenue\""
      ]
     },
     "metadata": {},
     "output_type": "display_data"
    }
   ],
   "source": [
    "names(df)"
   ]
  },
  {
   "cell_type": "code",
   "execution_count": 173,
   "metadata": {},
   "outputs": [
    {
     "data": {
      "text/plain": [
       "6-element Vector{Symbol}:\n",
       " :Brand\n",
       " :Tier\n",
       " :Quantity\n",
       " :Price\n",
       " :Cost\n",
       " :Revenue"
      ]
     },
     "metadata": {},
     "output_type": "display_data"
    }
   ],
   "source": [
    "propertynames(df)"
   ]
  },
  {
   "cell_type": "code",
   "execution_count": 174,
   "metadata": {},
   "outputs": [
    {
     "data": {
      "text/html": [
       "<div><div style = \"float: left;\"><span>3×6 DataFrame</span></div><div style = \"clear: both;\"></div></div><div class = \"data-frame\" style = \"overflow-x: scroll;\"><table class = \"data-frame\" style = \"margin-bottom: 6px;\"><thead><tr class = \"header\"><th class = \"rowNumber\" style = \"font-weight: bold; text-align: right;\">Row</th><th style = \"text-align: left;\">Company</th><th style = \"text-align: left;\">Tier</th><th style = \"text-align: left;\">Quantity</th><th style = \"text-align: left;\">Price</th><th style = \"text-align: left;\">Cost</th><th style = \"text-align: left;\">Revenue</th></tr><tr class = \"subheader headerLastRow\"><th class = \"rowNumber\" style = \"font-weight: bold; text-align: right;\"></th><th title = \"String\" style = \"text-align: left;\">String</th><th title = \"String\" style = \"text-align: left;\">String</th><th title = \"Int64\" style = \"text-align: left;\">Int64</th><th title = \"Int64\" style = \"text-align: left;\">Int64</th><th title = \"Int64\" style = \"text-align: left;\">Int64</th><th title = \"Int64\" style = \"text-align: left;\">Int64</th></tr></thead><tbody><tr><td class = \"rowNumber\" style = \"font-weight: bold; text-align: right;\">1</td><td style = \"text-align: left;\">Company A</td><td style = \"text-align: left;\">Premium</td><td style = \"text-align: right;\">10</td><td style = \"text-align: right;\">100</td><td style = \"text-align: right;\">30</td><td style = \"text-align: right;\">1000</td></tr><tr><td class = \"rowNumber\" style = \"font-weight: bold; text-align: right;\">2</td><td style = \"text-align: left;\">Company A</td><td style = \"text-align: left;\">Economy</td><td style = \"text-align: right;\">100</td><td style = \"text-align: right;\">10</td><td style = \"text-align: right;\">7</td><td style = \"text-align: right;\">1000</td></tr><tr><td class = \"rowNumber\" style = \"font-weight: bold; text-align: right;\">3</td><td style = \"text-align: left;\">Company B</td><td style = \"text-align: left;\">Standard</td><td style = \"text-align: right;\">50</td><td style = \"text-align: right;\">50</td><td style = \"text-align: right;\">25</td><td style = \"text-align: right;\">2500</td></tr></tbody></table></div>"
      ],
      "text/latex": [
       "\\begin{tabular}{r|cccccc}\n",
       "\t& Company & Tier & Quantity & Price & Cost & Revenue\\\\\n",
       "\t\\hline\n",
       "\t& String & String & Int64 & Int64 & Int64 & Int64\\\\\n",
       "\t\\hline\n",
       "\t1 & Company A & Premium & 10 & 100 & 30 & 1000 \\\\\n",
       "\t2 & Company A & Economy & 100 & 10 & 7 & 1000 \\\\\n",
       "\t3 & Company B & Standard & 50 & 50 & 25 & 2500 \\\\\n",
       "\\end{tabular}\n"
      ],
      "text/plain": [
       "\u001b[1m3×6 DataFrame\u001b[0m\n",
       "\u001b[1m Row \u001b[0m│\u001b[1m Company   \u001b[0m\u001b[1m Tier     \u001b[0m\u001b[1m Quantity \u001b[0m\u001b[1m Price \u001b[0m\u001b[1m Cost  \u001b[0m\u001b[1m Revenue \u001b[0m\n",
       "     │\u001b[90m String    \u001b[0m\u001b[90m String   \u001b[0m\u001b[90m Int64    \u001b[0m\u001b[90m Int64 \u001b[0m\u001b[90m Int64 \u001b[0m\u001b[90m Int64   \u001b[0m\n",
       "─────┼──────────────────────────────────────────────────────\n",
       "   1 │ Company A  Premium         10    100     30     1000\n",
       "   2 │ Company A  Economy        100     10      7     1000\n",
       "   3 │ Company B  Standard        50     50     25     2500"
      ]
     },
     "metadata": {},
     "output_type": "display_data"
    }
   ],
   "source": [
    "rename(df, :Brand => :Company)"
   ]
  },
  {
   "cell_type": "code",
   "execution_count": 175,
   "metadata": {},
   "outputs": [
    {
     "data": {
      "text/html": [
       "<div><div style = \"float: left;\"><span>3×6 DataFrame</span></div><div style = \"clear: both;\"></div></div><div class = \"data-frame\" style = \"overflow-x: scroll;\"><table class = \"data-frame\" style = \"margin-bottom: 6px;\"><thead><tr class = \"header\"><th class = \"rowNumber\" style = \"font-weight: bold; text-align: right;\">Row</th><th style = \"text-align: left;\">Brand</th><th style = \"text-align: left;\">Tier</th><th style = \"text-align: left;\">Quantity</th><th style = \"text-align: left;\">Price</th><th style = \"text-align: left;\">Cost</th><th style = \"text-align: left;\">Revenue</th></tr><tr class = \"subheader headerLastRow\"><th class = \"rowNumber\" style = \"font-weight: bold; text-align: right;\"></th><th title = \"String\" style = \"text-align: left;\">String</th><th title = \"String\" style = \"text-align: left;\">String</th><th title = \"Int64\" style = \"text-align: left;\">Int64</th><th title = \"Int64\" style = \"text-align: left;\">Int64</th><th title = \"Int64\" style = \"text-align: left;\">Int64</th><th title = \"Int64\" style = \"text-align: left;\">Int64</th></tr></thead><tbody><tr><td class = \"rowNumber\" style = \"font-weight: bold; text-align: right;\">1</td><td style = \"text-align: left;\">Company A</td><td style = \"text-align: left;\">Premium</td><td style = \"text-align: right;\">10</td><td style = \"text-align: right;\">100</td><td style = \"text-align: right;\">30</td><td style = \"text-align: right;\">1000</td></tr><tr><td class = \"rowNumber\" style = \"font-weight: bold; text-align: right;\">2</td><td style = \"text-align: left;\">Company A</td><td style = \"text-align: left;\">Economy</td><td style = \"text-align: right;\">100</td><td style = \"text-align: right;\">10</td><td style = \"text-align: right;\">7</td><td style = \"text-align: right;\">1000</td></tr><tr><td class = \"rowNumber\" style = \"font-weight: bold; text-align: right;\">3</td><td style = \"text-align: left;\">Company B</td><td style = \"text-align: left;\">Standard</td><td style = \"text-align: right;\">50</td><td style = \"text-align: right;\">50</td><td style = \"text-align: right;\">25</td><td style = \"text-align: right;\">2500</td></tr></tbody></table></div>"
      ],
      "text/latex": [
       "\\begin{tabular}{r|cccccc}\n",
       "\t& Brand & Tier & Quantity & Price & Cost & Revenue\\\\\n",
       "\t\\hline\n",
       "\t& String & String & Int64 & Int64 & Int64 & Int64\\\\\n",
       "\t\\hline\n",
       "\t1 & Company A & Premium & 10 & 100 & 30 & 1000 \\\\\n",
       "\t2 & Company A & Economy & 100 & 10 & 7 & 1000 \\\\\n",
       "\t3 & Company B & Standard & 50 & 50 & 25 & 2500 \\\\\n",
       "\\end{tabular}\n"
      ],
      "text/plain": [
       "\u001b[1m3×6 DataFrame\u001b[0m\n",
       "\u001b[1m Row \u001b[0m│\u001b[1m Brand     \u001b[0m\u001b[1m Tier     \u001b[0m\u001b[1m Quantity \u001b[0m\u001b[1m Price \u001b[0m\u001b[1m Cost  \u001b[0m\u001b[1m Revenue \u001b[0m\n",
       "     │\u001b[90m String    \u001b[0m\u001b[90m String   \u001b[0m\u001b[90m Int64    \u001b[0m\u001b[90m Int64 \u001b[0m\u001b[90m Int64 \u001b[0m\u001b[90m Int64   \u001b[0m\n",
       "─────┼──────────────────────────────────────────────────────\n",
       "   1 │ Company A  Premium         10    100     30     1000\n",
       "   2 │ Company A  Economy        100     10      7     1000\n",
       "   3 │ Company B  Standard        50     50     25     2500"
      ]
     },
     "metadata": {},
     "output_type": "display_data"
    }
   ],
   "source": [
    "df"
   ]
  },
  {
   "cell_type": "code",
   "execution_count": 176,
   "metadata": {},
   "outputs": [
    {
     "data": {
      "text/html": [
       "<div><div style = \"float: left;\"><span>3×6 DataFrame</span></div><div style = \"clear: both;\"></div></div><div class = \"data-frame\" style = \"overflow-x: scroll;\"><table class = \"data-frame\" style = \"margin-bottom: 6px;\"><thead><tr class = \"header\"><th class = \"rowNumber\" style = \"font-weight: bold; text-align: right;\">Row</th><th style = \"text-align: left;\">Company</th><th style = \"text-align: left;\">Tier</th><th style = \"text-align: left;\">Quantity</th><th style = \"text-align: left;\">Price</th><th style = \"text-align: left;\">Cost</th><th style = \"text-align: left;\">Revenue</th></tr><tr class = \"subheader headerLastRow\"><th class = \"rowNumber\" style = \"font-weight: bold; text-align: right;\"></th><th title = \"String\" style = \"text-align: left;\">String</th><th title = \"String\" style = \"text-align: left;\">String</th><th title = \"Int64\" style = \"text-align: left;\">Int64</th><th title = \"Int64\" style = \"text-align: left;\">Int64</th><th title = \"Int64\" style = \"text-align: left;\">Int64</th><th title = \"Int64\" style = \"text-align: left;\">Int64</th></tr></thead><tbody><tr><td class = \"rowNumber\" style = \"font-weight: bold; text-align: right;\">1</td><td style = \"text-align: left;\">Company A</td><td style = \"text-align: left;\">Premium</td><td style = \"text-align: right;\">10</td><td style = \"text-align: right;\">100</td><td style = \"text-align: right;\">30</td><td style = \"text-align: right;\">1000</td></tr><tr><td class = \"rowNumber\" style = \"font-weight: bold; text-align: right;\">2</td><td style = \"text-align: left;\">Company A</td><td style = \"text-align: left;\">Economy</td><td style = \"text-align: right;\">100</td><td style = \"text-align: right;\">10</td><td style = \"text-align: right;\">7</td><td style = \"text-align: right;\">1000</td></tr><tr><td class = \"rowNumber\" style = \"font-weight: bold; text-align: right;\">3</td><td style = \"text-align: left;\">Company B</td><td style = \"text-align: left;\">Standard</td><td style = \"text-align: right;\">50</td><td style = \"text-align: right;\">50</td><td style = \"text-align: right;\">25</td><td style = \"text-align: right;\">2500</td></tr></tbody></table></div>"
      ],
      "text/latex": [
       "\\begin{tabular}{r|cccccc}\n",
       "\t& Company & Tier & Quantity & Price & Cost & Revenue\\\\\n",
       "\t\\hline\n",
       "\t& String & String & Int64 & Int64 & Int64 & Int64\\\\\n",
       "\t\\hline\n",
       "\t1 & Company A & Premium & 10 & 100 & 30 & 1000 \\\\\n",
       "\t2 & Company A & Economy & 100 & 10 & 7 & 1000 \\\\\n",
       "\t3 & Company B & Standard & 50 & 50 & 25 & 2500 \\\\\n",
       "\\end{tabular}\n"
      ],
      "text/plain": [
       "\u001b[1m3×6 DataFrame\u001b[0m\n",
       "\u001b[1m Row \u001b[0m│\u001b[1m Company   \u001b[0m\u001b[1m Tier     \u001b[0m\u001b[1m Quantity \u001b[0m\u001b[1m Price \u001b[0m\u001b[1m Cost  \u001b[0m\u001b[1m Revenue \u001b[0m\n",
       "     │\u001b[90m String    \u001b[0m\u001b[90m String   \u001b[0m\u001b[90m Int64    \u001b[0m\u001b[90m Int64 \u001b[0m\u001b[90m Int64 \u001b[0m\u001b[90m Int64   \u001b[0m\n",
       "─────┼──────────────────────────────────────────────────────\n",
       "   1 │ Company A  Premium         10    100     30     1000\n",
       "   2 │ Company A  Economy        100     10      7     1000\n",
       "   3 │ Company B  Standard        50     50     25     2500"
      ]
     },
     "metadata": {},
     "output_type": "display_data"
    }
   ],
   "source": [
    "rename!(df, :Brand => :Company)"
   ]
  },
  {
   "cell_type": "code",
   "execution_count": 177,
   "metadata": {},
   "outputs": [
    {
     "data": {
      "text/html": [
       "<div><div style = \"float: left;\"><span>3×6 DataFrame</span></div><div style = \"clear: both;\"></div></div><div class = \"data-frame\" style = \"overflow-x: scroll;\"><table class = \"data-frame\" style = \"margin-bottom: 6px;\"><thead><tr class = \"header\"><th class = \"rowNumber\" style = \"font-weight: bold; text-align: right;\">Row</th><th style = \"text-align: left;\">Company</th><th style = \"text-align: left;\">Tier</th><th style = \"text-align: left;\">Quantity</th><th style = \"text-align: left;\">Price</th><th style = \"text-align: left;\">Cost</th><th style = \"text-align: left;\">Revenue</th></tr><tr class = \"subheader headerLastRow\"><th class = \"rowNumber\" style = \"font-weight: bold; text-align: right;\"></th><th title = \"String\" style = \"text-align: left;\">String</th><th title = \"String\" style = \"text-align: left;\">String</th><th title = \"Int64\" style = \"text-align: left;\">Int64</th><th title = \"Int64\" style = \"text-align: left;\">Int64</th><th title = \"Int64\" style = \"text-align: left;\">Int64</th><th title = \"Int64\" style = \"text-align: left;\">Int64</th></tr></thead><tbody><tr><td class = \"rowNumber\" style = \"font-weight: bold; text-align: right;\">1</td><td style = \"text-align: left;\">Company A</td><td style = \"text-align: left;\">Premium</td><td style = \"text-align: right;\">10</td><td style = \"text-align: right;\">100</td><td style = \"text-align: right;\">30</td><td style = \"text-align: right;\">1000</td></tr><tr><td class = \"rowNumber\" style = \"font-weight: bold; text-align: right;\">2</td><td style = \"text-align: left;\">Company A</td><td style = \"text-align: left;\">Economy</td><td style = \"text-align: right;\">100</td><td style = \"text-align: right;\">10</td><td style = \"text-align: right;\">7</td><td style = \"text-align: right;\">1000</td></tr><tr><td class = \"rowNumber\" style = \"font-weight: bold; text-align: right;\">3</td><td style = \"text-align: left;\">Company B</td><td style = \"text-align: left;\">Standard</td><td style = \"text-align: right;\">50</td><td style = \"text-align: right;\">50</td><td style = \"text-align: right;\">25</td><td style = \"text-align: right;\">2500</td></tr></tbody></table></div>"
      ],
      "text/latex": [
       "\\begin{tabular}{r|cccccc}\n",
       "\t& Company & Tier & Quantity & Price & Cost & Revenue\\\\\n",
       "\t\\hline\n",
       "\t& String & String & Int64 & Int64 & Int64 & Int64\\\\\n",
       "\t\\hline\n",
       "\t1 & Company A & Premium & 10 & 100 & 30 & 1000 \\\\\n",
       "\t2 & Company A & Economy & 100 & 10 & 7 & 1000 \\\\\n",
       "\t3 & Company B & Standard & 50 & 50 & 25 & 2500 \\\\\n",
       "\\end{tabular}\n"
      ],
      "text/plain": [
       "\u001b[1m3×6 DataFrame\u001b[0m\n",
       "\u001b[1m Row \u001b[0m│\u001b[1m Company   \u001b[0m\u001b[1m Tier     \u001b[0m\u001b[1m Quantity \u001b[0m\u001b[1m Price \u001b[0m\u001b[1m Cost  \u001b[0m\u001b[1m Revenue \u001b[0m\n",
       "     │\u001b[90m String    \u001b[0m\u001b[90m String   \u001b[0m\u001b[90m Int64    \u001b[0m\u001b[90m Int64 \u001b[0m\u001b[90m Int64 \u001b[0m\u001b[90m Int64   \u001b[0m\n",
       "─────┼──────────────────────────────────────────────────────\n",
       "   1 │ Company A  Premium         10    100     30     1000\n",
       "   2 │ Company A  Economy        100     10      7     1000\n",
       "   3 │ Company B  Standard        50     50     25     2500"
      ]
     },
     "metadata": {},
     "output_type": "display_data"
    }
   ],
   "source": [
    "df"
   ]
  },
  {
   "cell_type": "code",
   "execution_count": 178,
   "metadata": {},
   "outputs": [
    {
     "data": {
      "text/html": [
       "<div><div style = \"float: left;\"><span>DataFrameRow (6 columns)</span></div><div style = \"clear: both;\"></div></div><div class = \"data-frame\" style = \"overflow-x: scroll;\"><table class = \"data-frame\" style = \"margin-bottom: 6px;\"><thead><tr class = \"header\"><th class = \"rowLabel\" style = \"font-weight: bold; text-align: right;\">Row</th><th style = \"text-align: left;\">Company</th><th style = \"text-align: left;\">Tier</th><th style = \"text-align: left;\">Quantity</th><th style = \"text-align: left;\">Price</th><th style = \"text-align: left;\">Cost</th><th style = \"text-align: left;\">Revenue</th></tr><tr class = \"subheader headerLastRow\"><th class = \"rowLabel\" style = \"font-weight: bold; text-align: right;\"></th><th title = \"String\" style = \"text-align: left;\">String</th><th title = \"String\" style = \"text-align: left;\">String</th><th title = \"Int64\" style = \"text-align: left;\">Int64</th><th title = \"Int64\" style = \"text-align: left;\">Int64</th><th title = \"Int64\" style = \"text-align: left;\">Int64</th><th title = \"Int64\" style = \"text-align: left;\">Int64</th></tr></thead><tbody><tr><td class = \"rowLabel\" style = \"font-weight: bold; text-align: right;\">2</td><td style = \"text-align: left;\">Company A</td><td style = \"text-align: left;\">Economy</td><td style = \"text-align: right;\">100</td><td style = \"text-align: right;\">10</td><td style = \"text-align: right;\">7</td><td style = \"text-align: right;\">1000</td></tr></tbody></table></div>"
      ],
      "text/latex": [
       "\\begin{tabular}{r|cccccc}\n",
       "\t& Company & Tier & Quantity & Price & Cost & Revenue\\\\\n",
       "\t\\hline\n",
       "\t& String & String & Int64 & Int64 & Int64 & Int64\\\\\n",
       "\t\\hline\n",
       "\t2 & Company A & Economy & 100 & 10 & 7 & 1000 \\\\\n",
       "\\end{tabular}\n"
      ],
      "text/plain": [
       "\u001b[1mDataFrameRow\u001b[0m\n",
       "\u001b[1m Row \u001b[0m│\u001b[1m Company   \u001b[0m\u001b[1m Tier    \u001b[0m\u001b[1m Quantity \u001b[0m\u001b[1m Price \u001b[0m\u001b[1m Cost  \u001b[0m\u001b[1m Revenue \u001b[0m\n",
       "     │\u001b[90m String    \u001b[0m\u001b[90m String  \u001b[0m\u001b[90m Int64    \u001b[0m\u001b[90m Int64 \u001b[0m\u001b[90m Int64 \u001b[0m\u001b[90m Int64   \u001b[0m\n",
       "─────┼─────────────────────────────────────────────────────\n",
       "   2 │ Company A  Economy       100     10      7     1000"
      ]
     },
     "metadata": {},
     "output_type": "display_data"
    }
   ],
   "source": [
    "df[2,:]"
   ]
  },
  {
   "cell_type": "code",
   "execution_count": 179,
   "metadata": {},
   "outputs": [
    {
     "data": {
      "text/html": [
       "<div><div style = \"float: left;\"><span>3×2 DataFrame</span></div><div style = \"clear: both;\"></div></div><div class = \"data-frame\" style = \"overflow-x: scroll;\"><table class = \"data-frame\" style = \"margin-bottom: 6px;\"><thead><tr class = \"header\"><th class = \"rowNumber\" style = \"font-weight: bold; text-align: right;\">Row</th><th style = \"text-align: left;\">Tier</th><th style = \"text-align: left;\">Revenue</th></tr><tr class = \"subheader headerLastRow\"><th class = \"rowNumber\" style = \"font-weight: bold; text-align: right;\"></th><th title = \"String\" style = \"text-align: left;\">String</th><th title = \"Int64\" style = \"text-align: left;\">Int64</th></tr></thead><tbody><tr><td class = \"rowNumber\" style = \"font-weight: bold; text-align: right;\">1</td><td style = \"text-align: left;\">Premium</td><td style = \"text-align: right;\">1000</td></tr><tr><td class = \"rowNumber\" style = \"font-weight: bold; text-align: right;\">2</td><td style = \"text-align: left;\">Economy</td><td style = \"text-align: right;\">1000</td></tr><tr><td class = \"rowNumber\" style = \"font-weight: bold; text-align: right;\">3</td><td style = \"text-align: left;\">Standard</td><td style = \"text-align: right;\">2500</td></tr></tbody></table></div>"
      ],
      "text/latex": [
       "\\begin{tabular}{r|cc}\n",
       "\t& Tier & Revenue\\\\\n",
       "\t\\hline\n",
       "\t& String & Int64\\\\\n",
       "\t\\hline\n",
       "\t1 & Premium & 1000 \\\\\n",
       "\t2 & Economy & 1000 \\\\\n",
       "\t3 & Standard & 2500 \\\\\n",
       "\\end{tabular}\n"
      ],
      "text/plain": [
       "\u001b[1m3×2 DataFrame\u001b[0m\n",
       "\u001b[1m Row \u001b[0m│\u001b[1m Tier     \u001b[0m\u001b[1m Revenue \u001b[0m\n",
       "     │\u001b[90m String   \u001b[0m\u001b[90m Int64   \u001b[0m\n",
       "─────┼───────────────────\n",
       "   1 │ Premium      1000\n",
       "   2 │ Economy      1000\n",
       "   3 │ Standard     2500"
      ]
     },
     "metadata": {},
     "output_type": "display_data"
    }
   ],
   "source": [
    "df[:,[:Tier,:Revenue]]"
   ]
  },
  {
   "cell_type": "code",
   "execution_count": 180,
   "metadata": {},
   "outputs": [
    {
     "data": {
      "text/html": [
       "<div><div style = \"float: left;\"><span>2×3 DataFrame</span></div><div style = \"clear: both;\"></div></div><div class = \"data-frame\" style = \"overflow-x: scroll;\"><table class = \"data-frame\" style = \"margin-bottom: 6px;\"><thead><tr class = \"header\"><th class = \"rowNumber\" style = \"font-weight: bold; text-align: right;\">Row</th><th style = \"text-align: left;\">Tier</th><th style = \"text-align: left;\">Price</th><th style = \"text-align: left;\">Revenue</th></tr><tr class = \"subheader headerLastRow\"><th class = \"rowNumber\" style = \"font-weight: bold; text-align: right;\"></th><th title = \"String\" style = \"text-align: left;\">String</th><th title = \"Int64\" style = \"text-align: left;\">Int64</th><th title = \"Int64\" style = \"text-align: left;\">Int64</th></tr></thead><tbody><tr><td class = \"rowNumber\" style = \"font-weight: bold; text-align: right;\">1</td><td style = \"text-align: left;\">Economy</td><td style = \"text-align: right;\">10</td><td style = \"text-align: right;\">1000</td></tr><tr><td class = \"rowNumber\" style = \"font-weight: bold; text-align: right;\">2</td><td style = \"text-align: left;\">Standard</td><td style = \"text-align: right;\">50</td><td style = \"text-align: right;\">2500</td></tr></tbody></table></div>"
      ],
      "text/latex": [
       "\\begin{tabular}{r|ccc}\n",
       "\t& Tier & Price & Revenue\\\\\n",
       "\t\\hline\n",
       "\t& String & Int64 & Int64\\\\\n",
       "\t\\hline\n",
       "\t1 & Economy & 10 & 1000 \\\\\n",
       "\t2 & Standard & 50 & 2500 \\\\\n",
       "\\end{tabular}\n"
      ],
      "text/plain": [
       "\u001b[1m2×3 DataFrame\u001b[0m\n",
       "\u001b[1m Row \u001b[0m│\u001b[1m Tier     \u001b[0m\u001b[1m Price \u001b[0m\u001b[1m Revenue \u001b[0m\n",
       "     │\u001b[90m String   \u001b[0m\u001b[90m Int64 \u001b[0m\u001b[90m Int64   \u001b[0m\n",
       "─────┼──────────────────────────\n",
       "   1 │ Economy      10     1000\n",
       "   2 │ Standard     50     2500"
      ]
     },
     "metadata": {},
     "output_type": "display_data"
    }
   ],
   "source": [
    "df[2:3,[:Tier,:Price,:Revenue]]"
   ]
  },
  {
   "cell_type": "markdown",
   "metadata": {},
   "source": [
    "# 4. Przetwarzanie danych"
   ]
  },
  {
   "cell_type": "code",
   "execution_count": 181,
   "metadata": {},
   "outputs": [
    {
     "data": {
      "text/html": [
       "<div><div style = \"float: left;\"><span>234×6 DataFrame</span></div><div style = \"float: right;\"><span style = \"font-style: italic;\">224 rows omitted</span></div><div style = \"clear: both;\"></div></div><div class = \"data-frame\" style = \"overflow-x: scroll;\"><table class = \"data-frame\" style = \"margin-bottom: 6px;\"><thead><tr class = \"header\"><th class = \"rowNumber\" style = \"font-weight: bold; text-align: right;\">Row</th><th style = \"text-align: left;\">Country/Territory</th><th style = \"text-align: left;\">UN continentalregion</th><th style = \"text-align: left;\">UN statisticalsubregion</th><th style = \"text-align: left;\">Population(1 July 2018)</th><th style = \"text-align: left;\">Population(1 July 2019)</th><th style = \"text-align: left;\">Change</th></tr><tr class = \"subheader headerLastRow\"><th class = \"rowNumber\" style = \"font-weight: bold; text-align: right;\"></th><th title = \"String\" style = \"text-align: left;\">String</th><th title = \"Union{Missing, String15}\" style = \"text-align: left;\">String15?</th><th title = \"Union{Missing, String31}\" style = \"text-align: left;\">String31?</th><th title = \"String15\" style = \"text-align: left;\">String15</th><th title = \"String15\" style = \"text-align: left;\">String15</th><th title = \"String15\" style = \"text-align: left;\">String15</th></tr></thead><tbody><tr><td class = \"rowNumber\" style = \"font-weight: bold; text-align: right;\">1</td><td style = \"text-align: left;\">China</td><td style = \"text-align: left;\">Asia</td><td style = \"text-align: left;\">Eastern Asia</td><td style = \"text-align: left;\">1,427,647,786</td><td style = \"text-align: left;\">1,433,783,686</td><td style = \"text-align: left;\">+0.43%</td></tr><tr><td class = \"rowNumber\" style = \"font-weight: bold; text-align: right;\">2</td><td style = \"text-align: left;\">India</td><td style = \"text-align: left;\">Asia</td><td style = \"text-align: left;\">Southern Asia</td><td style = \"text-align: left;\">1,352,642,280</td><td style = \"text-align: left;\">1,366,417,754</td><td style = \"text-align: left;\">+1.02%</td></tr><tr><td class = \"rowNumber\" style = \"font-weight: bold; text-align: right;\">3</td><td style = \"text-align: left;\">United States</td><td style = \"text-align: left;\">Americas</td><td style = \"text-align: left;\">Northern America</td><td style = \"text-align: left;\">327,096,265</td><td style = \"text-align: left;\">329,064,917</td><td style = \"text-align: left;\">+0.60%</td></tr><tr><td class = \"rowNumber\" style = \"font-weight: bold; text-align: right;\">4</td><td style = \"text-align: left;\">Indonesia</td><td style = \"text-align: left;\">Asia</td><td style = \"text-align: left;\">South-eastern Asia</td><td style = \"text-align: left;\">267,670,543</td><td style = \"text-align: left;\">270,625,568</td><td style = \"text-align: left;\">+1.10%</td></tr><tr><td class = \"rowNumber\" style = \"font-weight: bold; text-align: right;\">5</td><td style = \"text-align: left;\">Pakistan</td><td style = \"text-align: left;\">Asia</td><td style = \"text-align: left;\">Southern Asia</td><td style = \"text-align: left;\">212,228,286</td><td style = \"text-align: left;\">216,565,318</td><td style = \"text-align: left;\">+2.04%</td></tr><tr><td style = \"text-align: right;\">&vellip;</td><td style = \"text-align: right;\">&vellip;</td><td style = \"text-align: right;\">&vellip;</td><td style = \"text-align: right;\">&vellip;</td><td style = \"text-align: right;\">&vellip;</td><td style = \"text-align: right;\">&vellip;</td><td style = \"text-align: right;\">&vellip;</td></tr><tr><td class = \"rowNumber\" style = \"font-weight: bold; text-align: right;\">230</td><td style = \"text-align: left;\">Falkland Islands (United Kingdom)</td><td style = \"text-align: left;\">Americas</td><td style = \"text-align: left;\">South America</td><td style = \"text-align: left;\">3,234</td><td style = \"text-align: left;\">3,377</td><td style = \"text-align: left;\">+4.42%</td></tr><tr><td class = \"rowNumber\" style = \"font-weight: bold; text-align: right;\">231</td><td style = \"text-align: left;\">Niue (New Zealand)</td><td style = \"text-align: left;\">Oceania</td><td style = \"text-align: left;\">Polynesia</td><td style = \"text-align: left;\">1,620</td><td style = \"text-align: left;\">1,615</td><td style = \"text-align: left;\">−0.31%</td></tr><tr><td class = \"rowNumber\" style = \"font-weight: bold; text-align: right;\">232</td><td style = \"text-align: left;\">Tokelau (New Zealand)</td><td style = \"text-align: left;\">Oceania</td><td style = \"text-align: left;\">Polynesia</td><td style = \"text-align: left;\">1,319</td><td style = \"text-align: left;\">1,340</td><td style = \"text-align: left;\">+1.59%</td></tr><tr><td class = \"rowNumber\" style = \"font-weight: bold; text-align: right;\">233</td><td style = \"text-align: left;\">Vatican City</td><td style = \"text-align: left;\">Europe</td><td style = \"text-align: left;\">Southern Europe</td><td style = \"text-align: left;\">801</td><td style = \"text-align: left;\">799</td><td style = \"text-align: left;\">−0.25%</td></tr><tr><td class = \"rowNumber\" style = \"font-weight: bold; text-align: right;\">234</td><td style = \"text-align: left;\">World</td><td style = \"font-style: italic; text-align: left;\">missing</td><td style = \"font-style: italic; text-align: left;\">missing</td><td style = \"text-align: left;\">7,631,091,040</td><td style = \"text-align: left;\">7,713,468,100</td><td style = \"text-align: left;\">+1.08%</td></tr></tbody></table></div>"
      ],
      "text/latex": [
       "\\begin{tabular}{r|ccccc}\n",
       "\t& Country/Territory & UN continentalregion & UN statisticalsubregion & Population(1 July 2018) & \\\\\n",
       "\t\\hline\n",
       "\t& String & String15? & String31? & String15 & \\\\\n",
       "\t\\hline\n",
       "\t1 & China & Asia & Eastern Asia & 1,427,647,786 & $\\dots$ \\\\\n",
       "\t2 & India & Asia & Southern Asia & 1,352,642,280 & $\\dots$ \\\\\n",
       "\t3 & United States & Americas & Northern America & 327,096,265 & $\\dots$ \\\\\n",
       "\t4 & Indonesia & Asia & South-eastern Asia & 267,670,543 & $\\dots$ \\\\\n",
       "\t5 & Pakistan & Asia & Southern Asia & 212,228,286 & $\\dots$ \\\\\n",
       "\t6 & Brazil & Americas & South America & 209,469,323 & $\\dots$ \\\\\n",
       "\t7 & Nigeria & Africa & Western Africa & 195,874,683 & $\\dots$ \\\\\n",
       "\t8 & Bangladesh & Asia & Southern Asia & 161,376,708 & $\\dots$ \\\\\n",
       "\t9 & Russia & Europe & Eastern Europe & 145,734,038 & $\\dots$ \\\\\n",
       "\t10 & Mexico & Americas & Central America & 126,190,788 & $\\dots$ \\\\\n",
       "\t11 & Japan & Asia & Eastern Asia & 127,202,192 & $\\dots$ \\\\\n",
       "\t12 & Ethiopia & Africa & Eastern Africa & 109,224,414 & $\\dots$ \\\\\n",
       "\t13 & Philippines & Asia & South-eastern Asia & 106,651,394 & $\\dots$ \\\\\n",
       "\t14 & Egypt & Africa & Northern Africa & 98,423,598 & $\\dots$ \\\\\n",
       "\t15 & Vietnam & Asia & South-eastern Asia & 95,545,962 & $\\dots$ \\\\\n",
       "\t16 & DR Congo & Africa & Middle Africa & 84,068,091 & $\\dots$ \\\\\n",
       "\t17 & Germany & Europe & Western Europe & 83,124,418 & $\\dots$ \\\\\n",
       "\t18 & Turkey & Asia & Western Asia & 82,340,088 & $\\dots$ \\\\\n",
       "\t19 & Iran & Asia & Southern Asia & 81,800,188 & $\\dots$ \\\\\n",
       "\t20 & Thailand & Asia & South-eastern Asia & 68,863,514 & $\\dots$ \\\\\n",
       "\t21 & United Kingdom & Europe & Northern Europe & 67,141,684 & $\\dots$ \\\\\n",
       "\t22 & France & Europe & Western Europe & 64,990,511 & $\\dots$ \\\\\n",
       "\t23 & Italy & Europe & Southern Europe & 60,627,291 & $\\dots$ \\\\\n",
       "\t24 & South Africa & Africa & Southern Africa & 57,792,518 & $\\dots$ \\\\\n",
       "\t$\\dots$ & $\\dots$ & $\\dots$ & $\\dots$ & $\\dots$ &  \\\\\n",
       "\\end{tabular}\n"
      ],
      "text/plain": [
       "\u001b[1m234×6 DataFrame\u001b[0m\n",
       "\u001b[1m Row \u001b[0m│\u001b[1m Country/Territory                 \u001b[0m\u001b[1m UN continentalregion \u001b[0m\u001b[1m UN statistical\u001b[0m ⋯\n",
       "     │\u001b[90m String                            \u001b[0m\u001b[90m String15?            \u001b[0m\u001b[90m String31?     \u001b[0m ⋯\n",
       "─────┼──────────────────────────────────────────────────────────────────────────\n",
       "   1 │ China                              Asia                  Eastern Asia   ⋯\n",
       "   2 │ India                              Asia                  Southern Asia\n",
       "   3 │ United States                      Americas              Northern Ameri\n",
       "   4 │ Indonesia                          Asia                  South-eastern\n",
       "   5 │ Pakistan                           Asia                  Southern Asia  ⋯\n",
       "   6 │ Brazil                             Americas              South America\n",
       "   7 │ Nigeria                            Africa                Western Africa\n",
       "   8 │ Bangladesh                         Asia                  Southern Asia\n",
       "  ⋮  │                 ⋮                           ⋮                       ⋮   ⋱\n",
       " 228 │ Saint Pierre and Miquelon (Franc…  Americas              Northern Ameri ⋯\n",
       " 229 │ Montserrat (United Kingdom)        Americas              Caribbean\n",
       " 230 │ Falkland Islands (United Kingdom)  Americas              South America\n",
       " 231 │ Niue (New Zealand)                 Oceania               Polynesia\n",
       " 232 │ Tokelau (New Zealand)              Oceania               Polynesia      ⋯\n",
       " 233 │ Vatican City                       Europe                Southern Europ\n",
       " 234 │ World                             \u001b[90m missing              \u001b[0m\u001b[90m missing       \u001b[0m\n",
       "\u001b[36m                                                  4 columns and 219 rows omitted\u001b[0m"
      ]
     },
     "metadata": {},
     "output_type": "display_data"
    }
   ],
   "source": [
    "url1 = \"https://raw.githubusercontent.com/holowaczi/warsztatyDM2024/main/population.csv\"\n",
    "population_df = DataFrame(CSV.File(HTTP.get(url1).body))\n"
   ]
  },
  {
   "cell_type": "code",
   "execution_count": 182,
   "metadata": {},
   "outputs": [
    {
     "data": {
      "text/html": [
       "<div><div style = \"float: left;\"><span>234×7 DataFrame</span></div><div style = \"float: right;\"><span style = \"font-style: italic;\">224 rows omitted</span></div><div style = \"clear: both;\"></div></div><div class = \"data-frame\" style = \"overflow-x: scroll;\"><table class = \"data-frame\" style = \"margin-bottom: 6px;\"><thead><tr class = \"header\"><th class = \"rowNumber\" style = \"font-weight: bold; text-align: right;\">Row</th><th style = \"text-align: left;\">id</th><th style = \"text-align: left;\">Country/Territory</th><th style = \"text-align: left;\">UN continentalregion</th><th style = \"text-align: left;\">UN statisticalsubregion</th><th style = \"text-align: left;\">Population(1 July 2018)</th><th style = \"text-align: left;\">Population(1 July 2019)</th><th style = \"text-align: left;\">Change</th></tr><tr class = \"subheader headerLastRow\"><th class = \"rowNumber\" style = \"font-weight: bold; text-align: right;\"></th><th title = \"Int64\" style = \"text-align: left;\">Int64</th><th title = \"String\" style = \"text-align: left;\">String</th><th title = \"Union{Missing, String15}\" style = \"text-align: left;\">String15?</th><th title = \"Union{Missing, String31}\" style = \"text-align: left;\">String31?</th><th title = \"String15\" style = \"text-align: left;\">String15</th><th title = \"String15\" style = \"text-align: left;\">String15</th><th title = \"String15\" style = \"text-align: left;\">String15</th></tr></thead><tbody><tr><td class = \"rowNumber\" style = \"font-weight: bold; text-align: right;\">1</td><td style = \"text-align: right;\">1</td><td style = \"text-align: left;\">China</td><td style = \"text-align: left;\">Asia</td><td style = \"text-align: left;\">Eastern Asia</td><td style = \"text-align: left;\">1,427,647,786</td><td style = \"text-align: left;\">1,433,783,686</td><td style = \"text-align: left;\">+0.43%</td></tr><tr><td class = \"rowNumber\" style = \"font-weight: bold; text-align: right;\">2</td><td style = \"text-align: right;\">2</td><td style = \"text-align: left;\">India</td><td style = \"text-align: left;\">Asia</td><td style = \"text-align: left;\">Southern Asia</td><td style = \"text-align: left;\">1,352,642,280</td><td style = \"text-align: left;\">1,366,417,754</td><td style = \"text-align: left;\">+1.02%</td></tr><tr><td class = \"rowNumber\" style = \"font-weight: bold; text-align: right;\">3</td><td style = \"text-align: right;\">3</td><td style = \"text-align: left;\">United States</td><td style = \"text-align: left;\">Americas</td><td style = \"text-align: left;\">Northern America</td><td style = \"text-align: left;\">327,096,265</td><td style = \"text-align: left;\">329,064,917</td><td style = \"text-align: left;\">+0.60%</td></tr><tr><td class = \"rowNumber\" style = \"font-weight: bold; text-align: right;\">4</td><td style = \"text-align: right;\">4</td><td style = \"text-align: left;\">Indonesia</td><td style = \"text-align: left;\">Asia</td><td style = \"text-align: left;\">South-eastern Asia</td><td style = \"text-align: left;\">267,670,543</td><td style = \"text-align: left;\">270,625,568</td><td style = \"text-align: left;\">+1.10%</td></tr><tr><td class = \"rowNumber\" style = \"font-weight: bold; text-align: right;\">5</td><td style = \"text-align: right;\">5</td><td style = \"text-align: left;\">Pakistan</td><td style = \"text-align: left;\">Asia</td><td style = \"text-align: left;\">Southern Asia</td><td style = \"text-align: left;\">212,228,286</td><td style = \"text-align: left;\">216,565,318</td><td style = \"text-align: left;\">+2.04%</td></tr><tr><td style = \"text-align: right;\">&vellip;</td><td style = \"text-align: right;\">&vellip;</td><td style = \"text-align: right;\">&vellip;</td><td style = \"text-align: right;\">&vellip;</td><td style = \"text-align: right;\">&vellip;</td><td style = \"text-align: right;\">&vellip;</td><td style = \"text-align: right;\">&vellip;</td><td style = \"text-align: right;\">&vellip;</td></tr><tr><td class = \"rowNumber\" style = \"font-weight: bold; text-align: right;\">230</td><td style = \"text-align: right;\">230</td><td style = \"text-align: left;\">Falkland Islands (United Kingdom)</td><td style = \"text-align: left;\">Americas</td><td style = \"text-align: left;\">South America</td><td style = \"text-align: left;\">3,234</td><td style = \"text-align: left;\">3,377</td><td style = \"text-align: left;\">+4.42%</td></tr><tr><td class = \"rowNumber\" style = \"font-weight: bold; text-align: right;\">231</td><td style = \"text-align: right;\">231</td><td style = \"text-align: left;\">Niue (New Zealand)</td><td style = \"text-align: left;\">Oceania</td><td style = \"text-align: left;\">Polynesia</td><td style = \"text-align: left;\">1,620</td><td style = \"text-align: left;\">1,615</td><td style = \"text-align: left;\">−0.31%</td></tr><tr><td class = \"rowNumber\" style = \"font-weight: bold; text-align: right;\">232</td><td style = \"text-align: right;\">232</td><td style = \"text-align: left;\">Tokelau (New Zealand)</td><td style = \"text-align: left;\">Oceania</td><td style = \"text-align: left;\">Polynesia</td><td style = \"text-align: left;\">1,319</td><td style = \"text-align: left;\">1,340</td><td style = \"text-align: left;\">+1.59%</td></tr><tr><td class = \"rowNumber\" style = \"font-weight: bold; text-align: right;\">233</td><td style = \"text-align: right;\">233</td><td style = \"text-align: left;\">Vatican City</td><td style = \"text-align: left;\">Europe</td><td style = \"text-align: left;\">Southern Europe</td><td style = \"text-align: left;\">801</td><td style = \"text-align: left;\">799</td><td style = \"text-align: left;\">−0.25%</td></tr><tr><td class = \"rowNumber\" style = \"font-weight: bold; text-align: right;\">234</td><td style = \"text-align: right;\">234</td><td style = \"text-align: left;\">World</td><td style = \"font-style: italic; text-align: left;\">missing</td><td style = \"font-style: italic; text-align: left;\">missing</td><td style = \"text-align: left;\">7,631,091,040</td><td style = \"text-align: left;\">7,713,468,100</td><td style = \"text-align: left;\">+1.08%</td></tr></tbody></table></div>"
      ],
      "text/latex": [
       "\\begin{tabular}{r|cccccc}\n",
       "\t& id & Country/Territory & UN continentalregion & UN statisticalsubregion & Population(1 July 2018) & \\\\\n",
       "\t\\hline\n",
       "\t& Int64 & String & String15? & String31? & String15 & \\\\\n",
       "\t\\hline\n",
       "\t1 & 1 & China & Asia & Eastern Asia & 1,427,647,786 & $\\dots$ \\\\\n",
       "\t2 & 2 & India & Asia & Southern Asia & 1,352,642,280 & $\\dots$ \\\\\n",
       "\t3 & 3 & United States & Americas & Northern America & 327,096,265 & $\\dots$ \\\\\n",
       "\t4 & 4 & Indonesia & Asia & South-eastern Asia & 267,670,543 & $\\dots$ \\\\\n",
       "\t5 & 5 & Pakistan & Asia & Southern Asia & 212,228,286 & $\\dots$ \\\\\n",
       "\t6 & 6 & Brazil & Americas & South America & 209,469,323 & $\\dots$ \\\\\n",
       "\t7 & 7 & Nigeria & Africa & Western Africa & 195,874,683 & $\\dots$ \\\\\n",
       "\t8 & 8 & Bangladesh & Asia & Southern Asia & 161,376,708 & $\\dots$ \\\\\n",
       "\t9 & 9 & Russia & Europe & Eastern Europe & 145,734,038 & $\\dots$ \\\\\n",
       "\t10 & 10 & Mexico & Americas & Central America & 126,190,788 & $\\dots$ \\\\\n",
       "\t11 & 11 & Japan & Asia & Eastern Asia & 127,202,192 & $\\dots$ \\\\\n",
       "\t12 & 12 & Ethiopia & Africa & Eastern Africa & 109,224,414 & $\\dots$ \\\\\n",
       "\t13 & 13 & Philippines & Asia & South-eastern Asia & 106,651,394 & $\\dots$ \\\\\n",
       "\t14 & 14 & Egypt & Africa & Northern Africa & 98,423,598 & $\\dots$ \\\\\n",
       "\t15 & 15 & Vietnam & Asia & South-eastern Asia & 95,545,962 & $\\dots$ \\\\\n",
       "\t16 & 16 & DR Congo & Africa & Middle Africa & 84,068,091 & $\\dots$ \\\\\n",
       "\t17 & 17 & Germany & Europe & Western Europe & 83,124,418 & $\\dots$ \\\\\n",
       "\t18 & 18 & Turkey & Asia & Western Asia & 82,340,088 & $\\dots$ \\\\\n",
       "\t19 & 19 & Iran & Asia & Southern Asia & 81,800,188 & $\\dots$ \\\\\n",
       "\t20 & 20 & Thailand & Asia & South-eastern Asia & 68,863,514 & $\\dots$ \\\\\n",
       "\t21 & 21 & United Kingdom & Europe & Northern Europe & 67,141,684 & $\\dots$ \\\\\n",
       "\t22 & 22 & France & Europe & Western Europe & 64,990,511 & $\\dots$ \\\\\n",
       "\t23 & 23 & Italy & Europe & Southern Europe & 60,627,291 & $\\dots$ \\\\\n",
       "\t24 & 24 & South Africa & Africa & Southern Africa & 57,792,518 & $\\dots$ \\\\\n",
       "\t$\\dots$ & $\\dots$ & $\\dots$ & $\\dots$ & $\\dots$ & $\\dots$ &  \\\\\n",
       "\\end{tabular}\n"
      ],
      "text/plain": [
       "\u001b[1m234×7 DataFrame\u001b[0m\n",
       "\u001b[1m Row \u001b[0m│\u001b[1m id    \u001b[0m\u001b[1m Country/Territory                 \u001b[0m\u001b[1m UN continentalregion \u001b[0m\u001b[1m UN stat\u001b[0m ⋯\n",
       "     │\u001b[90m Int64 \u001b[0m\u001b[90m String                            \u001b[0m\u001b[90m String15?            \u001b[0m\u001b[90m String3\u001b[0m ⋯\n",
       "─────┼──────────────────────────────────────────────────────────────────────────\n",
       "   1 │     1  China                              Asia                  Eastern ⋯\n",
       "   2 │     2  India                              Asia                  Souther\n",
       "   3 │     3  United States                      Americas              Norther\n",
       "   4 │     4  Indonesia                          Asia                  South-e\n",
       "   5 │     5  Pakistan                           Asia                  Souther ⋯\n",
       "   6 │     6  Brazil                             Americas              South A\n",
       "   7 │     7  Nigeria                            Africa                Western\n",
       "   8 │     8  Bangladesh                         Asia                  Souther\n",
       "  ⋮  │   ⋮                    ⋮                           ⋮                    ⋱\n",
       " 228 │   228  Saint Pierre and Miquelon (Franc…  Americas              Norther ⋯\n",
       " 229 │   229  Montserrat (United Kingdom)        Americas              Caribbe\n",
       " 230 │   230  Falkland Islands (United Kingdom)  Americas              South A\n",
       " 231 │   231  Niue (New Zealand)                 Oceania               Polynes\n",
       " 232 │   232  Tokelau (New Zealand)              Oceania               Polynes ⋯\n",
       " 233 │   233  Vatican City                       Europe                Souther\n",
       " 234 │   234  World                             \u001b[90m missing              \u001b[0m\u001b[90m missing\u001b[0m\n",
       "\u001b[36m                                                  4 columns and 219 rows omitted\u001b[0m"
      ]
     },
     "metadata": {},
     "output_type": "display_data"
    }
   ],
   "source": [
    "population_df.id = 1:nrow(population_df)\n",
    "\n",
    "population_df = select(population_df, :id,:)"
   ]
  },
  {
   "cell_type": "code",
   "execution_count": 183,
   "metadata": {},
   "outputs": [
    {
     "data": {
      "text/html": [
       "<div><div style = \"float: left;\"><span>234×7 DataFrame</span></div><div style = \"float: right;\"><span style = \"font-style: italic;\">224 rows omitted</span></div><div style = \"clear: both;\"></div></div><div class = \"data-frame\" style = \"overflow-x: scroll;\"><table class = \"data-frame\" style = \"margin-bottom: 6px;\"><thead><tr class = \"header\"><th class = \"rowNumber\" style = \"font-weight: bold; text-align: right;\">Row</th><th style = \"text-align: left;\">id</th><th style = \"text-align: left;\">Country</th><th style = \"text-align: left;\">Region</th><th style = \"text-align: left;\">Subregion</th><th style = \"text-align: left;\">Pop18</th><th style = \"text-align: left;\">Pop19</th><th style = \"text-align: left;\">Change</th></tr><tr class = \"subheader headerLastRow\"><th class = \"rowNumber\" style = \"font-weight: bold; text-align: right;\"></th><th title = \"Int64\" style = \"text-align: left;\">Int64</th><th title = \"String\" style = \"text-align: left;\">String</th><th title = \"Union{Missing, String15}\" style = \"text-align: left;\">String15?</th><th title = \"Union{Missing, String31}\" style = \"text-align: left;\">String31?</th><th title = \"String15\" style = \"text-align: left;\">String15</th><th title = \"String15\" style = \"text-align: left;\">String15</th><th title = \"String15\" style = \"text-align: left;\">String15</th></tr></thead><tbody><tr><td class = \"rowNumber\" style = \"font-weight: bold; text-align: right;\">1</td><td style = \"text-align: right;\">1</td><td style = \"text-align: left;\">China</td><td style = \"text-align: left;\">Asia</td><td style = \"text-align: left;\">Eastern Asia</td><td style = \"text-align: left;\">1,427,647,786</td><td style = \"text-align: left;\">1,433,783,686</td><td style = \"text-align: left;\">+0.43%</td></tr><tr><td class = \"rowNumber\" style = \"font-weight: bold; text-align: right;\">2</td><td style = \"text-align: right;\">2</td><td style = \"text-align: left;\">India</td><td style = \"text-align: left;\">Asia</td><td style = \"text-align: left;\">Southern Asia</td><td style = \"text-align: left;\">1,352,642,280</td><td style = \"text-align: left;\">1,366,417,754</td><td style = \"text-align: left;\">+1.02%</td></tr><tr><td class = \"rowNumber\" style = \"font-weight: bold; text-align: right;\">3</td><td style = \"text-align: right;\">3</td><td style = \"text-align: left;\">United States</td><td style = \"text-align: left;\">Americas</td><td style = \"text-align: left;\">Northern America</td><td style = \"text-align: left;\">327,096,265</td><td style = \"text-align: left;\">329,064,917</td><td style = \"text-align: left;\">+0.60%</td></tr><tr><td class = \"rowNumber\" style = \"font-weight: bold; text-align: right;\">4</td><td style = \"text-align: right;\">4</td><td style = \"text-align: left;\">Indonesia</td><td style = \"text-align: left;\">Asia</td><td style = \"text-align: left;\">South-eastern Asia</td><td style = \"text-align: left;\">267,670,543</td><td style = \"text-align: left;\">270,625,568</td><td style = \"text-align: left;\">+1.10%</td></tr><tr><td class = \"rowNumber\" style = \"font-weight: bold; text-align: right;\">5</td><td style = \"text-align: right;\">5</td><td style = \"text-align: left;\">Pakistan</td><td style = \"text-align: left;\">Asia</td><td style = \"text-align: left;\">Southern Asia</td><td style = \"text-align: left;\">212,228,286</td><td style = \"text-align: left;\">216,565,318</td><td style = \"text-align: left;\">+2.04%</td></tr><tr><td style = \"text-align: right;\">&vellip;</td><td style = \"text-align: right;\">&vellip;</td><td style = \"text-align: right;\">&vellip;</td><td style = \"text-align: right;\">&vellip;</td><td style = \"text-align: right;\">&vellip;</td><td style = \"text-align: right;\">&vellip;</td><td style = \"text-align: right;\">&vellip;</td><td style = \"text-align: right;\">&vellip;</td></tr><tr><td class = \"rowNumber\" style = \"font-weight: bold; text-align: right;\">230</td><td style = \"text-align: right;\">230</td><td style = \"text-align: left;\">Falkland Islands (United Kingdom)</td><td style = \"text-align: left;\">Americas</td><td style = \"text-align: left;\">South America</td><td style = \"text-align: left;\">3,234</td><td style = \"text-align: left;\">3,377</td><td style = \"text-align: left;\">+4.42%</td></tr><tr><td class = \"rowNumber\" style = \"font-weight: bold; text-align: right;\">231</td><td style = \"text-align: right;\">231</td><td style = \"text-align: left;\">Niue (New Zealand)</td><td style = \"text-align: left;\">Oceania</td><td style = \"text-align: left;\">Polynesia</td><td style = \"text-align: left;\">1,620</td><td style = \"text-align: left;\">1,615</td><td style = \"text-align: left;\">−0.31%</td></tr><tr><td class = \"rowNumber\" style = \"font-weight: bold; text-align: right;\">232</td><td style = \"text-align: right;\">232</td><td style = \"text-align: left;\">Tokelau (New Zealand)</td><td style = \"text-align: left;\">Oceania</td><td style = \"text-align: left;\">Polynesia</td><td style = \"text-align: left;\">1,319</td><td style = \"text-align: left;\">1,340</td><td style = \"text-align: left;\">+1.59%</td></tr><tr><td class = \"rowNumber\" style = \"font-weight: bold; text-align: right;\">233</td><td style = \"text-align: right;\">233</td><td style = \"text-align: left;\">Vatican City</td><td style = \"text-align: left;\">Europe</td><td style = \"text-align: left;\">Southern Europe</td><td style = \"text-align: left;\">801</td><td style = \"text-align: left;\">799</td><td style = \"text-align: left;\">−0.25%</td></tr><tr><td class = \"rowNumber\" style = \"font-weight: bold; text-align: right;\">234</td><td style = \"text-align: right;\">234</td><td style = \"text-align: left;\">World</td><td style = \"font-style: italic; text-align: left;\">missing</td><td style = \"font-style: italic; text-align: left;\">missing</td><td style = \"text-align: left;\">7,631,091,040</td><td style = \"text-align: left;\">7,713,468,100</td><td style = \"text-align: left;\">+1.08%</td></tr></tbody></table></div>"
      ],
      "text/latex": [
       "\\begin{tabular}{r|ccccccc}\n",
       "\t& id & Country & Region & Subregion & Pop18 & Pop19 & \\\\\n",
       "\t\\hline\n",
       "\t& Int64 & String & String15? & String31? & String15 & String15 & \\\\\n",
       "\t\\hline\n",
       "\t1 & 1 & China & Asia & Eastern Asia & 1,427,647,786 & 1,433,783,686 & $\\dots$ \\\\\n",
       "\t2 & 2 & India & Asia & Southern Asia & 1,352,642,280 & 1,366,417,754 & $\\dots$ \\\\\n",
       "\t3 & 3 & United States & Americas & Northern America & 327,096,265 & 329,064,917 & $\\dots$ \\\\\n",
       "\t4 & 4 & Indonesia & Asia & South-eastern Asia & 267,670,543 & 270,625,568 & $\\dots$ \\\\\n",
       "\t5 & 5 & Pakistan & Asia & Southern Asia & 212,228,286 & 216,565,318 & $\\dots$ \\\\\n",
       "\t6 & 6 & Brazil & Americas & South America & 209,469,323 & 211,049,527 & $\\dots$ \\\\\n",
       "\t7 & 7 & Nigeria & Africa & Western Africa & 195,874,683 & 200,963,599 & $\\dots$ \\\\\n",
       "\t8 & 8 & Bangladesh & Asia & Southern Asia & 161,376,708 & 163,046,161 & $\\dots$ \\\\\n",
       "\t9 & 9 & Russia & Europe & Eastern Europe & 145,734,038 & 145,872,256 & $\\dots$ \\\\\n",
       "\t10 & 10 & Mexico & Americas & Central America & 126,190,788 & 127,575,529 & $\\dots$ \\\\\n",
       "\t11 & 11 & Japan & Asia & Eastern Asia & 127,202,192 & 126,860,301 & $\\dots$ \\\\\n",
       "\t12 & 12 & Ethiopia & Africa & Eastern Africa & 109,224,414 & 112,078,730 & $\\dots$ \\\\\n",
       "\t13 & 13 & Philippines & Asia & South-eastern Asia & 106,651,394 & 108,116,615 & $\\dots$ \\\\\n",
       "\t14 & 14 & Egypt & Africa & Northern Africa & 98,423,598 & 100,388,073 & $\\dots$ \\\\\n",
       "\t15 & 15 & Vietnam & Asia & South-eastern Asia & 95,545,962 & 96,462,106 & $\\dots$ \\\\\n",
       "\t16 & 16 & DR Congo & Africa & Middle Africa & 84,068,091 & 86,790,567 & $\\dots$ \\\\\n",
       "\t17 & 17 & Germany & Europe & Western Europe & 83,124,418 & 83,517,045 & $\\dots$ \\\\\n",
       "\t18 & 18 & Turkey & Asia & Western Asia & 82,340,088 & 83,429,615 & $\\dots$ \\\\\n",
       "\t19 & 19 & Iran & Asia & Southern Asia & 81,800,188 & 82,913,906 & $\\dots$ \\\\\n",
       "\t20 & 20 & Thailand & Asia & South-eastern Asia & 68,863,514 & 69,037,513 & $\\dots$ \\\\\n",
       "\t21 & 21 & United Kingdom & Europe & Northern Europe & 67,141,684 & 67,530,172 & $\\dots$ \\\\\n",
       "\t22 & 22 & France & Europe & Western Europe & 64,990,511 & 65,129,728 & $\\dots$ \\\\\n",
       "\t23 & 23 & Italy & Europe & Southern Europe & 60,627,291 & 60,550,075 & $\\dots$ \\\\\n",
       "\t24 & 24 & South Africa & Africa & Southern Africa & 57,792,518 & 58,558,270 & $\\dots$ \\\\\n",
       "\t$\\dots$ & $\\dots$ & $\\dots$ & $\\dots$ & $\\dots$ & $\\dots$ & $\\dots$ &  \\\\\n",
       "\\end{tabular}\n"
      ],
      "text/plain": [
       "\u001b[1m234×7 DataFrame\u001b[0m\n",
       "\u001b[1m Row \u001b[0m│\u001b[1m id    \u001b[0m\u001b[1m Country                           \u001b[0m\u001b[1m Region    \u001b[0m\u001b[1m Subregion         \u001b[0m ⋯\n",
       "     │\u001b[90m Int64 \u001b[0m\u001b[90m String                            \u001b[0m\u001b[90m String15? \u001b[0m\u001b[90m String31?         \u001b[0m ⋯\n",
       "─────┼──────────────────────────────────────────────────────────────────────────\n",
       "   1 │     1  China                              Asia       Eastern Asia       ⋯\n",
       "   2 │     2  India                              Asia       Southern Asia\n",
       "   3 │     3  United States                      Americas   Northern America\n",
       "   4 │     4  Indonesia                          Asia       South-eastern Asia\n",
       "   5 │     5  Pakistan                           Asia       Southern Asia      ⋯\n",
       "   6 │     6  Brazil                             Americas   South America\n",
       "   7 │     7  Nigeria                            Africa     Western Africa\n",
       "   8 │     8  Bangladesh                         Asia       Southern Asia\n",
       "  ⋮  │   ⋮                    ⋮                      ⋮              ⋮          ⋱\n",
       " 228 │   228  Saint Pierre and Miquelon (Franc…  Americas   Northern America   ⋯\n",
       " 229 │   229  Montserrat (United Kingdom)        Americas   Caribbean\n",
       " 230 │   230  Falkland Islands (United Kingdom)  Americas   South America\n",
       " 231 │   231  Niue (New Zealand)                 Oceania    Polynesia\n",
       " 232 │   232  Tokelau (New Zealand)              Oceania    Polynesia          ⋯\n",
       " 233 │   233  Vatican City                       Europe     Southern Europe\n",
       " 234 │   234  World                             \u001b[90m missing   \u001b[0m\u001b[90m missing           \u001b[0m\n",
       "\u001b[36m                                                  3 columns and 219 rows omitted\u001b[0m"
      ]
     },
     "metadata": {},
     "output_type": "display_data"
    }
   ],
   "source": [
    "headers = [:id, :Country, :Region, :Subregion, :Pop18, :Pop19, :Change]\n",
    "\n",
    "rename!(population_df, headers)"
   ]
  },
  {
   "cell_type": "code",
   "execution_count": 184,
   "metadata": {},
   "outputs": [
    {
     "data": {
      "text/html": [
       "<div><div style = \"float: left;\"><span>234×11 DataFrame</span></div><div style = \"float: right;\"><span style = \"font-style: italic;\">224 rows omitted</span></div><div style = \"clear: both;\"></div></div><div class = \"data-frame\" style = \"overflow-x: scroll;\"><table class = \"data-frame\" style = \"margin-bottom: 6px;\"><thead><tr class = \"header\"><th class = \"rowNumber\" style = \"font-weight: bold; text-align: right;\">Row</th><th style = \"text-align: left;\">id</th><th style = \"text-align: left;\">Country</th><th style = \"text-align: left;\">Region</th><th style = \"text-align: left;\">Subregion</th><th style = \"text-align: left;\">Pop18</th><th style = \"text-align: left;\">Pop19</th><th style = \"text-align: left;\">Change</th><th style = \"text-align: left;\">Pop18nocomma</th><th style = \"text-align: left;\">Pop19nocomma</th><th style = \"text-align: left;\">Pop18Int</th><th style = \"text-align: left;\">Pop19Int</th></tr><tr class = \"subheader headerLastRow\"><th class = \"rowNumber\" style = \"font-weight: bold; text-align: right;\"></th><th title = \"Int64\" style = \"text-align: left;\">Int64</th><th title = \"String\" style = \"text-align: left;\">String</th><th title = \"Union{Missing, String15}\" style = \"text-align: left;\">String15?</th><th title = \"Union{Missing, String31}\" style = \"text-align: left;\">String31?</th><th title = \"String15\" style = \"text-align: left;\">String15</th><th title = \"String15\" style = \"text-align: left;\">String15</th><th title = \"String15\" style = \"text-align: left;\">String15</th><th title = \"String\" style = \"text-align: left;\">String</th><th title = \"String\" style = \"text-align: left;\">String</th><th title = \"Int64\" style = \"text-align: left;\">Int64</th><th title = \"Int64\" style = \"text-align: left;\">Int64</th></tr></thead><tbody><tr><td class = \"rowNumber\" style = \"font-weight: bold; text-align: right;\">1</td><td style = \"text-align: right;\">1</td><td style = \"text-align: left;\">China</td><td style = \"text-align: left;\">Asia</td><td style = \"text-align: left;\">Eastern Asia</td><td style = \"text-align: left;\">1,427,647,786</td><td style = \"text-align: left;\">1,433,783,686</td><td style = \"text-align: left;\">+0.43%</td><td style = \"text-align: left;\">1427647786</td><td style = \"text-align: left;\">1433783686</td><td style = \"text-align: right;\">1427647786</td><td style = \"text-align: right;\">1433783686</td></tr><tr><td class = \"rowNumber\" style = \"font-weight: bold; text-align: right;\">2</td><td style = \"text-align: right;\">2</td><td style = \"text-align: left;\">India</td><td style = \"text-align: left;\">Asia</td><td style = \"text-align: left;\">Southern Asia</td><td style = \"text-align: left;\">1,352,642,280</td><td style = \"text-align: left;\">1,366,417,754</td><td style = \"text-align: left;\">+1.02%</td><td style = \"text-align: left;\">1352642280</td><td style = \"text-align: left;\">1366417754</td><td style = \"text-align: right;\">1352642280</td><td style = \"text-align: right;\">1366417754</td></tr><tr><td class = \"rowNumber\" style = \"font-weight: bold; text-align: right;\">3</td><td style = \"text-align: right;\">3</td><td style = \"text-align: left;\">United States</td><td style = \"text-align: left;\">Americas</td><td style = \"text-align: left;\">Northern America</td><td style = \"text-align: left;\">327,096,265</td><td style = \"text-align: left;\">329,064,917</td><td style = \"text-align: left;\">+0.60%</td><td style = \"text-align: left;\">327096265</td><td style = \"text-align: left;\">329064917</td><td style = \"text-align: right;\">327096265</td><td style = \"text-align: right;\">329064917</td></tr><tr><td class = \"rowNumber\" style = \"font-weight: bold; text-align: right;\">4</td><td style = \"text-align: right;\">4</td><td style = \"text-align: left;\">Indonesia</td><td style = \"text-align: left;\">Asia</td><td style = \"text-align: left;\">South-eastern Asia</td><td style = \"text-align: left;\">267,670,543</td><td style = \"text-align: left;\">270,625,568</td><td style = \"text-align: left;\">+1.10%</td><td style = \"text-align: left;\">267670543</td><td style = \"text-align: left;\">270625568</td><td style = \"text-align: right;\">267670543</td><td style = \"text-align: right;\">270625568</td></tr><tr><td class = \"rowNumber\" style = \"font-weight: bold; text-align: right;\">5</td><td style = \"text-align: right;\">5</td><td style = \"text-align: left;\">Pakistan</td><td style = \"text-align: left;\">Asia</td><td style = \"text-align: left;\">Southern Asia</td><td style = \"text-align: left;\">212,228,286</td><td style = \"text-align: left;\">216,565,318</td><td style = \"text-align: left;\">+2.04%</td><td style = \"text-align: left;\">212228286</td><td style = \"text-align: left;\">216565318</td><td style = \"text-align: right;\">212228286</td><td style = \"text-align: right;\">216565318</td></tr><tr><td style = \"text-align: right;\">&vellip;</td><td style = \"text-align: right;\">&vellip;</td><td style = \"text-align: right;\">&vellip;</td><td style = \"text-align: right;\">&vellip;</td><td style = \"text-align: right;\">&vellip;</td><td style = \"text-align: right;\">&vellip;</td><td style = \"text-align: right;\">&vellip;</td><td style = \"text-align: right;\">&vellip;</td><td style = \"text-align: right;\">&vellip;</td><td style = \"text-align: right;\">&vellip;</td><td style = \"text-align: right;\">&vellip;</td><td style = \"text-align: right;\">&vellip;</td></tr><tr><td class = \"rowNumber\" style = \"font-weight: bold; text-align: right;\">230</td><td style = \"text-align: right;\">230</td><td style = \"text-align: left;\">Falkland Islands (United Kingdom)</td><td style = \"text-align: left;\">Americas</td><td style = \"text-align: left;\">South America</td><td style = \"text-align: left;\">3,234</td><td style = \"text-align: left;\">3,377</td><td style = \"text-align: left;\">+4.42%</td><td style = \"text-align: left;\">3234</td><td style = \"text-align: left;\">3377</td><td style = \"text-align: right;\">3234</td><td style = \"text-align: right;\">3377</td></tr><tr><td class = \"rowNumber\" style = \"font-weight: bold; text-align: right;\">231</td><td style = \"text-align: right;\">231</td><td style = \"text-align: left;\">Niue (New Zealand)</td><td style = \"text-align: left;\">Oceania</td><td style = \"text-align: left;\">Polynesia</td><td style = \"text-align: left;\">1,620</td><td style = \"text-align: left;\">1,615</td><td style = \"text-align: left;\">−0.31%</td><td style = \"text-align: left;\">1620</td><td style = \"text-align: left;\">1615</td><td style = \"text-align: right;\">1620</td><td style = \"text-align: right;\">1615</td></tr><tr><td class = \"rowNumber\" style = \"font-weight: bold; text-align: right;\">232</td><td style = \"text-align: right;\">232</td><td style = \"text-align: left;\">Tokelau (New Zealand)</td><td style = \"text-align: left;\">Oceania</td><td style = \"text-align: left;\">Polynesia</td><td style = \"text-align: left;\">1,319</td><td style = \"text-align: left;\">1,340</td><td style = \"text-align: left;\">+1.59%</td><td style = \"text-align: left;\">1319</td><td style = \"text-align: left;\">1340</td><td style = \"text-align: right;\">1319</td><td style = \"text-align: right;\">1340</td></tr><tr><td class = \"rowNumber\" style = \"font-weight: bold; text-align: right;\">233</td><td style = \"text-align: right;\">233</td><td style = \"text-align: left;\">Vatican City</td><td style = \"text-align: left;\">Europe</td><td style = \"text-align: left;\">Southern Europe</td><td style = \"text-align: left;\">801</td><td style = \"text-align: left;\">799</td><td style = \"text-align: left;\">−0.25%</td><td style = \"text-align: left;\">801</td><td style = \"text-align: left;\">799</td><td style = \"text-align: right;\">801</td><td style = \"text-align: right;\">799</td></tr><tr><td class = \"rowNumber\" style = \"font-weight: bold; text-align: right;\">234</td><td style = \"text-align: right;\">234</td><td style = \"text-align: left;\">World</td><td style = \"font-style: italic; text-align: left;\">missing</td><td style = \"font-style: italic; text-align: left;\">missing</td><td style = \"text-align: left;\">7,631,091,040</td><td style = \"text-align: left;\">7,713,468,100</td><td style = \"text-align: left;\">+1.08%</td><td style = \"text-align: left;\">7631091040</td><td style = \"text-align: left;\">7713468100</td><td style = \"text-align: right;\">7631091040</td><td style = \"text-align: right;\">7713468100</td></tr></tbody></table></div>"
      ],
      "text/latex": [
       "\\begin{tabular}{r|ccccccc}\n",
       "\t& id & Country & Region & Subregion & Pop18 & Pop19 & \\\\\n",
       "\t\\hline\n",
       "\t& Int64 & String & String15? & String31? & String15 & String15 & \\\\\n",
       "\t\\hline\n",
       "\t1 & 1 & China & Asia & Eastern Asia & 1,427,647,786 & 1,433,783,686 & $\\dots$ \\\\\n",
       "\t2 & 2 & India & Asia & Southern Asia & 1,352,642,280 & 1,366,417,754 & $\\dots$ \\\\\n",
       "\t3 & 3 & United States & Americas & Northern America & 327,096,265 & 329,064,917 & $\\dots$ \\\\\n",
       "\t4 & 4 & Indonesia & Asia & South-eastern Asia & 267,670,543 & 270,625,568 & $\\dots$ \\\\\n",
       "\t5 & 5 & Pakistan & Asia & Southern Asia & 212,228,286 & 216,565,318 & $\\dots$ \\\\\n",
       "\t6 & 6 & Brazil & Americas & South America & 209,469,323 & 211,049,527 & $\\dots$ \\\\\n",
       "\t7 & 7 & Nigeria & Africa & Western Africa & 195,874,683 & 200,963,599 & $\\dots$ \\\\\n",
       "\t8 & 8 & Bangladesh & Asia & Southern Asia & 161,376,708 & 163,046,161 & $\\dots$ \\\\\n",
       "\t9 & 9 & Russia & Europe & Eastern Europe & 145,734,038 & 145,872,256 & $\\dots$ \\\\\n",
       "\t10 & 10 & Mexico & Americas & Central America & 126,190,788 & 127,575,529 & $\\dots$ \\\\\n",
       "\t11 & 11 & Japan & Asia & Eastern Asia & 127,202,192 & 126,860,301 & $\\dots$ \\\\\n",
       "\t12 & 12 & Ethiopia & Africa & Eastern Africa & 109,224,414 & 112,078,730 & $\\dots$ \\\\\n",
       "\t13 & 13 & Philippines & Asia & South-eastern Asia & 106,651,394 & 108,116,615 & $\\dots$ \\\\\n",
       "\t14 & 14 & Egypt & Africa & Northern Africa & 98,423,598 & 100,388,073 & $\\dots$ \\\\\n",
       "\t15 & 15 & Vietnam & Asia & South-eastern Asia & 95,545,962 & 96,462,106 & $\\dots$ \\\\\n",
       "\t16 & 16 & DR Congo & Africa & Middle Africa & 84,068,091 & 86,790,567 & $\\dots$ \\\\\n",
       "\t17 & 17 & Germany & Europe & Western Europe & 83,124,418 & 83,517,045 & $\\dots$ \\\\\n",
       "\t18 & 18 & Turkey & Asia & Western Asia & 82,340,088 & 83,429,615 & $\\dots$ \\\\\n",
       "\t19 & 19 & Iran & Asia & Southern Asia & 81,800,188 & 82,913,906 & $\\dots$ \\\\\n",
       "\t20 & 20 & Thailand & Asia & South-eastern Asia & 68,863,514 & 69,037,513 & $\\dots$ \\\\\n",
       "\t21 & 21 & United Kingdom & Europe & Northern Europe & 67,141,684 & 67,530,172 & $\\dots$ \\\\\n",
       "\t22 & 22 & France & Europe & Western Europe & 64,990,511 & 65,129,728 & $\\dots$ \\\\\n",
       "\t23 & 23 & Italy & Europe & Southern Europe & 60,627,291 & 60,550,075 & $\\dots$ \\\\\n",
       "\t24 & 24 & South Africa & Africa & Southern Africa & 57,792,518 & 58,558,270 & $\\dots$ \\\\\n",
       "\t$\\dots$ & $\\dots$ & $\\dots$ & $\\dots$ & $\\dots$ & $\\dots$ & $\\dots$ &  \\\\\n",
       "\\end{tabular}\n"
      ],
      "text/plain": [
       "\u001b[1m234×11 DataFrame\u001b[0m\n",
       "\u001b[1m Row \u001b[0m│\u001b[1m id    \u001b[0m\u001b[1m Country                           \u001b[0m\u001b[1m Region    \u001b[0m\u001b[1m Subregion         \u001b[0m ⋯\n",
       "     │\u001b[90m Int64 \u001b[0m\u001b[90m String                            \u001b[0m\u001b[90m String15? \u001b[0m\u001b[90m String31?         \u001b[0m ⋯\n",
       "─────┼──────────────────────────────────────────────────────────────────────────\n",
       "   1 │     1  China                              Asia       Eastern Asia       ⋯\n",
       "   2 │     2  India                              Asia       Southern Asia\n",
       "   3 │     3  United States                      Americas   Northern America\n",
       "   4 │     4  Indonesia                          Asia       South-eastern Asia\n",
       "   5 │     5  Pakistan                           Asia       Southern Asia      ⋯\n",
       "   6 │     6  Brazil                             Americas   South America\n",
       "   7 │     7  Nigeria                            Africa     Western Africa\n",
       "   8 │     8  Bangladesh                         Asia       Southern Asia\n",
       "  ⋮  │   ⋮                    ⋮                      ⋮              ⋮          ⋱\n",
       " 228 │   228  Saint Pierre and Miquelon (Franc…  Americas   Northern America   ⋯\n",
       " 229 │   229  Montserrat (United Kingdom)        Americas   Caribbean\n",
       " 230 │   230  Falkland Islands (United Kingdom)  Americas   South America\n",
       " 231 │   231  Niue (New Zealand)                 Oceania    Polynesia\n",
       " 232 │   232  Tokelau (New Zealand)              Oceania    Polynesia          ⋯\n",
       " 233 │   233  Vatican City                       Europe     Southern Europe\n",
       " 234 │   234  World                             \u001b[90m missing   \u001b[0m\u001b[90m missing           \u001b[0m\n",
       "\u001b[36m                                                  7 columns and 219 rows omitted\u001b[0m"
      ]
     },
     "metadata": {},
     "output_type": "display_data"
    }
   ],
   "source": [
    "population_df.Pop18nocomma = replace.(population_df.Pop18, \",\"  => \"\")\n",
    "population_df.Pop19nocomma = replace.(population_df.Pop19, \",\" => \"\")\n",
    "\n",
    "population_df.Pop18Int = parse.(Int, population_df.Pop18nocomma)\n",
    "population_df.Pop19Int = parse.(Int, population_df.Pop19nocomma)\n",
    "\n",
    "population_df"
   ]
  },
  {
   "cell_type": "code",
   "execution_count": 185,
   "metadata": {},
   "outputs": [
    {
     "data": {
      "text/html": [
       "<div><div style = \"float: left;\"><span>234×13 DataFrame</span></div><div style = \"float: right;\"><span style = \"font-style: italic;\">224 rows omitted</span></div><div style = \"clear: both;\"></div></div><div class = \"data-frame\" style = \"overflow-x: scroll;\"><table class = \"data-frame\" style = \"margin-bottom: 6px;\"><thead><tr class = \"header\"><th class = \"rowNumber\" style = \"font-weight: bold; text-align: right;\">Row</th><th style = \"text-align: left;\">id</th><th style = \"text-align: left;\">Country</th><th style = \"text-align: left;\">Region</th><th style = \"text-align: left;\">Subregion</th><th style = \"text-align: left;\">Pop18</th><th style = \"text-align: left;\">Pop19</th><th style = \"text-align: left;\">Change</th><th style = \"text-align: left;\">Pop18nocomma</th><th style = \"text-align: left;\">Pop19nocomma</th><th style = \"text-align: left;\">Pop18Int</th><th style = \"text-align: left;\">Pop19Int</th><th style = \"text-align: left;\">my18</th><th style = \"text-align: left;\">my19</th></tr><tr class = \"subheader headerLastRow\"><th class = \"rowNumber\" style = \"font-weight: bold; text-align: right;\"></th><th title = \"Int64\" style = \"text-align: left;\">Int64</th><th title = \"String\" style = \"text-align: left;\">String</th><th title = \"Union{Missing, String15}\" style = \"text-align: left;\">String15?</th><th title = \"Union{Missing, String31}\" style = \"text-align: left;\">String31?</th><th title = \"String15\" style = \"text-align: left;\">String15</th><th title = \"String15\" style = \"text-align: left;\">String15</th><th title = \"String15\" style = \"text-align: left;\">String15</th><th title = \"String\" style = \"text-align: left;\">String</th><th title = \"String\" style = \"text-align: left;\">String</th><th title = \"Int64\" style = \"text-align: left;\">Int64</th><th title = \"Int64\" style = \"text-align: left;\">Int64</th><th title = \"Float64\" style = \"text-align: left;\">Float64</th><th title = \"Float64\" style = \"text-align: left;\">Float64</th></tr></thead><tbody><tr><td class = \"rowNumber\" style = \"font-weight: bold; text-align: right;\">1</td><td style = \"text-align: right;\">1</td><td style = \"text-align: left;\">China</td><td style = \"text-align: left;\">Asia</td><td style = \"text-align: left;\">Eastern Asia</td><td style = \"text-align: left;\">1,427,647,786</td><td style = \"text-align: left;\">1,433,783,686</td><td style = \"text-align: left;\">+0.43%</td><td style = \"text-align: left;\">1427647786</td><td style = \"text-align: left;\">1433783686</td><td style = \"text-align: right;\">1427647786</td><td style = \"text-align: right;\">1433783686</td><td style = \"text-align: right;\">1427.65</td><td style = \"text-align: right;\">1433.78</td></tr><tr><td class = \"rowNumber\" style = \"font-weight: bold; text-align: right;\">2</td><td style = \"text-align: right;\">2</td><td style = \"text-align: left;\">India</td><td style = \"text-align: left;\">Asia</td><td style = \"text-align: left;\">Southern Asia</td><td style = \"text-align: left;\">1,352,642,280</td><td style = \"text-align: left;\">1,366,417,754</td><td style = \"text-align: left;\">+1.02%</td><td style = \"text-align: left;\">1352642280</td><td style = \"text-align: left;\">1366417754</td><td style = \"text-align: right;\">1352642280</td><td style = \"text-align: right;\">1366417754</td><td style = \"text-align: right;\">1352.64</td><td style = \"text-align: right;\">1366.42</td></tr><tr><td class = \"rowNumber\" style = \"font-weight: bold; text-align: right;\">3</td><td style = \"text-align: right;\">3</td><td style = \"text-align: left;\">United States</td><td style = \"text-align: left;\">Americas</td><td style = \"text-align: left;\">Northern America</td><td style = \"text-align: left;\">327,096,265</td><td style = \"text-align: left;\">329,064,917</td><td style = \"text-align: left;\">+0.60%</td><td style = \"text-align: left;\">327096265</td><td style = \"text-align: left;\">329064917</td><td style = \"text-align: right;\">327096265</td><td style = \"text-align: right;\">329064917</td><td style = \"text-align: right;\">327.096</td><td style = \"text-align: right;\">329.065</td></tr><tr><td class = \"rowNumber\" style = \"font-weight: bold; text-align: right;\">4</td><td style = \"text-align: right;\">4</td><td style = \"text-align: left;\">Indonesia</td><td style = \"text-align: left;\">Asia</td><td style = \"text-align: left;\">South-eastern Asia</td><td style = \"text-align: left;\">267,670,543</td><td style = \"text-align: left;\">270,625,568</td><td style = \"text-align: left;\">+1.10%</td><td style = \"text-align: left;\">267670543</td><td style = \"text-align: left;\">270625568</td><td style = \"text-align: right;\">267670543</td><td style = \"text-align: right;\">270625568</td><td style = \"text-align: right;\">267.671</td><td style = \"text-align: right;\">270.626</td></tr><tr><td class = \"rowNumber\" style = \"font-weight: bold; text-align: right;\">5</td><td style = \"text-align: right;\">5</td><td style = \"text-align: left;\">Pakistan</td><td style = \"text-align: left;\">Asia</td><td style = \"text-align: left;\">Southern Asia</td><td style = \"text-align: left;\">212,228,286</td><td style = \"text-align: left;\">216,565,318</td><td style = \"text-align: left;\">+2.04%</td><td style = \"text-align: left;\">212228286</td><td style = \"text-align: left;\">216565318</td><td style = \"text-align: right;\">212228286</td><td style = \"text-align: right;\">216565318</td><td style = \"text-align: right;\">212.228</td><td style = \"text-align: right;\">216.565</td></tr><tr><td style = \"text-align: right;\">&vellip;</td><td style = \"text-align: right;\">&vellip;</td><td style = \"text-align: right;\">&vellip;</td><td style = \"text-align: right;\">&vellip;</td><td style = \"text-align: right;\">&vellip;</td><td style = \"text-align: right;\">&vellip;</td><td style = \"text-align: right;\">&vellip;</td><td style = \"text-align: right;\">&vellip;</td><td style = \"text-align: right;\">&vellip;</td><td style = \"text-align: right;\">&vellip;</td><td style = \"text-align: right;\">&vellip;</td><td style = \"text-align: right;\">&vellip;</td><td style = \"text-align: right;\">&vellip;</td><td style = \"text-align: right;\">&vellip;</td></tr><tr><td class = \"rowNumber\" style = \"font-weight: bold; text-align: right;\">230</td><td style = \"text-align: right;\">230</td><td style = \"text-align: left;\">Falkland Islands (United Kingdom)</td><td style = \"text-align: left;\">Americas</td><td style = \"text-align: left;\">South America</td><td style = \"text-align: left;\">3,234</td><td style = \"text-align: left;\">3,377</td><td style = \"text-align: left;\">+4.42%</td><td style = \"text-align: left;\">3234</td><td style = \"text-align: left;\">3377</td><td style = \"text-align: right;\">3234</td><td style = \"text-align: right;\">3377</td><td style = \"text-align: right;\">0.003</td><td style = \"text-align: right;\">0.003</td></tr><tr><td class = \"rowNumber\" style = \"font-weight: bold; text-align: right;\">231</td><td style = \"text-align: right;\">231</td><td style = \"text-align: left;\">Niue (New Zealand)</td><td style = \"text-align: left;\">Oceania</td><td style = \"text-align: left;\">Polynesia</td><td style = \"text-align: left;\">1,620</td><td style = \"text-align: left;\">1,615</td><td style = \"text-align: left;\">−0.31%</td><td style = \"text-align: left;\">1620</td><td style = \"text-align: left;\">1615</td><td style = \"text-align: right;\">1620</td><td style = \"text-align: right;\">1615</td><td style = \"text-align: right;\">0.002</td><td style = \"text-align: right;\">0.002</td></tr><tr><td class = \"rowNumber\" style = \"font-weight: bold; text-align: right;\">232</td><td style = \"text-align: right;\">232</td><td style = \"text-align: left;\">Tokelau (New Zealand)</td><td style = \"text-align: left;\">Oceania</td><td style = \"text-align: left;\">Polynesia</td><td style = \"text-align: left;\">1,319</td><td style = \"text-align: left;\">1,340</td><td style = \"text-align: left;\">+1.59%</td><td style = \"text-align: left;\">1319</td><td style = \"text-align: left;\">1340</td><td style = \"text-align: right;\">1319</td><td style = \"text-align: right;\">1340</td><td style = \"text-align: right;\">0.001</td><td style = \"text-align: right;\">0.001</td></tr><tr><td class = \"rowNumber\" style = \"font-weight: bold; text-align: right;\">233</td><td style = \"text-align: right;\">233</td><td style = \"text-align: left;\">Vatican City</td><td style = \"text-align: left;\">Europe</td><td style = \"text-align: left;\">Southern Europe</td><td style = \"text-align: left;\">801</td><td style = \"text-align: left;\">799</td><td style = \"text-align: left;\">−0.25%</td><td style = \"text-align: left;\">801</td><td style = \"text-align: left;\">799</td><td style = \"text-align: right;\">801</td><td style = \"text-align: right;\">799</td><td style = \"text-align: right;\">0.001</td><td style = \"text-align: right;\">0.001</td></tr><tr><td class = \"rowNumber\" style = \"font-weight: bold; text-align: right;\">234</td><td style = \"text-align: right;\">234</td><td style = \"text-align: left;\">World</td><td style = \"font-style: italic; text-align: left;\">missing</td><td style = \"font-style: italic; text-align: left;\">missing</td><td style = \"text-align: left;\">7,631,091,040</td><td style = \"text-align: left;\">7,713,468,100</td><td style = \"text-align: left;\">+1.08%</td><td style = \"text-align: left;\">7631091040</td><td style = \"text-align: left;\">7713468100</td><td style = \"text-align: right;\">7631091040</td><td style = \"text-align: right;\">7713468100</td><td style = \"text-align: right;\">7631.09</td><td style = \"text-align: right;\">7713.47</td></tr></tbody></table></div>"
      ],
      "text/latex": [
       "\\begin{tabular}{r|ccccccc}\n",
       "\t& id & Country & Region & Subregion & Pop18 & Pop19 & \\\\\n",
       "\t\\hline\n",
       "\t& Int64 & String & String15? & String31? & String15 & String15 & \\\\\n",
       "\t\\hline\n",
       "\t1 & 1 & China & Asia & Eastern Asia & 1,427,647,786 & 1,433,783,686 & $\\dots$ \\\\\n",
       "\t2 & 2 & India & Asia & Southern Asia & 1,352,642,280 & 1,366,417,754 & $\\dots$ \\\\\n",
       "\t3 & 3 & United States & Americas & Northern America & 327,096,265 & 329,064,917 & $\\dots$ \\\\\n",
       "\t4 & 4 & Indonesia & Asia & South-eastern Asia & 267,670,543 & 270,625,568 & $\\dots$ \\\\\n",
       "\t5 & 5 & Pakistan & Asia & Southern Asia & 212,228,286 & 216,565,318 & $\\dots$ \\\\\n",
       "\t6 & 6 & Brazil & Americas & South America & 209,469,323 & 211,049,527 & $\\dots$ \\\\\n",
       "\t7 & 7 & Nigeria & Africa & Western Africa & 195,874,683 & 200,963,599 & $\\dots$ \\\\\n",
       "\t8 & 8 & Bangladesh & Asia & Southern Asia & 161,376,708 & 163,046,161 & $\\dots$ \\\\\n",
       "\t9 & 9 & Russia & Europe & Eastern Europe & 145,734,038 & 145,872,256 & $\\dots$ \\\\\n",
       "\t10 & 10 & Mexico & Americas & Central America & 126,190,788 & 127,575,529 & $\\dots$ \\\\\n",
       "\t11 & 11 & Japan & Asia & Eastern Asia & 127,202,192 & 126,860,301 & $\\dots$ \\\\\n",
       "\t12 & 12 & Ethiopia & Africa & Eastern Africa & 109,224,414 & 112,078,730 & $\\dots$ \\\\\n",
       "\t13 & 13 & Philippines & Asia & South-eastern Asia & 106,651,394 & 108,116,615 & $\\dots$ \\\\\n",
       "\t14 & 14 & Egypt & Africa & Northern Africa & 98,423,598 & 100,388,073 & $\\dots$ \\\\\n",
       "\t15 & 15 & Vietnam & Asia & South-eastern Asia & 95,545,962 & 96,462,106 & $\\dots$ \\\\\n",
       "\t16 & 16 & DR Congo & Africa & Middle Africa & 84,068,091 & 86,790,567 & $\\dots$ \\\\\n",
       "\t17 & 17 & Germany & Europe & Western Europe & 83,124,418 & 83,517,045 & $\\dots$ \\\\\n",
       "\t18 & 18 & Turkey & Asia & Western Asia & 82,340,088 & 83,429,615 & $\\dots$ \\\\\n",
       "\t19 & 19 & Iran & Asia & Southern Asia & 81,800,188 & 82,913,906 & $\\dots$ \\\\\n",
       "\t20 & 20 & Thailand & Asia & South-eastern Asia & 68,863,514 & 69,037,513 & $\\dots$ \\\\\n",
       "\t21 & 21 & United Kingdom & Europe & Northern Europe & 67,141,684 & 67,530,172 & $\\dots$ \\\\\n",
       "\t22 & 22 & France & Europe & Western Europe & 64,990,511 & 65,129,728 & $\\dots$ \\\\\n",
       "\t23 & 23 & Italy & Europe & Southern Europe & 60,627,291 & 60,550,075 & $\\dots$ \\\\\n",
       "\t24 & 24 & South Africa & Africa & Southern Africa & 57,792,518 & 58,558,270 & $\\dots$ \\\\\n",
       "\t$\\dots$ & $\\dots$ & $\\dots$ & $\\dots$ & $\\dots$ & $\\dots$ & $\\dots$ &  \\\\\n",
       "\\end{tabular}\n"
      ],
      "text/plain": [
       "\u001b[1m234×13 DataFrame\u001b[0m\n",
       "\u001b[1m Row \u001b[0m│\u001b[1m id    \u001b[0m\u001b[1m Country                           \u001b[0m\u001b[1m Region    \u001b[0m\u001b[1m Subregion         \u001b[0m ⋯\n",
       "     │\u001b[90m Int64 \u001b[0m\u001b[90m String                            \u001b[0m\u001b[90m String15? \u001b[0m\u001b[90m String31?         \u001b[0m ⋯\n",
       "─────┼──────────────────────────────────────────────────────────────────────────\n",
       "   1 │     1  China                              Asia       Eastern Asia       ⋯\n",
       "   2 │     2  India                              Asia       Southern Asia\n",
       "   3 │     3  United States                      Americas   Northern America\n",
       "   4 │     4  Indonesia                          Asia       South-eastern Asia\n",
       "   5 │     5  Pakistan                           Asia       Southern Asia      ⋯\n",
       "   6 │     6  Brazil                             Americas   South America\n",
       "   7 │     7  Nigeria                            Africa     Western Africa\n",
       "   8 │     8  Bangladesh                         Asia       Southern Asia\n",
       "  ⋮  │   ⋮                    ⋮                      ⋮              ⋮          ⋱\n",
       " 228 │   228  Saint Pierre and Miquelon (Franc…  Americas   Northern America   ⋯\n",
       " 229 │   229  Montserrat (United Kingdom)        Americas   Caribbean\n",
       " 230 │   230  Falkland Islands (United Kingdom)  Americas   South America\n",
       " 231 │   231  Niue (New Zealand)                 Oceania    Polynesia\n",
       " 232 │   232  Tokelau (New Zealand)              Oceania    Polynesia          ⋯\n",
       " 233 │   233  Vatican City                       Europe     Southern Europe\n",
       " 234 │   234  World                             \u001b[90m missing   \u001b[0m\u001b[90m missing           \u001b[0m\n",
       "\u001b[36m                                                  9 columns and 219 rows omitted\u001b[0m"
      ]
     },
     "metadata": {},
     "output_type": "display_data"
    }
   ],
   "source": [
    "population_df.my18 = round.(population_df.Pop18Int ./ 10^6, digits = 3)\n",
    "population_df.my19 = round.(population_df.Pop19Int ./ 10^6, digits = 3)\n",
    "\n",
    "population_df"
   ]
  },
  {
   "cell_type": "code",
   "execution_count": 186,
   "metadata": {},
   "outputs": [
    {
     "data": {
      "text/html": [
       "<div><div style = \"float: left;\"><span>234×15 DataFrame</span></div><div style = \"float: right;\"><span style = \"font-style: italic;\">224 rows omitted</span></div><div style = \"clear: both;\"></div></div><div class = \"data-frame\" style = \"overflow-x: scroll;\"><table class = \"data-frame\" style = \"margin-bottom: 6px;\"><thead><tr class = \"header\"><th class = \"rowNumber\" style = \"font-weight: bold; text-align: right;\">Row</th><th style = \"text-align: left;\">id</th><th style = \"text-align: left;\">Country</th><th style = \"text-align: left;\">Region</th><th style = \"text-align: left;\">Subregion</th><th style = \"text-align: left;\">Pop18</th><th style = \"text-align: left;\">Pop19</th><th style = \"text-align: left;\">Change</th><th style = \"text-align: left;\">Pop18nocomma</th><th style = \"text-align: left;\">Pop19nocomma</th><th style = \"text-align: left;\">Pop18Int</th><th style = \"text-align: left;\">Pop19Int</th><th style = \"text-align: left;\">my18</th><th style = \"text-align: left;\">my19</th><th style = \"text-align: left;\">mydelta</th><th style = \"text-align: left;\">mypct</th></tr><tr class = \"subheader headerLastRow\"><th class = \"rowNumber\" style = \"font-weight: bold; text-align: right;\"></th><th title = \"Int64\" style = \"text-align: left;\">Int64</th><th title = \"String\" style = \"text-align: left;\">String</th><th title = \"Union{Missing, String15}\" style = \"text-align: left;\">String15?</th><th title = \"Union{Missing, String31}\" style = \"text-align: left;\">String31?</th><th title = \"String15\" style = \"text-align: left;\">String15</th><th title = \"String15\" style = \"text-align: left;\">String15</th><th title = \"String15\" style = \"text-align: left;\">String15</th><th title = \"String\" style = \"text-align: left;\">String</th><th title = \"String\" style = \"text-align: left;\">String</th><th title = \"Int64\" style = \"text-align: left;\">Int64</th><th title = \"Int64\" style = \"text-align: left;\">Int64</th><th title = \"Float64\" style = \"text-align: left;\">Float64</th><th title = \"Float64\" style = \"text-align: left;\">Float64</th><th title = \"Float64\" style = \"text-align: left;\">Float64</th><th title = \"Float64\" style = \"text-align: left;\">Float64</th></tr></thead><tbody><tr><td class = \"rowNumber\" style = \"font-weight: bold; text-align: right;\">1</td><td style = \"text-align: right;\">1</td><td style = \"text-align: left;\">China</td><td style = \"text-align: left;\">Asia</td><td style = \"text-align: left;\">Eastern Asia</td><td style = \"text-align: left;\">1,427,647,786</td><td style = \"text-align: left;\">1,433,783,686</td><td style = \"text-align: left;\">+0.43%</td><td style = \"text-align: left;\">1427647786</td><td style = \"text-align: left;\">1433783686</td><td style = \"text-align: right;\">1427647786</td><td style = \"text-align: right;\">1433783686</td><td style = \"text-align: right;\">1427.65</td><td style = \"text-align: right;\">1433.78</td><td style = \"text-align: right;\">6.136</td><td style = \"text-align: right;\">0.43</td></tr><tr><td class = \"rowNumber\" style = \"font-weight: bold; text-align: right;\">2</td><td style = \"text-align: right;\">2</td><td style = \"text-align: left;\">India</td><td style = \"text-align: left;\">Asia</td><td style = \"text-align: left;\">Southern Asia</td><td style = \"text-align: left;\">1,352,642,280</td><td style = \"text-align: left;\">1,366,417,754</td><td style = \"text-align: left;\">+1.02%</td><td style = \"text-align: left;\">1352642280</td><td style = \"text-align: left;\">1366417754</td><td style = \"text-align: right;\">1352642280</td><td style = \"text-align: right;\">1366417754</td><td style = \"text-align: right;\">1352.64</td><td style = \"text-align: right;\">1366.42</td><td style = \"text-align: right;\">13.776</td><td style = \"text-align: right;\">1.02</td></tr><tr><td class = \"rowNumber\" style = \"font-weight: bold; text-align: right;\">3</td><td style = \"text-align: right;\">3</td><td style = \"text-align: left;\">United States</td><td style = \"text-align: left;\">Americas</td><td style = \"text-align: left;\">Northern America</td><td style = \"text-align: left;\">327,096,265</td><td style = \"text-align: left;\">329,064,917</td><td style = \"text-align: left;\">+0.60%</td><td style = \"text-align: left;\">327096265</td><td style = \"text-align: left;\">329064917</td><td style = \"text-align: right;\">327096265</td><td style = \"text-align: right;\">329064917</td><td style = \"text-align: right;\">327.096</td><td style = \"text-align: right;\">329.065</td><td style = \"text-align: right;\">1.969</td><td style = \"text-align: right;\">0.6</td></tr><tr><td class = \"rowNumber\" style = \"font-weight: bold; text-align: right;\">4</td><td style = \"text-align: right;\">4</td><td style = \"text-align: left;\">Indonesia</td><td style = \"text-align: left;\">Asia</td><td style = \"text-align: left;\">South-eastern Asia</td><td style = \"text-align: left;\">267,670,543</td><td style = \"text-align: left;\">270,625,568</td><td style = \"text-align: left;\">+1.10%</td><td style = \"text-align: left;\">267670543</td><td style = \"text-align: left;\">270625568</td><td style = \"text-align: right;\">267670543</td><td style = \"text-align: right;\">270625568</td><td style = \"text-align: right;\">267.671</td><td style = \"text-align: right;\">270.626</td><td style = \"text-align: right;\">2.955</td><td style = \"text-align: right;\">1.1</td></tr><tr><td class = \"rowNumber\" style = \"font-weight: bold; text-align: right;\">5</td><td style = \"text-align: right;\">5</td><td style = \"text-align: left;\">Pakistan</td><td style = \"text-align: left;\">Asia</td><td style = \"text-align: left;\">Southern Asia</td><td style = \"text-align: left;\">212,228,286</td><td style = \"text-align: left;\">216,565,318</td><td style = \"text-align: left;\">+2.04%</td><td style = \"text-align: left;\">212228286</td><td style = \"text-align: left;\">216565318</td><td style = \"text-align: right;\">212228286</td><td style = \"text-align: right;\">216565318</td><td style = \"text-align: right;\">212.228</td><td style = \"text-align: right;\">216.565</td><td style = \"text-align: right;\">4.337</td><td style = \"text-align: right;\">2.04</td></tr><tr><td style = \"text-align: right;\">&vellip;</td><td style = \"text-align: right;\">&vellip;</td><td style = \"text-align: right;\">&vellip;</td><td style = \"text-align: right;\">&vellip;</td><td style = \"text-align: right;\">&vellip;</td><td style = \"text-align: right;\">&vellip;</td><td style = \"text-align: right;\">&vellip;</td><td style = \"text-align: right;\">&vellip;</td><td style = \"text-align: right;\">&vellip;</td><td style = \"text-align: right;\">&vellip;</td><td style = \"text-align: right;\">&vellip;</td><td style = \"text-align: right;\">&vellip;</td><td style = \"text-align: right;\">&vellip;</td><td style = \"text-align: right;\">&vellip;</td><td style = \"text-align: right;\">&vellip;</td><td style = \"text-align: right;\">&vellip;</td></tr><tr><td class = \"rowNumber\" style = \"font-weight: bold; text-align: right;\">230</td><td style = \"text-align: right;\">230</td><td style = \"text-align: left;\">Falkland Islands (United Kingdom)</td><td style = \"text-align: left;\">Americas</td><td style = \"text-align: left;\">South America</td><td style = \"text-align: left;\">3,234</td><td style = \"text-align: left;\">3,377</td><td style = \"text-align: left;\">+4.42%</td><td style = \"text-align: left;\">3234</td><td style = \"text-align: left;\">3377</td><td style = \"text-align: right;\">3234</td><td style = \"text-align: right;\">3377</td><td style = \"text-align: right;\">0.003</td><td style = \"text-align: right;\">0.003</td><td style = \"text-align: right;\">0.0</td><td style = \"text-align: right;\">0.0</td></tr><tr><td class = \"rowNumber\" style = \"font-weight: bold; text-align: right;\">231</td><td style = \"text-align: right;\">231</td><td style = \"text-align: left;\">Niue (New Zealand)</td><td style = \"text-align: left;\">Oceania</td><td style = \"text-align: left;\">Polynesia</td><td style = \"text-align: left;\">1,620</td><td style = \"text-align: left;\">1,615</td><td style = \"text-align: left;\">−0.31%</td><td style = \"text-align: left;\">1620</td><td style = \"text-align: left;\">1615</td><td style = \"text-align: right;\">1620</td><td style = \"text-align: right;\">1615</td><td style = \"text-align: right;\">0.002</td><td style = \"text-align: right;\">0.002</td><td style = \"text-align: right;\">0.0</td><td style = \"text-align: right;\">0.0</td></tr><tr><td class = \"rowNumber\" style = \"font-weight: bold; text-align: right;\">232</td><td style = \"text-align: right;\">232</td><td style = \"text-align: left;\">Tokelau (New Zealand)</td><td style = \"text-align: left;\">Oceania</td><td style = \"text-align: left;\">Polynesia</td><td style = \"text-align: left;\">1,319</td><td style = \"text-align: left;\">1,340</td><td style = \"text-align: left;\">+1.59%</td><td style = \"text-align: left;\">1319</td><td style = \"text-align: left;\">1340</td><td style = \"text-align: right;\">1319</td><td style = \"text-align: right;\">1340</td><td style = \"text-align: right;\">0.001</td><td style = \"text-align: right;\">0.001</td><td style = \"text-align: right;\">0.0</td><td style = \"text-align: right;\">0.0</td></tr><tr><td class = \"rowNumber\" style = \"font-weight: bold; text-align: right;\">233</td><td style = \"text-align: right;\">233</td><td style = \"text-align: left;\">Vatican City</td><td style = \"text-align: left;\">Europe</td><td style = \"text-align: left;\">Southern Europe</td><td style = \"text-align: left;\">801</td><td style = \"text-align: left;\">799</td><td style = \"text-align: left;\">−0.25%</td><td style = \"text-align: left;\">801</td><td style = \"text-align: left;\">799</td><td style = \"text-align: right;\">801</td><td style = \"text-align: right;\">799</td><td style = \"text-align: right;\">0.001</td><td style = \"text-align: right;\">0.001</td><td style = \"text-align: right;\">0.0</td><td style = \"text-align: right;\">0.0</td></tr><tr><td class = \"rowNumber\" style = \"font-weight: bold; text-align: right;\">234</td><td style = \"text-align: right;\">234</td><td style = \"text-align: left;\">World</td><td style = \"font-style: italic; text-align: left;\">missing</td><td style = \"font-style: italic; text-align: left;\">missing</td><td style = \"text-align: left;\">7,631,091,040</td><td style = \"text-align: left;\">7,713,468,100</td><td style = \"text-align: left;\">+1.08%</td><td style = \"text-align: left;\">7631091040</td><td style = \"text-align: left;\">7713468100</td><td style = \"text-align: right;\">7631091040</td><td style = \"text-align: right;\">7713468100</td><td style = \"text-align: right;\">7631.09</td><td style = \"text-align: right;\">7713.47</td><td style = \"text-align: right;\">82.377</td><td style = \"text-align: right;\">1.08</td></tr></tbody></table></div>"
      ],
      "text/latex": [
       "\\begin{tabular}{r|ccccccc}\n",
       "\t& id & Country & Region & Subregion & Pop18 & Pop19 & \\\\\n",
       "\t\\hline\n",
       "\t& Int64 & String & String15? & String31? & String15 & String15 & \\\\\n",
       "\t\\hline\n",
       "\t1 & 1 & China & Asia & Eastern Asia & 1,427,647,786 & 1,433,783,686 & $\\dots$ \\\\\n",
       "\t2 & 2 & India & Asia & Southern Asia & 1,352,642,280 & 1,366,417,754 & $\\dots$ \\\\\n",
       "\t3 & 3 & United States & Americas & Northern America & 327,096,265 & 329,064,917 & $\\dots$ \\\\\n",
       "\t4 & 4 & Indonesia & Asia & South-eastern Asia & 267,670,543 & 270,625,568 & $\\dots$ \\\\\n",
       "\t5 & 5 & Pakistan & Asia & Southern Asia & 212,228,286 & 216,565,318 & $\\dots$ \\\\\n",
       "\t6 & 6 & Brazil & Americas & South America & 209,469,323 & 211,049,527 & $\\dots$ \\\\\n",
       "\t7 & 7 & Nigeria & Africa & Western Africa & 195,874,683 & 200,963,599 & $\\dots$ \\\\\n",
       "\t8 & 8 & Bangladesh & Asia & Southern Asia & 161,376,708 & 163,046,161 & $\\dots$ \\\\\n",
       "\t9 & 9 & Russia & Europe & Eastern Europe & 145,734,038 & 145,872,256 & $\\dots$ \\\\\n",
       "\t10 & 10 & Mexico & Americas & Central America & 126,190,788 & 127,575,529 & $\\dots$ \\\\\n",
       "\t11 & 11 & Japan & Asia & Eastern Asia & 127,202,192 & 126,860,301 & $\\dots$ \\\\\n",
       "\t12 & 12 & Ethiopia & Africa & Eastern Africa & 109,224,414 & 112,078,730 & $\\dots$ \\\\\n",
       "\t13 & 13 & Philippines & Asia & South-eastern Asia & 106,651,394 & 108,116,615 & $\\dots$ \\\\\n",
       "\t14 & 14 & Egypt & Africa & Northern Africa & 98,423,598 & 100,388,073 & $\\dots$ \\\\\n",
       "\t15 & 15 & Vietnam & Asia & South-eastern Asia & 95,545,962 & 96,462,106 & $\\dots$ \\\\\n",
       "\t16 & 16 & DR Congo & Africa & Middle Africa & 84,068,091 & 86,790,567 & $\\dots$ \\\\\n",
       "\t17 & 17 & Germany & Europe & Western Europe & 83,124,418 & 83,517,045 & $\\dots$ \\\\\n",
       "\t18 & 18 & Turkey & Asia & Western Asia & 82,340,088 & 83,429,615 & $\\dots$ \\\\\n",
       "\t19 & 19 & Iran & Asia & Southern Asia & 81,800,188 & 82,913,906 & $\\dots$ \\\\\n",
       "\t20 & 20 & Thailand & Asia & South-eastern Asia & 68,863,514 & 69,037,513 & $\\dots$ \\\\\n",
       "\t21 & 21 & United Kingdom & Europe & Northern Europe & 67,141,684 & 67,530,172 & $\\dots$ \\\\\n",
       "\t22 & 22 & France & Europe & Western Europe & 64,990,511 & 65,129,728 & $\\dots$ \\\\\n",
       "\t23 & 23 & Italy & Europe & Southern Europe & 60,627,291 & 60,550,075 & $\\dots$ \\\\\n",
       "\t24 & 24 & South Africa & Africa & Southern Africa & 57,792,518 & 58,558,270 & $\\dots$ \\\\\n",
       "\t$\\dots$ & $\\dots$ & $\\dots$ & $\\dots$ & $\\dots$ & $\\dots$ & $\\dots$ &  \\\\\n",
       "\\end{tabular}\n"
      ],
      "text/plain": [
       "\u001b[1m234×15 DataFrame\u001b[0m\n",
       "\u001b[1m Row \u001b[0m│\u001b[1m id    \u001b[0m\u001b[1m Country                           \u001b[0m\u001b[1m Region    \u001b[0m\u001b[1m Subregion         \u001b[0m ⋯\n",
       "     │\u001b[90m Int64 \u001b[0m\u001b[90m String                            \u001b[0m\u001b[90m String15? \u001b[0m\u001b[90m String31?         \u001b[0m ⋯\n",
       "─────┼──────────────────────────────────────────────────────────────────────────\n",
       "   1 │     1  China                              Asia       Eastern Asia       ⋯\n",
       "   2 │     2  India                              Asia       Southern Asia\n",
       "   3 │     3  United States                      Americas   Northern America\n",
       "   4 │     4  Indonesia                          Asia       South-eastern Asia\n",
       "   5 │     5  Pakistan                           Asia       Southern Asia      ⋯\n",
       "   6 │     6  Brazil                             Americas   South America\n",
       "   7 │     7  Nigeria                            Africa     Western Africa\n",
       "   8 │     8  Bangladesh                         Asia       Southern Asia\n",
       "  ⋮  │   ⋮                    ⋮                      ⋮              ⋮          ⋱\n",
       " 228 │   228  Saint Pierre and Miquelon (Franc…  Americas   Northern America   ⋯\n",
       " 229 │   229  Montserrat (United Kingdom)        Americas   Caribbean\n",
       " 230 │   230  Falkland Islands (United Kingdom)  Americas   South America\n",
       " 231 │   231  Niue (New Zealand)                 Oceania    Polynesia\n",
       " 232 │   232  Tokelau (New Zealand)              Oceania    Polynesia          ⋯\n",
       " 233 │   233  Vatican City                       Europe     Southern Europe\n",
       " 234 │   234  World                             \u001b[90m missing   \u001b[0m\u001b[90m missing           \u001b[0m\n",
       "\u001b[36m                                                 11 columns and 219 rows omitted\u001b[0m"
      ]
     },
     "metadata": {},
     "output_type": "display_data"
    }
   ],
   "source": [
    "population_df.mydelta = round.(population_df.my19 .- population_df.my18, digits = 3)\n",
    "population_df.mypct = round.(\n",
    "    ((population_df.my19 .- population_df.my18)./population_df.my18) .* 100, digits = 2\n",
    "    )\n",
    "population_df"
   ]
  },
  {
   "cell_type": "code",
   "execution_count": 187,
   "metadata": {},
   "outputs": [
    {
     "data": {
      "text/html": [
       "<div><div style = \"float: left;\"><span>234×8 DataFrame</span></div><div style = \"float: right;\"><span style = \"font-style: italic;\">224 rows omitted</span></div><div style = \"clear: both;\"></div></div><div class = \"data-frame\" style = \"overflow-x: scroll;\"><table class = \"data-frame\" style = \"margin-bottom: 6px;\"><thead><tr class = \"header\"><th class = \"rowNumber\" style = \"font-weight: bold; text-align: right;\">Row</th><th style = \"text-align: left;\">id</th><th style = \"text-align: left;\">Region</th><th style = \"text-align: left;\">Subregion</th><th style = \"text-align: left;\">Country</th><th style = \"text-align: left;\">my18</th><th style = \"text-align: left;\">my19</th><th style = \"text-align: left;\">mydelta</th><th style = \"text-align: left;\">mypct</th></tr><tr class = \"subheader headerLastRow\"><th class = \"rowNumber\" style = \"font-weight: bold; text-align: right;\"></th><th title = \"Int64\" style = \"text-align: left;\">Int64</th><th title = \"Union{Missing, String15}\" style = \"text-align: left;\">String15?</th><th title = \"Union{Missing, String31}\" style = \"text-align: left;\">String31?</th><th title = \"String\" style = \"text-align: left;\">String</th><th title = \"Float64\" style = \"text-align: left;\">Float64</th><th title = \"Float64\" style = \"text-align: left;\">Float64</th><th title = \"Float64\" style = \"text-align: left;\">Float64</th><th title = \"Float64\" style = \"text-align: left;\">Float64</th></tr></thead><tbody><tr><td class = \"rowNumber\" style = \"font-weight: bold; text-align: right;\">1</td><td style = \"text-align: right;\">1</td><td style = \"text-align: left;\">Asia</td><td style = \"text-align: left;\">Eastern Asia</td><td style = \"text-align: left;\">China</td><td style = \"text-align: right;\">1427.65</td><td style = \"text-align: right;\">1433.78</td><td style = \"text-align: right;\">6.136</td><td style = \"text-align: right;\">0.43</td></tr><tr><td class = \"rowNumber\" style = \"font-weight: bold; text-align: right;\">2</td><td style = \"text-align: right;\">2</td><td style = \"text-align: left;\">Asia</td><td style = \"text-align: left;\">Southern Asia</td><td style = \"text-align: left;\">India</td><td style = \"text-align: right;\">1352.64</td><td style = \"text-align: right;\">1366.42</td><td style = \"text-align: right;\">13.776</td><td style = \"text-align: right;\">1.02</td></tr><tr><td class = \"rowNumber\" style = \"font-weight: bold; text-align: right;\">3</td><td style = \"text-align: right;\">3</td><td style = \"text-align: left;\">Americas</td><td style = \"text-align: left;\">Northern America</td><td style = \"text-align: left;\">United States</td><td style = \"text-align: right;\">327.096</td><td style = \"text-align: right;\">329.065</td><td style = \"text-align: right;\">1.969</td><td style = \"text-align: right;\">0.6</td></tr><tr><td class = \"rowNumber\" style = \"font-weight: bold; text-align: right;\">4</td><td style = \"text-align: right;\">4</td><td style = \"text-align: left;\">Asia</td><td style = \"text-align: left;\">South-eastern Asia</td><td style = \"text-align: left;\">Indonesia</td><td style = \"text-align: right;\">267.671</td><td style = \"text-align: right;\">270.626</td><td style = \"text-align: right;\">2.955</td><td style = \"text-align: right;\">1.1</td></tr><tr><td class = \"rowNumber\" style = \"font-weight: bold; text-align: right;\">5</td><td style = \"text-align: right;\">5</td><td style = \"text-align: left;\">Asia</td><td style = \"text-align: left;\">Southern Asia</td><td style = \"text-align: left;\">Pakistan</td><td style = \"text-align: right;\">212.228</td><td style = \"text-align: right;\">216.565</td><td style = \"text-align: right;\">4.337</td><td style = \"text-align: right;\">2.04</td></tr><tr><td style = \"text-align: right;\">&vellip;</td><td style = \"text-align: right;\">&vellip;</td><td style = \"text-align: right;\">&vellip;</td><td style = \"text-align: right;\">&vellip;</td><td style = \"text-align: right;\">&vellip;</td><td style = \"text-align: right;\">&vellip;</td><td style = \"text-align: right;\">&vellip;</td><td style = \"text-align: right;\">&vellip;</td><td style = \"text-align: right;\">&vellip;</td></tr><tr><td class = \"rowNumber\" style = \"font-weight: bold; text-align: right;\">230</td><td style = \"text-align: right;\">230</td><td style = \"text-align: left;\">Americas</td><td style = \"text-align: left;\">South America</td><td style = \"text-align: left;\">Falkland Islands (United Kingdom)</td><td style = \"text-align: right;\">0.003</td><td style = \"text-align: right;\">0.003</td><td style = \"text-align: right;\">0.0</td><td style = \"text-align: right;\">0.0</td></tr><tr><td class = \"rowNumber\" style = \"font-weight: bold; text-align: right;\">231</td><td style = \"text-align: right;\">231</td><td style = \"text-align: left;\">Oceania</td><td style = \"text-align: left;\">Polynesia</td><td style = \"text-align: left;\">Niue (New Zealand)</td><td style = \"text-align: right;\">0.002</td><td style = \"text-align: right;\">0.002</td><td style = \"text-align: right;\">0.0</td><td style = \"text-align: right;\">0.0</td></tr><tr><td class = \"rowNumber\" style = \"font-weight: bold; text-align: right;\">232</td><td style = \"text-align: right;\">232</td><td style = \"text-align: left;\">Oceania</td><td style = \"text-align: left;\">Polynesia</td><td style = \"text-align: left;\">Tokelau (New Zealand)</td><td style = \"text-align: right;\">0.001</td><td style = \"text-align: right;\">0.001</td><td style = \"text-align: right;\">0.0</td><td style = \"text-align: right;\">0.0</td></tr><tr><td class = \"rowNumber\" style = \"font-weight: bold; text-align: right;\">233</td><td style = \"text-align: right;\">233</td><td style = \"text-align: left;\">Europe</td><td style = \"text-align: left;\">Southern Europe</td><td style = \"text-align: left;\">Vatican City</td><td style = \"text-align: right;\">0.001</td><td style = \"text-align: right;\">0.001</td><td style = \"text-align: right;\">0.0</td><td style = \"text-align: right;\">0.0</td></tr><tr><td class = \"rowNumber\" style = \"font-weight: bold; text-align: right;\">234</td><td style = \"text-align: right;\">234</td><td style = \"font-style: italic; text-align: left;\">missing</td><td style = \"font-style: italic; text-align: left;\">missing</td><td style = \"text-align: left;\">World</td><td style = \"text-align: right;\">7631.09</td><td style = \"text-align: right;\">7713.47</td><td style = \"text-align: right;\">82.377</td><td style = \"text-align: right;\">1.08</td></tr></tbody></table></div>"
      ],
      "text/latex": [
       "\\begin{tabular}{r|cccccccc}\n",
       "\t& id & Region & Subregion & Country & my18 & my19 & mydelta & \\\\\n",
       "\t\\hline\n",
       "\t& Int64 & String15? & String31? & String & Float64 & Float64 & Float64 & \\\\\n",
       "\t\\hline\n",
       "\t1 & 1 & Asia & Eastern Asia & China & 1427.65 & 1433.78 & 6.136 & $\\dots$ \\\\\n",
       "\t2 & 2 & Asia & Southern Asia & India & 1352.64 & 1366.42 & 13.776 & $\\dots$ \\\\\n",
       "\t3 & 3 & Americas & Northern America & United States & 327.096 & 329.065 & 1.969 & $\\dots$ \\\\\n",
       "\t4 & 4 & Asia & South-eastern Asia & Indonesia & 267.671 & 270.626 & 2.955 & $\\dots$ \\\\\n",
       "\t5 & 5 & Asia & Southern Asia & Pakistan & 212.228 & 216.565 & 4.337 & $\\dots$ \\\\\n",
       "\t6 & 6 & Americas & South America & Brazil & 209.469 & 211.05 & 1.581 & $\\dots$ \\\\\n",
       "\t7 & 7 & Africa & Western Africa & Nigeria & 195.875 & 200.964 & 5.089 & $\\dots$ \\\\\n",
       "\t8 & 8 & Asia & Southern Asia & Bangladesh & 161.377 & 163.046 & 1.669 & $\\dots$ \\\\\n",
       "\t9 & 9 & Europe & Eastern Europe & Russia & 145.734 & 145.872 & 0.138 & $\\dots$ \\\\\n",
       "\t10 & 10 & Americas & Central America & Mexico & 126.191 & 127.576 & 1.385 & $\\dots$ \\\\\n",
       "\t11 & 11 & Asia & Eastern Asia & Japan & 127.202 & 126.86 & -0.342 & $\\dots$ \\\\\n",
       "\t12 & 12 & Africa & Eastern Africa & Ethiopia & 109.224 & 112.079 & 2.855 & $\\dots$ \\\\\n",
       "\t13 & 13 & Asia & South-eastern Asia & Philippines & 106.651 & 108.117 & 1.466 & $\\dots$ \\\\\n",
       "\t14 & 14 & Africa & Northern Africa & Egypt & 98.424 & 100.388 & 1.964 & $\\dots$ \\\\\n",
       "\t15 & 15 & Asia & South-eastern Asia & Vietnam & 95.546 & 96.462 & 0.916 & $\\dots$ \\\\\n",
       "\t16 & 16 & Africa & Middle Africa & DR Congo & 84.068 & 86.791 & 2.723 & $\\dots$ \\\\\n",
       "\t17 & 17 & Europe & Western Europe & Germany & 83.124 & 83.517 & 0.393 & $\\dots$ \\\\\n",
       "\t18 & 18 & Asia & Western Asia & Turkey & 82.34 & 83.43 & 1.09 & $\\dots$ \\\\\n",
       "\t19 & 19 & Asia & Southern Asia & Iran & 81.8 & 82.914 & 1.114 & $\\dots$ \\\\\n",
       "\t20 & 20 & Asia & South-eastern Asia & Thailand & 68.864 & 69.038 & 0.174 & $\\dots$ \\\\\n",
       "\t21 & 21 & Europe & Northern Europe & United Kingdom & 67.142 & 67.53 & 0.388 & $\\dots$ \\\\\n",
       "\t22 & 22 & Europe & Western Europe & France & 64.991 & 65.13 & 0.139 & $\\dots$ \\\\\n",
       "\t23 & 23 & Europe & Southern Europe & Italy & 60.627 & 60.55 & -0.077 & $\\dots$ \\\\\n",
       "\t24 & 24 & Africa & Southern Africa & South Africa & 57.793 & 58.558 & 0.765 & $\\dots$ \\\\\n",
       "\t$\\dots$ & $\\dots$ & $\\dots$ & $\\dots$ & $\\dots$ & $\\dots$ & $\\dots$ & $\\dots$ &  \\\\\n",
       "\\end{tabular}\n"
      ],
      "text/plain": [
       "\u001b[1m234×8 DataFrame\u001b[0m\n",
       "\u001b[1m Row \u001b[0m│\u001b[1m id    \u001b[0m\u001b[1m Region    \u001b[0m\u001b[1m Subregion          \u001b[0m\u001b[1m Country                          \u001b[0m ⋯\n",
       "     │\u001b[90m Int64 \u001b[0m\u001b[90m String15? \u001b[0m\u001b[90m String31?          \u001b[0m\u001b[90m String                           \u001b[0m ⋯\n",
       "─────┼──────────────────────────────────────────────────────────────────────────\n",
       "   1 │     1  Asia       Eastern Asia        China                             ⋯\n",
       "   2 │     2  Asia       Southern Asia       India\n",
       "   3 │     3  Americas   Northern America    United States\n",
       "   4 │     4  Asia       South-eastern Asia  Indonesia\n",
       "   5 │     5  Asia       Southern Asia       Pakistan                          ⋯\n",
       "   6 │     6  Americas   South America       Brazil\n",
       "   7 │     7  Africa     Western Africa      Nigeria\n",
       "   8 │     8  Asia       Southern Asia       Bangladesh\n",
       "  ⋮  │   ⋮        ⋮              ⋮                           ⋮                 ⋱\n",
       " 228 │   228  Americas   Northern America    Saint Pierre and Miquelon (Franc… ⋯\n",
       " 229 │   229  Americas   Caribbean           Montserrat (United Kingdom)\n",
       " 230 │   230  Americas   South America       Falkland Islands (United Kingdom)\n",
       " 231 │   231  Oceania    Polynesia           Niue (New Zealand)\n",
       " 232 │   232  Oceania    Polynesia           Tokelau (New Zealand)             ⋯\n",
       " 233 │   233  Europe     Southern Europe     Vatican City\n",
       " 234 │   234 \u001b[90m missing   \u001b[0m\u001b[90m missing            \u001b[0m World\n",
       "\u001b[36m                                                  4 columns and 219 rows omitted\u001b[0m"
      ]
     },
     "metadata": {},
     "output_type": "display_data"
    }
   ],
   "source": [
    "myheaders = [\n",
    "    :id, :Region, :Subregion, :Country, :my18, :my19, :mydelta, :mypct\n",
    "]\n",
    "\n",
    "mydf = select(population_df, myheaders)"
   ]
  },
  {
   "cell_type": "code",
   "execution_count": 188,
   "metadata": {},
   "outputs": [
    {
     "data": {
      "text/html": [
       "<div><div style = \"float: left;\"><span>233×8 DataFrame</span></div><div style = \"float: right;\"><span style = \"font-style: italic;\">223 rows omitted</span></div><div style = \"clear: both;\"></div></div><div class = \"data-frame\" style = \"overflow-x: scroll;\"><table class = \"data-frame\" style = \"margin-bottom: 6px;\"><thead><tr class = \"header\"><th class = \"rowNumber\" style = \"font-weight: bold; text-align: right;\">Row</th><th style = \"text-align: left;\">id</th><th style = \"text-align: left;\">Region</th><th style = \"text-align: left;\">Subregion</th><th style = \"text-align: left;\">Country</th><th style = \"text-align: left;\">my18</th><th style = \"text-align: left;\">my19</th><th style = \"text-align: left;\">mydelta</th><th style = \"text-align: left;\">mypct</th></tr><tr class = \"subheader headerLastRow\"><th class = \"rowNumber\" style = \"font-weight: bold; text-align: right;\"></th><th title = \"Int64\" style = \"text-align: left;\">Int64</th><th title = \"Union{Missing, String15}\" style = \"text-align: left;\">String15?</th><th title = \"Union{Missing, String31}\" style = \"text-align: left;\">String31?</th><th title = \"String\" style = \"text-align: left;\">String</th><th title = \"Float64\" style = \"text-align: left;\">Float64</th><th title = \"Float64\" style = \"text-align: left;\">Float64</th><th title = \"Float64\" style = \"text-align: left;\">Float64</th><th title = \"Float64\" style = \"text-align: left;\">Float64</th></tr></thead><tbody><tr><td class = \"rowNumber\" style = \"font-weight: bold; text-align: right;\">1</td><td style = \"text-align: right;\">1</td><td style = \"text-align: left;\">Asia</td><td style = \"text-align: left;\">Eastern Asia</td><td style = \"text-align: left;\">China</td><td style = \"text-align: right;\">1427.65</td><td style = \"text-align: right;\">1433.78</td><td style = \"text-align: right;\">6.136</td><td style = \"text-align: right;\">0.43</td></tr><tr><td class = \"rowNumber\" style = \"font-weight: bold; text-align: right;\">2</td><td style = \"text-align: right;\">2</td><td style = \"text-align: left;\">Asia</td><td style = \"text-align: left;\">Southern Asia</td><td style = \"text-align: left;\">India</td><td style = \"text-align: right;\">1352.64</td><td style = \"text-align: right;\">1366.42</td><td style = \"text-align: right;\">13.776</td><td style = \"text-align: right;\">1.02</td></tr><tr><td class = \"rowNumber\" style = \"font-weight: bold; text-align: right;\">3</td><td style = \"text-align: right;\">3</td><td style = \"text-align: left;\">Americas</td><td style = \"text-align: left;\">Northern America</td><td style = \"text-align: left;\">United States</td><td style = \"text-align: right;\">327.096</td><td style = \"text-align: right;\">329.065</td><td style = \"text-align: right;\">1.969</td><td style = \"text-align: right;\">0.6</td></tr><tr><td class = \"rowNumber\" style = \"font-weight: bold; text-align: right;\">4</td><td style = \"text-align: right;\">4</td><td style = \"text-align: left;\">Asia</td><td style = \"text-align: left;\">South-eastern Asia</td><td style = \"text-align: left;\">Indonesia</td><td style = \"text-align: right;\">267.671</td><td style = \"text-align: right;\">270.626</td><td style = \"text-align: right;\">2.955</td><td style = \"text-align: right;\">1.1</td></tr><tr><td class = \"rowNumber\" style = \"font-weight: bold; text-align: right;\">5</td><td style = \"text-align: right;\">5</td><td style = \"text-align: left;\">Asia</td><td style = \"text-align: left;\">Southern Asia</td><td style = \"text-align: left;\">Pakistan</td><td style = \"text-align: right;\">212.228</td><td style = \"text-align: right;\">216.565</td><td style = \"text-align: right;\">4.337</td><td style = \"text-align: right;\">2.04</td></tr><tr><td style = \"text-align: right;\">&vellip;</td><td style = \"text-align: right;\">&vellip;</td><td style = \"text-align: right;\">&vellip;</td><td style = \"text-align: right;\">&vellip;</td><td style = \"text-align: right;\">&vellip;</td><td style = \"text-align: right;\">&vellip;</td><td style = \"text-align: right;\">&vellip;</td><td style = \"text-align: right;\">&vellip;</td><td style = \"text-align: right;\">&vellip;</td></tr><tr><td class = \"rowNumber\" style = \"font-weight: bold; text-align: right;\">229</td><td style = \"text-align: right;\">229</td><td style = \"text-align: left;\">Americas</td><td style = \"text-align: left;\">Caribbean</td><td style = \"text-align: left;\">Montserrat (United Kingdom)</td><td style = \"text-align: right;\">0.005</td><td style = \"text-align: right;\">0.005</td><td style = \"text-align: right;\">0.0</td><td style = \"text-align: right;\">0.0</td></tr><tr><td class = \"rowNumber\" style = \"font-weight: bold; text-align: right;\">230</td><td style = \"text-align: right;\">230</td><td style = \"text-align: left;\">Americas</td><td style = \"text-align: left;\">South America</td><td style = \"text-align: left;\">Falkland Islands (United Kingdom)</td><td style = \"text-align: right;\">0.003</td><td style = \"text-align: right;\">0.003</td><td style = \"text-align: right;\">0.0</td><td style = \"text-align: right;\">0.0</td></tr><tr><td class = \"rowNumber\" style = \"font-weight: bold; text-align: right;\">231</td><td style = \"text-align: right;\">231</td><td style = \"text-align: left;\">Oceania</td><td style = \"text-align: left;\">Polynesia</td><td style = \"text-align: left;\">Niue (New Zealand)</td><td style = \"text-align: right;\">0.002</td><td style = \"text-align: right;\">0.002</td><td style = \"text-align: right;\">0.0</td><td style = \"text-align: right;\">0.0</td></tr><tr><td class = \"rowNumber\" style = \"font-weight: bold; text-align: right;\">232</td><td style = \"text-align: right;\">232</td><td style = \"text-align: left;\">Oceania</td><td style = \"text-align: left;\">Polynesia</td><td style = \"text-align: left;\">Tokelau (New Zealand)</td><td style = \"text-align: right;\">0.001</td><td style = \"text-align: right;\">0.001</td><td style = \"text-align: right;\">0.0</td><td style = \"text-align: right;\">0.0</td></tr><tr><td class = \"rowNumber\" style = \"font-weight: bold; text-align: right;\">233</td><td style = \"text-align: right;\">233</td><td style = \"text-align: left;\">Europe</td><td style = \"text-align: left;\">Southern Europe</td><td style = \"text-align: left;\">Vatican City</td><td style = \"text-align: right;\">0.001</td><td style = \"text-align: right;\">0.001</td><td style = \"text-align: right;\">0.0</td><td style = \"text-align: right;\">0.0</td></tr></tbody></table></div>"
      ],
      "text/latex": [
       "\\begin{tabular}{r|cccccccc}\n",
       "\t& id & Region & Subregion & Country & my18 & my19 & mydelta & \\\\\n",
       "\t\\hline\n",
       "\t& Int64 & String15? & String31? & String & Float64 & Float64 & Float64 & \\\\\n",
       "\t\\hline\n",
       "\t1 & 1 & Asia & Eastern Asia & China & 1427.65 & 1433.78 & 6.136 & $\\dots$ \\\\\n",
       "\t2 & 2 & Asia & Southern Asia & India & 1352.64 & 1366.42 & 13.776 & $\\dots$ \\\\\n",
       "\t3 & 3 & Americas & Northern America & United States & 327.096 & 329.065 & 1.969 & $\\dots$ \\\\\n",
       "\t4 & 4 & Asia & South-eastern Asia & Indonesia & 267.671 & 270.626 & 2.955 & $\\dots$ \\\\\n",
       "\t5 & 5 & Asia & Southern Asia & Pakistan & 212.228 & 216.565 & 4.337 & $\\dots$ \\\\\n",
       "\t6 & 6 & Americas & South America & Brazil & 209.469 & 211.05 & 1.581 & $\\dots$ \\\\\n",
       "\t7 & 7 & Africa & Western Africa & Nigeria & 195.875 & 200.964 & 5.089 & $\\dots$ \\\\\n",
       "\t8 & 8 & Asia & Southern Asia & Bangladesh & 161.377 & 163.046 & 1.669 & $\\dots$ \\\\\n",
       "\t9 & 9 & Europe & Eastern Europe & Russia & 145.734 & 145.872 & 0.138 & $\\dots$ \\\\\n",
       "\t10 & 10 & Americas & Central America & Mexico & 126.191 & 127.576 & 1.385 & $\\dots$ \\\\\n",
       "\t11 & 11 & Asia & Eastern Asia & Japan & 127.202 & 126.86 & -0.342 & $\\dots$ \\\\\n",
       "\t12 & 12 & Africa & Eastern Africa & Ethiopia & 109.224 & 112.079 & 2.855 & $\\dots$ \\\\\n",
       "\t13 & 13 & Asia & South-eastern Asia & Philippines & 106.651 & 108.117 & 1.466 & $\\dots$ \\\\\n",
       "\t14 & 14 & Africa & Northern Africa & Egypt & 98.424 & 100.388 & 1.964 & $\\dots$ \\\\\n",
       "\t15 & 15 & Asia & South-eastern Asia & Vietnam & 95.546 & 96.462 & 0.916 & $\\dots$ \\\\\n",
       "\t16 & 16 & Africa & Middle Africa & DR Congo & 84.068 & 86.791 & 2.723 & $\\dots$ \\\\\n",
       "\t17 & 17 & Europe & Western Europe & Germany & 83.124 & 83.517 & 0.393 & $\\dots$ \\\\\n",
       "\t18 & 18 & Asia & Western Asia & Turkey & 82.34 & 83.43 & 1.09 & $\\dots$ \\\\\n",
       "\t19 & 19 & Asia & Southern Asia & Iran & 81.8 & 82.914 & 1.114 & $\\dots$ \\\\\n",
       "\t20 & 20 & Asia & South-eastern Asia & Thailand & 68.864 & 69.038 & 0.174 & $\\dots$ \\\\\n",
       "\t21 & 21 & Europe & Northern Europe & United Kingdom & 67.142 & 67.53 & 0.388 & $\\dots$ \\\\\n",
       "\t22 & 22 & Europe & Western Europe & France & 64.991 & 65.13 & 0.139 & $\\dots$ \\\\\n",
       "\t23 & 23 & Europe & Southern Europe & Italy & 60.627 & 60.55 & -0.077 & $\\dots$ \\\\\n",
       "\t24 & 24 & Africa & Southern Africa & South Africa & 57.793 & 58.558 & 0.765 & $\\dots$ \\\\\n",
       "\t$\\dots$ & $\\dots$ & $\\dots$ & $\\dots$ & $\\dots$ & $\\dots$ & $\\dots$ & $\\dots$ &  \\\\\n",
       "\\end{tabular}\n"
      ],
      "text/plain": [
       "\u001b[1m233×8 DataFrame\u001b[0m\n",
       "\u001b[1m Row \u001b[0m│\u001b[1m id    \u001b[0m\u001b[1m Region    \u001b[0m\u001b[1m Subregion          \u001b[0m\u001b[1m Country                          \u001b[0m ⋯\n",
       "     │\u001b[90m Int64 \u001b[0m\u001b[90m String15? \u001b[0m\u001b[90m String31?          \u001b[0m\u001b[90m String                           \u001b[0m ⋯\n",
       "─────┼──────────────────────────────────────────────────────────────────────────\n",
       "   1 │     1  Asia       Eastern Asia        China                             ⋯\n",
       "   2 │     2  Asia       Southern Asia       India\n",
       "   3 │     3  Americas   Northern America    United States\n",
       "   4 │     4  Asia       South-eastern Asia  Indonesia\n",
       "   5 │     5  Asia       Southern Asia       Pakistan                          ⋯\n",
       "   6 │     6  Americas   South America       Brazil\n",
       "   7 │     7  Africa     Western Africa      Nigeria\n",
       "   8 │     8  Asia       Southern Asia       Bangladesh\n",
       "  ⋮  │   ⋮        ⋮              ⋮                           ⋮                 ⋱\n",
       " 227 │   227  Africa     Western Africa      Saint Helena (United Kingdom)     ⋯\n",
       " 228 │   228  Americas   Northern America    Saint Pierre and Miquelon (Franc…\n",
       " 229 │   229  Americas   Caribbean           Montserrat (United Kingdom)\n",
       " 230 │   230  Americas   South America       Falkland Islands (United Kingdom)\n",
       " 231 │   231  Oceania    Polynesia           Niue (New Zealand)                ⋯\n",
       " 232 │   232  Oceania    Polynesia           Tokelau (New Zealand)\n",
       " 233 │   233  Europe     Southern Europe     Vatican City\n",
       "\u001b[36m                                                  4 columns and 218 rows omitted\u001b[0m"
      ]
     },
     "metadata": {},
     "output_type": "display_data"
    }
   ],
   "source": [
    "delete!(mydf, 234)"
   ]
  },
  {
   "cell_type": "code",
   "execution_count": 189,
   "metadata": {},
   "outputs": [
    {
     "data": {
      "text/html": [
       "<div><div style = \"float: left;\"><span>233×9 DataFrame</span></div><div style = \"float: right;\"><span style = \"font-style: italic;\">223 rows omitted</span></div><div style = \"clear: both;\"></div></div><div class = \"data-frame\" style = \"overflow-x: scroll;\"><table class = \"data-frame\" style = \"margin-bottom: 6px;\"><thead><tr class = \"header\"><th class = \"rowNumber\" style = \"font-weight: bold; text-align: right;\">Row</th><th style = \"text-align: left;\">id</th><th style = \"text-align: left;\">Region</th><th style = \"text-align: left;\">Subregion</th><th style = \"text-align: left;\">Country</th><th style = \"text-align: left;\">my18</th><th style = \"text-align: left;\">my19</th><th style = \"text-align: left;\">mydelta</th><th style = \"text-align: left;\">mypct</th><th style = \"text-align: left;\">my100</th></tr><tr class = \"subheader headerLastRow\"><th class = \"rowNumber\" style = \"font-weight: bold; text-align: right;\"></th><th title = \"Int64\" style = \"text-align: left;\">Int64</th><th title = \"Union{Missing, String15}\" style = \"text-align: left;\">String15?</th><th title = \"Union{Missing, String31}\" style = \"text-align: left;\">String31?</th><th title = \"String\" style = \"text-align: left;\">String</th><th title = \"Float64\" style = \"text-align: left;\">Float64</th><th title = \"Float64\" style = \"text-align: left;\">Float64</th><th title = \"Float64\" style = \"text-align: left;\">Float64</th><th title = \"Float64\" style = \"text-align: left;\">Float64</th><th title = \"Float64\" style = \"text-align: left;\">Float64</th></tr></thead><tbody><tr><td class = \"rowNumber\" style = \"font-weight: bold; text-align: right;\">1</td><td style = \"text-align: right;\">1</td><td style = \"text-align: left;\">Asia</td><td style = \"text-align: left;\">Eastern Asia</td><td style = \"text-align: left;\">China</td><td style = \"text-align: right;\">1427.65</td><td style = \"text-align: right;\">1433.78</td><td style = \"text-align: right;\">6.136</td><td style = \"text-align: right;\">0.43</td><td style = \"text-align: right;\">18.6</td></tr><tr><td class = \"rowNumber\" style = \"font-weight: bold; text-align: right;\">2</td><td style = \"text-align: right;\">2</td><td style = \"text-align: left;\">Asia</td><td style = \"text-align: left;\">Southern Asia</td><td style = \"text-align: left;\">India</td><td style = \"text-align: right;\">1352.64</td><td style = \"text-align: right;\">1366.42</td><td style = \"text-align: right;\">13.776</td><td style = \"text-align: right;\">1.02</td><td style = \"text-align: right;\">17.72</td></tr><tr><td class = \"rowNumber\" style = \"font-weight: bold; text-align: right;\">3</td><td style = \"text-align: right;\">3</td><td style = \"text-align: left;\">Americas</td><td style = \"text-align: left;\">Northern America</td><td style = \"text-align: left;\">United States</td><td style = \"text-align: right;\">327.096</td><td style = \"text-align: right;\">329.065</td><td style = \"text-align: right;\">1.969</td><td style = \"text-align: right;\">0.6</td><td style = \"text-align: right;\">4.27</td></tr><tr><td class = \"rowNumber\" style = \"font-weight: bold; text-align: right;\">4</td><td style = \"text-align: right;\">4</td><td style = \"text-align: left;\">Asia</td><td style = \"text-align: left;\">South-eastern Asia</td><td style = \"text-align: left;\">Indonesia</td><td style = \"text-align: right;\">267.671</td><td style = \"text-align: right;\">270.626</td><td style = \"text-align: right;\">2.955</td><td style = \"text-align: right;\">1.1</td><td style = \"text-align: right;\">3.51</td></tr><tr><td class = \"rowNumber\" style = \"font-weight: bold; text-align: right;\">5</td><td style = \"text-align: right;\">5</td><td style = \"text-align: left;\">Asia</td><td style = \"text-align: left;\">Southern Asia</td><td style = \"text-align: left;\">Pakistan</td><td style = \"text-align: right;\">212.228</td><td style = \"text-align: right;\">216.565</td><td style = \"text-align: right;\">4.337</td><td style = \"text-align: right;\">2.04</td><td style = \"text-align: right;\">2.81</td></tr><tr><td style = \"text-align: right;\">&vellip;</td><td style = \"text-align: right;\">&vellip;</td><td style = \"text-align: right;\">&vellip;</td><td style = \"text-align: right;\">&vellip;</td><td style = \"text-align: right;\">&vellip;</td><td style = \"text-align: right;\">&vellip;</td><td style = \"text-align: right;\">&vellip;</td><td style = \"text-align: right;\">&vellip;</td><td style = \"text-align: right;\">&vellip;</td><td style = \"text-align: right;\">&vellip;</td></tr><tr><td class = \"rowNumber\" style = \"font-weight: bold; text-align: right;\">229</td><td style = \"text-align: right;\">229</td><td style = \"text-align: left;\">Americas</td><td style = \"text-align: left;\">Caribbean</td><td style = \"text-align: left;\">Montserrat (United Kingdom)</td><td style = \"text-align: right;\">0.005</td><td style = \"text-align: right;\">0.005</td><td style = \"text-align: right;\">0.0</td><td style = \"text-align: right;\">0.0</td><td style = \"text-align: right;\">0.0</td></tr><tr><td class = \"rowNumber\" style = \"font-weight: bold; text-align: right;\">230</td><td style = \"text-align: right;\">230</td><td style = \"text-align: left;\">Americas</td><td style = \"text-align: left;\">South America</td><td style = \"text-align: left;\">Falkland Islands (United Kingdom)</td><td style = \"text-align: right;\">0.003</td><td style = \"text-align: right;\">0.003</td><td style = \"text-align: right;\">0.0</td><td style = \"text-align: right;\">0.0</td><td style = \"text-align: right;\">0.0</td></tr><tr><td class = \"rowNumber\" style = \"font-weight: bold; text-align: right;\">231</td><td style = \"text-align: right;\">231</td><td style = \"text-align: left;\">Oceania</td><td style = \"text-align: left;\">Polynesia</td><td style = \"text-align: left;\">Niue (New Zealand)</td><td style = \"text-align: right;\">0.002</td><td style = \"text-align: right;\">0.002</td><td style = \"text-align: right;\">0.0</td><td style = \"text-align: right;\">0.0</td><td style = \"text-align: right;\">0.0</td></tr><tr><td class = \"rowNumber\" style = \"font-weight: bold; text-align: right;\">232</td><td style = \"text-align: right;\">232</td><td style = \"text-align: left;\">Oceania</td><td style = \"text-align: left;\">Polynesia</td><td style = \"text-align: left;\">Tokelau (New Zealand)</td><td style = \"text-align: right;\">0.001</td><td style = \"text-align: right;\">0.001</td><td style = \"text-align: right;\">0.0</td><td style = \"text-align: right;\">0.0</td><td style = \"text-align: right;\">0.0</td></tr><tr><td class = \"rowNumber\" style = \"font-weight: bold; text-align: right;\">233</td><td style = \"text-align: right;\">233</td><td style = \"text-align: left;\">Europe</td><td style = \"text-align: left;\">Southern Europe</td><td style = \"text-align: left;\">Vatican City</td><td style = \"text-align: right;\">0.001</td><td style = \"text-align: right;\">0.001</td><td style = \"text-align: right;\">0.0</td><td style = \"text-align: right;\">0.0</td><td style = \"text-align: right;\">0.0</td></tr></tbody></table></div>"
      ],
      "text/latex": [
       "\\begin{tabular}{r|cccccccc}\n",
       "\t& id & Region & Subregion & Country & my18 & my19 & mydelta & \\\\\n",
       "\t\\hline\n",
       "\t& Int64 & String15? & String31? & String & Float64 & Float64 & Float64 & \\\\\n",
       "\t\\hline\n",
       "\t1 & 1 & Asia & Eastern Asia & China & 1427.65 & 1433.78 & 6.136 & $\\dots$ \\\\\n",
       "\t2 & 2 & Asia & Southern Asia & India & 1352.64 & 1366.42 & 13.776 & $\\dots$ \\\\\n",
       "\t3 & 3 & Americas & Northern America & United States & 327.096 & 329.065 & 1.969 & $\\dots$ \\\\\n",
       "\t4 & 4 & Asia & South-eastern Asia & Indonesia & 267.671 & 270.626 & 2.955 & $\\dots$ \\\\\n",
       "\t5 & 5 & Asia & Southern Asia & Pakistan & 212.228 & 216.565 & 4.337 & $\\dots$ \\\\\n",
       "\t6 & 6 & Americas & South America & Brazil & 209.469 & 211.05 & 1.581 & $\\dots$ \\\\\n",
       "\t7 & 7 & Africa & Western Africa & Nigeria & 195.875 & 200.964 & 5.089 & $\\dots$ \\\\\n",
       "\t8 & 8 & Asia & Southern Asia & Bangladesh & 161.377 & 163.046 & 1.669 & $\\dots$ \\\\\n",
       "\t9 & 9 & Europe & Eastern Europe & Russia & 145.734 & 145.872 & 0.138 & $\\dots$ \\\\\n",
       "\t10 & 10 & Americas & Central America & Mexico & 126.191 & 127.576 & 1.385 & $\\dots$ \\\\\n",
       "\t11 & 11 & Asia & Eastern Asia & Japan & 127.202 & 126.86 & -0.342 & $\\dots$ \\\\\n",
       "\t12 & 12 & Africa & Eastern Africa & Ethiopia & 109.224 & 112.079 & 2.855 & $\\dots$ \\\\\n",
       "\t13 & 13 & Asia & South-eastern Asia & Philippines & 106.651 & 108.117 & 1.466 & $\\dots$ \\\\\n",
       "\t14 & 14 & Africa & Northern Africa & Egypt & 98.424 & 100.388 & 1.964 & $\\dots$ \\\\\n",
       "\t15 & 15 & Asia & South-eastern Asia & Vietnam & 95.546 & 96.462 & 0.916 & $\\dots$ \\\\\n",
       "\t16 & 16 & Africa & Middle Africa & DR Congo & 84.068 & 86.791 & 2.723 & $\\dots$ \\\\\n",
       "\t17 & 17 & Europe & Western Europe & Germany & 83.124 & 83.517 & 0.393 & $\\dots$ \\\\\n",
       "\t18 & 18 & Asia & Western Asia & Turkey & 82.34 & 83.43 & 1.09 & $\\dots$ \\\\\n",
       "\t19 & 19 & Asia & Southern Asia & Iran & 81.8 & 82.914 & 1.114 & $\\dots$ \\\\\n",
       "\t20 & 20 & Asia & South-eastern Asia & Thailand & 68.864 & 69.038 & 0.174 & $\\dots$ \\\\\n",
       "\t21 & 21 & Europe & Northern Europe & United Kingdom & 67.142 & 67.53 & 0.388 & $\\dots$ \\\\\n",
       "\t22 & 22 & Europe & Western Europe & France & 64.991 & 65.13 & 0.139 & $\\dots$ \\\\\n",
       "\t23 & 23 & Europe & Southern Europe & Italy & 60.627 & 60.55 & -0.077 & $\\dots$ \\\\\n",
       "\t24 & 24 & Africa & Southern Africa & South Africa & 57.793 & 58.558 & 0.765 & $\\dots$ \\\\\n",
       "\t$\\dots$ & $\\dots$ & $\\dots$ & $\\dots$ & $\\dots$ & $\\dots$ & $\\dots$ & $\\dots$ &  \\\\\n",
       "\\end{tabular}\n"
      ],
      "text/plain": [
       "\u001b[1m233×9 DataFrame\u001b[0m\n",
       "\u001b[1m Row \u001b[0m│\u001b[1m id    \u001b[0m\u001b[1m Region    \u001b[0m\u001b[1m Subregion          \u001b[0m\u001b[1m Country                          \u001b[0m ⋯\n",
       "     │\u001b[90m Int64 \u001b[0m\u001b[90m String15? \u001b[0m\u001b[90m String31?          \u001b[0m\u001b[90m String                           \u001b[0m ⋯\n",
       "─────┼──────────────────────────────────────────────────────────────────────────\n",
       "   1 │     1  Asia       Eastern Asia        China                             ⋯\n",
       "   2 │     2  Asia       Southern Asia       India\n",
       "   3 │     3  Americas   Northern America    United States\n",
       "   4 │     4  Asia       South-eastern Asia  Indonesia\n",
       "   5 │     5  Asia       Southern Asia       Pakistan                          ⋯\n",
       "   6 │     6  Americas   South America       Brazil\n",
       "   7 │     7  Africa     Western Africa      Nigeria\n",
       "   8 │     8  Asia       Southern Asia       Bangladesh\n",
       "  ⋮  │   ⋮        ⋮              ⋮                           ⋮                 ⋱\n",
       " 227 │   227  Africa     Western Africa      Saint Helena (United Kingdom)     ⋯\n",
       " 228 │   228  Americas   Northern America    Saint Pierre and Miquelon (Franc…\n",
       " 229 │   229  Americas   Caribbean           Montserrat (United Kingdom)\n",
       " 230 │   230  Americas   South America       Falkland Islands (United Kingdom)\n",
       " 231 │   231  Oceania    Polynesia           Niue (New Zealand)                ⋯\n",
       " 232 │   232  Oceania    Polynesia           Tokelau (New Zealand)\n",
       " 233 │   233  Europe     Southern Europe     Vatican City\n",
       "\u001b[36m                                                  5 columns and 218 rows omitted\u001b[0m"
      ]
     },
     "metadata": {},
     "output_type": "display_data"
    }
   ],
   "source": [
    "mydf.my100 = round.(\n",
    "    mydf.my19 ./ sum(mydf.my19) .* 100, digits = 2\n",
    ")\n",
    "\n",
    "mydf"
   ]
  },
  {
   "cell_type": "code",
   "execution_count": 190,
   "metadata": {},
   "outputs": [
    {
     "data": {
      "text/html": [
       "<div><div style = \"float: left;\"><span>9×7 DataFrame</span></div><div style = \"clear: both;\"></div></div><div class = \"data-frame\" style = \"overflow-x: scroll;\"><table class = \"data-frame\" style = \"margin-bottom: 6px;\"><thead><tr class = \"header\"><th class = \"rowNumber\" style = \"font-weight: bold; text-align: right;\">Row</th><th style = \"text-align: left;\">variable</th><th style = \"text-align: left;\">mean</th><th style = \"text-align: left;\">min</th><th style = \"text-align: left;\">median</th><th style = \"text-align: left;\">max</th><th style = \"text-align: left;\">nmissing</th><th style = \"text-align: left;\">eltype</th></tr><tr class = \"subheader headerLastRow\"><th class = \"rowNumber\" style = \"font-weight: bold; text-align: right;\"></th><th title = \"Symbol\" style = \"text-align: left;\">Symbol</th><th title = \"Union{Nothing, Float64}\" style = \"text-align: left;\">Union…</th><th title = \"Any\" style = \"text-align: left;\">Any</th><th title = \"Union{Nothing, Float64}\" style = \"text-align: left;\">Union…</th><th title = \"Any\" style = \"text-align: left;\">Any</th><th title = \"Int64\" style = \"text-align: left;\">Int64</th><th title = \"Type\" style = \"text-align: left;\">Type</th></tr></thead><tbody><tr><td class = \"rowNumber\" style = \"font-weight: bold; text-align: right;\">1</td><td style = \"text-align: left;\">id</td><td style = \"text-align: left;\">117.0</td><td style = \"text-align: left;\">1</td><td style = \"text-align: left;\">117.0</td><td style = \"text-align: left;\">233</td><td style = \"text-align: right;\">0</td><td style = \"text-align: left;\">Int64</td></tr><tr><td class = \"rowNumber\" style = \"font-weight: bold; text-align: right;\">2</td><td style = \"text-align: left;\">Region</td><td style = \"font-style: italic; text-align: left;\"></td><td style = \"text-align: left;\">Africa</td><td style = \"font-style: italic; text-align: left;\"></td><td style = \"text-align: left;\">Oceania</td><td style = \"text-align: right;\">0</td><td style = \"text-align: left;\">Union{Missing, String15}</td></tr><tr><td class = \"rowNumber\" style = \"font-weight: bold; text-align: right;\">3</td><td style = \"text-align: left;\">Subregion</td><td style = \"font-style: italic; text-align: left;\"></td><td style = \"text-align: left;\">Australia and New Zealand</td><td style = \"font-style: italic; text-align: left;\"></td><td style = \"text-align: left;\">Western Europe</td><td style = \"text-align: right;\">0</td><td style = \"text-align: left;\">Union{Missing, String31}</td></tr><tr><td class = \"rowNumber\" style = \"font-weight: bold; text-align: right;\">4</td><td style = \"text-align: left;\">Country</td><td style = \"font-style: italic; text-align: left;\"></td><td style = \"text-align: left;\">Afghanistan</td><td style = \"font-style: italic; text-align: left;\"></td><td style = \"text-align: left;\">Zimbabwe</td><td style = \"text-align: right;\">0</td><td style = \"text-align: left;\">String</td></tr><tr><td class = \"rowNumber\" style = \"font-weight: bold; text-align: right;\">5</td><td style = \"text-align: left;\">my18</td><td style = \"text-align: left;\">32.7392</td><td style = \"text-align: left;\">0.001</td><td style = \"text-align: left;\">5.453</td><td style = \"text-align: left;\">1427.65</td><td style = \"text-align: right;\">0</td><td style = \"text-align: left;\">Float64</td></tr><tr><td class = \"rowNumber\" style = \"font-weight: bold; text-align: right;\">6</td><td style = \"text-align: left;\">my19</td><td style = \"text-align: left;\">33.0925</td><td style = \"text-align: left;\">0.001</td><td style = \"text-align: left;\">5.457</td><td style = \"text-align: left;\">1433.78</td><td style = \"text-align: right;\">0</td><td style = \"text-align: left;\">Float64</td></tr><tr><td class = \"rowNumber\" style = \"font-weight: bold; text-align: right;\">7</td><td style = \"text-align: left;\">mydelta</td><td style = \"text-align: left;\">0.353296</td><td style = \"text-align: left;\">-0.371</td><td style = \"text-align: left;\">0.044</td><td style = \"text-align: left;\">13.776</td><td style = \"text-align: right;\">0</td><td style = \"text-align: left;\">Float64</td></tr><tr><td class = \"rowNumber\" style = \"font-weight: bold; text-align: right;\">8</td><td style = \"text-align: left;\">mypct</td><td style = \"text-align: left;\">1.05227</td><td style = \"text-align: left;\">-8.33</td><td style = \"text-align: left;\">0.98</td><td style = \"text-align: left;\">4.59</td><td style = \"text-align: right;\">0</td><td style = \"text-align: left;\">Float64</td></tr><tr><td class = \"rowNumber\" style = \"font-weight: bold; text-align: right;\">9</td><td style = \"text-align: left;\">my100</td><td style = \"text-align: left;\">0.428884</td><td style = \"text-align: left;\">0.0</td><td style = \"text-align: left;\">0.07</td><td style = \"text-align: left;\">18.6</td><td style = \"text-align: right;\">0</td><td style = \"text-align: left;\">Float64</td></tr></tbody></table></div>"
      ],
      "text/latex": [
       "\\begin{tabular}{r|ccccccc}\n",
       "\t& variable & mean & min & median & max & nmissing & \\\\\n",
       "\t\\hline\n",
       "\t& Symbol & Union… & Any & Union… & Any & Int64 & \\\\\n",
       "\t\\hline\n",
       "\t1 & id & 117.0 & 1 & 117.0 & 233 & 0 & $\\dots$ \\\\\n",
       "\t2 & Region &  & Africa &  & Oceania & 0 & $\\dots$ \\\\\n",
       "\t3 & Subregion &  & Australia and New Zealand &  & Western Europe & 0 & $\\dots$ \\\\\n",
       "\t4 & Country &  & Afghanistan &  & Zimbabwe & 0 & $\\dots$ \\\\\n",
       "\t5 & my18 & 32.7392 & 0.001 & 5.453 & 1427.65 & 0 & $\\dots$ \\\\\n",
       "\t6 & my19 & 33.0925 & 0.001 & 5.457 & 1433.78 & 0 & $\\dots$ \\\\\n",
       "\t7 & mydelta & 0.353296 & -0.371 & 0.044 & 13.776 & 0 & $\\dots$ \\\\\n",
       "\t8 & mypct & 1.05227 & -8.33 & 0.98 & 4.59 & 0 & $\\dots$ \\\\\n",
       "\t9 & my100 & 0.428884 & 0.0 & 0.07 & 18.6 & 0 & $\\dots$ \\\\\n",
       "\\end{tabular}\n"
      ],
      "text/plain": [
       "\u001b[1m9×7 DataFrame\u001b[0m\n",
       "\u001b[1m Row \u001b[0m│\u001b[1m variable  \u001b[0m\u001b[1m mean     \u001b[0m\u001b[1m min                       \u001b[0m\u001b[1m median \u001b[0m\u001b[1m max            \u001b[0m\u001b[1m\u001b[0m ⋯\n",
       "     │\u001b[90m Symbol    \u001b[0m\u001b[90m Union…   \u001b[0m\u001b[90m Any                       \u001b[0m\u001b[90m Union… \u001b[0m\u001b[90m Any            \u001b[0m\u001b[90m\u001b[0m ⋯\n",
       "─────┼──────────────────────────────────────────────────────────────────────────\n",
       "   1 │ id         117.0     1                          117.0   233             ⋯\n",
       "   2 │ Region    \u001b[90m          \u001b[0m Africa                    \u001b[90m        \u001b[0m Oceania\n",
       "   3 │ Subregion \u001b[90m          \u001b[0m Australia and New Zealand \u001b[90m        \u001b[0m Western Europe\n",
       "   4 │ Country   \u001b[90m          \u001b[0m Afghanistan               \u001b[90m        \u001b[0m Zimbabwe\n",
       "   5 │ my18       32.7392   0.001                      5.453   1427.65         ⋯\n",
       "   6 │ my19       33.0925   0.001                      5.457   1433.78\n",
       "   7 │ mydelta    0.353296  -0.371                     0.044   13.776\n",
       "   8 │ mypct      1.05227   -8.33                      0.98    4.59\n",
       "   9 │ my100      0.428884  0.0                        0.07    18.6            ⋯\n",
       "\u001b[36m                                                               2 columns omitted\u001b[0m"
      ]
     },
     "metadata": {},
     "output_type": "display_data"
    }
   ],
   "source": [
    "describe(mydf)"
   ]
  },
  {
   "cell_type": "code",
   "execution_count": 191,
   "metadata": {},
   "outputs": [
    {
     "data": {
      "text/html": [
       "<div><div style = \"float: left;\"><span>9×16 DataFrame</span></div><div style = \"clear: both;\"></div></div><div class = \"data-frame\" style = \"overflow-x: scroll;\"><table class = \"data-frame\" style = \"margin-bottom: 6px;\"><thead><tr class = \"header\"><th class = \"rowNumber\" style = \"font-weight: bold; text-align: right;\">Row</th><th style = \"text-align: left;\">variable</th><th style = \"text-align: left;\">mean</th><th style = \"text-align: left;\">std</th><th style = \"text-align: left;\">min</th><th style = \"text-align: left;\">q25</th><th style = \"text-align: left;\">median</th><th style = \"text-align: left;\">q75</th><th style = \"text-align: left;\">max</th><th style = \"text-align: left;\">sum</th><th style = \"text-align: left;\">nunique</th><th style = \"text-align: left;\">nuniqueall</th><th style = \"text-align: left;\">nmissing</th><th style = \"text-align: left;\">nnonmissing</th><th style = \"text-align: left;\">first</th><th style = \"text-align: left;\">last</th><th style = \"text-align: left;\">eltype</th></tr><tr class = \"subheader headerLastRow\"><th class = \"rowNumber\" style = \"font-weight: bold; text-align: right;\"></th><th title = \"Symbol\" style = \"text-align: left;\">Symbol</th><th title = \"Union{Nothing, Float64}\" style = \"text-align: left;\">Union…</th><th title = \"Union{Nothing, Float64}\" style = \"text-align: left;\">Union…</th><th title = \"Any\" style = \"text-align: left;\">Any</th><th title = \"Union{Nothing, Float64}\" style = \"text-align: left;\">Union…</th><th title = \"Union{Nothing, Float64}\" style = \"text-align: left;\">Union…</th><th title = \"Union{Nothing, Float64}\" style = \"text-align: left;\">Union…</th><th title = \"Any\" style = \"text-align: left;\">Any</th><th title = \"Union{Nothing, Real}\" style = \"text-align: left;\">Union…</th><th title = \"Union{Nothing, Int64}\" style = \"text-align: left;\">Union…</th><th title = \"Int64\" style = \"text-align: left;\">Int64</th><th title = \"Int64\" style = \"text-align: left;\">Int64</th><th title = \"Int64\" style = \"text-align: left;\">Int64</th><th title = \"Any\" style = \"text-align: left;\">Any</th><th title = \"Any\" style = \"text-align: left;\">Any</th><th title = \"Type\" style = \"text-align: left;\">Type</th></tr></thead><tbody><tr><td class = \"rowNumber\" style = \"font-weight: bold; text-align: right;\">1</td><td style = \"text-align: left;\">id</td><td style = \"text-align: left;\">117.0</td><td style = \"text-align: left;\">67.4055</td><td style = \"text-align: left;\">1</td><td style = \"text-align: left;\">59.0</td><td style = \"text-align: left;\">117.0</td><td style = \"text-align: left;\">175.0</td><td style = \"text-align: left;\">233</td><td style = \"text-align: left;\">27261</td><td style = \"font-style: italic; text-align: left;\"></td><td style = \"text-align: right;\">233</td><td style = \"text-align: right;\">0</td><td style = \"text-align: right;\">233</td><td style = \"text-align: left;\">1</td><td style = \"text-align: left;\">233</td><td style = \"text-align: left;\">Int64</td></tr><tr><td class = \"rowNumber\" style = \"font-weight: bold; text-align: right;\">2</td><td style = \"text-align: left;\">Region</td><td style = \"font-style: italic; text-align: left;\"></td><td style = \"font-style: italic; text-align: left;\"></td><td style = \"text-align: left;\">Africa</td><td style = \"font-style: italic; text-align: left;\"></td><td style = \"font-style: italic; text-align: left;\"></td><td style = \"font-style: italic; text-align: left;\"></td><td style = \"text-align: left;\">Oceania</td><td style = \"font-style: italic; text-align: left;\"></td><td style = \"text-align: left;\">5</td><td style = \"text-align: right;\">5</td><td style = \"text-align: right;\">0</td><td style = \"text-align: right;\">233</td><td style = \"text-align: left;\">Asia</td><td style = \"text-align: left;\">Europe</td><td style = \"text-align: left;\">Union{Missing, String15}</td></tr><tr><td class = \"rowNumber\" style = \"font-weight: bold; text-align: right;\">3</td><td style = \"text-align: left;\">Subregion</td><td style = \"font-style: italic; text-align: left;\"></td><td style = \"font-style: italic; text-align: left;\"></td><td style = \"text-align: left;\">Australia and New Zealand</td><td style = \"font-style: italic; text-align: left;\"></td><td style = \"font-style: italic; text-align: left;\"></td><td style = \"font-style: italic; text-align: left;\"></td><td style = \"text-align: left;\">Western Europe</td><td style = \"font-style: italic; text-align: left;\"></td><td style = \"text-align: left;\">22</td><td style = \"text-align: right;\">22</td><td style = \"text-align: right;\">0</td><td style = \"text-align: right;\">233</td><td style = \"text-align: left;\">Eastern Asia</td><td style = \"text-align: left;\">Southern Europe</td><td style = \"text-align: left;\">Union{Missing, String31}</td></tr><tr><td class = \"rowNumber\" style = \"font-weight: bold; text-align: right;\">4</td><td style = \"text-align: left;\">Country</td><td style = \"font-style: italic; text-align: left;\"></td><td style = \"font-style: italic; text-align: left;\"></td><td style = \"text-align: left;\">Afghanistan</td><td style = \"font-style: italic; text-align: left;\"></td><td style = \"font-style: italic; text-align: left;\"></td><td style = \"font-style: italic; text-align: left;\"></td><td style = \"text-align: left;\">Zimbabwe</td><td style = \"font-style: italic; text-align: left;\"></td><td style = \"text-align: left;\">233</td><td style = \"text-align: right;\">233</td><td style = \"text-align: right;\">0</td><td style = \"text-align: right;\">233</td><td style = \"text-align: left;\">China</td><td style = \"text-align: left;\">Vatican City</td><td style = \"text-align: left;\">String</td></tr><tr><td class = \"rowNumber\" style = \"font-weight: bold; text-align: right;\">5</td><td style = \"text-align: left;\">my18</td><td style = \"text-align: left;\">32.7392</td><td style = \"text-align: left;\">133.722</td><td style = \"text-align: left;\">0.001</td><td style = \"text-align: left;\">0.439</td><td style = \"text-align: left;\">5.453</td><td style = \"text-align: left;\">19.751</td><td style = \"text-align: left;\">1427.65</td><td style = \"text-align: left;\">7628.22</td><td style = \"font-style: italic; text-align: left;\"></td><td style = \"text-align: right;\">223</td><td style = \"text-align: right;\">0</td><td style = \"text-align: right;\">233</td><td style = \"text-align: left;\">1427.65</td><td style = \"text-align: left;\">0.001</td><td style = \"text-align: left;\">Float64</td></tr><tr><td class = \"rowNumber\" style = \"font-weight: bold; text-align: right;\">6</td><td style = \"text-align: left;\">my19</td><td style = \"text-align: left;\">33.0925</td><td style = \"text-align: left;\">134.72</td><td style = \"text-align: left;\">0.001</td><td style = \"text-align: left;\">0.44</td><td style = \"text-align: left;\">5.457</td><td style = \"text-align: left;\">20.321</td><td style = \"text-align: left;\">1433.78</td><td style = \"text-align: left;\">7710.54</td><td style = \"font-style: italic; text-align: left;\"></td><td style = \"text-align: right;\">225</td><td style = \"text-align: right;\">0</td><td style = \"text-align: right;\">233</td><td style = \"text-align: left;\">1433.78</td><td style = \"text-align: left;\">0.001</td><td style = \"text-align: left;\">Float64</td></tr><tr><td class = \"rowNumber\" style = \"font-weight: bold; text-align: right;\">7</td><td style = \"text-align: left;\">mydelta</td><td style = \"text-align: left;\">0.353296</td><td style = \"text-align: left;\">1.15455</td><td style = \"text-align: left;\">-0.371</td><td style = \"text-align: left;\">0.001</td><td style = \"text-align: left;\">0.044</td><td style = \"text-align: left;\">0.237</td><td style = \"text-align: left;\">13.776</td><td style = \"text-align: left;\">82.318</td><td style = \"font-style: italic; text-align: left;\"></td><td style = \"text-align: right;\">149</td><td style = \"text-align: right;\">0</td><td style = \"text-align: right;\">233</td><td style = \"text-align: left;\">6.136</td><td style = \"text-align: left;\">0.0</td><td style = \"text-align: left;\">Float64</td></tr><tr><td class = \"rowNumber\" style = \"font-weight: bold; text-align: right;\">8</td><td style = \"text-align: left;\">mypct</td><td style = \"text-align: left;\">1.05227</td><td style = \"text-align: left;\">1.30645</td><td style = \"text-align: left;\">-8.33</td><td style = \"text-align: left;\">0.07</td><td style = \"text-align: left;\">0.98</td><td style = \"text-align: left;\">1.92</td><td style = \"text-align: left;\">4.59</td><td style = \"text-align: left;\">245.18</td><td style = \"font-style: italic; text-align: left;\"></td><td style = \"text-align: right;\">159</td><td style = \"text-align: right;\">0</td><td style = \"text-align: right;\">233</td><td style = \"text-align: left;\">0.43</td><td style = \"text-align: left;\">0.0</td><td style = \"text-align: left;\">Float64</td></tr><tr><td class = \"rowNumber\" style = \"font-weight: bold; text-align: right;\">9</td><td style = \"text-align: left;\">my100</td><td style = \"text-align: left;\">0.428884</td><td style = \"text-align: left;\">1.74746</td><td style = \"text-align: left;\">0.0</td><td style = \"text-align: left;\">0.01</td><td style = \"text-align: left;\">0.07</td><td style = \"text-align: left;\">0.26</td><td style = \"text-align: left;\">18.6</td><td style = \"text-align: left;\">99.93</td><td style = \"font-style: italic; text-align: left;\"></td><td style = \"text-align: right;\">72</td><td style = \"text-align: right;\">0</td><td style = \"text-align: right;\">233</td><td style = \"text-align: left;\">18.6</td><td style = \"text-align: left;\">0.0</td><td style = \"text-align: left;\">Float64</td></tr></tbody></table></div>"
      ],
      "text/latex": [
       "\\begin{tabular}{r|cccccccc}\n",
       "\t& variable & mean & std & min & q25 & median & q75 & \\\\\n",
       "\t\\hline\n",
       "\t& Symbol & Union… & Union… & Any & Union… & Union… & Union… & \\\\\n",
       "\t\\hline\n",
       "\t1 & id & 117.0 & 67.4055 & 1 & 59.0 & 117.0 & 175.0 & $\\dots$ \\\\\n",
       "\t2 & Region &  &  & Africa &  &  &  & $\\dots$ \\\\\n",
       "\t3 & Subregion &  &  & Australia and New Zealand &  &  &  & $\\dots$ \\\\\n",
       "\t4 & Country &  &  & Afghanistan &  &  &  & $\\dots$ \\\\\n",
       "\t5 & my18 & 32.7392 & 133.722 & 0.001 & 0.439 & 5.453 & 19.751 & $\\dots$ \\\\\n",
       "\t6 & my19 & 33.0925 & 134.72 & 0.001 & 0.44 & 5.457 & 20.321 & $\\dots$ \\\\\n",
       "\t7 & mydelta & 0.353296 & 1.15455 & -0.371 & 0.001 & 0.044 & 0.237 & $\\dots$ \\\\\n",
       "\t8 & mypct & 1.05227 & 1.30645 & -8.33 & 0.07 & 0.98 & 1.92 & $\\dots$ \\\\\n",
       "\t9 & my100 & 0.428884 & 1.74746 & 0.0 & 0.01 & 0.07 & 0.26 & $\\dots$ \\\\\n",
       "\\end{tabular}\n"
      ],
      "text/plain": [
       "\u001b[1m9×16 DataFrame\u001b[0m\n",
       "\u001b[1m Row \u001b[0m│\u001b[1m variable  \u001b[0m\u001b[1m mean     \u001b[0m\u001b[1m std     \u001b[0m\u001b[1m min                       \u001b[0m\u001b[1m q25    \u001b[0m\u001b[1m median\u001b[0m ⋯\n",
       "     │\u001b[90m Symbol    \u001b[0m\u001b[90m Union…   \u001b[0m\u001b[90m Union…  \u001b[0m\u001b[90m Any                       \u001b[0m\u001b[90m Union… \u001b[0m\u001b[90m Union…\u001b[0m ⋯\n",
       "─────┼──────────────────────────────────────────────────────────────────────────\n",
       "   1 │ id         117.0     67.4055  1                          59.0    117.0  ⋯\n",
       "   2 │ Region    \u001b[90m          \u001b[0m\u001b[90m         \u001b[0m Africa                    \u001b[90m        \u001b[0m\u001b[90m       \u001b[0m\n",
       "   3 │ Subregion \u001b[90m          \u001b[0m\u001b[90m         \u001b[0m Australia and New Zealand \u001b[90m        \u001b[0m\u001b[90m       \u001b[0m\n",
       "   4 │ Country   \u001b[90m          \u001b[0m\u001b[90m         \u001b[0m Afghanistan               \u001b[90m        \u001b[0m\u001b[90m       \u001b[0m\n",
       "   5 │ my18       32.7392   133.722  0.001                      0.439   5.453  ⋯\n",
       "   6 │ my19       33.0925   134.72   0.001                      0.44    5.457\n",
       "   7 │ mydelta    0.353296  1.15455  -0.371                     0.001   0.044\n",
       "   8 │ mypct      1.05227   1.30645  -8.33                      0.07    0.98\n",
       "   9 │ my100      0.428884  1.74746  0.0                        0.01    0.07   ⋯\n",
       "\u001b[36m                                                              10 columns omitted\u001b[0m"
      ]
     },
     "metadata": {},
     "output_type": "display_data"
    }
   ],
   "source": [
    "describe(mydf, :all)"
   ]
  },
  {
   "cell_type": "markdown",
   "metadata": {},
   "source": [
    "# 5. Więcej funkcji w DataFrames"
   ]
  },
  {
   "cell_type": "code",
   "execution_count": 192,
   "metadata": {},
   "outputs": [
    {
     "data": {
      "text/plain": [
       "5-element Vector{Union{Missing, String15}}:\n",
       " \"Asia\"\n",
       " \"Americas\"\n",
       " \"Africa\"\n",
       " \"Europe\"\n",
       " \"Oceania\""
      ]
     },
     "metadata": {},
     "output_type": "display_data"
    }
   ],
   "source": [
    "regions_u = unique(mydf.Region)"
   ]
  },
  {
   "cell_type": "code",
   "execution_count": 193,
   "metadata": {},
   "outputs": [
    {
     "data": {
      "text/html": [
       "<div><div style = \"float: left;\"><span>233×9 DataFrame</span></div><div style = \"float: right;\"><span style = \"font-style: italic;\">223 rows omitted</span></div><div style = \"clear: both;\"></div></div><div class = \"data-frame\" style = \"overflow-x: scroll;\"><table class = \"data-frame\" style = \"margin-bottom: 6px;\"><thead><tr class = \"header\"><th class = \"rowNumber\" style = \"font-weight: bold; text-align: right;\">Row</th><th style = \"text-align: left;\">id</th><th style = \"text-align: left;\">Region</th><th style = \"text-align: left;\">Subregion</th><th style = \"text-align: left;\">Country</th><th style = \"text-align: left;\">my18</th><th style = \"text-align: left;\">my19</th><th style = \"text-align: left;\">mydelta</th><th style = \"text-align: left;\">mypct</th><th style = \"text-align: left;\">my100</th></tr><tr class = \"subheader headerLastRow\"><th class = \"rowNumber\" style = \"font-weight: bold; text-align: right;\"></th><th title = \"Int64\" style = \"text-align: left;\">Int64</th><th title = \"Union{Missing, String15}\" style = \"text-align: left;\">String15?</th><th title = \"Union{Missing, String31}\" style = \"text-align: left;\">String31?</th><th title = \"String\" style = \"text-align: left;\">String</th><th title = \"Float64\" style = \"text-align: left;\">Float64</th><th title = \"Float64\" style = \"text-align: left;\">Float64</th><th title = \"Float64\" style = \"text-align: left;\">Float64</th><th title = \"Float64\" style = \"text-align: left;\">Float64</th><th title = \"Float64\" style = \"text-align: left;\">Float64</th></tr></thead><tbody><tr><td class = \"rowNumber\" style = \"font-weight: bold; text-align: right;\">1</td><td style = \"text-align: right;\">37</td><td style = \"text-align: left;\">Asia</td><td style = \"text-align: left;\">Southern Asia</td><td style = \"text-align: left;\">Afghanistan</td><td style = \"text-align: right;\">37.172</td><td style = \"text-align: right;\">38.042</td><td style = \"text-align: right;\">0.87</td><td style = \"text-align: right;\">2.34</td><td style = \"text-align: right;\">0.49</td></tr><tr><td class = \"rowNumber\" style = \"font-weight: bold; text-align: right;\">2</td><td style = \"text-align: right;\">140</td><td style = \"text-align: left;\">Europe</td><td style = \"text-align: left;\">Southern Europe</td><td style = \"text-align: left;\">Albania</td><td style = \"text-align: right;\">2.883</td><td style = \"text-align: right;\">2.881</td><td style = \"text-align: right;\">-0.002</td><td style = \"text-align: right;\">-0.07</td><td style = \"text-align: right;\">0.04</td></tr><tr><td class = \"rowNumber\" style = \"font-weight: bold; text-align: right;\">3</td><td style = \"text-align: right;\">34</td><td style = \"text-align: left;\">Africa</td><td style = \"text-align: left;\">Northern Africa</td><td style = \"text-align: left;\">Algeria</td><td style = \"text-align: right;\">42.228</td><td style = \"text-align: right;\">43.053</td><td style = \"text-align: right;\">0.825</td><td style = \"text-align: right;\">1.95</td><td style = \"text-align: right;\">0.56</td></tr><tr><td class = \"rowNumber\" style = \"font-weight: bold; text-align: right;\">4</td><td style = \"text-align: right;\">210</td><td style = \"text-align: left;\">Oceania</td><td style = \"text-align: left;\">Polynesia</td><td style = \"text-align: left;\">American Samoa (United States)</td><td style = \"text-align: right;\">0.055</td><td style = \"text-align: right;\">0.055</td><td style = \"text-align: right;\">0.0</td><td style = \"text-align: right;\">0.0</td><td style = \"text-align: right;\">0.0</td></tr><tr><td class = \"rowNumber\" style = \"font-weight: bold; text-align: right;\">5</td><td style = \"text-align: right;\">203</td><td style = \"text-align: left;\">Europe</td><td style = \"text-align: left;\">Southern Europe</td><td style = \"text-align: left;\">Andorra</td><td style = \"text-align: right;\">0.077</td><td style = \"text-align: right;\">0.077</td><td style = \"text-align: right;\">0.0</td><td style = \"text-align: right;\">0.0</td><td style = \"text-align: right;\">0.0</td></tr><tr><td style = \"text-align: right;\">&vellip;</td><td style = \"text-align: right;\">&vellip;</td><td style = \"text-align: right;\">&vellip;</td><td style = \"text-align: right;\">&vellip;</td><td style = \"text-align: right;\">&vellip;</td><td style = \"text-align: right;\">&vellip;</td><td style = \"text-align: right;\">&vellip;</td><td style = \"text-align: right;\">&vellip;</td><td style = \"text-align: right;\">&vellip;</td><td style = \"text-align: right;\">&vellip;</td></tr><tr><td class = \"rowNumber\" style = \"font-weight: bold; text-align: right;\">229</td><td style = \"text-align: right;\">170</td><td style = \"text-align: left;\">Africa</td><td style = \"text-align: left;\">Northern Africa</td><td style = \"text-align: left;\">Western Sahara</td><td style = \"text-align: right;\">0.567</td><td style = \"text-align: right;\">0.582</td><td style = \"text-align: right;\">0.015</td><td style = \"text-align: right;\">2.65</td><td style = \"text-align: right;\">0.01</td></tr><tr><td class = \"rowNumber\" style = \"font-weight: bold; text-align: right;\">230</td><td style = \"text-align: right;\">188</td><td style = \"text-align: left;\">Oceania</td><td style = \"text-align: left;\">Polynesia</td><td style = \"text-align: left;\">Western Samoa</td><td style = \"text-align: right;\">0.196</td><td style = \"text-align: right;\">0.197</td><td style = \"text-align: right;\">0.001</td><td style = \"text-align: right;\">0.51</td><td style = \"text-align: right;\">0.0</td></tr><tr><td class = \"rowNumber\" style = \"font-weight: bold; text-align: right;\">231</td><td style = \"text-align: right;\">47</td><td style = \"text-align: left;\">Asia</td><td style = \"text-align: left;\">Western Asia</td><td style = \"text-align: left;\">Yemen</td><td style = \"text-align: right;\">28.499</td><td style = \"text-align: right;\">29.162</td><td style = \"text-align: right;\">0.663</td><td style = \"text-align: right;\">2.33</td><td style = \"text-align: right;\">0.38</td></tr><tr><td class = \"rowNumber\" style = \"font-weight: bold; text-align: right;\">232</td><td style = \"text-align: right;\">65</td><td style = \"text-align: left;\">Africa</td><td style = \"text-align: left;\">Eastern Africa</td><td style = \"text-align: left;\">Zambia</td><td style = \"text-align: right;\">17.352</td><td style = \"text-align: right;\">17.861</td><td style = \"text-align: right;\">0.509</td><td style = \"text-align: right;\">2.93</td><td style = \"text-align: right;\">0.23</td></tr><tr><td class = \"rowNumber\" style = \"font-weight: bold; text-align: right;\">233</td><td style = \"text-align: right;\">74</td><td style = \"text-align: left;\">Africa</td><td style = \"text-align: left;\">Eastern Africa</td><td style = \"text-align: left;\">Zimbabwe</td><td style = \"text-align: right;\">14.439</td><td style = \"text-align: right;\">14.645</td><td style = \"text-align: right;\">0.206</td><td style = \"text-align: right;\">1.43</td><td style = \"text-align: right;\">0.19</td></tr></tbody></table></div>"
      ],
      "text/latex": [
       "\\begin{tabular}{r|cccccc}\n",
       "\t& id & Region & Subregion & Country & my18 & \\\\\n",
       "\t\\hline\n",
       "\t& Int64 & String15? & String31? & String & Float64 & \\\\\n",
       "\t\\hline\n",
       "\t1 & 37 & Asia & Southern Asia & Afghanistan & 37.172 & $\\dots$ \\\\\n",
       "\t2 & 140 & Europe & Southern Europe & Albania & 2.883 & $\\dots$ \\\\\n",
       "\t3 & 34 & Africa & Northern Africa & Algeria & 42.228 & $\\dots$ \\\\\n",
       "\t4 & 210 & Oceania & Polynesia & American Samoa (United States) & 0.055 & $\\dots$ \\\\\n",
       "\t5 & 203 & Europe & Southern Europe & Andorra & 0.077 & $\\dots$ \\\\\n",
       "\t6 & 45 & Africa & Middle Africa & Angola & 30.81 & $\\dots$ \\\\\n",
       "\t7 & 223 & Americas & Caribbean & Anguilla (United Kingdom) & 0.015 & $\\dots$ \\\\\n",
       "\t8 & 201 & Americas & Caribbean & Antigua and Barbuda & 0.096 & $\\dots$ \\\\\n",
       "\t9 & 31 & Americas & South America & Argentina & 44.361 & $\\dots$ \\\\\n",
       "\t10 & 137 & Asia & Western Asia & Armenia & 2.952 & $\\dots$ \\\\\n",
       "\t11 & 198 & Americas & Caribbean & Aruba (Netherlands) & 0.106 & $\\dots$ \\\\\n",
       "\t12 & 55 & Oceania & Australia and New Zealand & Australia & 24.898 & $\\dots$ \\\\\n",
       "\t13 & 97 & Europe & Western Europe & Austria & 8.891 & $\\dots$ \\\\\n",
       "\t14 & 90 & Asia & Western Asia & Azerbaijan & 9.95 & $\\dots$ \\\\\n",
       "\t15 & 178 & Americas & Caribbean & Bahamas & 0.386 & $\\dots$ \\\\\n",
       "\t16 & 152 & Asia & Western Asia & Bahrain & 1.569 & $\\dots$ \\\\\n",
       "\t17 & 8 & Asia & Southern Asia & Bangladesh & 161.377 & $\\dots$ \\\\\n",
       "\t18 & 182 & Americas & Caribbean & Barbados & 0.287 & $\\dots$ \\\\\n",
       "\t19 & 95 & Europe & Eastern Europe & Belarus & 9.453 & $\\dots$ \\\\\n",
       "\t20 & 79 & Europe & Western Europe & Belgium & 11.482 & $\\dots$ \\\\\n",
       "\t21 & 177 & Americas & Central America & Belize & 0.383 & $\\dots$ \\\\\n",
       "\t22 & 77 & Africa & Western Africa & Benin & 11.485 & $\\dots$ \\\\\n",
       "\t23 & 206 & Americas & Northern America & Bermuda (United Kingdom) & 0.063 & $\\dots$ \\\\\n",
       "\t24 & 165 & Asia & Southern Asia & Bhutan & 0.754 & $\\dots$ \\\\\n",
       "\t$\\dots$ & $\\dots$ & $\\dots$ & $\\dots$ & $\\dots$ & $\\dots$ &  \\\\\n",
       "\\end{tabular}\n"
      ],
      "text/plain": [
       "\u001b[1m233×9 DataFrame\u001b[0m\n",
       "\u001b[1m Row \u001b[0m│\u001b[1m id    \u001b[0m\u001b[1m Region    \u001b[0m\u001b[1m Subregion          \u001b[0m\u001b[1m Country                        \u001b[0m\u001b[1m m\u001b[0m ⋯\n",
       "     │\u001b[90m Int64 \u001b[0m\u001b[90m String15? \u001b[0m\u001b[90m String31?          \u001b[0m\u001b[90m String                         \u001b[0m\u001b[90m F\u001b[0m ⋯\n",
       "─────┼──────────────────────────────────────────────────────────────────────────\n",
       "   1 │    37  Asia       Southern Asia       Afghanistan                       ⋯\n",
       "   2 │   140  Europe     Southern Europe     Albania\n",
       "   3 │    34  Africa     Northern Africa     Algeria\n",
       "   4 │   210  Oceania    Polynesia           American Samoa (United States)\n",
       "   5 │   203  Europe     Southern Europe     Andorra                           ⋯\n",
       "   6 │    45  Africa     Middle Africa       Angola\n",
       "   7 │   223  Americas   Caribbean           Anguilla (United Kingdom)\n",
       "   8 │   201  Americas   Caribbean           Antigua and Barbuda\n",
       "  ⋮  │   ⋮        ⋮              ⋮                         ⋮                   ⋱\n",
       " 227 │    15  Asia       South-eastern Asia  Vietnam                           ⋯\n",
       " 228 │   225  Oceania    Polynesia           Wallis and Futuna (France)\n",
       " 229 │   170  Africa     Northern Africa     Western Sahara\n",
       " 230 │   188  Oceania    Polynesia           Western Samoa\n",
       " 231 │    47  Asia       Western Asia        Yemen                             ⋯\n",
       " 232 │    65  Africa     Eastern Africa      Zambia\n",
       " 233 │    74  Africa     Eastern Africa      Zimbabwe\n",
       "\u001b[36m                                                  5 columns and 218 rows omitted\u001b[0m"
      ]
     },
     "metadata": {},
     "output_type": "display_data"
    }
   ],
   "source": [
    "mydf = sort!(mydf, :Country)"
   ]
  },
  {
   "cell_type": "code",
   "execution_count": 194,
   "metadata": {},
   "outputs": [
    {
     "data": {
      "text/html": [
       "<div><div style = \"float: left;\"><span>233×9 DataFrame</span></div><div style = \"float: right;\"><span style = \"font-style: italic;\">223 rows omitted</span></div><div style = \"clear: both;\"></div></div><div class = \"data-frame\" style = \"overflow-x: scroll;\"><table class = \"data-frame\" style = \"margin-bottom: 6px;\"><thead><tr class = \"header\"><th class = \"rowNumber\" style = \"font-weight: bold; text-align: right;\">Row</th><th style = \"text-align: left;\">id</th><th style = \"text-align: left;\">Region</th><th style = \"text-align: left;\">Subregion</th><th style = \"text-align: left;\">Country</th><th style = \"text-align: left;\">my18</th><th style = \"text-align: left;\">my19</th><th style = \"text-align: left;\">mydelta</th><th style = \"text-align: left;\">mypct</th><th style = \"text-align: left;\">my100</th></tr><tr class = \"subheader headerLastRow\"><th class = \"rowNumber\" style = \"font-weight: bold; text-align: right;\"></th><th title = \"Int64\" style = \"text-align: left;\">Int64</th><th title = \"Union{Missing, String15}\" style = \"text-align: left;\">String15?</th><th title = \"Union{Missing, String31}\" style = \"text-align: left;\">String31?</th><th title = \"String\" style = \"text-align: left;\">String</th><th title = \"Float64\" style = \"text-align: left;\">Float64</th><th title = \"Float64\" style = \"text-align: left;\">Float64</th><th title = \"Float64\" style = \"text-align: left;\">Float64</th><th title = \"Float64\" style = \"text-align: left;\">Float64</th><th title = \"Float64\" style = \"text-align: left;\">Float64</th></tr></thead><tbody><tr><td class = \"rowNumber\" style = \"font-weight: bold; text-align: right;\">1</td><td style = \"text-align: right;\">84</td><td style = \"text-align: left;\">Africa</td><td style = \"text-align: left;\">Eastern Africa</td><td style = \"text-align: left;\">Burundi</td><td style = \"text-align: right;\">10.524</td><td style = \"text-align: right;\">10.864</td><td style = \"text-align: right;\">0.34</td><td style = \"text-align: right;\">3.23</td><td style = \"text-align: right;\">0.14</td></tr><tr><td class = \"rowNumber\" style = \"font-weight: bold; text-align: right;\">2</td><td style = \"text-align: right;\">163</td><td style = \"text-align: left;\">Africa</td><td style = \"text-align: left;\">Eastern Africa</td><td style = \"text-align: left;\">Comoros</td><td style = \"text-align: right;\">0.832</td><td style = \"text-align: right;\">0.851</td><td style = \"text-align: right;\">0.019</td><td style = \"text-align: right;\">2.28</td><td style = \"text-align: right;\">0.01</td></tr><tr><td class = \"rowNumber\" style = \"font-weight: bold; text-align: right;\">3</td><td style = \"text-align: right;\">160</td><td style = \"text-align: left;\">Africa</td><td style = \"text-align: left;\">Eastern Africa</td><td style = \"text-align: left;\">Djibouti</td><td style = \"text-align: right;\">0.959</td><td style = \"text-align: right;\">0.974</td><td style = \"text-align: right;\">0.015</td><td style = \"text-align: right;\">1.56</td><td style = \"text-align: right;\">0.01</td></tr><tr><td class = \"rowNumber\" style = \"font-weight: bold; text-align: right;\">4</td><td style = \"text-align: right;\">133</td><td style = \"text-align: left;\">Africa</td><td style = \"text-align: left;\">Eastern Africa</td><td style = \"text-align: left;\">Eritrea</td><td style = \"text-align: right;\">3.453</td><td style = \"text-align: right;\">3.497</td><td style = \"text-align: right;\">0.044</td><td style = \"text-align: right;\">1.27</td><td style = \"text-align: right;\">0.05</td></tr><tr><td class = \"rowNumber\" style = \"font-weight: bold; text-align: right;\">5</td><td style = \"text-align: right;\">12</td><td style = \"text-align: left;\">Africa</td><td style = \"text-align: left;\">Eastern Africa</td><td style = \"text-align: left;\">Ethiopia</td><td style = \"text-align: right;\">109.224</td><td style = \"text-align: right;\">112.079</td><td style = \"text-align: right;\">2.855</td><td style = \"text-align: right;\">2.61</td><td style = \"text-align: right;\">1.45</td></tr><tr><td style = \"text-align: right;\">&vellip;</td><td style = \"text-align: right;\">&vellip;</td><td style = \"text-align: right;\">&vellip;</td><td style = \"text-align: right;\">&vellip;</td><td style = \"text-align: right;\">&vellip;</td><td style = \"text-align: right;\">&vellip;</td><td style = \"text-align: right;\">&vellip;</td><td style = \"text-align: right;\">&vellip;</td><td style = \"text-align: right;\">&vellip;</td><td style = \"text-align: right;\">&vellip;</td></tr><tr><td class = \"rowNumber\" style = \"font-weight: bold; text-align: right;\">229</td><td style = \"text-align: right;\">232</td><td style = \"text-align: left;\">Oceania</td><td style = \"text-align: left;\">Polynesia</td><td style = \"text-align: left;\">Tokelau (New Zealand)</td><td style = \"text-align: right;\">0.001</td><td style = \"text-align: right;\">0.001</td><td style = \"text-align: right;\">0.0</td><td style = \"text-align: right;\">0.0</td><td style = \"text-align: right;\">0.0</td></tr><tr><td class = \"rowNumber\" style = \"font-weight: bold; text-align: right;\">230</td><td style = \"text-align: right;\">196</td><td style = \"text-align: left;\">Oceania</td><td style = \"text-align: left;\">Polynesia</td><td style = \"text-align: left;\">Tonga</td><td style = \"text-align: right;\">0.111</td><td style = \"text-align: right;\">0.111</td><td style = \"text-align: right;\">0.0</td><td style = \"text-align: right;\">0.0</td><td style = \"text-align: right;\">0.0</td></tr><tr><td class = \"rowNumber\" style = \"font-weight: bold; text-align: right;\">231</td><td style = \"text-align: right;\">224</td><td style = \"text-align: left;\">Oceania</td><td style = \"text-align: left;\">Polynesia</td><td style = \"text-align: left;\">Tuvalu</td><td style = \"text-align: right;\">0.012</td><td style = \"text-align: right;\">0.012</td><td style = \"text-align: right;\">0.0</td><td style = \"text-align: right;\">0.0</td><td style = \"text-align: right;\">0.0</td></tr><tr><td class = \"rowNumber\" style = \"font-weight: bold; text-align: right;\">232</td><td style = \"text-align: right;\">225</td><td style = \"text-align: left;\">Oceania</td><td style = \"text-align: left;\">Polynesia</td><td style = \"text-align: left;\">Wallis and Futuna (France)</td><td style = \"text-align: right;\">0.012</td><td style = \"text-align: right;\">0.011</td><td style = \"text-align: right;\">-0.001</td><td style = \"text-align: right;\">-8.33</td><td style = \"text-align: right;\">0.0</td></tr><tr><td class = \"rowNumber\" style = \"font-weight: bold; text-align: right;\">233</td><td style = \"text-align: right;\">188</td><td style = \"text-align: left;\">Oceania</td><td style = \"text-align: left;\">Polynesia</td><td style = \"text-align: left;\">Western Samoa</td><td style = \"text-align: right;\">0.196</td><td style = \"text-align: right;\">0.197</td><td style = \"text-align: right;\">0.001</td><td style = \"text-align: right;\">0.51</td><td style = \"text-align: right;\">0.0</td></tr></tbody></table></div>"
      ],
      "text/latex": [
       "\\begin{tabular}{r|cccccccc}\n",
       "\t& id & Region & Subregion & Country & my18 & my19 & mydelta & \\\\\n",
       "\t\\hline\n",
       "\t& Int64 & String15? & String31? & String & Float64 & Float64 & Float64 & \\\\\n",
       "\t\\hline\n",
       "\t1 & 84 & Africa & Eastern Africa & Burundi & 10.524 & 10.864 & 0.34 & $\\dots$ \\\\\n",
       "\t2 & 163 & Africa & Eastern Africa & Comoros & 0.832 & 0.851 & 0.019 & $\\dots$ \\\\\n",
       "\t3 & 160 & Africa & Eastern Africa & Djibouti & 0.959 & 0.974 & 0.015 & $\\dots$ \\\\\n",
       "\t4 & 133 & Africa & Eastern Africa & Eritrea & 3.453 & 3.497 & 0.044 & $\\dots$ \\\\\n",
       "\t5 & 12 & Africa & Eastern Africa & Ethiopia & 109.224 & 112.079 & 2.855 & $\\dots$ \\\\\n",
       "\t6 & 27 & Africa & Eastern Africa & Kenya & 51.393 & 52.574 & 1.181 & $\\dots$ \\\\\n",
       "\t7 & 51 & Africa & Eastern Africa & Madagascar & 26.262 & 26.969 & 0.707 & $\\dots$ \\\\\n",
       "\t8 & 62 & Africa & Eastern Africa & Malawi & 18.143 & 18.629 & 0.486 & $\\dots$ \\\\\n",
       "\t9 & 157 & Africa & Eastern Africa & Mauritius & 1.189 & 1.199 & 0.01 & $\\dots$ \\\\\n",
       "\t10 & 186 & Africa & Eastern Africa & Mayotte (France) & 0.26 & 0.266 & 0.006 & $\\dots$ \\\\\n",
       "\t11 & 46 & Africa & Eastern Africa & Mozambique & 29.496 & 30.366 & 0.87 & $\\dots$ \\\\\n",
       "\t12 & 76 & Africa & Eastern Africa & Rwanda & 12.302 & 12.627 & 0.325 & $\\dots$ \\\\\n",
       "\t13 & 162 & Africa & Eastern Africa & Réunion (France) & 0.883 & 0.889 & 0.006 & $\\dots$ \\\\\n",
       "\t14 & 200 & Africa & Eastern Africa & Seychelles & 0.097 & 0.098 & 0.001 & $\\dots$ \\\\\n",
       "\t15 & 73 & Africa & Eastern Africa & Somalia & 15.008 & 15.443 & 0.435 & $\\dots$ \\\\\n",
       "\t16 & 83 & Africa & Eastern Africa & South Sudan & 10.976 & 11.062 & 0.086 & $\\dots$ \\\\\n",
       "\t17 & 25 & Africa & Eastern Africa & Tanzania & 56.313 & 58.005 & 1.692 & $\\dots$ \\\\\n",
       "\t18 & 32 & Africa & Eastern Africa & Uganda & 42.729 & 44.27 & 1.541 & $\\dots$ \\\\\n",
       "\t19 & 65 & Africa & Eastern Africa & Zambia & 17.352 & 17.861 & 0.509 & $\\dots$ \\\\\n",
       "\t20 & 74 & Africa & Eastern Africa & Zimbabwe & 14.439 & 14.645 & 0.206 & $\\dots$ \\\\\n",
       "\t21 & 45 & Africa & Middle Africa & Angola & 30.81 & 31.825 & 1.015 & $\\dots$ \\\\\n",
       "\t22 & 54 & Africa & Middle Africa & Cameroon & 25.216 & 25.876 & 0.66 & $\\dots$ \\\\\n",
       "\t23 & 126 & Africa & Middle Africa & Central African Republic & 4.666 & 4.745 & 0.079 & $\\dots$ \\\\\n",
       "\t24 & 72 & Africa & Middle Africa & Chad & 15.478 & 15.947 & 0.469 & $\\dots$ \\\\\n",
       "\t$\\dots$ & $\\dots$ & $\\dots$ & $\\dots$ & $\\dots$ & $\\dots$ & $\\dots$ & $\\dots$ &  \\\\\n",
       "\\end{tabular}\n"
      ],
      "text/plain": [
       "\u001b[1m233×9 DataFrame\u001b[0m\n",
       "\u001b[1m Row \u001b[0m│\u001b[1m id    \u001b[0m\u001b[1m Region    \u001b[0m\u001b[1m Subregion      \u001b[0m\u001b[1m Country                           \u001b[0m\u001b[1m my\u001b[0m ⋯\n",
       "     │\u001b[90m Int64 \u001b[0m\u001b[90m String15? \u001b[0m\u001b[90m String31?      \u001b[0m\u001b[90m String                            \u001b[0m\u001b[90m Fl\u001b[0m ⋯\n",
       "─────┼──────────────────────────────────────────────────────────────────────────\n",
       "   1 │    84  Africa     Eastern Africa  Burundi                             1 ⋯\n",
       "   2 │   163  Africa     Eastern Africa  Comoros\n",
       "   3 │   160  Africa     Eastern Africa  Djibouti\n",
       "   4 │   133  Africa     Eastern Africa  Eritrea\n",
       "   5 │    12  Africa     Eastern Africa  Ethiopia                           10 ⋯\n",
       "   6 │    27  Africa     Eastern Africa  Kenya                               5\n",
       "   7 │    51  Africa     Eastern Africa  Madagascar                          2\n",
       "   8 │    62  Africa     Eastern Africa  Malawi                              1\n",
       "  ⋮  │   ⋮        ⋮            ⋮                         ⋮                     ⋱\n",
       " 227 │   185  Oceania    Polynesia       French Polynesia (France)             ⋯\n",
       " 228 │   231  Oceania    Polynesia       Niue (New Zealand)\n",
       " 229 │   232  Oceania    Polynesia       Tokelau (New Zealand)\n",
       " 230 │   196  Oceania    Polynesia       Tonga\n",
       " 231 │   224  Oceania    Polynesia       Tuvalu                                ⋯\n",
       " 232 │   225  Oceania    Polynesia       Wallis and Futuna (France)\n",
       " 233 │   188  Oceania    Polynesia       Western Samoa\n",
       "\u001b[36m                                                  5 columns and 218 rows omitted\u001b[0m"
      ]
     },
     "metadata": {},
     "output_type": "display_data"
    }
   ],
   "source": [
    "myorder = [:Region, :Subregion, :Country]\n",
    "mydf = sort!(mydf, myorder)"
   ]
  },
  {
   "cell_type": "code",
   "execution_count": 195,
   "metadata": {},
   "outputs": [
    {
     "data": {
      "text/html": [
       "<p><b>GroupedDataFrame with 5 groups based on key: Region</b></p><div><div style = \"float: left;\"><span>First Group (51 rows): Region = &quot;Asia&quot;</span></div><div style = \"float: right;\"><span style = \"font-style: italic;\">41 rows omitted</span></div><div style = \"clear: both;\"></div></div><div class = \"data-frame\" style = \"overflow-x: scroll;\"><table class = \"data-frame\" style = \"margin-bottom: 6px;\"><thead><tr class = \"header\"><th class = \"rowNumber\" style = \"font-weight: bold; text-align: right;\">Row</th><th style = \"text-align: left;\">id</th><th style = \"text-align: left;\">Region</th><th style = \"text-align: left;\">Subregion</th><th style = \"text-align: left;\">Country</th><th style = \"text-align: left;\">my18</th><th style = \"text-align: left;\">my19</th><th style = \"text-align: left;\">mydelta</th><th style = \"text-align: left;\">mypct</th><th style = \"text-align: left;\">my100</th></tr><tr class = \"subheader headerLastRow\"><th class = \"rowNumber\" style = \"font-weight: bold; text-align: right;\"></th><th title = \"Int64\" style = \"text-align: left;\">Int64</th><th title = \"Union{Missing, String15}\" style = \"text-align: left;\">String15?</th><th title = \"Union{Missing, String31}\" style = \"text-align: left;\">String31?</th><th title = \"String\" style = \"text-align: left;\">String</th><th title = \"Float64\" style = \"text-align: left;\">Float64</th><th title = \"Float64\" style = \"text-align: left;\">Float64</th><th title = \"Float64\" style = \"text-align: left;\">Float64</th><th title = \"Float64\" style = \"text-align: left;\">Float64</th><th title = \"Float64\" style = \"text-align: left;\">Float64</th></tr></thead><tbody><tr><td class = \"rowNumber\" style = \"font-weight: bold; text-align: right;\">1</td><td style = \"text-align: right;\">64</td><td style = \"text-align: left;\">Asia</td><td style = \"text-align: left;\">Central Asia</td><td style = \"text-align: left;\">Kazakhstan</td><td style = \"text-align: right;\">18.32</td><td style = \"text-align: right;\">18.551</td><td style = \"text-align: right;\">0.231</td><td style = \"text-align: right;\">1.26</td><td style = \"text-align: right;\">0.24</td></tr><tr><td class = \"rowNumber\" style = \"font-weight: bold; text-align: right;\">2</td><td style = \"text-align: right;\">112</td><td style = \"text-align: left;\">Asia</td><td style = \"text-align: left;\">Central Asia</td><td style = \"text-align: left;\">Kyrgyzstan</td><td style = \"text-align: right;\">6.304</td><td style = \"text-align: right;\">6.416</td><td style = \"text-align: right;\">0.112</td><td style = \"text-align: right;\">1.78</td><td style = \"text-align: right;\">0.08</td></tr><tr><td class = \"rowNumber\" style = \"font-weight: bold; text-align: right;\">3</td><td style = \"text-align: right;\">96</td><td style = \"text-align: left;\">Asia</td><td style = \"text-align: left;\">Central Asia</td><td style = \"text-align: left;\">Tajikistan</td><td style = \"text-align: right;\">9.101</td><td style = \"text-align: right;\">9.321</td><td style = \"text-align: right;\">0.22</td><td style = \"text-align: right;\">2.42</td><td style = \"text-align: right;\">0.12</td></tr><tr><td class = \"rowNumber\" style = \"font-weight: bold; text-align: right;\">4</td><td style = \"text-align: right;\">113</td><td style = \"text-align: left;\">Asia</td><td style = \"text-align: left;\">Central Asia</td><td style = \"text-align: left;\">Turkmenistan</td><td style = \"text-align: right;\">5.851</td><td style = \"text-align: right;\">5.942</td><td style = \"text-align: right;\">0.091</td><td style = \"text-align: right;\">1.56</td><td style = \"text-align: right;\">0.08</td></tr><tr><td class = \"rowNumber\" style = \"font-weight: bold; text-align: right;\">5</td><td style = \"text-align: right;\">42</td><td style = \"text-align: left;\">Asia</td><td style = \"text-align: left;\">Central Asia</td><td style = \"text-align: left;\">Uzbekistan</td><td style = \"text-align: right;\">32.476</td><td style = \"text-align: right;\">32.982</td><td style = \"text-align: right;\">0.506</td><td style = \"text-align: right;\">1.56</td><td style = \"text-align: right;\">0.43</td></tr><tr><td style = \"text-align: right;\">&vellip;</td><td style = \"text-align: right;\">&vellip;</td><td style = \"text-align: right;\">&vellip;</td><td style = \"text-align: right;\">&vellip;</td><td style = \"text-align: right;\">&vellip;</td><td style = \"text-align: right;\">&vellip;</td><td style = \"text-align: right;\">&vellip;</td><td style = \"text-align: right;\">&vellip;</td><td style = \"text-align: right;\">&vellip;</td><td style = \"text-align: right;\">&vellip;</td></tr><tr><td class = \"rowNumber\" style = \"font-weight: bold; text-align: right;\">47</td><td style = \"text-align: right;\">41</td><td style = \"text-align: left;\">Asia</td><td style = \"text-align: left;\">Western Asia</td><td style = \"text-align: left;\">Saudi Arabia</td><td style = \"text-align: right;\">33.703</td><td style = \"text-align: right;\">34.269</td><td style = \"text-align: right;\">0.566</td><td style = \"text-align: right;\">1.68</td><td style = \"text-align: right;\">0.44</td></tr><tr><td class = \"rowNumber\" style = \"font-weight: bold; text-align: right;\">48</td><td style = \"text-align: right;\">69</td><td style = \"text-align: left;\">Asia</td><td style = \"text-align: left;\">Western Asia</td><td style = \"text-align: left;\">Syria</td><td style = \"text-align: right;\">16.945</td><td style = \"text-align: right;\">17.07</td><td style = \"text-align: right;\">0.125</td><td style = \"text-align: right;\">0.74</td><td style = \"text-align: right;\">0.22</td></tr><tr><td class = \"rowNumber\" style = \"font-weight: bold; text-align: right;\">49</td><td style = \"text-align: right;\">18</td><td style = \"text-align: left;\">Asia</td><td style = \"text-align: left;\">Western Asia</td><td style = \"text-align: left;\">Turkey</td><td style = \"text-align: right;\">82.34</td><td style = \"text-align: right;\">83.43</td><td style = \"text-align: right;\">1.09</td><td style = \"text-align: right;\">1.32</td><td style = \"text-align: right;\">1.08</td></tr><tr><td class = \"rowNumber\" style = \"font-weight: bold; text-align: right;\">50</td><td style = \"text-align: right;\">92</td><td style = \"text-align: left;\">Asia</td><td style = \"text-align: left;\">Western Asia</td><td style = \"text-align: left;\">United Arab Emirates</td><td style = \"text-align: right;\">9.631</td><td style = \"text-align: right;\">9.771</td><td style = \"text-align: right;\">0.14</td><td style = \"text-align: right;\">1.45</td><td style = \"text-align: right;\">0.13</td></tr><tr><td class = \"rowNumber\" style = \"font-weight: bold; text-align: right;\">51</td><td style = \"text-align: right;\">47</td><td style = \"text-align: left;\">Asia</td><td style = \"text-align: left;\">Western Asia</td><td style = \"text-align: left;\">Yemen</td><td style = \"text-align: right;\">28.499</td><td style = \"text-align: right;\">29.162</td><td style = \"text-align: right;\">0.663</td><td style = \"text-align: right;\">2.33</td><td style = \"text-align: right;\">0.38</td></tr></tbody></table></div><p>&vellip;</p><div><div style = \"float: left;\"><span>Last Group (23 rows): Region = &quot;Oceania&quot;</span></div><div style = \"float: right;\"><span style = \"font-style: italic;\">13 rows omitted</span></div><div style = \"clear: both;\"></div></div><div class = \"data-frame\" style = \"overflow-x: scroll;\"><table class = \"data-frame\" style = \"margin-bottom: 6px;\"><thead><tr class = \"header\"><th class = \"rowNumber\" style = \"font-weight: bold; text-align: right;\">Row</th><th style = \"text-align: left;\">id</th><th style = \"text-align: left;\">Region</th><th style = \"text-align: left;\">Subregion</th><th style = \"text-align: left;\">Country</th><th style = \"text-align: left;\">my18</th><th style = \"text-align: left;\">my19</th><th style = \"text-align: left;\">mydelta</th><th style = \"text-align: left;\">mypct</th><th style = \"text-align: left;\">my100</th></tr><tr class = \"subheader headerLastRow\"><th class = \"rowNumber\" style = \"font-weight: bold; text-align: right;\"></th><th title = \"Int64\" style = \"text-align: left;\">Int64</th><th title = \"Union{Missing, String15}\" style = \"text-align: left;\">String15?</th><th title = \"Union{Missing, String31}\" style = \"text-align: left;\">String31?</th><th title = \"String\" style = \"text-align: left;\">String</th><th title = \"Float64\" style = \"text-align: left;\">Float64</th><th title = \"Float64\" style = \"text-align: left;\">Float64</th><th title = \"Float64\" style = \"text-align: left;\">Float64</th><th title = \"Float64\" style = \"text-align: left;\">Float64</th><th title = \"Float64\" style = \"text-align: left;\">Float64</th></tr></thead><tbody><tr><td class = \"rowNumber\" style = \"font-weight: bold; text-align: right;\">1</td><td style = \"text-align: right;\">55</td><td style = \"text-align: left;\">Oceania</td><td style = \"text-align: left;\">Australia and New Zealand</td><td style = \"text-align: left;\">Australia</td><td style = \"text-align: right;\">24.898</td><td style = \"text-align: right;\">25.203</td><td style = \"text-align: right;\">0.305</td><td style = \"text-align: right;\">1.22</td><td style = \"text-align: right;\">0.33</td></tr><tr><td class = \"rowNumber\" style = \"font-weight: bold; text-align: right;\">2</td><td style = \"text-align: right;\">125</td><td style = \"text-align: left;\">Oceania</td><td style = \"text-align: left;\">Australia and New Zealand</td><td style = \"text-align: left;\">New Zealand</td><td style = \"text-align: right;\">4.743</td><td style = \"text-align: right;\">4.783</td><td style = \"text-align: right;\">0.04</td><td style = \"text-align: right;\">0.84</td><td style = \"text-align: right;\">0.06</td></tr><tr><td class = \"rowNumber\" style = \"font-weight: bold; text-align: right;\">3</td><td style = \"text-align: right;\">161</td><td style = \"text-align: left;\">Oceania</td><td style = \"text-align: left;\">Melanesia</td><td style = \"text-align: left;\">Fiji</td><td style = \"text-align: right;\">0.883</td><td style = \"text-align: right;\">0.89</td><td style = \"text-align: right;\">0.007</td><td style = \"text-align: right;\">0.79</td><td style = \"text-align: right;\">0.01</td></tr><tr><td class = \"rowNumber\" style = \"font-weight: bold; text-align: right;\">4</td><td style = \"text-align: right;\">183</td><td style = \"text-align: left;\">Oceania</td><td style = \"text-align: left;\">Melanesia</td><td style = \"text-align: left;\">New Caledonia (France)</td><td style = \"text-align: right;\">0.28</td><td style = \"text-align: right;\">0.283</td><td style = \"text-align: right;\">0.003</td><td style = \"text-align: right;\">1.07</td><td style = \"text-align: right;\">0.0</td></tr><tr><td class = \"rowNumber\" style = \"font-weight: bold; text-align: right;\">5</td><td style = \"text-align: right;\">98</td><td style = \"text-align: left;\">Oceania</td><td style = \"text-align: left;\">Melanesia</td><td style = \"text-align: left;\">Papua New Guinea</td><td style = \"text-align: right;\">8.606</td><td style = \"text-align: right;\">8.776</td><td style = \"text-align: right;\">0.17</td><td style = \"text-align: right;\">1.98</td><td style = \"text-align: right;\">0.11</td></tr><tr><td style = \"text-align: right;\">&vellip;</td><td style = \"text-align: right;\">&vellip;</td><td style = \"text-align: right;\">&vellip;</td><td style = \"text-align: right;\">&vellip;</td><td style = \"text-align: right;\">&vellip;</td><td style = \"text-align: right;\">&vellip;</td><td style = \"text-align: right;\">&vellip;</td><td style = \"text-align: right;\">&vellip;</td><td style = \"text-align: right;\">&vellip;</td><td style = \"text-align: right;\">&vellip;</td></tr><tr><td class = \"rowNumber\" style = \"font-weight: bold; text-align: right;\">19</td><td style = \"text-align: right;\">232</td><td style = \"text-align: left;\">Oceania</td><td style = \"text-align: left;\">Polynesia</td><td style = \"text-align: left;\">Tokelau (New Zealand)</td><td style = \"text-align: right;\">0.001</td><td style = \"text-align: right;\">0.001</td><td style = \"text-align: right;\">0.0</td><td style = \"text-align: right;\">0.0</td><td style = \"text-align: right;\">0.0</td></tr><tr><td class = \"rowNumber\" style = \"font-weight: bold; text-align: right;\">20</td><td style = \"text-align: right;\">196</td><td style = \"text-align: left;\">Oceania</td><td style = \"text-align: left;\">Polynesia</td><td style = \"text-align: left;\">Tonga</td><td style = \"text-align: right;\">0.111</td><td style = \"text-align: right;\">0.111</td><td style = \"text-align: right;\">0.0</td><td style = \"text-align: right;\">0.0</td><td style = \"text-align: right;\">0.0</td></tr><tr><td class = \"rowNumber\" style = \"font-weight: bold; text-align: right;\">21</td><td style = \"text-align: right;\">224</td><td style = \"text-align: left;\">Oceania</td><td style = \"text-align: left;\">Polynesia</td><td style = \"text-align: left;\">Tuvalu</td><td style = \"text-align: right;\">0.012</td><td style = \"text-align: right;\">0.012</td><td style = \"text-align: right;\">0.0</td><td style = \"text-align: right;\">0.0</td><td style = \"text-align: right;\">0.0</td></tr><tr><td class = \"rowNumber\" style = \"font-weight: bold; text-align: right;\">22</td><td style = \"text-align: right;\">225</td><td style = \"text-align: left;\">Oceania</td><td style = \"text-align: left;\">Polynesia</td><td style = \"text-align: left;\">Wallis and Futuna (France)</td><td style = \"text-align: right;\">0.012</td><td style = \"text-align: right;\">0.011</td><td style = \"text-align: right;\">-0.001</td><td style = \"text-align: right;\">-8.33</td><td style = \"text-align: right;\">0.0</td></tr><tr><td class = \"rowNumber\" style = \"font-weight: bold; text-align: right;\">23</td><td style = \"text-align: right;\">188</td><td style = \"text-align: left;\">Oceania</td><td style = \"text-align: left;\">Polynesia</td><td style = \"text-align: left;\">Western Samoa</td><td style = \"text-align: right;\">0.196</td><td style = \"text-align: right;\">0.197</td><td style = \"text-align: right;\">0.001</td><td style = \"text-align: right;\">0.51</td><td style = \"text-align: right;\">0.0</td></tr></tbody></table></div>"
      ],
      "text/latex": [
       "GroupedDataFrame with 5 groups based on key: Region\n",
       "\n",
       "First Group (51 rows): Region = \"Asia\"\n",
       "\n",
       "\\begin{tabular}{r|cccccccc}\n",
       "\t& id & Region & Subregion & Country & my18 & my19 & mydelta & \\\\\n",
       "\t\\hline\n",
       "\t& Int64 & String15? & String31? & String & Float64 & Float64 & Float64 & \\\\\n",
       "\t\\hline\n",
       "\t1 & 64 & Asia & Central Asia & Kazakhstan & 18.32 & 18.551 & 0.231 & $\\dots$ \\\\\n",
       "\t2 & 112 & Asia & Central Asia & Kyrgyzstan & 6.304 & 6.416 & 0.112 & $\\dots$ \\\\\n",
       "\t3 & 96 & Asia & Central Asia & Tajikistan & 9.101 & 9.321 & 0.22 & $\\dots$ \\\\\n",
       "\t4 & 113 & Asia & Central Asia & Turkmenistan & 5.851 & 5.942 & 0.091 & $\\dots$ \\\\\n",
       "\t5 & 42 & Asia & Central Asia & Uzbekistan & 32.476 & 32.982 & 0.506 & $\\dots$ \\\\\n",
       "\t6 & 1 & Asia & Eastern Asia & China & 1427.65 & 1433.78 & 6.136 & $\\dots$ \\\\\n",
       "\t7 & 104 & Asia & Eastern Asia & Hong Kong (China) & 7.372 & 7.436 & 0.064 & $\\dots$ \\\\\n",
       "\t8 & 11 & Asia & Eastern Asia & Japan & 127.202 & 126.86 & -0.342 & $\\dots$ \\\\\n",
       "\t9 & 167 & Asia & Eastern Asia & Macau (China) & 0.632 & 0.64 & 0.008 & $\\dots$ \\\\\n",
       "\t10 & 136 & Asia & Eastern Asia & Mongolia & 3.17 & 3.225 & 0.055 & $\\dots$ \\\\\n",
       "\t11 & 52 & Asia & Eastern Asia & North Korea & 25.55 & 25.666 & 0.116 & $\\dots$ \\\\\n",
       "\t12 & 28 & Asia & Eastern Asia & South Korea & 51.172 & 51.225 & 0.053 & $\\dots$ \\\\\n",
       "\t13 & 56 & Asia & Eastern Asia & Taiwan & 23.726 & 23.774 & 0.048 & $\\dots$ \\\\\n",
       "\t14 & 176 & Asia & South-eastern Asia & Brunei & 0.429 & 0.433 & 0.004 & $\\dots$ \\\\\n",
       "\t15 & 70 & Asia & South-eastern Asia & Cambodia & 16.25 & 16.487 & 0.237 & $\\dots$ \\\\\n",
       "\t16 & 156 & Asia & South-eastern Asia & East Timor & 1.268 & 1.293 & 0.025 & $\\dots$ \\\\\n",
       "\t17 & 4 & Asia & South-eastern Asia & Indonesia & 267.671 & 270.626 & 2.955 & $\\dots$ \\\\\n",
       "\t18 & 105 & Asia & South-eastern Asia & Laos & 7.062 & 7.169 & 0.107 & $\\dots$ \\\\\n",
       "\t19 & 44 & Asia & South-eastern Asia & Malaysia & 31.528 & 31.95 & 0.422 & $\\dots$ \\\\\n",
       "\t20 & 26 & Asia & South-eastern Asia & Myanmar & 53.708 & 54.045 & 0.337 & $\\dots$ \\\\\n",
       "\t21 & 13 & Asia & South-eastern Asia & Philippines & 106.651 & 108.117 & 1.466 & $\\dots$ \\\\\n",
       "\t22 & 114 & Asia & South-eastern Asia & Singapore & 5.757 & 5.804 & 0.047 & $\\dots$ \\\\\n",
       "\t23 & 20 & Asia & South-eastern Asia & Thailand & 68.864 & 69.038 & 0.174 & $\\dots$ \\\\\n",
       "\t24 & 15 & Asia & South-eastern Asia & Vietnam & 95.546 & 96.462 & 0.916 & $\\dots$ \\\\\n",
       "\t$\\dots$ & $\\dots$ & $\\dots$ & $\\dots$ & $\\dots$ & $\\dots$ & $\\dots$ & $\\dots$ &  \\\\\n",
       "\\end{tabular}\n",
       "\n",
       "$\\dots$\n",
       "\n",
       "Last Group (23 rows): Region = \"Oceania\"\n",
       "\n",
       "\\begin{tabular}{r|ccccc}\n",
       "\t& id & Region & Subregion & Country & \\\\\n",
       "\t\\hline\n",
       "\t& Int64 & String15? & String31? & String & \\\\\n",
       "\t\\hline\n",
       "\t1 & 55 & Oceania & Australia and New Zealand & Australia & $\\dots$ \\\\\n",
       "\t2 & 125 & Oceania & Australia and New Zealand & New Zealand & $\\dots$ \\\\\n",
       "\t3 & 161 & Oceania & Melanesia & Fiji & $\\dots$ \\\\\n",
       "\t4 & 183 & Oceania & Melanesia & New Caledonia (France) & $\\dots$ \\\\\n",
       "\t5 & 98 & Oceania & Melanesia & Papua New Guinea & $\\dots$ \\\\\n",
       "\t6 & 166 & Oceania & Melanesia & Solomon Islands & $\\dots$ \\\\\n",
       "\t7 & 181 & Oceania & Melanesia & Vanuatu & $\\dots$ \\\\\n",
       "\t8 & 194 & Oceania & Micronesia & F.S. Micronesia & $\\dots$ \\\\\n",
       "\t9 & 191 & Oceania & Micronesia & Guam (United States) & $\\dots$ \\\\\n",
       "\t10 & 193 & Oceania & Micronesia & Kiribati & $\\dots$ \\\\\n",
       "\t11 & 207 & Oceania & Micronesia & Marshall Islands & $\\dots$ \\\\\n",
       "\t12 & 226 & Oceania & Micronesia & Nauru & $\\dots$ \\\\\n",
       "\t13 & 209 & Oceania & Micronesia & Northern Mariana Islands (United States) & $\\dots$ \\\\\n",
       "\t14 & 221 & Oceania & Micronesia & Palau & $\\dots$ \\\\\n",
       "\t15 & 210 & Oceania & Polynesia & American Samoa (United States) & $\\dots$ \\\\\n",
       "\t16 & 222 & Oceania & Polynesia & Cook Islands (New Zealand) & $\\dots$ \\\\\n",
       "\t17 & 185 & Oceania & Polynesia & French Polynesia (France) & $\\dots$ \\\\\n",
       "\t18 & 231 & Oceania & Polynesia & Niue (New Zealand) & $\\dots$ \\\\\n",
       "\t19 & 232 & Oceania & Polynesia & Tokelau (New Zealand) & $\\dots$ \\\\\n",
       "\t20 & 196 & Oceania & Polynesia & Tonga & $\\dots$ \\\\\n",
       "\t21 & 224 & Oceania & Polynesia & Tuvalu & $\\dots$ \\\\\n",
       "\t22 & 225 & Oceania & Polynesia & Wallis and Futuna (France) & $\\dots$ \\\\\n",
       "\t23 & 188 & Oceania & Polynesia & Western Samoa & $\\dots$ \\\\\n",
       "\\end{tabular}\n"
      ],
      "text/plain": [
       "GroupedDataFrame with 5 groups based on key: Region\n",
       "First Group (51 rows): Region = \"Asia\"\n",
       "\u001b[1m Row \u001b[0m│\u001b[1m id    \u001b[0m\u001b[1m Region    \u001b[0m\u001b[1m Subregion    \u001b[0m\u001b[1m Country              \u001b[0m\u001b[1m my18    \u001b[0m\u001b[1m my19    \u001b[0m\u001b[1m\u001b[0m ⋯\n",
       "     │\u001b[90m Int64 \u001b[0m\u001b[90m String15? \u001b[0m\u001b[90m String31?    \u001b[0m\u001b[90m String               \u001b[0m\u001b[90m Float64 \u001b[0m\u001b[90m Float64 \u001b[0m\u001b[90m\u001b[0m ⋯\n",
       "─────┼──────────────────────────────────────────────────────────────────────────\n",
       "   1 │    64  Asia       Central Asia  Kazakhstan             18.32    18.551  ⋯\n",
       "   2 │   112  Asia       Central Asia  Kyrgyzstan              6.304    6.416\n",
       "  ⋮  │   ⋮        ⋮           ⋮                 ⋮               ⋮        ⋮     ⋱\n",
       "  50 │    92  Asia       Western Asia  United Arab Emirates    9.631    9.771\n",
       "  51 │    47  Asia       Western Asia  Yemen                  28.499   29.162\n",
       "\u001b[36m                                                   3 columns and 47 rows omitted\u001b[0m\n",
       "⋮\n",
       "Last Group (23 rows): Region = \"Oceania\"\n",
       "\u001b[1m Row \u001b[0m│\u001b[1m id    \u001b[0m\u001b[1m Region    \u001b[0m\u001b[1m Subregion                 \u001b[0m\u001b[1m Country                   \u001b[0m ⋯\n",
       "     │\u001b[90m Int64 \u001b[0m\u001b[90m String15? \u001b[0m\u001b[90m String31?                 \u001b[0m\u001b[90m String                    \u001b[0m ⋯\n",
       "─────┼──────────────────────────────────────────────────────────────────────────\n",
       "   1 │    55  Oceania    Australia and New Zealand  Australia                  ⋯\n",
       "   2 │   125  Oceania    Australia and New Zealand  New Zealand\n",
       "  ⋮  │   ⋮        ⋮                  ⋮                          ⋮              ⋱\n",
       "  23 │   188  Oceania    Polynesia                  Western Samoa\n",
       "\u001b[36m                                                   5 columns and 20 rows omitted\u001b[0m"
      ]
     },
     "metadata": {},
     "output_type": "display_data"
    }
   ],
   "source": [
    "mygdf = groupby(mydf, :Region)"
   ]
  },
  {
   "cell_type": "code",
   "execution_count": 196,
   "metadata": {},
   "outputs": [
    {
     "data": {
      "text/html": [
       "<div><div style = \"float: left;\"><span>48×9 SubDataFrame</span></div><div style = \"float: right;\"><span style = \"font-style: italic;\">38 rows omitted</span></div><div style = \"clear: both;\"></div></div><div class = \"data-frame\" style = \"overflow-x: scroll;\"><table class = \"data-frame\" style = \"margin-bottom: 6px;\"><thead><tr class = \"header\"><th class = \"rowNumber\" style = \"font-weight: bold; text-align: right;\">Row</th><th style = \"text-align: left;\">id</th><th style = \"text-align: left;\">Region</th><th style = \"text-align: left;\">Subregion</th><th style = \"text-align: left;\">Country</th><th style = \"text-align: left;\">my18</th><th style = \"text-align: left;\">my19</th><th style = \"text-align: left;\">mydelta</th><th style = \"text-align: left;\">mypct</th><th style = \"text-align: left;\">my100</th></tr><tr class = \"subheader headerLastRow\"><th class = \"rowNumber\" style = \"font-weight: bold; text-align: right;\"></th><th title = \"Int64\" style = \"text-align: left;\">Int64</th><th title = \"Union{Missing, String15}\" style = \"text-align: left;\">String15?</th><th title = \"Union{Missing, String31}\" style = \"text-align: left;\">String31?</th><th title = \"String\" style = \"text-align: left;\">String</th><th title = \"Float64\" style = \"text-align: left;\">Float64</th><th title = \"Float64\" style = \"text-align: left;\">Float64</th><th title = \"Float64\" style = \"text-align: left;\">Float64</th><th title = \"Float64\" style = \"text-align: left;\">Float64</th><th title = \"Float64\" style = \"text-align: left;\">Float64</th></tr></thead><tbody><tr><td class = \"rowNumber\" style = \"font-weight: bold; text-align: right;\">1</td><td style = \"text-align: right;\">95</td><td style = \"text-align: left;\">Europe</td><td style = \"text-align: left;\">Eastern Europe</td><td style = \"text-align: left;\">Belarus</td><td style = \"text-align: right;\">9.453</td><td style = \"text-align: right;\">9.452</td><td style = \"text-align: right;\">-0.001</td><td style = \"text-align: right;\">-0.01</td><td style = \"text-align: right;\">0.12</td></tr><tr><td class = \"rowNumber\" style = \"font-weight: bold; text-align: right;\">2</td><td style = \"text-align: right;\">107</td><td style = \"text-align: left;\">Europe</td><td style = \"text-align: left;\">Eastern Europe</td><td style = \"text-align: left;\">Bulgaria</td><td style = \"text-align: right;\">7.052</td><td style = \"text-align: right;\">7.0</td><td style = \"text-align: right;\">-0.052</td><td style = \"text-align: right;\">-0.74</td><td style = \"text-align: right;\">0.09</td></tr><tr><td class = \"rowNumber\" style = \"font-weight: bold; text-align: right;\">3</td><td style = \"text-align: right;\">86</td><td style = \"text-align: left;\">Europe</td><td style = \"text-align: left;\">Eastern Europe</td><td style = \"text-align: left;\">Czech Republic</td><td style = \"text-align: right;\">10.666</td><td style = \"text-align: right;\">10.689</td><td style = \"text-align: right;\">0.023</td><td style = \"text-align: right;\">0.22</td><td style = \"text-align: right;\">0.14</td></tr><tr><td class = \"rowNumber\" style = \"font-weight: bold; text-align: right;\">4</td><td style = \"text-align: right;\">94</td><td style = \"text-align: left;\">Europe</td><td style = \"text-align: left;\">Eastern Europe</td><td style = \"text-align: left;\">Hungary</td><td style = \"text-align: right;\">9.707</td><td style = \"text-align: right;\">9.685</td><td style = \"text-align: right;\">-0.022</td><td style = \"text-align: right;\">-0.23</td><td style = \"text-align: right;\">0.13</td></tr><tr><td class = \"rowNumber\" style = \"font-weight: bold; text-align: right;\">5</td><td style = \"text-align: right;\">131</td><td style = \"text-align: left;\">Europe</td><td style = \"text-align: left;\">Eastern Europe</td><td style = \"text-align: left;\">Moldova</td><td style = \"text-align: right;\">4.052</td><td style = \"text-align: right;\">4.043</td><td style = \"text-align: right;\">-0.009</td><td style = \"text-align: right;\">-0.22</td><td style = \"text-align: right;\">0.05</td></tr><tr><td style = \"text-align: right;\">&vellip;</td><td style = \"text-align: right;\">&vellip;</td><td style = \"text-align: right;\">&vellip;</td><td style = \"text-align: right;\">&vellip;</td><td style = \"text-align: right;\">&vellip;</td><td style = \"text-align: right;\">&vellip;</td><td style = \"text-align: right;\">&vellip;</td><td style = \"text-align: right;\">&vellip;</td><td style = \"text-align: right;\">&vellip;</td><td style = \"text-align: right;\">&vellip;</td></tr><tr><td class = \"rowNumber\" style = \"font-weight: bold; text-align: right;\">44</td><td style = \"text-align: right;\">216</td><td style = \"text-align: left;\">Europe</td><td style = \"text-align: left;\">Western Europe</td><td style = \"text-align: left;\">Liechtenstein</td><td style = \"text-align: right;\">0.038</td><td style = \"text-align: right;\">0.038</td><td style = \"text-align: right;\">0.0</td><td style = \"text-align: right;\">0.0</td><td style = \"text-align: right;\">0.0</td></tr><tr><td class = \"rowNumber\" style = \"font-weight: bold; text-align: right;\">45</td><td style = \"text-align: right;\">169</td><td style = \"text-align: left;\">Europe</td><td style = \"text-align: left;\">Western Europe</td><td style = \"text-align: left;\">Luxembourg</td><td style = \"text-align: right;\">0.604</td><td style = \"text-align: right;\">0.616</td><td style = \"text-align: right;\">0.012</td><td style = \"text-align: right;\">1.99</td><td style = \"text-align: right;\">0.01</td></tr><tr><td class = \"rowNumber\" style = \"font-weight: bold; text-align: right;\">46</td><td style = \"text-align: right;\">214</td><td style = \"text-align: left;\">Europe</td><td style = \"text-align: left;\">Western Europe</td><td style = \"text-align: left;\">Monaco</td><td style = \"text-align: right;\">0.039</td><td style = \"text-align: right;\">0.039</td><td style = \"text-align: right;\">0.0</td><td style = \"text-align: right;\">0.0</td><td style = \"text-align: right;\">0.0</td></tr><tr><td class = \"rowNumber\" style = \"font-weight: bold; text-align: right;\">47</td><td style = \"text-align: right;\">68</td><td style = \"text-align: left;\">Europe</td><td style = \"text-align: left;\">Western Europe</td><td style = \"text-align: left;\">Netherlands</td><td style = \"text-align: right;\">17.06</td><td style = \"text-align: right;\">17.097</td><td style = \"text-align: right;\">0.037</td><td style = \"text-align: right;\">0.22</td><td style = \"text-align: right;\">0.22</td></tr><tr><td class = \"rowNumber\" style = \"font-weight: bold; text-align: right;\">48</td><td style = \"text-align: right;\">100</td><td style = \"text-align: left;\">Europe</td><td style = \"text-align: left;\">Western Europe</td><td style = \"text-align: left;\">Switzerland</td><td style = \"text-align: right;\">8.526</td><td style = \"text-align: right;\">8.591</td><td style = \"text-align: right;\">0.065</td><td style = \"text-align: right;\">0.76</td><td style = \"text-align: right;\">0.11</td></tr></tbody></table></div>"
      ],
      "text/latex": [
       "\\begin{tabular}{r|ccccccc}\n",
       "\t& id & Region & Subregion & Country & my18 & my19 & \\\\\n",
       "\t\\hline\n",
       "\t& Int64 & String15? & String31? & String & Float64 & Float64 & \\\\\n",
       "\t\\hline\n",
       "\t1 & 95 & Europe & Eastern Europe & Belarus & 9.453 & 9.452 & $\\dots$ \\\\\n",
       "\t2 & 107 & Europe & Eastern Europe & Bulgaria & 7.052 & 7.0 & $\\dots$ \\\\\n",
       "\t3 & 86 & Europe & Eastern Europe & Czech Republic & 10.666 & 10.689 & $\\dots$ \\\\\n",
       "\t4 & 94 & Europe & Eastern Europe & Hungary & 9.707 & 9.685 & $\\dots$ \\\\\n",
       "\t5 & 131 & Europe & Eastern Europe & Moldova & 4.052 & 4.043 & $\\dots$ \\\\\n",
       "\t6 & 38 & Europe & Eastern Europe & Poland & 37.922 & 37.888 & $\\dots$ \\\\\n",
       "\t7 & 61 & Europe & Eastern Europe & Romania & 19.506 & 19.365 & $\\dots$ \\\\\n",
       "\t8 & 9 & Europe & Eastern Europe & Russia & 145.734 & 145.872 & $\\dots$ \\\\\n",
       "\t9 & 117 & Europe & Eastern Europe & Slovakia & 5.453 & 5.457 & $\\dots$ \\\\\n",
       "\t10 & 33 & Europe & Eastern Europe & Ukraine & 44.246 & 43.994 & $\\dots$ \\\\\n",
       "\t11 & 190 & Europe & Northern Europe & Channel Islands (United Kingdom) & 0.17 & 0.172 & $\\dots$ \\\\\n",
       "\t12 & 115 & Europe & Northern Europe & Denmark & 5.752 & 5.772 & $\\dots$ \\\\\n",
       "\t13 & 155 & Europe & Northern Europe & Estonia & 1.323 & 1.326 & $\\dots$ \\\\\n",
       "\t14 & 212 & Europe & Northern Europe & Faroe Islands (Denmark) & 0.048 & 0.049 & $\\dots$ \\\\\n",
       "\t15 & 116 & Europe & Northern Europe & Finland & 5.523 & 5.532 & $\\dots$ \\\\\n",
       "\t16 & 180 & Europe & Northern Europe & Iceland & 0.337 & 0.339 & $\\dots$ \\\\\n",
       "\t17 & 124 & Europe & Northern Europe & Ireland & 4.819 & 4.882 & $\\dots$ \\\\\n",
       "\t18 & 202 & Europe & Northern Europe & Isle of Man (United Kingdom) & 0.084 & 0.085 & $\\dots$ \\\\\n",
       "\t19 & 151 & Europe & Northern Europe & Latvia & 1.928 & 1.907 & $\\dots$ \\\\\n",
       "\t20 & 142 & Europe & Northern Europe & Lithuania & 2.801 & 2.76 & $\\dots$ \\\\\n",
       "\t21 & 119 & Europe & Northern Europe & Norway & 5.338 & 5.379 & $\\dots$ \\\\\n",
       "\t22 & 91 & Europe & Northern Europe & Sweden & 9.972 & 10.036 & $\\dots$ \\\\\n",
       "\t23 & 21 & Europe & Northern Europe & United Kingdom & 67.142 & 67.53 & $\\dots$ \\\\\n",
       "\t24 & 140 & Europe & Southern Europe & Albania & 2.883 & 2.881 & $\\dots$ \\\\\n",
       "\t$\\dots$ & $\\dots$ & $\\dots$ & $\\dots$ & $\\dots$ & $\\dots$ & $\\dots$ &  \\\\\n",
       "\\end{tabular}\n"
      ],
      "text/plain": [
       "\u001b[1m48×9 SubDataFrame\u001b[0m\n",
       "\u001b[1m Row \u001b[0m│\u001b[1m id    \u001b[0m\u001b[1m Region    \u001b[0m\u001b[1m Subregion       \u001b[0m\u001b[1m Country                          \u001b[0m\u001b[1m my\u001b[0m ⋯\n",
       "     │\u001b[90m Int64 \u001b[0m\u001b[90m String15? \u001b[0m\u001b[90m String31?       \u001b[0m\u001b[90m String                           \u001b[0m\u001b[90m Fl\u001b[0m ⋯\n",
       "─────┼──────────────────────────────────────────────────────────────────────────\n",
       "   1 │    95  Europe     Eastern Europe   Belarus                              ⋯\n",
       "   2 │   107  Europe     Eastern Europe   Bulgaria\n",
       "   3 │    86  Europe     Eastern Europe   Czech Republic                     1\n",
       "   4 │    94  Europe     Eastern Europe   Hungary\n",
       "   5 │   131  Europe     Eastern Europe   Moldova                              ⋯\n",
       "   6 │    38  Europe     Eastern Europe   Poland                             3\n",
       "   7 │    61  Europe     Eastern Europe   Romania                            1\n",
       "   8 │     9  Europe     Eastern Europe   Russia                            14\n",
       "  ⋮  │   ⋮        ⋮             ⋮                        ⋮                     ⋱\n",
       "  42 │    22  Europe     Western Europe   France                             6 ⋯\n",
       "  43 │    17  Europe     Western Europe   Germany                            8\n",
       "  44 │   216  Europe     Western Europe   Liechtenstein\n",
       "  45 │   169  Europe     Western Europe   Luxembourg\n",
       "  46 │   214  Europe     Western Europe   Monaco                               ⋯\n",
       "  47 │    68  Europe     Western Europe   Netherlands                        1\n",
       "  48 │   100  Europe     Western Europe   Switzerland\n",
       "\u001b[36m                                                   5 columns and 33 rows omitted\u001b[0m"
      ]
     },
     "metadata": {},
     "output_type": "display_data"
    }
   ],
   "source": [
    "mygdf[4]"
   ]
  },
  {
   "cell_type": "code",
   "execution_count": 197,
   "metadata": {},
   "outputs": [
    {
     "data": {
      "text/html": [
       "<div><div style = \"float: left;\"><span>5×4 DataFrame</span></div><div style = \"clear: both;\"></div></div><div class = \"data-frame\" style = \"overflow-x: scroll;\"><table class = \"data-frame\" style = \"margin-bottom: 6px;\"><thead><tr class = \"header\"><th class = \"rowNumber\" style = \"font-weight: bold; text-align: right;\">Row</th><th style = \"text-align: left;\">Region</th><th style = \"text-align: left;\">my18_sum</th><th style = \"text-align: left;\">my19_sum</th><th style = \"text-align: left;\">mydelta_sum</th></tr><tr class = \"subheader headerLastRow\"><th class = \"rowNumber\" style = \"font-weight: bold; text-align: right;\"></th><th title = \"Union{Missing, String15}\" style = \"text-align: left;\">String15?</th><th title = \"Float64\" style = \"text-align: left;\">Float64</th><th title = \"Float64\" style = \"text-align: left;\">Float64</th><th title = \"Float64\" style = \"text-align: left;\">Float64</th></tr></thead><tbody><tr><td class = \"rowNumber\" style = \"font-weight: bold; text-align: right;\">1</td><td style = \"text-align: left;\">Asia</td><td style = \"text-align: right;\">4560.09</td><td style = \"text-align: right;\">4600.77</td><td style = \"text-align: right;\">40.681</td></tr><tr><td class = \"rowNumber\" style = \"font-weight: bold; text-align: right;\">2</td><td style = \"text-align: left;\">Americas</td><td style = \"text-align: right;\">1006.51</td><td style = \"text-align: right;\">1014.72</td><td style = \"text-align: right;\">8.208</td></tr><tr><td class = \"rowNumber\" style = \"font-weight: bold; text-align: right;\">3</td><td style = \"text-align: left;\">Africa</td><td style = \"text-align: right;\">1273.63</td><td style = \"text-align: right;\">1305.74</td><td style = \"text-align: right;\">32.114</td></tr><tr><td class = \"rowNumber\" style = \"font-weight: bold; text-align: right;\">4</td><td style = \"text-align: left;\">Europe</td><td style = \"text-align: right;\">746.421</td><td style = \"text-align: right;\">747.182</td><td style = \"text-align: right;\">0.761</td></tr><tr><td class = \"rowNumber\" style = \"font-weight: bold; text-align: right;\">5</td><td style = \"text-align: left;\">Oceania</td><td style = \"text-align: right;\">41.58</td><td style = \"text-align: right;\">42.134</td><td style = \"text-align: right;\">0.554</td></tr></tbody></table></div>"
      ],
      "text/latex": [
       "\\begin{tabular}{r|cccc}\n",
       "\t& Region & my18\\_sum & my19\\_sum & mydelta\\_sum\\\\\n",
       "\t\\hline\n",
       "\t& String15? & Float64 & Float64 & Float64\\\\\n",
       "\t\\hline\n",
       "\t1 & Asia & 4560.09 & 4600.77 & 40.681 \\\\\n",
       "\t2 & Americas & 1006.51 & 1014.72 & 8.208 \\\\\n",
       "\t3 & Africa & 1273.63 & 1305.74 & 32.114 \\\\\n",
       "\t4 & Europe & 746.421 & 747.182 & 0.761 \\\\\n",
       "\t5 & Oceania & 41.58 & 42.134 & 0.554 \\\\\n",
       "\\end{tabular}\n"
      ],
      "text/plain": [
       "\u001b[1m5×4 DataFrame\u001b[0m\n",
       "\u001b[1m Row \u001b[0m│\u001b[1m Region    \u001b[0m\u001b[1m my18_sum \u001b[0m\u001b[1m my19_sum \u001b[0m\u001b[1m mydelta_sum \u001b[0m\n",
       "     │\u001b[90m String15? \u001b[0m\u001b[90m Float64  \u001b[0m\u001b[90m Float64  \u001b[0m\u001b[90m Float64     \u001b[0m\n",
       "─────┼────────────────────────────────────────────\n",
       "   1 │ Asia       4560.09   4600.77        40.681\n",
       "   2 │ Americas   1006.51   1014.72         8.208\n",
       "   3 │ Africa     1273.63   1305.74        32.114\n",
       "   4 │ Europe      746.421   747.182        0.761\n",
       "   5 │ Oceania      41.58     42.134        0.554"
      ]
     },
     "metadata": {},
     "output_type": "display_data"
    }
   ],
   "source": [
    "mygdf_c = combine(mygdf,\n",
    "    :my18 => sum,\n",
    "    :my19 => sum,\n",
    "    :mydelta => sum\n",
    ")"
   ]
  },
  {
   "cell_type": "code",
   "execution_count": 198,
   "metadata": {},
   "outputs": [
    {
     "data": {
      "text/html": [
       "<div><div style = \"float: left;\"><span>5×6 DataFrame</span></div><div style = \"clear: both;\"></div></div><div class = \"data-frame\" style = \"overflow-x: scroll;\"><table class = \"data-frame\" style = \"margin-bottom: 6px;\"><thead><tr class = \"header\"><th class = \"rowNumber\" style = \"font-weight: bold; text-align: right;\">Row</th><th style = \"text-align: left;\">Region</th><th style = \"text-align: left;\">my18_sum</th><th style = \"text-align: left;\">my19_sum</th><th style = \"text-align: left;\">mydelta_sum</th><th style = \"text-align: left;\">mypct_c</th><th style = \"text-align: left;\">my100_c</th></tr><tr class = \"subheader headerLastRow\"><th class = \"rowNumber\" style = \"font-weight: bold; text-align: right;\"></th><th title = \"Union{Missing, String15}\" style = \"text-align: left;\">String15?</th><th title = \"Float64\" style = \"text-align: left;\">Float64</th><th title = \"Float64\" style = \"text-align: left;\">Float64</th><th title = \"Float64\" style = \"text-align: left;\">Float64</th><th title = \"Float64\" style = \"text-align: left;\">Float64</th><th title = \"Float64\" style = \"text-align: left;\">Float64</th></tr></thead><tbody><tr><td class = \"rowNumber\" style = \"font-weight: bold; text-align: right;\">1</td><td style = \"text-align: left;\">Asia</td><td style = \"text-align: right;\">4560.09</td><td style = \"text-align: right;\">4600.77</td><td style = \"text-align: right;\">40.681</td><td style = \"text-align: right;\">0.89</td><td style = \"text-align: right;\">59.67</td></tr><tr><td class = \"rowNumber\" style = \"font-weight: bold; text-align: right;\">2</td><td style = \"text-align: left;\">Americas</td><td style = \"text-align: right;\">1006.51</td><td style = \"text-align: right;\">1014.72</td><td style = \"text-align: right;\">8.208</td><td style = \"text-align: right;\">0.82</td><td style = \"text-align: right;\">13.16</td></tr><tr><td class = \"rowNumber\" style = \"font-weight: bold; text-align: right;\">3</td><td style = \"text-align: left;\">Africa</td><td style = \"text-align: right;\">1273.63</td><td style = \"text-align: right;\">1305.74</td><td style = \"text-align: right;\">32.114</td><td style = \"text-align: right;\">2.52</td><td style = \"text-align: right;\">16.93</td></tr><tr><td class = \"rowNumber\" style = \"font-weight: bold; text-align: right;\">4</td><td style = \"text-align: left;\">Europe</td><td style = \"text-align: right;\">746.421</td><td style = \"text-align: right;\">747.182</td><td style = \"text-align: right;\">0.761</td><td style = \"text-align: right;\">0.1</td><td style = \"text-align: right;\">9.69</td></tr><tr><td class = \"rowNumber\" style = \"font-weight: bold; text-align: right;\">5</td><td style = \"text-align: left;\">Oceania</td><td style = \"text-align: right;\">41.58</td><td style = \"text-align: right;\">42.134</td><td style = \"text-align: right;\">0.554</td><td style = \"text-align: right;\">1.33</td><td style = \"text-align: right;\">0.55</td></tr></tbody></table></div>"
      ],
      "text/latex": [
       "\\begin{tabular}{r|cccccc}\n",
       "\t& Region & my18\\_sum & my19\\_sum & mydelta\\_sum & mypct\\_c & my100\\_c\\\\\n",
       "\t\\hline\n",
       "\t& String15? & Float64 & Float64 & Float64 & Float64 & Float64\\\\\n",
       "\t\\hline\n",
       "\t1 & Asia & 4560.09 & 4600.77 & 40.681 & 0.89 & 59.67 \\\\\n",
       "\t2 & Americas & 1006.51 & 1014.72 & 8.208 & 0.82 & 13.16 \\\\\n",
       "\t3 & Africa & 1273.63 & 1305.74 & 32.114 & 2.52 & 16.93 \\\\\n",
       "\t4 & Europe & 746.421 & 747.182 & 0.761 & 0.1 & 9.69 \\\\\n",
       "\t5 & Oceania & 41.58 & 42.134 & 0.554 & 1.33 & 0.55 \\\\\n",
       "\\end{tabular}\n"
      ],
      "text/plain": [
       "\u001b[1m5×6 DataFrame\u001b[0m\n",
       "\u001b[1m Row \u001b[0m│\u001b[1m Region    \u001b[0m\u001b[1m my18_sum \u001b[0m\u001b[1m my19_sum \u001b[0m\u001b[1m mydelta_sum \u001b[0m\u001b[1m mypct_c \u001b[0m\u001b[1m my100_c \u001b[0m\n",
       "     │\u001b[90m String15? \u001b[0m\u001b[90m Float64  \u001b[0m\u001b[90m Float64  \u001b[0m\u001b[90m Float64     \u001b[0m\u001b[90m Float64 \u001b[0m\u001b[90m Float64 \u001b[0m\n",
       "─────┼──────────────────────────────────────────────────────────────\n",
       "   1 │ Asia       4560.09   4600.77        40.681     0.89    59.67\n",
       "   2 │ Americas   1006.51   1014.72         8.208     0.82    13.16\n",
       "   3 │ Africa     1273.63   1305.74        32.114     2.52    16.93\n",
       "   4 │ Europe      746.421   747.182        0.761     0.1      9.69\n",
       "   5 │ Oceania      41.58     42.134        0.554     1.33     0.55"
      ]
     },
     "metadata": {},
     "output_type": "display_data"
    }
   ],
   "source": [
    "mygdf_c.mypct_c = round.(\n",
    "    mygdf_c.mydelta_sum ./ mygdf_c.my18_sum .* 100 , digits = 2\n",
    ")\n",
    "\n",
    "mygdf_c.my100_c = round.(\n",
    "    mygdf_c.my19_sum ./ sum(mygdf_c.my19_sum) .* 100 , digits = 2\n",
    ")\n",
    "\n",
    "mygdf_c"
   ]
  },
  {
   "cell_type": "markdown",
   "metadata": {},
   "source": [
    "## Teraz weźmiemy dane dotyczące GDP"
   ]
  },
  {
   "cell_type": "code",
   "execution_count": 199,
   "metadata": {},
   "outputs": [
    {
     "data": {
      "text/html": [
       "<div><div style = \"float: left;\"><span>210×2 DataFrame</span></div><div style = \"float: right;\"><span style = \"font-style: italic;\">200 rows omitted</span></div><div style = \"clear: both;\"></div></div><div class = \"data-frame\" style = \"overflow-x: scroll;\"><table class = \"data-frame\" style = \"margin-bottom: 6px;\"><thead><tr class = \"header\"><th class = \"rowNumber\" style = \"font-weight: bold; text-align: right;\">Row</th><th style = \"text-align: left;\">Country</th><th style = \"text-align: left;\">gdp</th></tr><tr class = \"subheader headerLastRow\"><th class = \"rowNumber\" style = \"font-weight: bold; text-align: right;\"></th><th title = \"String\" style = \"text-align: left;\">String</th><th title = \"Int64\" style = \"text-align: left;\">Int64</th></tr></thead><tbody><tr><td class = \"rowNumber\" style = \"font-weight: bold; text-align: right;\">1</td><td style = \"text-align: left;\">Afghanistan</td><td style = \"text-align: right;\">17876</td></tr><tr><td class = \"rowNumber\" style = \"font-weight: bold; text-align: right;\">2</td><td style = \"text-align: left;\">Albania</td><td style = \"text-align: right;\">15278</td></tr><tr><td class = \"rowNumber\" style = \"font-weight: bold; text-align: right;\">3</td><td style = \"text-align: left;\">Algeria</td><td style = \"text-align: right;\">171157</td></tr><tr><td class = \"rowNumber\" style = \"font-weight: bold; text-align: right;\">4</td><td style = \"text-align: left;\">American Samoa (United States)</td><td style = \"text-align: right;\">844</td></tr><tr><td class = \"rowNumber\" style = \"font-weight: bold; text-align: right;\">5</td><td style = \"text-align: left;\">Andorra</td><td style = \"text-align: right;\">3154</td></tr><tr><td style = \"text-align: right;\">&vellip;</td><td style = \"text-align: right;\">&vellip;</td><td style = \"text-align: right;\">&vellip;</td></tr><tr><td class = \"rowNumber\" style = \"font-weight: bold; text-align: right;\">206</td><td style = \"text-align: left;\">Venezuela</td><td style = \"text-align: right;\">134960</td></tr><tr><td class = \"rowNumber\" style = \"font-weight: bold; text-align: right;\">207</td><td style = \"text-align: left;\">Vietnam</td><td style = \"text-align: right;\">261921</td></tr><tr><td class = \"rowNumber\" style = \"font-weight: bold; text-align: right;\">208</td><td style = \"text-align: left;\">Yemen</td><td style = \"text-align: right;\">24935</td></tr><tr><td class = \"rowNumber\" style = \"font-weight: bold; text-align: right;\">209</td><td style = \"text-align: left;\">Zambia</td><td style = \"text-align: right;\">23085</td></tr><tr><td class = \"rowNumber\" style = \"font-weight: bold; text-align: right;\">210</td><td style = \"text-align: left;\">Zimbabwe</td><td style = \"text-align: right;\">21440</td></tr></tbody></table></div>"
      ],
      "text/latex": [
       "\\begin{tabular}{r|cc}\n",
       "\t& Country & gdp\\\\\n",
       "\t\\hline\n",
       "\t& String & Int64\\\\\n",
       "\t\\hline\n",
       "\t1 & Afghanistan & 17876 \\\\\n",
       "\t2 & Albania & 15278 \\\\\n",
       "\t3 & Algeria & 171157 \\\\\n",
       "\t4 & American Samoa (United States) & 844 \\\\\n",
       "\t5 & Andorra & 3154 \\\\\n",
       "\t6 & Angola & 85000 \\\\\n",
       "\t7 & Anguilla (United Kingdom) & 379 \\\\\n",
       "\t8 & Antigua and Barbuda & 1661 \\\\\n",
       "\t9 & Argentina & 449663 \\\\\n",
       "\t10 & Armenia & 13672 \\\\\n",
       "\t11 & Aruba (Netherlands) & 3293 \\\\\n",
       "\t12 & Australia & 1380207 \\\\\n",
       "\t13 & Austria & 445075 \\\\\n",
       "\t14 & Azerbaijan & 48047 \\\\\n",
       "\t15 & Bahamas & 13578 \\\\\n",
       "\t16 & Bahrain & 38574 \\\\\n",
       "\t17 & Bangladesh & 301051 \\\\\n",
       "\t18 & Barbados & 5209 \\\\\n",
       "\t19 & Belarus & 63080 \\\\\n",
       "\t20 & Belgium & 533097 \\\\\n",
       "\t21 & Belize & 1906 \\\\\n",
       "\t22 & Benin & 14403 \\\\\n",
       "\t23 & Bermuda (United Kingdom) & 7361 \\\\\n",
       "\t24 & Bhutan & 2564 \\\\\n",
       "\t$\\dots$ & $\\dots$ & $\\dots$ \\\\\n",
       "\\end{tabular}\n"
      ],
      "text/plain": [
       "\u001b[1m210×2 DataFrame\u001b[0m\n",
       "\u001b[1m Row \u001b[0m│\u001b[1m Country                        \u001b[0m\u001b[1m gdp      \u001b[0m\n",
       "     │\u001b[90m String                         \u001b[0m\u001b[90m Int64    \u001b[0m\n",
       "─────┼──────────────────────────────────────────\n",
       "   1 │ Afghanistan                        17876\n",
       "   2 │ Albania                            15278\n",
       "   3 │ Algeria                           171157\n",
       "   4 │ American Samoa (United States)       844\n",
       "   5 │ Andorra                             3154\n",
       "   6 │ Angola                             85000\n",
       "   7 │ Anguilla (United Kingdom)            379\n",
       "   8 │ Antigua and Barbuda                 1661\n",
       "  ⋮  │               ⋮                    ⋮\n",
       " 204 │ Uzbekistan                         57921\n",
       " 205 │ Vanuatu                              906\n",
       " 206 │ Venezuela                         134960\n",
       " 207 │ Vietnam                           261921\n",
       " 208 │ Yemen                              24935\n",
       " 209 │ Zambia                             23085\n",
       " 210 │ Zimbabwe                           21440\n",
       "\u001b[36m                                195 rows omitted\u001b[0m"
      ]
     },
     "metadata": {},
     "output_type": "display_data"
    }
   ],
   "source": [
    "url2 = \"https://raw.githubusercontent.com/holowaczi/warsztatyDM2024/main/gdp.csv\"\n",
    "\n",
    "gdp_df = DataFrame(CSV.File(HTTP.get(url2).body))\n",
    "\n",
    "rename!(gdp_df, :country => :Country)"
   ]
  },
  {
   "cell_type": "code",
   "execution_count": 200,
   "metadata": {},
   "outputs": [
    {
     "data": {
      "text/html": [
       "<div><div style = \"float: left;\"><span>233×10 DataFrame</span></div><div style = \"float: right;\"><span style = \"font-style: italic;\">223 rows omitted</span></div><div style = \"clear: both;\"></div></div><div class = \"data-frame\" style = \"overflow-x: scroll;\"><table class = \"data-frame\" style = \"margin-bottom: 6px;\"><thead><tr class = \"header\"><th class = \"rowNumber\" style = \"font-weight: bold; text-align: right;\">Row</th><th style = \"text-align: left;\">id</th><th style = \"text-align: left;\">Region</th><th style = \"text-align: left;\">Subregion</th><th style = \"text-align: left;\">Country</th><th style = \"text-align: left;\">my18</th><th style = \"text-align: left;\">my19</th><th style = \"text-align: left;\">mydelta</th><th style = \"text-align: left;\">mypct</th><th style = \"text-align: left;\">my100</th><th style = \"text-align: left;\">gdp</th></tr><tr class = \"subheader headerLastRow\"><th class = \"rowNumber\" style = \"font-weight: bold; text-align: right;\"></th><th title = \"Union{Missing, Int64}\" style = \"text-align: left;\">Int64?</th><th title = \"Union{Missing, String15}\" style = \"text-align: left;\">String15?</th><th title = \"Union{Missing, String31}\" style = \"text-align: left;\">String31?</th><th title = \"String\" style = \"text-align: left;\">String</th><th title = \"Union{Missing, Float64}\" style = \"text-align: left;\">Float64?</th><th title = \"Union{Missing, Float64}\" style = \"text-align: left;\">Float64?</th><th title = \"Union{Missing, Float64}\" style = \"text-align: left;\">Float64?</th><th title = \"Union{Missing, Float64}\" style = \"text-align: left;\">Float64?</th><th title = \"Union{Missing, Float64}\" style = \"text-align: left;\">Float64?</th><th title = \"Union{Missing, Int64}\" style = \"text-align: left;\">Int64?</th></tr></thead><tbody><tr><td class = \"rowNumber\" style = \"font-weight: bold; text-align: right;\">1</td><td style = \"text-align: right;\">84</td><td style = \"text-align: left;\">Africa</td><td style = \"text-align: left;\">Eastern Africa</td><td style = \"text-align: left;\">Burundi</td><td style = \"text-align: right;\">10.524</td><td style = \"text-align: right;\">10.864</td><td style = \"text-align: right;\">0.34</td><td style = \"text-align: right;\">3.23</td><td style = \"text-align: right;\">0.14</td><td style = \"text-align: right;\">3002</td></tr><tr><td class = \"rowNumber\" style = \"font-weight: bold; text-align: right;\">2</td><td style = \"text-align: right;\">163</td><td style = \"text-align: left;\">Africa</td><td style = \"text-align: left;\">Eastern Africa</td><td style = \"text-align: left;\">Comoros</td><td style = \"text-align: right;\">0.832</td><td style = \"text-align: right;\">0.851</td><td style = \"text-align: right;\">0.019</td><td style = \"text-align: right;\">2.28</td><td style = \"text-align: right;\">0.01</td><td style = \"text-align: right;\">1165</td></tr><tr><td class = \"rowNumber\" style = \"font-weight: bold; text-align: right;\">3</td><td style = \"text-align: right;\">160</td><td style = \"text-align: left;\">Africa</td><td style = \"text-align: left;\">Eastern Africa</td><td style = \"text-align: left;\">Djibouti</td><td style = \"text-align: right;\">0.959</td><td style = \"text-align: right;\">0.974</td><td style = \"text-align: right;\">0.015</td><td style = \"text-align: right;\">1.56</td><td style = \"text-align: right;\">0.01</td><td style = \"text-align: right;\">3166</td></tr><tr><td class = \"rowNumber\" style = \"font-weight: bold; text-align: right;\">4</td><td style = \"text-align: right;\">133</td><td style = \"text-align: left;\">Africa</td><td style = \"text-align: left;\">Eastern Africa</td><td style = \"text-align: left;\">Eritrea</td><td style = \"text-align: right;\">3.453</td><td style = \"text-align: right;\">3.497</td><td style = \"text-align: right;\">0.044</td><td style = \"text-align: right;\">1.27</td><td style = \"text-align: right;\">0.05</td><td style = \"text-align: right;\">1981</td></tr><tr><td class = \"rowNumber\" style = \"font-weight: bold; text-align: right;\">5</td><td style = \"text-align: right;\">12</td><td style = \"text-align: left;\">Africa</td><td style = \"text-align: left;\">Eastern Africa</td><td style = \"text-align: left;\">Ethiopia</td><td style = \"text-align: right;\">109.224</td><td style = \"text-align: right;\">112.079</td><td style = \"text-align: right;\">2.855</td><td style = \"text-align: right;\">2.61</td><td style = \"text-align: right;\">1.45</td><td style = \"text-align: right;\">92750</td></tr><tr><td style = \"text-align: right;\">&vellip;</td><td style = \"text-align: right;\">&vellip;</td><td style = \"text-align: right;\">&vellip;</td><td style = \"text-align: right;\">&vellip;</td><td style = \"text-align: right;\">&vellip;</td><td style = \"text-align: right;\">&vellip;</td><td style = \"text-align: right;\">&vellip;</td><td style = \"text-align: right;\">&vellip;</td><td style = \"text-align: right;\">&vellip;</td><td style = \"text-align: right;\">&vellip;</td><td style = \"text-align: right;\">&vellip;</td></tr><tr><td class = \"rowNumber\" style = \"font-weight: bold; text-align: right;\">229</td><td style = \"text-align: right;\">209</td><td style = \"text-align: left;\">Oceania</td><td style = \"text-align: left;\">Micronesia</td><td style = \"text-align: left;\">Northern Mariana Islands (United States)</td><td style = \"text-align: right;\">0.057</td><td style = \"text-align: right;\">0.056</td><td style = \"text-align: right;\">-0.001</td><td style = \"text-align: right;\">-1.75</td><td style = \"text-align: right;\">0.0</td><td style = \"font-style: italic; text-align: right;\">missing</td></tr><tr><td class = \"rowNumber\" style = \"font-weight: bold; text-align: right;\">230</td><td style = \"text-align: right;\">231</td><td style = \"text-align: left;\">Oceania</td><td style = \"text-align: left;\">Polynesia</td><td style = \"text-align: left;\">Niue (New Zealand)</td><td style = \"text-align: right;\">0.002</td><td style = \"text-align: right;\">0.002</td><td style = \"text-align: right;\">0.0</td><td style = \"text-align: right;\">0.0</td><td style = \"text-align: right;\">0.0</td><td style = \"font-style: italic; text-align: right;\">missing</td></tr><tr><td class = \"rowNumber\" style = \"font-weight: bold; text-align: right;\">231</td><td style = \"text-align: right;\">232</td><td style = \"text-align: left;\">Oceania</td><td style = \"text-align: left;\">Polynesia</td><td style = \"text-align: left;\">Tokelau (New Zealand)</td><td style = \"text-align: right;\">0.001</td><td style = \"text-align: right;\">0.001</td><td style = \"text-align: right;\">0.0</td><td style = \"text-align: right;\">0.0</td><td style = \"text-align: right;\">0.0</td><td style = \"font-style: italic; text-align: right;\">missing</td></tr><tr><td class = \"rowNumber\" style = \"font-weight: bold; text-align: right;\">232</td><td style = \"text-align: right;\">225</td><td style = \"text-align: left;\">Oceania</td><td style = \"text-align: left;\">Polynesia</td><td style = \"text-align: left;\">Wallis and Futuna (France)</td><td style = \"text-align: right;\">0.012</td><td style = \"text-align: right;\">0.011</td><td style = \"text-align: right;\">-0.001</td><td style = \"text-align: right;\">-8.33</td><td style = \"text-align: right;\">0.0</td><td style = \"font-style: italic; text-align: right;\">missing</td></tr><tr><td class = \"rowNumber\" style = \"font-weight: bold; text-align: right;\">233</td><td style = \"text-align: right;\">188</td><td style = \"text-align: left;\">Oceania</td><td style = \"text-align: left;\">Polynesia</td><td style = \"text-align: left;\">Western Samoa</td><td style = \"text-align: right;\">0.196</td><td style = \"text-align: right;\">0.197</td><td style = \"text-align: right;\">0.001</td><td style = \"text-align: right;\">0.51</td><td style = \"text-align: right;\">0.0</td><td style = \"font-style: italic; text-align: right;\">missing</td></tr></tbody></table></div>"
      ],
      "text/latex": [
       "\\begin{tabular}{r|ccccccc}\n",
       "\t& id & Region & Subregion & Country & my18 & my19 & \\\\\n",
       "\t\\hline\n",
       "\t& Int64? & String15? & String31? & String & Float64? & Float64? & \\\\\n",
       "\t\\hline\n",
       "\t1 & 84 & Africa & Eastern Africa & Burundi & 10.524 & 10.864 & $\\dots$ \\\\\n",
       "\t2 & 163 & Africa & Eastern Africa & Comoros & 0.832 & 0.851 & $\\dots$ \\\\\n",
       "\t3 & 160 & Africa & Eastern Africa & Djibouti & 0.959 & 0.974 & $\\dots$ \\\\\n",
       "\t4 & 133 & Africa & Eastern Africa & Eritrea & 3.453 & 3.497 & $\\dots$ \\\\\n",
       "\t5 & 12 & Africa & Eastern Africa & Ethiopia & 109.224 & 112.079 & $\\dots$ \\\\\n",
       "\t6 & 27 & Africa & Eastern Africa & Kenya & 51.393 & 52.574 & $\\dots$ \\\\\n",
       "\t7 & 51 & Africa & Eastern Africa & Madagascar & 26.262 & 26.969 & $\\dots$ \\\\\n",
       "\t8 & 62 & Africa & Eastern Africa & Malawi & 18.143 & 18.629 & $\\dots$ \\\\\n",
       "\t9 & 157 & Africa & Eastern Africa & Mauritius & 1.189 & 1.199 & $\\dots$ \\\\\n",
       "\t10 & 46 & Africa & Eastern Africa & Mozambique & 29.496 & 30.366 & $\\dots$ \\\\\n",
       "\t11 & 76 & Africa & Eastern Africa & Rwanda & 12.302 & 12.627 & $\\dots$ \\\\\n",
       "\t12 & 200 & Africa & Eastern Africa & Seychelles & 0.097 & 0.098 & $\\dots$ \\\\\n",
       "\t13 & 73 & Africa & Eastern Africa & Somalia & 15.008 & 15.443 & $\\dots$ \\\\\n",
       "\t14 & 83 & Africa & Eastern Africa & South Sudan & 10.976 & 11.062 & $\\dots$ \\\\\n",
       "\t15 & 25 & Africa & Eastern Africa & Tanzania & 56.313 & 58.005 & $\\dots$ \\\\\n",
       "\t16 & 32 & Africa & Eastern Africa & Uganda & 42.729 & 44.27 & $\\dots$ \\\\\n",
       "\t17 & 65 & Africa & Eastern Africa & Zambia & 17.352 & 17.861 & $\\dots$ \\\\\n",
       "\t18 & 74 & Africa & Eastern Africa & Zimbabwe & 14.439 & 14.645 & $\\dots$ \\\\\n",
       "\t19 & 45 & Africa & Middle Africa & Angola & 30.81 & 31.825 & $\\dots$ \\\\\n",
       "\t20 & 54 & Africa & Middle Africa & Cameroon & 25.216 & 25.876 & $\\dots$ \\\\\n",
       "\t21 & 126 & Africa & Middle Africa & Central African Republic & 4.666 & 4.745 & $\\dots$ \\\\\n",
       "\t22 & 72 & Africa & Middle Africa & Chad & 15.478 & 15.947 & $\\dots$ \\\\\n",
       "\t23 & 118 & Africa & Middle Africa & Congo & 5.244 & 5.381 & $\\dots$ \\\\\n",
       "\t24 & 16 & Africa & Middle Africa & DR Congo & 84.068 & 86.791 & $\\dots$ \\\\\n",
       "\t$\\dots$ & $\\dots$ & $\\dots$ & $\\dots$ & $\\dots$ & $\\dots$ & $\\dots$ &  \\\\\n",
       "\\end{tabular}\n"
      ],
      "text/plain": [
       "\u001b[1m233×10 DataFrame\u001b[0m\n",
       "\u001b[1m Row \u001b[0m│\u001b[1m id     \u001b[0m\u001b[1m Region    \u001b[0m\u001b[1m Subregion       \u001b[0m\u001b[1m Country                           \u001b[0m\u001b[1m \u001b[0m ⋯\n",
       "     │\u001b[90m Int64? \u001b[0m\u001b[90m String15? \u001b[0m\u001b[90m String31?       \u001b[0m\u001b[90m String                            \u001b[0m\u001b[90m \u001b[0m ⋯\n",
       "─────┼──────────────────────────────────────────────────────────────────────────\n",
       "   1 │     84  Africa     Eastern Africa   Burundi                             ⋯\n",
       "   2 │    163  Africa     Eastern Africa   Comoros\n",
       "   3 │    160  Africa     Eastern Africa   Djibouti\n",
       "   4 │    133  Africa     Eastern Africa   Eritrea\n",
       "   5 │     12  Africa     Eastern Africa   Ethiopia                            ⋯\n",
       "   6 │     27  Africa     Eastern Africa   Kenya\n",
       "   7 │     51  Africa     Eastern Africa   Madagascar\n",
       "   8 │     62  Africa     Eastern Africa   Malawi\n",
       "  ⋮  │   ⋮         ⋮             ⋮                         ⋮                   ⋱\n",
       " 227 │    233  Europe     Southern Europe  Vatican City                        ⋯\n",
       " 228 │    191  Oceania    Micronesia       Guam (United States)\n",
       " 229 │    209  Oceania    Micronesia       Northern Mariana Islands (United…\n",
       " 230 │    231  Oceania    Polynesia        Niue (New Zealand)\n",
       " 231 │    232  Oceania    Polynesia        Tokelau (New Zealand)               ⋯\n",
       " 232 │    225  Oceania    Polynesia        Wallis and Futuna (France)\n",
       " 233 │    188  Oceania    Polynesia        Western Samoa\n",
       "\u001b[36m                                                  6 columns and 218 rows omitted\u001b[0m"
      ]
     },
     "metadata": {},
     "output_type": "display_data"
    }
   ],
   "source": [
    "df_out = outerjoin(mydf, gdp_df, on = :Country)"
   ]
  },
  {
   "cell_type": "code",
   "execution_count": 201,
   "metadata": {},
   "outputs": [
    {
     "data": {
      "text/html": [
       "<div><div style = \"float: left;\"><span>210×10 DataFrame</span></div><div style = \"float: right;\"><span style = \"font-style: italic;\">200 rows omitted</span></div><div style = \"clear: both;\"></div></div><div class = \"data-frame\" style = \"overflow-x: scroll;\"><table class = \"data-frame\" style = \"margin-bottom: 6px;\"><thead><tr class = \"header\"><th class = \"rowNumber\" style = \"font-weight: bold; text-align: right;\">Row</th><th style = \"text-align: left;\">id</th><th style = \"text-align: left;\">Region</th><th style = \"text-align: left;\">Subregion</th><th style = \"text-align: left;\">Country</th><th style = \"text-align: left;\">my18</th><th style = \"text-align: left;\">my19</th><th style = \"text-align: left;\">mydelta</th><th style = \"text-align: left;\">mypct</th><th style = \"text-align: left;\">my100</th><th style = \"text-align: left;\">gdp</th></tr><tr class = \"subheader headerLastRow\"><th class = \"rowNumber\" style = \"font-weight: bold; text-align: right;\"></th><th title = \"Int64\" style = \"text-align: left;\">Int64</th><th title = \"Union{Missing, String15}\" style = \"text-align: left;\">String15?</th><th title = \"Union{Missing, String31}\" style = \"text-align: left;\">String31?</th><th title = \"String\" style = \"text-align: left;\">String</th><th title = \"Float64\" style = \"text-align: left;\">Float64</th><th title = \"Float64\" style = \"text-align: left;\">Float64</th><th title = \"Float64\" style = \"text-align: left;\">Float64</th><th title = \"Float64\" style = \"text-align: left;\">Float64</th><th title = \"Float64\" style = \"text-align: left;\">Float64</th><th title = \"Int64\" style = \"text-align: left;\">Int64</th></tr></thead><tbody><tr><td class = \"rowNumber\" style = \"font-weight: bold; text-align: right;\">1</td><td style = \"text-align: right;\">84</td><td style = \"text-align: left;\">Africa</td><td style = \"text-align: left;\">Eastern Africa</td><td style = \"text-align: left;\">Burundi</td><td style = \"text-align: right;\">10.524</td><td style = \"text-align: right;\">10.864</td><td style = \"text-align: right;\">0.34</td><td style = \"text-align: right;\">3.23</td><td style = \"text-align: right;\">0.14</td><td style = \"text-align: right;\">3002</td></tr><tr><td class = \"rowNumber\" style = \"font-weight: bold; text-align: right;\">2</td><td style = \"text-align: right;\">163</td><td style = \"text-align: left;\">Africa</td><td style = \"text-align: left;\">Eastern Africa</td><td style = \"text-align: left;\">Comoros</td><td style = \"text-align: right;\">0.832</td><td style = \"text-align: right;\">0.851</td><td style = \"text-align: right;\">0.019</td><td style = \"text-align: right;\">2.28</td><td style = \"text-align: right;\">0.01</td><td style = \"text-align: right;\">1165</td></tr><tr><td class = \"rowNumber\" style = \"font-weight: bold; text-align: right;\">3</td><td style = \"text-align: right;\">160</td><td style = \"text-align: left;\">Africa</td><td style = \"text-align: left;\">Eastern Africa</td><td style = \"text-align: left;\">Djibouti</td><td style = \"text-align: right;\">0.959</td><td style = \"text-align: right;\">0.974</td><td style = \"text-align: right;\">0.015</td><td style = \"text-align: right;\">1.56</td><td style = \"text-align: right;\">0.01</td><td style = \"text-align: right;\">3166</td></tr><tr><td class = \"rowNumber\" style = \"font-weight: bold; text-align: right;\">4</td><td style = \"text-align: right;\">133</td><td style = \"text-align: left;\">Africa</td><td style = \"text-align: left;\">Eastern Africa</td><td style = \"text-align: left;\">Eritrea</td><td style = \"text-align: right;\">3.453</td><td style = \"text-align: right;\">3.497</td><td style = \"text-align: right;\">0.044</td><td style = \"text-align: right;\">1.27</td><td style = \"text-align: right;\">0.05</td><td style = \"text-align: right;\">1981</td></tr><tr><td class = \"rowNumber\" style = \"font-weight: bold; text-align: right;\">5</td><td style = \"text-align: right;\">12</td><td style = \"text-align: left;\">Africa</td><td style = \"text-align: left;\">Eastern Africa</td><td style = \"text-align: left;\">Ethiopia</td><td style = \"text-align: right;\">109.224</td><td style = \"text-align: right;\">112.079</td><td style = \"text-align: right;\">2.855</td><td style = \"text-align: right;\">2.61</td><td style = \"text-align: right;\">1.45</td><td style = \"text-align: right;\">92750</td></tr><tr><td style = \"text-align: right;\">&vellip;</td><td style = \"text-align: right;\">&vellip;</td><td style = \"text-align: right;\">&vellip;</td><td style = \"text-align: right;\">&vellip;</td><td style = \"text-align: right;\">&vellip;</td><td style = \"text-align: right;\">&vellip;</td><td style = \"text-align: right;\">&vellip;</td><td style = \"text-align: right;\">&vellip;</td><td style = \"text-align: right;\">&vellip;</td><td style = \"text-align: right;\">&vellip;</td><td style = \"text-align: right;\">&vellip;</td></tr><tr><td class = \"rowNumber\" style = \"font-weight: bold; text-align: right;\">206</td><td style = \"text-align: right;\">210</td><td style = \"text-align: left;\">Oceania</td><td style = \"text-align: left;\">Polynesia</td><td style = \"text-align: left;\">American Samoa (United States)</td><td style = \"text-align: right;\">0.055</td><td style = \"text-align: right;\">0.055</td><td style = \"text-align: right;\">0.0</td><td style = \"text-align: right;\">0.0</td><td style = \"text-align: right;\">0.0</td><td style = \"text-align: right;\">844</td></tr><tr><td class = \"rowNumber\" style = \"font-weight: bold; text-align: right;\">207</td><td style = \"text-align: right;\">222</td><td style = \"text-align: left;\">Oceania</td><td style = \"text-align: left;\">Polynesia</td><td style = \"text-align: left;\">Cook Islands (New Zealand)</td><td style = \"text-align: right;\">0.018</td><td style = \"text-align: right;\">0.018</td><td style = \"text-align: right;\">0.0</td><td style = \"text-align: right;\">0.0</td><td style = \"text-align: right;\">0.0</td><td style = \"text-align: right;\">379</td></tr><tr><td class = \"rowNumber\" style = \"font-weight: bold; text-align: right;\">208</td><td style = \"text-align: right;\">185</td><td style = \"text-align: left;\">Oceania</td><td style = \"text-align: left;\">Polynesia</td><td style = \"text-align: left;\">French Polynesia (France)</td><td style = \"text-align: right;\">0.278</td><td style = \"text-align: right;\">0.279</td><td style = \"text-align: right;\">0.001</td><td style = \"text-align: right;\">0.36</td><td style = \"text-align: right;\">0.0</td><td style = \"text-align: right;\">6023</td></tr><tr><td class = \"rowNumber\" style = \"font-weight: bold; text-align: right;\">209</td><td style = \"text-align: right;\">196</td><td style = \"text-align: left;\">Oceania</td><td style = \"text-align: left;\">Polynesia</td><td style = \"text-align: left;\">Tonga</td><td style = \"text-align: right;\">0.111</td><td style = \"text-align: right;\">0.111</td><td style = \"text-align: right;\">0.0</td><td style = \"text-align: right;\">0.0</td><td style = \"text-align: right;\">0.0</td><td style = \"text-align: right;\">508</td></tr><tr><td class = \"rowNumber\" style = \"font-weight: bold; text-align: right;\">210</td><td style = \"text-align: right;\">224</td><td style = \"text-align: left;\">Oceania</td><td style = \"text-align: left;\">Polynesia</td><td style = \"text-align: left;\">Tuvalu</td><td style = \"text-align: right;\">0.012</td><td style = \"text-align: right;\">0.012</td><td style = \"text-align: right;\">0.0</td><td style = \"text-align: right;\">0.0</td><td style = \"text-align: right;\">0.0</td><td style = \"text-align: right;\">47</td></tr></tbody></table></div>"
      ],
      "text/latex": [
       "\\begin{tabular}{r|cccccccc}\n",
       "\t& id & Region & Subregion & Country & my18 & my19 & mydelta & \\\\\n",
       "\t\\hline\n",
       "\t& Int64 & String15? & String31? & String & Float64 & Float64 & Float64 & \\\\\n",
       "\t\\hline\n",
       "\t1 & 84 & Africa & Eastern Africa & Burundi & 10.524 & 10.864 & 0.34 & $\\dots$ \\\\\n",
       "\t2 & 163 & Africa & Eastern Africa & Comoros & 0.832 & 0.851 & 0.019 & $\\dots$ \\\\\n",
       "\t3 & 160 & Africa & Eastern Africa & Djibouti & 0.959 & 0.974 & 0.015 & $\\dots$ \\\\\n",
       "\t4 & 133 & Africa & Eastern Africa & Eritrea & 3.453 & 3.497 & 0.044 & $\\dots$ \\\\\n",
       "\t5 & 12 & Africa & Eastern Africa & Ethiopia & 109.224 & 112.079 & 2.855 & $\\dots$ \\\\\n",
       "\t6 & 27 & Africa & Eastern Africa & Kenya & 51.393 & 52.574 & 1.181 & $\\dots$ \\\\\n",
       "\t7 & 51 & Africa & Eastern Africa & Madagascar & 26.262 & 26.969 & 0.707 & $\\dots$ \\\\\n",
       "\t8 & 62 & Africa & Eastern Africa & Malawi & 18.143 & 18.629 & 0.486 & $\\dots$ \\\\\n",
       "\t9 & 157 & Africa & Eastern Africa & Mauritius & 1.189 & 1.199 & 0.01 & $\\dots$ \\\\\n",
       "\t10 & 46 & Africa & Eastern Africa & Mozambique & 29.496 & 30.366 & 0.87 & $\\dots$ \\\\\n",
       "\t11 & 76 & Africa & Eastern Africa & Rwanda & 12.302 & 12.627 & 0.325 & $\\dots$ \\\\\n",
       "\t12 & 200 & Africa & Eastern Africa & Seychelles & 0.097 & 0.098 & 0.001 & $\\dots$ \\\\\n",
       "\t13 & 73 & Africa & Eastern Africa & Somalia & 15.008 & 15.443 & 0.435 & $\\dots$ \\\\\n",
       "\t14 & 83 & Africa & Eastern Africa & South Sudan & 10.976 & 11.062 & 0.086 & $\\dots$ \\\\\n",
       "\t15 & 25 & Africa & Eastern Africa & Tanzania & 56.313 & 58.005 & 1.692 & $\\dots$ \\\\\n",
       "\t16 & 32 & Africa & Eastern Africa & Uganda & 42.729 & 44.27 & 1.541 & $\\dots$ \\\\\n",
       "\t17 & 65 & Africa & Eastern Africa & Zambia & 17.352 & 17.861 & 0.509 & $\\dots$ \\\\\n",
       "\t18 & 74 & Africa & Eastern Africa & Zimbabwe & 14.439 & 14.645 & 0.206 & $\\dots$ \\\\\n",
       "\t19 & 45 & Africa & Middle Africa & Angola & 30.81 & 31.825 & 1.015 & $\\dots$ \\\\\n",
       "\t20 & 54 & Africa & Middle Africa & Cameroon & 25.216 & 25.876 & 0.66 & $\\dots$ \\\\\n",
       "\t21 & 126 & Africa & Middle Africa & Central African Republic & 4.666 & 4.745 & 0.079 & $\\dots$ \\\\\n",
       "\t22 & 72 & Africa & Middle Africa & Chad & 15.478 & 15.947 & 0.469 & $\\dots$ \\\\\n",
       "\t23 & 118 & Africa & Middle Africa & Congo & 5.244 & 5.381 & 0.137 & $\\dots$ \\\\\n",
       "\t24 & 16 & Africa & Middle Africa & DR Congo & 84.068 & 86.791 & 2.723 & $\\dots$ \\\\\n",
       "\t$\\dots$ & $\\dots$ & $\\dots$ & $\\dots$ & $\\dots$ & $\\dots$ & $\\dots$ & $\\dots$ &  \\\\\n",
       "\\end{tabular}\n"
      ],
      "text/plain": [
       "\u001b[1m210×10 DataFrame\u001b[0m\n",
       "\u001b[1m Row \u001b[0m│\u001b[1m id    \u001b[0m\u001b[1m Region    \u001b[0m\u001b[1m Subregion      \u001b[0m\u001b[1m Country                        \u001b[0m\u001b[1m my18 \u001b[0m ⋯\n",
       "     │\u001b[90m Int64 \u001b[0m\u001b[90m String15? \u001b[0m\u001b[90m String31?      \u001b[0m\u001b[90m String                         \u001b[0m\u001b[90m Float\u001b[0m ⋯\n",
       "─────┼──────────────────────────────────────────────────────────────────────────\n",
       "   1 │    84  Africa     Eastern Africa  Burundi                          10.5 ⋯\n",
       "   2 │   163  Africa     Eastern Africa  Comoros                           0.8\n",
       "   3 │   160  Africa     Eastern Africa  Djibouti                          0.9\n",
       "   4 │   133  Africa     Eastern Africa  Eritrea                           3.4\n",
       "   5 │    12  Africa     Eastern Africa  Ethiopia                        109.2 ⋯\n",
       "   6 │    27  Africa     Eastern Africa  Kenya                            51.3\n",
       "   7 │    51  Africa     Eastern Africa  Madagascar                       26.2\n",
       "   8 │    62  Africa     Eastern Africa  Malawi                           18.1\n",
       "  ⋮  │   ⋮        ⋮            ⋮                       ⋮                    ⋮  ⋱\n",
       " 204 │   226  Oceania    Micronesia      Nauru                             0.0 ⋯\n",
       " 205 │   221  Oceania    Micronesia      Palau                             0.0\n",
       " 206 │   210  Oceania    Polynesia       American Samoa (United States)    0.0\n",
       " 207 │   222  Oceania    Polynesia       Cook Islands (New Zealand)        0.0\n",
       " 208 │   185  Oceania    Polynesia       French Polynesia (France)         0.2 ⋯\n",
       " 209 │   196  Oceania    Polynesia       Tonga                             0.1\n",
       " 210 │   224  Oceania    Polynesia       Tuvalu                            0.0\n",
       "\u001b[36m                                                  6 columns and 195 rows omitted\u001b[0m"
      ]
     },
     "metadata": {},
     "output_type": "display_data"
    }
   ],
   "source": [
    "df_inn = innerjoin(mydf, gdp_df, on = :Country)"
   ]
  },
  {
   "cell_type": "code",
   "execution_count": 202,
   "metadata": {},
   "outputs": [
    {
     "data": {
      "text/html": [
       "<div><div style = \"float: left;\"><span>9×10 DataFrame</span></div><div style = \"clear: both;\"></div></div><div class = \"data-frame\" style = \"overflow-x: scroll;\"><table class = \"data-frame\" style = \"margin-bottom: 6px;\"><thead><tr class = \"header\"><th class = \"rowNumber\" style = \"font-weight: bold; text-align: right;\">Row</th><th style = \"text-align: left;\">id</th><th style = \"text-align: left;\">Region</th><th style = \"text-align: left;\">Subregion</th><th style = \"text-align: left;\">Country</th><th style = \"text-align: left;\">my18</th><th style = \"text-align: left;\">my19</th><th style = \"text-align: left;\">mydelta</th><th style = \"text-align: left;\">mypct</th><th style = \"text-align: left;\">my100</th><th style = \"text-align: left;\">gdp</th></tr><tr class = \"subheader headerLastRow\"><th class = \"rowNumber\" style = \"font-weight: bold; text-align: right;\"></th><th title = \"Int64\" style = \"text-align: left;\">Int64</th><th title = \"Union{Missing, String15}\" style = \"text-align: left;\">String15?</th><th title = \"Union{Missing, String31}\" style = \"text-align: left;\">String31?</th><th title = \"String\" style = \"text-align: left;\">String</th><th title = \"Float64\" style = \"text-align: left;\">Float64</th><th title = \"Float64\" style = \"text-align: left;\">Float64</th><th title = \"Float64\" style = \"text-align: left;\">Float64</th><th title = \"Float64\" style = \"text-align: left;\">Float64</th><th title = \"Float64\" style = \"text-align: left;\">Float64</th><th title = \"Int64\" style = \"text-align: left;\">Int64</th></tr></thead><tbody><tr><td class = \"rowNumber\" style = \"font-weight: bold; text-align: right;\">1</td><td style = \"text-align: right;\">37</td><td style = \"text-align: left;\">Asia</td><td style = \"text-align: left;\">Southern Asia</td><td style = \"text-align: left;\">Afghanistan</td><td style = \"text-align: right;\">37.172</td><td style = \"text-align: right;\">38.042</td><td style = \"text-align: right;\">0.87</td><td style = \"text-align: right;\">2.34</td><td style = \"text-align: right;\">0.49</td><td style = \"text-align: right;\">17876</td></tr><tr><td class = \"rowNumber\" style = \"font-weight: bold; text-align: right;\">2</td><td style = \"text-align: right;\">8</td><td style = \"text-align: left;\">Asia</td><td style = \"text-align: left;\">Southern Asia</td><td style = \"text-align: left;\">Bangladesh</td><td style = \"text-align: right;\">161.377</td><td style = \"text-align: right;\">163.046</td><td style = \"text-align: right;\">1.669</td><td style = \"text-align: right;\">1.03</td><td style = \"text-align: right;\">2.11</td><td style = \"text-align: right;\">301051</td></tr><tr><td class = \"rowNumber\" style = \"font-weight: bold; text-align: right;\">3</td><td style = \"text-align: right;\">165</td><td style = \"text-align: left;\">Asia</td><td style = \"text-align: left;\">Southern Asia</td><td style = \"text-align: left;\">Bhutan</td><td style = \"text-align: right;\">0.754</td><td style = \"text-align: right;\">0.763</td><td style = \"text-align: right;\">0.009</td><td style = \"text-align: right;\">1.19</td><td style = \"text-align: right;\">0.01</td><td style = \"text-align: right;\">2564</td></tr><tr><td class = \"rowNumber\" style = \"font-weight: bold; text-align: right;\">4</td><td style = \"text-align: right;\">2</td><td style = \"text-align: left;\">Asia</td><td style = \"text-align: left;\">Southern Asia</td><td style = \"text-align: left;\">India</td><td style = \"text-align: right;\">1352.64</td><td style = \"text-align: right;\">1366.42</td><td style = \"text-align: right;\">13.776</td><td style = \"text-align: right;\">1.02</td><td style = \"text-align: right;\">17.72</td><td style = \"text-align: right;\">2891582</td></tr><tr><td class = \"rowNumber\" style = \"font-weight: bold; text-align: right;\">5</td><td style = \"text-align: right;\">19</td><td style = \"text-align: left;\">Asia</td><td style = \"text-align: left;\">Southern Asia</td><td style = \"text-align: left;\">Iran</td><td style = \"text-align: right;\">81.8</td><td style = \"text-align: right;\">82.914</td><td style = \"text-align: right;\">1.114</td><td style = \"text-align: right;\">1.36</td><td style = \"text-align: right;\">1.08</td><td style = \"text-align: right;\">603779</td></tr><tr><td class = \"rowNumber\" style = \"font-weight: bold; text-align: right;\">6</td><td style = \"text-align: right;\">173</td><td style = \"text-align: left;\">Asia</td><td style = \"text-align: left;\">Southern Asia</td><td style = \"text-align: left;\">Maldives</td><td style = \"text-align: right;\">0.516</td><td style = \"text-align: right;\">0.531</td><td style = \"text-align: right;\">0.015</td><td style = \"text-align: right;\">2.91</td><td style = \"text-align: right;\">0.01</td><td style = \"text-align: right;\">5642</td></tr><tr><td class = \"rowNumber\" style = \"font-weight: bold; text-align: right;\">7</td><td style = \"text-align: right;\">49</td><td style = \"text-align: left;\">Asia</td><td style = \"text-align: left;\">Southern Asia</td><td style = \"text-align: left;\">Nepal</td><td style = \"text-align: right;\">28.096</td><td style = \"text-align: right;\">28.609</td><td style = \"text-align: right;\">0.513</td><td style = \"text-align: right;\">1.83</td><td style = \"text-align: right;\">0.37</td><td style = \"text-align: right;\">30714</td></tr><tr><td class = \"rowNumber\" style = \"font-weight: bold; text-align: right;\">8</td><td style = \"text-align: right;\">5</td><td style = \"text-align: left;\">Asia</td><td style = \"text-align: left;\">Southern Asia</td><td style = \"text-align: left;\">Pakistan</td><td style = \"text-align: right;\">212.228</td><td style = \"text-align: right;\">216.565</td><td style = \"text-align: right;\">4.337</td><td style = \"text-align: right;\">2.04</td><td style = \"text-align: right;\">2.81</td><td style = \"text-align: right;\">256996</td></tr><tr><td class = \"rowNumber\" style = \"font-weight: bold; text-align: right;\">9</td><td style = \"text-align: right;\">58</td><td style = \"text-align: left;\">Asia</td><td style = \"text-align: left;\">Southern Asia</td><td style = \"text-align: left;\">Sri Lanka</td><td style = \"text-align: right;\">21.229</td><td style = \"text-align: right;\">21.324</td><td style = \"text-align: right;\">0.095</td><td style = \"text-align: right;\">0.45</td><td style = \"text-align: right;\">0.28</td><td style = \"text-align: right;\">84008</td></tr></tbody></table></div>"
      ],
      "text/latex": [
       "\\begin{tabular}{r|ccccccccc}\n",
       "\t& id & Region & Subregion & Country & my18 & my19 & mydelta & mypct & \\\\\n",
       "\t\\hline\n",
       "\t& Int64 & String15? & String31? & String & Float64 & Float64 & Float64 & Float64 & \\\\\n",
       "\t\\hline\n",
       "\t1 & 37 & Asia & Southern Asia & Afghanistan & 37.172 & 38.042 & 0.87 & 2.34 & $\\dots$ \\\\\n",
       "\t2 & 8 & Asia & Southern Asia & Bangladesh & 161.377 & 163.046 & 1.669 & 1.03 & $\\dots$ \\\\\n",
       "\t3 & 165 & Asia & Southern Asia & Bhutan & 0.754 & 0.763 & 0.009 & 1.19 & $\\dots$ \\\\\n",
       "\t4 & 2 & Asia & Southern Asia & India & 1352.64 & 1366.42 & 13.776 & 1.02 & $\\dots$ \\\\\n",
       "\t5 & 19 & Asia & Southern Asia & Iran & 81.8 & 82.914 & 1.114 & 1.36 & $\\dots$ \\\\\n",
       "\t6 & 173 & Asia & Southern Asia & Maldives & 0.516 & 0.531 & 0.015 & 2.91 & $\\dots$ \\\\\n",
       "\t7 & 49 & Asia & Southern Asia & Nepal & 28.096 & 28.609 & 0.513 & 1.83 & $\\dots$ \\\\\n",
       "\t8 & 5 & Asia & Southern Asia & Pakistan & 212.228 & 216.565 & 4.337 & 2.04 & $\\dots$ \\\\\n",
       "\t9 & 58 & Asia & Southern Asia & Sri Lanka & 21.229 & 21.324 & 0.095 & 0.45 & $\\dots$ \\\\\n",
       "\\end{tabular}\n"
      ],
      "text/plain": [
       "\u001b[1m9×10 DataFrame\u001b[0m\n",
       "\u001b[1m Row \u001b[0m│\u001b[1m id    \u001b[0m\u001b[1m Region    \u001b[0m\u001b[1m Subregion     \u001b[0m\u001b[1m Country     \u001b[0m\u001b[1m my18     \u001b[0m\u001b[1m my19     \u001b[0m\u001b[1m mydel\u001b[0m ⋯\n",
       "     │\u001b[90m Int64 \u001b[0m\u001b[90m String15? \u001b[0m\u001b[90m String31?     \u001b[0m\u001b[90m String      \u001b[0m\u001b[90m Float64  \u001b[0m\u001b[90m Float64  \u001b[0m\u001b[90m Float\u001b[0m ⋯\n",
       "─────┼──────────────────────────────────────────────────────────────────────────\n",
       "   1 │    37  Asia       Southern Asia  Afghanistan    37.172    38.042    0.8 ⋯\n",
       "   2 │     8  Asia       Southern Asia  Bangladesh    161.377   163.046    1.6\n",
       "   3 │   165  Asia       Southern Asia  Bhutan          0.754     0.763    0.0\n",
       "   4 │     2  Asia       Southern Asia  India        1352.64   1366.42    13.7\n",
       "   5 │    19  Asia       Southern Asia  Iran           81.8      82.914    1.1 ⋯\n",
       "   6 │   173  Asia       Southern Asia  Maldives        0.516     0.531    0.0\n",
       "   7 │    49  Asia       Southern Asia  Nepal          28.096    28.609    0.5\n",
       "   8 │     5  Asia       Southern Asia  Pakistan      212.228   216.565    4.3\n",
       "   9 │    58  Asia       Southern Asia  Sri Lanka      21.229    21.324    0.0 ⋯\n",
       "\u001b[36m                                                               4 columns omitted\u001b[0m"
      ]
     },
     "metadata": {},
     "output_type": "display_data"
    }
   ],
   "source": [
    "df_sa_base = filter(:Subregion => x -> x == \"Southern Asia\", df_inn)"
   ]
  },
  {
   "cell_type": "markdown",
   "metadata": {},
   "source": [
    "# 6. Wizualizacja"
   ]
  },
  {
   "cell_type": "code",
   "execution_count": 203,
   "metadata": {},
   "outputs": [],
   "source": [
    "set_default_plot_size(16cm, 9cm)"
   ]
  },
  {
   "cell_type": "code",
   "execution_count": 204,
   "metadata": {},
   "outputs": [
    {
     "data": {
      "text/html": [
       "<div><div style = \"float: left;\"><span>5×8 DataFrame</span></div><div style = \"clear: both;\"></div></div><div class = \"data-frame\" style = \"overflow-x: scroll;\"><table class = \"data-frame\" style = \"margin-bottom: 6px;\"><thead><tr class = \"header\"><th class = \"rowNumber\" style = \"font-weight: bold; text-align: right;\">Row</th><th style = \"text-align: left;\">Region</th><th style = \"text-align: left;\">my18_sum</th><th style = \"text-align: left;\">my19_sum</th><th style = \"text-align: left;\">mydelta_sum</th><th style = \"text-align: left;\">mypct_c</th><th style = \"text-align: left;\">my100_c</th><th style = \"text-align: left;\">gdp_sum</th><th style = \"text-align: left;\">gdppc_c</th></tr><tr class = \"subheader headerLastRow\"><th class = \"rowNumber\" style = \"font-weight: bold; text-align: right;\"></th><th title = \"Union{Missing, String15}\" style = \"text-align: left;\">String15?</th><th title = \"Float64\" style = \"text-align: left;\">Float64</th><th title = \"Float64\" style = \"text-align: left;\">Float64</th><th title = \"Float64\" style = \"text-align: left;\">Float64</th><th title = \"Float64\" style = \"text-align: left;\">Float64</th><th title = \"Float64\" style = \"text-align: left;\">Float64</th><th title = \"Int64\" style = \"text-align: left;\">Int64</th><th title = \"Float64\" style = \"text-align: left;\">Float64</th></tr></thead><tbody><tr><td class = \"rowNumber\" style = \"font-weight: bold; text-align: right;\">1</td><td style = \"text-align: left;\">Asia</td><td style = \"text-align: right;\">4536.36</td><td style = \"text-align: right;\">4576.99</td><td style = \"text-align: right;\">40.633</td><td style = \"text-align: right;\">0.9</td><td style = \"text-align: right;\">59.57</td><td style = \"text-align: right;\">32474145</td><td style = \"text-align: right;\">7095.09</td></tr><tr><td class = \"rowNumber\" style = \"font-weight: bold; text-align: right;\">2</td><td style = \"text-align: left;\">Americas</td><td style = \"text-align: right;\">1005.17</td><td style = \"text-align: right;\">1013.36</td><td style = \"text-align: right;\">8.199</td><td style = \"text-align: right;\">0.82</td><td style = \"text-align: right;\">13.19</td><td style = \"text-align: right;\">28619050</td><td style = \"text-align: right;\">28241.6</td></tr><tr><td class = \"rowNumber\" style = \"font-weight: bold; text-align: right;\">3</td><td style = \"text-align: left;\">Africa</td><td style = \"text-align: right;\">1271.91</td><td style = \"text-align: right;\">1304.0</td><td style = \"text-align: right;\">32.087</td><td style = \"text-align: right;\">2.52</td><td style = \"text-align: right;\">16.97</td><td style = \"text-align: right;\">2460570</td><td style = \"text-align: right;\">1886.94</td></tr><tr><td class = \"rowNumber\" style = \"font-weight: bold; text-align: right;\">4</td><td style = \"text-align: left;\">Europe</td><td style = \"text-align: right;\">746.084</td><td style = \"text-align: right;\">746.841</td><td style = \"text-align: right;\">0.757</td><td style = \"text-align: right;\">0.1</td><td style = \"text-align: right;\">9.72</td><td style = \"text-align: right;\">21644976</td><td style = \"text-align: right;\">28982.0</td></tr><tr><td class = \"rowNumber\" style = \"font-weight: bold; text-align: right;\">5</td><td style = \"text-align: left;\">Oceania</td><td style = \"text-align: right;\">41.146</td><td style = \"text-align: right;\">41.7</td><td style = \"text-align: right;\">0.554</td><td style = \"text-align: right;\">1.35</td><td style = \"text-align: right;\">0.54</td><td style = \"text-align: right;\">1638761</td><td style = \"text-align: right;\">39298.8</td></tr></tbody></table></div>"
      ],
      "text/latex": [
       "\\begin{tabular}{r|cccccccc}\n",
       "\t& Region & my18\\_sum & my19\\_sum & mydelta\\_sum & mypct\\_c & my100\\_c & gdp\\_sum & gdppc\\_c\\\\\n",
       "\t\\hline\n",
       "\t& String15? & Float64 & Float64 & Float64 & Float64 & Float64 & Int64 & Float64\\\\\n",
       "\t\\hline\n",
       "\t1 & Asia & 4536.36 & 4576.99 & 40.633 & 0.9 & 59.57 & 32474145 & 7095.09 \\\\\n",
       "\t2 & Americas & 1005.17 & 1013.36 & 8.199 & 0.82 & 13.19 & 28619050 & 28241.6 \\\\\n",
       "\t3 & Africa & 1271.91 & 1304.0 & 32.087 & 2.52 & 16.97 & 2460570 & 1886.94 \\\\\n",
       "\t4 & Europe & 746.084 & 746.841 & 0.757 & 0.1 & 9.72 & 21644976 & 28982.0 \\\\\n",
       "\t5 & Oceania & 41.146 & 41.7 & 0.554 & 1.35 & 0.54 & 1638761 & 39298.8 \\\\\n",
       "\\end{tabular}\n"
      ],
      "text/plain": [
       "\u001b[1m5×8 DataFrame\u001b[0m\n",
       "\u001b[1m Row \u001b[0m│\u001b[1m Region    \u001b[0m\u001b[1m my18_sum \u001b[0m\u001b[1m my19_sum \u001b[0m\u001b[1m mydelta_sum \u001b[0m\u001b[1m mypct_c \u001b[0m\u001b[1m my100_c \u001b[0m\u001b[1m gdp_sum  \u001b[0m\u001b[1m\u001b[0m ⋯\n",
       "     │\u001b[90m String15? \u001b[0m\u001b[90m Float64  \u001b[0m\u001b[90m Float64  \u001b[0m\u001b[90m Float64     \u001b[0m\u001b[90m Float64 \u001b[0m\u001b[90m Float64 \u001b[0m\u001b[90m Int64    \u001b[0m\u001b[90m\u001b[0m ⋯\n",
       "─────┼──────────────────────────────────────────────────────────────────────────\n",
       "   1 │ Asia       4536.36   4576.99        40.633     0.9     59.57  32474145  ⋯\n",
       "   2 │ Americas   1005.17   1013.36         8.199     0.82    13.19  28619050\n",
       "   3 │ Africa     1271.91   1304.0         32.087     2.52    16.97   2460570\n",
       "   4 │ Europe      746.084   746.841        0.757     0.1      9.72  21644976\n",
       "   5 │ Oceania      41.146    41.7          0.554     1.35     0.54   1638761  ⋯\n",
       "\u001b[36m                                                                1 column omitted\u001b[0m"
      ]
     },
     "metadata": {},
     "output_type": "display_data"
    }
   ],
   "source": [
    "df_by_r = @by(df_inn, :Region,\n",
    "    :my18_sum = sum(:my18),\n",
    "    :my19_sum = sum(:my19),\n",
    "    :mydelta_sum = sum(:mydelta),\n",
    "    :mypct_c = round.(sum(:mydelta) ./ sum(:my18) .* 100, digits = 2),\n",
    "    :my100_c = round.(sum(:my19) ./ sum(df_inn.my19) .* 100, digits = 2),\n",
    "    :gdp_sum = sum(:gdp),\n",
    "    :gdppc_c = round.(sum(:gdp) ./ sum(:my19), digits = 3)\n",
    ")"
   ]
  },
  {
   "cell_type": "code",
   "execution_count": 205,
   "metadata": {},
   "outputs": [
    {
     "data": {
      "text/plain": [
       "false"
      ]
     },
     "metadata": {},
     "output_type": "display_data"
    }
   ],
   "source": [
    "df_by_r = sort!(df_by_r, :my19_sum)\n",
    "\n",
    "p = plot(df_by_r,\n",
    "    x = :my19_sum,\n",
    "    y = :Region,\n",
    "    color = :Region,\n",
    "    Geom.bar(orientation = :horizontal),\n",
    "    Guide.xlabel(\"Population (mils)\"),\n",
    "    Guide.ylabel(\"Region\"),\n",
    "    Guide.title(\"2019 Population by Region\"),\n",
    "    Guide.colorkey(title = \"Region\"),\n",
    "    Scale.x_continuous(format = :plain),\n",
    "    Theme(\n",
    "        background_color = \"white\",\n",
    "        bar_spacing = 1mm\n",
    "    )\n",
    ")\n",
    "\n",
    "\n",
    "img = SVG(\"p_bar_region.svg\", 16cm, 9cm)\n",
    "draw(img,p)"
   ]
  },
  {
   "cell_type": "code",
   "execution_count": 206,
   "metadata": {},
   "outputs": [
    {
     "data": {
      "text/html": [
       "<div><div style = \"float: left;\"><span>22×9 DataFrame</span></div><div style = \"float: right;\"><span style = \"font-style: italic;\">12 rows omitted</span></div><div style = \"clear: both;\"></div></div><div class = \"data-frame\" style = \"overflow-x: scroll;\"><table class = \"data-frame\" style = \"margin-bottom: 6px;\"><thead><tr class = \"header\"><th class = \"rowNumber\" style = \"font-weight: bold; text-align: right;\">Row</th><th style = \"text-align: left;\">Subregion</th><th style = \"text-align: left;\">region_unique</th><th style = \"text-align: left;\">my18_sum</th><th style = \"text-align: left;\">my19_sum</th><th style = \"text-align: left;\">mydelta_sum</th><th style = \"text-align: left;\">mypct_c</th><th style = \"text-align: left;\">my100_c</th><th style = \"text-align: left;\">gdp_sum</th><th style = \"text-align: left;\">gdppc_c</th></tr><tr class = \"subheader headerLastRow\"><th class = \"rowNumber\" style = \"font-weight: bold; text-align: right;\"></th><th title = \"Union{Missing, String31}\" style = \"text-align: left;\">String31?</th><th title = \"Union{Missing, String15}\" style = \"text-align: left;\">String15?</th><th title = \"Float64\" style = \"text-align: left;\">Float64</th><th title = \"Float64\" style = \"text-align: left;\">Float64</th><th title = \"Float64\" style = \"text-align: left;\">Float64</th><th title = \"Float64\" style = \"text-align: left;\">Float64</th><th title = \"Float64\" style = \"text-align: left;\">Float64</th><th title = \"Int64\" style = \"text-align: left;\">Int64</th><th title = \"Float64\" style = \"text-align: left;\">Float64</th></tr></thead><tbody><tr><td class = \"rowNumber\" style = \"font-weight: bold; text-align: right;\">1</td><td style = \"text-align: left;\">Eastern Asia</td><td style = \"text-align: left;\">Asia</td><td style = \"text-align: right;\">1642.75</td><td style = \"text-align: right;\">1648.84</td><td style = \"text-align: right;\">6.09</td><td style = \"text-align: right;\">0.37</td><td style = \"text-align: right;\">21.46</td><td style = \"text-align: right;\">21521689</td><td style = \"text-align: right;\">13052.7</td></tr><tr><td class = \"rowNumber\" style = \"font-weight: bold; text-align: right;\">2</td><td style = \"text-align: left;\">Southern Asia</td><td style = \"text-align: left;\">Asia</td><td style = \"text-align: right;\">1895.81</td><td style = \"text-align: right;\">1918.21</td><td style = \"text-align: right;\">22.398</td><td style = \"text-align: right;\">1.18</td><td style = \"text-align: right;\">24.97</td><td style = \"text-align: right;\">4194212</td><td style = \"text-align: right;\">2186.52</td></tr><tr><td class = \"rowNumber\" style = \"font-weight: bold; text-align: right;\">3</td><td style = \"text-align: left;\">Northern America</td><td style = \"text-align: left;\">Americas</td><td style = \"text-align: right;\">364.297</td><td style = \"text-align: right;\">366.602</td><td style = \"text-align: right;\">2.305</td><td style = \"text-align: right;\">0.63</td><td style = \"text-align: right;\">4.77</td><td style = \"text-align: right;\">23185931</td><td style = \"text-align: right;\">63245.5</td></tr><tr><td class = \"rowNumber\" style = \"font-weight: bold; text-align: right;\">4</td><td style = \"text-align: left;\">South-eastern Asia</td><td style = \"text-align: left;\">Asia</td><td style = \"text-align: right;\">654.734</td><td style = \"text-align: right;\">661.424</td><td style = \"text-align: right;\">6.69</td><td style = \"text-align: right;\">1.02</td><td style = \"text-align: right;\">8.61</td><td style = \"text-align: right;\">3157427</td><td style = \"text-align: right;\">4773.68</td></tr><tr><td class = \"rowNumber\" style = \"font-weight: bold; text-align: right;\">5</td><td style = \"text-align: left;\">South America</td><td style = \"text-align: left;\">Americas</td><td style = \"text-align: right;\">423.293</td><td style = \"text-align: right;\">426.906</td><td style = \"text-align: right;\">3.613</td><td style = \"text-align: right;\">0.85</td><td style = \"text-align: right;\">5.56</td><td style = \"text-align: right;\">3516719</td><td style = \"text-align: right;\">8237.69</td></tr><tr><td style = \"text-align: right;\">&vellip;</td><td style = \"text-align: right;\">&vellip;</td><td style = \"text-align: right;\">&vellip;</td><td style = \"text-align: right;\">&vellip;</td><td style = \"text-align: right;\">&vellip;</td><td style = \"text-align: right;\">&vellip;</td><td style = \"text-align: right;\">&vellip;</td><td style = \"text-align: right;\">&vellip;</td><td style = \"text-align: right;\">&vellip;</td><td style = \"text-align: right;\">&vellip;</td></tr><tr><td class = \"rowNumber\" style = \"font-weight: bold; text-align: right;\">18</td><td style = \"text-align: left;\">Australia and New Zealand</td><td style = \"text-align: left;\">Oceania</td><td style = \"text-align: right;\">29.641</td><td style = \"text-align: right;\">29.986</td><td style = \"text-align: right;\">0.345</td><td style = \"text-align: right;\">1.16</td><td style = \"text-align: right;\">0.39</td><td style = \"text-align: right;\">1587143</td><td style = \"text-align: right;\">52929.5</td></tr><tr><td class = \"rowNumber\" style = \"font-weight: bold; text-align: right;\">19</td><td style = \"text-align: left;\">Caribbean</td><td style = \"text-align: left;\">Americas</td><td style = \"text-align: right;\">42.102</td><td style = \"text-align: right;\">42.269</td><td style = \"text-align: right;\">0.167</td><td style = \"text-align: right;\">0.4</td><td style = \"text-align: right;\">0.55</td><td style = \"text-align: right;\">388147</td><td style = \"text-align: right;\">9182.78</td></tr><tr><td class = \"rowNumber\" style = \"font-weight: bold; text-align: right;\">20</td><td style = \"text-align: left;\">Melanesia</td><td style = \"text-align: left;\">Oceania</td><td style = \"text-align: right;\">10.715</td><td style = \"text-align: right;\">10.919</td><td style = \"text-align: right;\">0.204</td><td style = \"text-align: right;\">1.9</td><td style = \"text-align: right;\">0.14</td><td style = \"text-align: right;\">42560</td><td style = \"text-align: right;\">3897.79</td></tr><tr><td class = \"rowNumber\" style = \"font-weight: bold; text-align: right;\">21</td><td style = \"text-align: left;\">Polynesia</td><td style = \"text-align: left;\">Oceania</td><td style = \"text-align: right;\">0.474</td><td style = \"text-align: right;\">0.475</td><td style = \"text-align: right;\">0.001</td><td style = \"text-align: right;\">0.21</td><td style = \"text-align: right;\">0.01</td><td style = \"text-align: right;\">7801</td><td style = \"text-align: right;\">16423.2</td></tr><tr><td class = \"rowNumber\" style = \"font-weight: bold; text-align: right;\">22</td><td style = \"text-align: left;\">Micronesia</td><td style = \"text-align: left;\">Oceania</td><td style = \"text-align: right;\">0.316</td><td style = \"text-align: right;\">0.32</td><td style = \"text-align: right;\">0.004</td><td style = \"text-align: right;\">1.27</td><td style = \"text-align: right;\">0.0</td><td style = \"text-align: right;\">1257</td><td style = \"text-align: right;\">3928.12</td></tr></tbody></table></div>"
      ],
      "text/latex": [
       "\\begin{tabular}{r|ccccccc}\n",
       "\t& Subregion & region\\_unique & my18\\_sum & my19\\_sum & mydelta\\_sum & mypct\\_c & \\\\\n",
       "\t\\hline\n",
       "\t& String31? & String15? & Float64 & Float64 & Float64 & Float64 & \\\\\n",
       "\t\\hline\n",
       "\t1 & Eastern Asia & Asia & 1642.75 & 1648.84 & 6.09 & 0.37 & $\\dots$ \\\\\n",
       "\t2 & Southern Asia & Asia & 1895.81 & 1918.21 & 22.398 & 1.18 & $\\dots$ \\\\\n",
       "\t3 & Northern America & Americas & 364.297 & 366.602 & 2.305 & 0.63 & $\\dots$ \\\\\n",
       "\t4 & South-eastern Asia & Asia & 654.734 & 661.424 & 6.69 & 1.02 & $\\dots$ \\\\\n",
       "\t5 & South America & Americas & 423.293 & 426.906 & 3.613 & 0.85 & $\\dots$ \\\\\n",
       "\t6 & Western Africa & Africa & 379.635 & 389.85 & 10.215 & 2.69 & $\\dots$ \\\\\n",
       "\t7 & Eastern Europe & Europe & 293.791 & 293.445 & -0.346 & -0.12 & $\\dots$ \\\\\n",
       "\t8 & Central America & Americas & 175.473 & 177.587 & 2.114 & 1.2 & $\\dots$ \\\\\n",
       "\t9 & Eastern Africa & Africa & 420.691 & 432.013 & 11.322 & 2.69 & $\\dots$ \\\\\n",
       "\t10 & Northern Africa & Africa & 236.727 & 241.198 & 4.471 & 1.89 & $\\dots$ \\\\\n",
       "\t11 & Middle Africa & Africa & 169.121 & 174.309 & 5.188 & 3.07 & $\\dots$ \\\\\n",
       "\t12 & Western Europe & Europe & 194.755 & 195.522 & 0.767 & 0.39 & $\\dots$ \\\\\n",
       "\t13 & Western Asia & Asia & 271.013 & 275.308 & 4.295 & 1.58 & $\\dots$ \\\\\n",
       "\t14 & Northern Europe & Europe & 104.935 & 105.463 & 0.528 & 0.5 & $\\dots$ \\\\\n",
       "\t15 & Southern Europe & Europe & 152.603 & 152.411 & -0.192 & -0.13 & $\\dots$ \\\\\n",
       "\t16 & Southern Africa & Africa & 65.739 & 66.63 & 0.891 & 1.36 & $\\dots$ \\\\\n",
       "\t17 & Central Asia & Asia & 72.052 & 73.212 & 1.16 & 1.61 & $\\dots$ \\\\\n",
       "\t18 & Australia and New Zealand & Oceania & 29.641 & 29.986 & 0.345 & 1.16 & $\\dots$ \\\\\n",
       "\t19 & Caribbean & Americas & 42.102 & 42.269 & 0.167 & 0.4 & $\\dots$ \\\\\n",
       "\t20 & Melanesia & Oceania & 10.715 & 10.919 & 0.204 & 1.9 & $\\dots$ \\\\\n",
       "\t21 & Polynesia & Oceania & 0.474 & 0.475 & 0.001 & 0.21 & $\\dots$ \\\\\n",
       "\t22 & Micronesia & Oceania & 0.316 & 0.32 & 0.004 & 1.27 & $\\dots$ \\\\\n",
       "\\end{tabular}\n"
      ],
      "text/plain": [
       "\u001b[1m22×9 DataFrame\u001b[0m\n",
       "\u001b[1m Row \u001b[0m│\u001b[1m Subregion                 \u001b[0m\u001b[1m region_unique \u001b[0m\u001b[1m my18_sum \u001b[0m\u001b[1m my19_sum \u001b[0m\u001b[1m mydelta_s\u001b[0m ⋯\n",
       "     │\u001b[90m String31?                 \u001b[0m\u001b[90m String15?     \u001b[0m\u001b[90m Float64  \u001b[0m\u001b[90m Float64  \u001b[0m\u001b[90m Float64  \u001b[0m ⋯\n",
       "─────┼──────────────────────────────────────────────────────────────────────────\n",
       "   1 │ Eastern Asia               Asia           1642.75   1648.84         6.0 ⋯\n",
       "   2 │ Southern Asia              Asia           1895.81   1918.21        22.3\n",
       "   3 │ Northern America           Americas        364.297   366.602        2.3\n",
       "   4 │ South-eastern Asia         Asia            654.734   661.424        6.6\n",
       "   5 │ South America              Americas        423.293   426.906        3.6 ⋯\n",
       "   6 │ Western Africa             Africa          379.635   389.85        10.2\n",
       "   7 │ Eastern Europe             Europe          293.791   293.445       -0.3\n",
       "   8 │ Central America            Americas        175.473   177.587        2.1\n",
       "  ⋮  │             ⋮                    ⋮           ⋮         ⋮           ⋮    ⋱\n",
       "  16 │ Southern Africa            Africa           65.739    66.63         0.8 ⋯\n",
       "  17 │ Central Asia               Asia             72.052    73.212        1.1\n",
       "  18 │ Australia and New Zealand  Oceania          29.641    29.986        0.3\n",
       "  19 │ Caribbean                  Americas         42.102    42.269        0.1\n",
       "  20 │ Melanesia                  Oceania          10.715    10.919        0.2 ⋯\n",
       "  21 │ Polynesia                  Oceania           0.474     0.475        0.0\n",
       "  22 │ Micronesia                 Oceania           0.316     0.32         0.0\n",
       "\u001b[36m                                                    5 columns and 7 rows omitted\u001b[0m"
      ]
     },
     "metadata": {},
     "output_type": "display_data"
    }
   ],
   "source": [
    "df_by_s = @by(df_inn, :Subregion,\n",
    "    :region_unique = unique(:Region),\n",
    "    :my18_sum = sum(:my18),\n",
    "    :my19_sum = sum(:my19),\n",
    "    :mydelta_sum = sum(:mydelta),\n",
    "    :mypct_c = round.(sum(:mydelta) ./ sum(:my18) .* 100, digits = 2),\n",
    "    :my100_c = round.(sum(:my19) ./ sum(df_inn.my19) .* 100, digits = 2),\n",
    "    :gdp_sum = sum(:gdp),\n",
    "    :gdppc_c = round.(sum(:gdp) ./ sum(:my19), digits = 3)\n",
    ")"
   ]
  },
  {
   "cell_type": "code",
   "execution_count": 207,
   "metadata": {},
   "outputs": [
    {
     "data": {
      "text/plain": [
       "false"
      ]
     },
     "metadata": {},
     "output_type": "display_data"
    }
   ],
   "source": [
    "df_by_s = sort!(df_by_s, :my19_sum)\n",
    "\n",
    "p = plot(df_by_s,\n",
    "    x = :my19_sum,\n",
    "    y = :Subregion,\n",
    "    color = :region_unique,\n",
    "    Geom.bar(orientation = :horizontal),\n",
    "    Guide.xlabel(\"Population (mils)\"),\n",
    "    Guide.ylabel(\"Subregion\"),\n",
    "    Guide.title(\"2019 Population by Subregion\"),\n",
    "    Guide.colorkey(title = \"Region\"),\n",
    "    Scale.x_continuous(format = :plain),\n",
    "    Theme(\n",
    "        background_color = \"white\",\n",
    "        bar_spacing = 1mm\n",
    "    )\n",
    ")\n",
    "\n",
    "img = SVG(\"p_bar_subregion.svg\", 16cm, 9cm)\n",
    "draw(img,p)"
   ]
  },
  {
   "cell_type": "code",
   "execution_count": 208,
   "metadata": {},
   "outputs": [
    {
     "data": {
      "text/plain": [
       "false"
      ]
     },
     "metadata": {},
     "output_type": "display_data"
    }
   ],
   "source": [
    "df_sub100 = @subset(df_inn, :my19 .< 100)\n",
    "\n",
    "p = plot(df_sub100,\n",
    "    x = :my19,\n",
    "    y = :mypct,\n",
    "    color = :Region,\n",
    "    Geom.point,\n",
    "    Guide.xlabel(\"Population (mils)\"),\n",
    "    Guide.ylabel(\"Growth Rate (%)\"),\n",
    "    Guide.title(\"2019 Population vs Growth Rate (sub 100 mil)\"),\n",
    "    Guide.colorkey(title = \"Region\"),\n",
    "    Theme(background_color = \"white\")\n",
    ")\n",
    "\n",
    "img = SVG(\"p_point_country.svg\", 16cm, 9cm)\n",
    "draw(img, p)"
   ]
  },
  {
   "cell_type": "code",
   "execution_count": 209,
   "metadata": {},
   "outputs": [
    {
     "data": {
      "text/plain": [
       "false"
      ]
     },
     "metadata": {},
     "output_type": "display_data"
    }
   ],
   "source": [
    "p = plot(df_sub100,\n",
    "    x = :Region,\n",
    "    y = :my19,\n",
    "    color = :Region,\n",
    "    Geom.boxplot,\n",
    "    Guide.xlabel(\"Region\"),\n",
    "    Guide.ylabel(\"Population (mils)\"),\n",
    "    Guide.title(\"2019 Population Boxplot by Region (sub 100 mil)\"),\n",
    "    Guide.colorkey(title = \"Region\"),\n",
    "    Scale.y_continuous(format = :plain),\n",
    "    Theme(background_color = \"white\")\n",
    ")\n",
    "\n",
    "img = SVG(\"p_boxplot_region.svg\", 16cm, 9cm)\n",
    "draw(img, p)\n"
   ]
  },
  {
   "cell_type": "markdown",
   "metadata": {},
   "source": [
    "# 7. Bardziej zaawansowane techniki i DataFramesMeta"
   ]
  },
  {
   "cell_type": "code",
   "execution_count": 214,
   "metadata": {},
   "outputs": [
    {
     "data": {
      "text/plain": [
       "10"
      ]
     },
     "metadata": {},
     "output_type": "display_data"
    }
   ],
   "source": [
    "ENV[\"DATAFRAMES_ROWS\"] = 10"
   ]
  },
  {
   "cell_type": "code",
   "execution_count": 215,
   "metadata": {},
   "outputs": [
    {
     "data": {
      "text/html": [
       "<div><div style = \"float: left;\"><span>565133×6 DataFrame</span></div><div style = \"float: right;\"><span style = \"font-style: italic;\">565123 rows omitted</span></div><div style = \"clear: both;\"></div></div><div class = \"data-frame\" style = \"overflow-x: scroll;\"><table class = \"data-frame\" style = \"margin-bottom: 6px;\"><thead><tr class = \"header\"><th class = \"rowNumber\" style = \"font-weight: bold; text-align: right;\">Row</th><th style = \"text-align: left;\">Moves</th><th style = \"text-align: left;\">Rating</th><th style = \"text-align: left;\">Popularity</th><th style = \"text-align: left;\">NbPlays</th><th style = \"text-align: left;\">Themes</th><th style = \"text-align: left;\">OpeningFamily</th></tr><tr class = \"subheader headerLastRow\"><th class = \"rowNumber\" style = \"font-weight: bold; text-align: right;\"></th><th title = \"String\" style = \"text-align: left;\">String</th><th title = \"Int64\" style = \"text-align: left;\">Int64</th><th title = \"Int64\" style = \"text-align: left;\">Int64</th><th title = \"Int64\" style = \"text-align: left;\">Int64</th><th title = \"String\" style = \"text-align: left;\">String</th><th title = \"String\" style = \"text-align: left;\">String</th></tr></thead><tbody><tr><td class = \"rowNumber\" style = \"font-weight: bold; text-align: right;\">1</td><td style = \"text-align: left;\">b6c5 e2g4 h3g4 d1g4</td><td style = \"text-align: right;\">1088</td><td style = \"text-align: right;\">85</td><td style = \"text-align: right;\">505</td><td style = \"text-align: left;\">advantage middlegame short</td><td style = \"text-align: left;\">Kings_Pawn_Game</td></tr><tr><td class = \"rowNumber\" style = \"font-weight: bold; text-align: right;\">2</td><td style = \"text-align: left;\">g5e7 a5c3 b2c3 c6e7</td><td style = \"text-align: right;\">1457</td><td style = \"text-align: right;\">86</td><td style = \"text-align: right;\">482</td><td style = \"text-align: left;\">advantage master middlegame short</td><td style = \"text-align: left;\">Benoni_Defense</td></tr><tr><td class = \"rowNumber\" style = \"font-weight: bold; text-align: right;\">3</td><td style = \"text-align: left;\">e8f7 e2e6 f7f8 e6f7</td><td style = \"text-align: right;\">1595</td><td style = \"text-align: right;\">88</td><td style = \"text-align: right;\">448</td><td style = \"text-align: left;\">mate mateIn2 middlegame short</td><td style = \"text-align: left;\">Horwitz_Defense</td></tr><tr><td class = \"rowNumber\" style = \"font-weight: bold; text-align: right;\">4</td><td style = \"text-align: left;\">d8f6 d1h5 h7h6 h5c5</td><td style = \"text-align: right;\">1762</td><td style = \"text-align: right;\">90</td><td style = \"text-align: right;\">1572</td><td style = \"text-align: left;\">advantage middlegame short</td><td style = \"text-align: left;\">Scotch_Game</td></tr><tr><td class = \"rowNumber\" style = \"font-weight: bold; text-align: right;\">5</td><td style = \"text-align: left;\">c7a8 a5c3</td><td style = \"text-align: right;\">1013</td><td style = \"text-align: right;\">39</td><td style = \"text-align: right;\">136</td><td style = \"text-align: left;\">bodenMate hangingPiece mate mateIn1 middlegame oneMove</td><td style = \"text-align: left;\">Sicilian_Defense</td></tr><tr><td style = \"text-align: right;\">&vellip;</td><td style = \"text-align: right;\">&vellip;</td><td style = \"text-align: right;\">&vellip;</td><td style = \"text-align: right;\">&vellip;</td><td style = \"text-align: right;\">&vellip;</td><td style = \"text-align: right;\">&vellip;</td><td style = \"text-align: right;\">&vellip;</td></tr><tr><td class = \"rowNumber\" style = \"font-weight: bold; text-align: right;\">565129</td><td style = \"text-align: left;\">a5a2 b5c7 e8d7 c7a8</td><td style = \"text-align: right;\">812</td><td style = \"text-align: right;\">100</td><td style = \"text-align: right;\">52</td><td style = \"text-align: left;\">crushing fork middlegame short</td><td style = \"text-align: left;\">Caro-Kann_Defense</td></tr><tr><td class = \"rowNumber\" style = \"font-weight: bold; text-align: right;\">565130</td><td style = \"text-align: left;\">b8d7 c3b5 d6b8 a1c1 e8g8 b5c7</td><td style = \"text-align: right;\">1811</td><td style = \"text-align: right;\">94</td><td style = \"text-align: right;\">2523</td><td style = \"text-align: left;\">crushing long middlegame quietMove</td><td style = \"text-align: left;\">Slav_Defense</td></tr><tr><td class = \"rowNumber\" style = \"font-weight: bold; text-align: right;\">565131</td><td style = \"text-align: left;\">g5c1 d5d6 d7f6 h7h8</td><td style = \"text-align: right;\">1899</td><td style = \"text-align: right;\">85</td><td style = \"text-align: right;\">73</td><td style = \"text-align: left;\">advantage middlegame short</td><td style = \"text-align: left;\">Queens_Gambit_Declined</td></tr><tr><td class = \"rowNumber\" style = \"font-weight: bold; text-align: right;\">565132</td><td style = \"text-align: left;\">d2f3 d8a5 c1d2 a5b5</td><td style = \"text-align: right;\">972</td><td style = \"text-align: right;\">93</td><td style = \"text-align: right;\">637</td><td style = \"text-align: left;\">advantage fork opening short</td><td style = \"text-align: left;\">Sicilian_Defense</td></tr><tr><td class = \"rowNumber\" style = \"font-weight: bold; text-align: right;\">565133</td><td style = \"text-align: left;\">c6d4 f1e1 e8d8 b1c3 d4f3 g2f3</td><td style = \"text-align: right;\">2496</td><td style = \"text-align: right;\">79</td><td style = \"text-align: right;\">50</td><td style = \"text-align: left;\">advantage long opening</td><td style = \"text-align: left;\">Kings_Gambit_Accepted</td></tr></tbody></table></div>"
      ],
      "text/latex": [
       "\\begin{tabular}{r|cccccc}\n",
       "\t& Moves & Rating & Popularity & NbPlays & Themes & \\\\\n",
       "\t\\hline\n",
       "\t& String & Int64 & Int64 & Int64 & String & \\\\\n",
       "\t\\hline\n",
       "\t1 & b6c5 e2g4 h3g4 d1g4 & 1088 & 85 & 505 & advantage middlegame short & $\\dots$ \\\\\n",
       "\t2 & g5e7 a5c3 b2c3 c6e7 & 1457 & 86 & 482 & advantage master middlegame short & $\\dots$ \\\\\n",
       "\t3 & e8f7 e2e6 f7f8 e6f7 & 1595 & 88 & 448 & mate mateIn2 middlegame short & $\\dots$ \\\\\n",
       "\t4 & d8f6 d1h5 h7h6 h5c5 & 1762 & 90 & 1572 & advantage middlegame short & $\\dots$ \\\\\n",
       "\t5 & c7a8 a5c3 & 1013 & 39 & 136 & bodenMate hangingPiece mate mateIn1 middlegame oneMove & $\\dots$ \\\\\n",
       "\t6 & h2g3 g6h5 & 1490 & 50 & 12 & mate mateIn1 oneMove & $\\dots$ \\\\\n",
       "\t7 & f2f3 d6c5 g1h1 c5c4 & 943 & 96 & 1091 & advantage fork master masterVsMaster middlegame short & $\\dots$ \\\\\n",
       "\t8 & d3a6 b6c5 a6c8 c5c4 & 1927 & 93 & 639 & crushing master masterVsMaster middlegame sacrifice short & $\\dots$ \\\\\n",
       "\t9 & b1c3 f5g4 h5g4 d7g4 & 1628 & 96 & 12910 & advantage opening short trappedPiece & $\\dots$ \\\\\n",
       "\t10 & c6e5 d4e5 d6e7 e5f6 & 1303 & 47 & 19 & advantage fork middlegame short & $\\dots$ \\\\\n",
       "\t11 & f8e7 f3e5 c7e5 e2g4 & 1492 & 93 & 588 & crushing discoveredAttack middlegame short & $\\dots$ \\\\\n",
       "\t12 & g1h1 f6f4 d1f3 f4f3 & 1787 & 96 & 1869 & crushing kingsideAttack middlegame short & $\\dots$ \\\\\n",
       "\t13 & c6c5 d4a4 a6b5 a4b5 & 1044 & 95 & 595 & crushing fork middlegame short & $\\dots$ \\\\\n",
       "\t14 & f1e1 g3e4 e1e4 d5e4 d1h5 h4h5 b3f7 h5f7 & 2172 & 83 & 196 & crushing defensiveMove middlegame veryLong & $\\dots$ \\\\\n",
       "\t15 & d5e6 b4d3 f2g1 d3f4 & 1272 & 93 & 477 & crushing fork middlegame short & $\\dots$ \\\\\n",
       "\t16 & e5f7 d8e7 g7g8 f6g8 & 1762 & 92 & 572 & advantage middlegame short & $\\dots$ \\\\\n",
       "\t17 & d7d4 f4e3 d4f6 e1f1 f6e5 h5g6 e5e3 h3e3 & 2263 & 90 & 173 & advantage defensiveMove middlegame veryLong & $\\dots$ \\\\\n",
       "\t18 & b7c7 f6f2 f1f2 e8e1 f2f1 e1f1 & 1324 & 88 & 34 & kingsideAttack long mate mateIn3 middlegame sacrifice & $\\dots$ \\\\\n",
       "\t19 & d4e5 d6e5 f4h2 e5e4 & 1438 & 78 & 15 & advantage opening short & $\\dots$ \\\\\n",
       "\t20 & f6d7 d2d7 c8d7 f3a8 & 1471 & 93 & 5314 & crushing deflection middlegame short & $\\dots$ \\\\\n",
       "\t21 & f5e4 h5f7 g8h7 f1f6 e7f6 f7d7 & 2365 & 90 & 1505 & advantage long middlegame pin & $\\dots$ \\\\\n",
       "\t22 & e4f2 g1f2 g6d3 d1d3 & 987 & 61 & 74 & advantage hangingPiece middlegame short & $\\dots$ \\\\\n",
       "\t23 & b5d4 h4f2 f1f2 e4f2 & 1685 & 88 & 49 & advantage kingsideAttack master middlegame short & $\\dots$ \\\\\n",
       "\t24 & a8b8 b5d6 e8d8 d2a5 & 1588 & 78 & 25 & crushing master middlegame short & $\\dots$ \\\\\n",
       "\t$\\dots$ & $\\dots$ & $\\dots$ & $\\dots$ & $\\dots$ & $\\dots$ &  \\\\\n",
       "\\end{tabular}\n"
      ],
      "text/plain": [
       "\u001b[1m565133×6 DataFrame\u001b[0m\n",
       "\u001b[1m    Row \u001b[0m│\u001b[1m Moves                             \u001b[0m\u001b[1m Rating \u001b[0m\u001b[1m Popularity \u001b[0m\u001b[1m NbPlays \u001b[0m\u001b[1m Them\u001b[0m ⋯\n",
       "        │\u001b[90m String                            \u001b[0m\u001b[90m Int64  \u001b[0m\u001b[90m Int64      \u001b[0m\u001b[90m Int64   \u001b[0m\u001b[90m Stri\u001b[0m ⋯\n",
       "────────┼───────────────────────────────────────────────────────────────────────\n",
       "      1 │ b6c5 e2g4 h3g4 d1g4                  1088          85      505  adva ⋯\n",
       "      2 │ g5e7 a5c3 b2c3 c6e7                  1457          86      482  adva\n",
       "      3 │ e8f7 e2e6 f7f8 e6f7                  1595          88      448  mate\n",
       "      4 │ d8f6 d1h5 h7h6 h5c5                  1762          90     1572  adva\n",
       "      5 │ c7a8 a5c3                            1013          39      136  bode ⋯\n",
       "      6 │ h2g3 g6h5                            1490          50       12  mate\n",
       "      7 │ f2f3 d6c5 g1h1 c5c4                   943          96     1091  adva\n",
       "      8 │ d3a6 b6c5 a6c8 c5c4                  1927          93      639  crus\n",
       "   ⋮    │                 ⋮                    ⋮         ⋮          ⋮          ⋱\n",
       " 565127 │ e4c3 a4c6 d8d7 c6c3                  1401          72       30  adva ⋯\n",
       " 565128 │ e4c3 e2e8 f8e8 e1e8 g8h7 b2c3        1805         100       13  crus\n",
       " 565129 │ a5a2 b5c7 e8d7 c7a8                   812         100       52  crus\n",
       " 565130 │ b8d7 c3b5 d6b8 a1c1 e8g8 b5c7        1811          94     2523  crus\n",
       " 565131 │ g5c1 d5d6 d7f6 h7h8                  1899          85       73  adva ⋯\n",
       " 565132 │ d2f3 d8a5 c1d2 a5b5                   972          93      637  adva\n",
       " 565133 │ c6d4 f1e1 e8d8 b1c3 d4f3 g2f3        2496          79       50  adva\n",
       "\u001b[36m                                               2 columns and 565118 rows omitted\u001b[0m"
      ]
     },
     "metadata": {},
     "output_type": "display_data"
    }
   ],
   "source": [
    "url3 = \"https://raw.githubusercontent.com/holowaczi/warsztatyDM2024/main/puzzles.parquet\"\n",
    "\n",
    "df = DataFrame(Parquet2.Dataset(HTTP.get(url3).body))"
   ]
  },
  {
   "cell_type": "markdown",
   "metadata": {},
   "source": [
    "### Usunięcie kolumny"
   ]
  },
  {
   "cell_type": "code",
   "execution_count": 216,
   "metadata": {},
   "outputs": [
    {
     "data": {
      "text/html": [
       "<div><div style = \"float: left;\"><span>565133×5 DataFrame</span></div><div style = \"float: right;\"><span style = \"font-style: italic;\">565123 rows omitted</span></div><div style = \"clear: both;\"></div></div><div class = \"data-frame\" style = \"overflow-x: scroll;\"><table class = \"data-frame\" style = \"margin-bottom: 6px;\"><thead><tr class = \"header\"><th class = \"rowNumber\" style = \"font-weight: bold; text-align: right;\">Row</th><th style = \"text-align: left;\">Moves</th><th style = \"text-align: left;\">Rating</th><th style = \"text-align: left;\">Popularity</th><th style = \"text-align: left;\">NbPlays</th><th style = \"text-align: left;\">OpeningFamily</th></tr><tr class = \"subheader headerLastRow\"><th class = \"rowNumber\" style = \"font-weight: bold; text-align: right;\"></th><th title = \"String\" style = \"text-align: left;\">String</th><th title = \"Int64\" style = \"text-align: left;\">Int64</th><th title = \"Int64\" style = \"text-align: left;\">Int64</th><th title = \"Int64\" style = \"text-align: left;\">Int64</th><th title = \"String\" style = \"text-align: left;\">String</th></tr></thead><tbody><tr><td class = \"rowNumber\" style = \"font-weight: bold; text-align: right;\">1</td><td style = \"text-align: left;\">b6c5 e2g4 h3g4 d1g4</td><td style = \"text-align: right;\">1088</td><td style = \"text-align: right;\">85</td><td style = \"text-align: right;\">505</td><td style = \"text-align: left;\">Kings_Pawn_Game</td></tr><tr><td class = \"rowNumber\" style = \"font-weight: bold; text-align: right;\">2</td><td style = \"text-align: left;\">g5e7 a5c3 b2c3 c6e7</td><td style = \"text-align: right;\">1457</td><td style = \"text-align: right;\">86</td><td style = \"text-align: right;\">482</td><td style = \"text-align: left;\">Benoni_Defense</td></tr><tr><td class = \"rowNumber\" style = \"font-weight: bold; text-align: right;\">3</td><td style = \"text-align: left;\">e8f7 e2e6 f7f8 e6f7</td><td style = \"text-align: right;\">1595</td><td style = \"text-align: right;\">88</td><td style = \"text-align: right;\">448</td><td style = \"text-align: left;\">Horwitz_Defense</td></tr><tr><td class = \"rowNumber\" style = \"font-weight: bold; text-align: right;\">4</td><td style = \"text-align: left;\">d8f6 d1h5 h7h6 h5c5</td><td style = \"text-align: right;\">1762</td><td style = \"text-align: right;\">90</td><td style = \"text-align: right;\">1572</td><td style = \"text-align: left;\">Scotch_Game</td></tr><tr><td class = \"rowNumber\" style = \"font-weight: bold; text-align: right;\">5</td><td style = \"text-align: left;\">c7a8 a5c3</td><td style = \"text-align: right;\">1013</td><td style = \"text-align: right;\">39</td><td style = \"text-align: right;\">136</td><td style = \"text-align: left;\">Sicilian_Defense</td></tr><tr><td style = \"text-align: right;\">&vellip;</td><td style = \"text-align: right;\">&vellip;</td><td style = \"text-align: right;\">&vellip;</td><td style = \"text-align: right;\">&vellip;</td><td style = \"text-align: right;\">&vellip;</td><td style = \"text-align: right;\">&vellip;</td></tr><tr><td class = \"rowNumber\" style = \"font-weight: bold; text-align: right;\">565129</td><td style = \"text-align: left;\">a5a2 b5c7 e8d7 c7a8</td><td style = \"text-align: right;\">812</td><td style = \"text-align: right;\">100</td><td style = \"text-align: right;\">52</td><td style = \"text-align: left;\">Caro-Kann_Defense</td></tr><tr><td class = \"rowNumber\" style = \"font-weight: bold; text-align: right;\">565130</td><td style = \"text-align: left;\">b8d7 c3b5 d6b8 a1c1 e8g8 b5c7</td><td style = \"text-align: right;\">1811</td><td style = \"text-align: right;\">94</td><td style = \"text-align: right;\">2523</td><td style = \"text-align: left;\">Slav_Defense</td></tr><tr><td class = \"rowNumber\" style = \"font-weight: bold; text-align: right;\">565131</td><td style = \"text-align: left;\">g5c1 d5d6 d7f6 h7h8</td><td style = \"text-align: right;\">1899</td><td style = \"text-align: right;\">85</td><td style = \"text-align: right;\">73</td><td style = \"text-align: left;\">Queens_Gambit_Declined</td></tr><tr><td class = \"rowNumber\" style = \"font-weight: bold; text-align: right;\">565132</td><td style = \"text-align: left;\">d2f3 d8a5 c1d2 a5b5</td><td style = \"text-align: right;\">972</td><td style = \"text-align: right;\">93</td><td style = \"text-align: right;\">637</td><td style = \"text-align: left;\">Sicilian_Defense</td></tr><tr><td class = \"rowNumber\" style = \"font-weight: bold; text-align: right;\">565133</td><td style = \"text-align: left;\">c6d4 f1e1 e8d8 b1c3 d4f3 g2f3</td><td style = \"text-align: right;\">2496</td><td style = \"text-align: right;\">79</td><td style = \"text-align: right;\">50</td><td style = \"text-align: left;\">Kings_Gambit_Accepted</td></tr></tbody></table></div>"
      ],
      "text/latex": [
       "\\begin{tabular}{r|ccccc}\n",
       "\t& Moves & Rating & Popularity & NbPlays & OpeningFamily\\\\\n",
       "\t\\hline\n",
       "\t& String & Int64 & Int64 & Int64 & String\\\\\n",
       "\t\\hline\n",
       "\t1 & b6c5 e2g4 h3g4 d1g4 & 1088 & 85 & 505 & Kings\\_Pawn\\_Game \\\\\n",
       "\t2 & g5e7 a5c3 b2c3 c6e7 & 1457 & 86 & 482 & Benoni\\_Defense \\\\\n",
       "\t3 & e8f7 e2e6 f7f8 e6f7 & 1595 & 88 & 448 & Horwitz\\_Defense \\\\\n",
       "\t4 & d8f6 d1h5 h7h6 h5c5 & 1762 & 90 & 1572 & Scotch\\_Game \\\\\n",
       "\t5 & c7a8 a5c3 & 1013 & 39 & 136 & Sicilian\\_Defense \\\\\n",
       "\t6 & h2g3 g6h5 & 1490 & 50 & 12 & Ruy\\_Lopez \\\\\n",
       "\t7 & f2f3 d6c5 g1h1 c5c4 & 943 & 96 & 1091 & Pirc\\_Defense \\\\\n",
       "\t8 & d3a6 b6c5 a6c8 c5c4 & 1927 & 93 & 639 & Slav\\_Defense \\\\\n",
       "\t9 & b1c3 f5g4 h5g4 d7g4 & 1628 & 96 & 12910 & Queens\\_Pawn\\_Game \\\\\n",
       "\t10 & c6e5 d4e5 d6e7 e5f6 & 1303 & 47 & 19 & Queens\\_Pawn\\_Game \\\\\n",
       "\t11 & f8e7 f3e5 c7e5 e2g4 & 1492 & 93 & 588 & Caro-Kann\\_Defense \\\\\n",
       "\t12 & g1h1 f6f4 d1f3 f4f3 & 1787 & 96 & 1869 & Sicilian\\_Defense \\\\\n",
       "\t13 & c6c5 d4a4 a6b5 a4b5 & 1044 & 95 & 595 & French\\_Defense \\\\\n",
       "\t14 & f1e1 g3e4 e1e4 d5e4 d1h5 h4h5 b3f7 h5f7 & 2172 & 83 & 196 & Russian\\_Game \\\\\n",
       "\t15 & d5e6 b4d3 f2g1 d3f4 & 1272 & 93 & 477 & Kings\\_Gambit\\_Accepted \\\\\n",
       "\t16 & e5f7 d8e7 g7g8 f6g8 & 1762 & 92 & 572 & Sicilian\\_Defense \\\\\n",
       "\t17 & d7d4 f4e3 d4f6 e1f1 f6e5 h5g6 e5e3 h3e3 & 2263 & 90 & 173 & Sicilian\\_Defense \\\\\n",
       "\t18 & b7c7 f6f2 f1f2 e8e1 f2f1 e1f1 & 1324 & 88 & 34 & Ruy\\_Lopez \\\\\n",
       "\t19 & d4e5 d6e5 f4h2 e5e4 & 1438 & 78 & 15 & Queens\\_Pawn\\_Game \\\\\n",
       "\t20 & f6d7 d2d7 c8d7 f3a8 & 1471 & 93 & 5314 & Sicilian\\_Defense \\\\\n",
       "\t21 & f5e4 h5f7 g8h7 f1f6 e7f6 f7d7 & 2365 & 90 & 1505 & Russian\\_Game \\\\\n",
       "\t22 & e4f2 g1f2 g6d3 d1d3 & 987 & 61 & 74 & Caro-Kann\\_Defense \\\\\n",
       "\t23 & b5d4 h4f2 f1f2 e4f2 & 1685 & 88 & 49 & Philidor\\_Defense \\\\\n",
       "\t24 & a8b8 b5d6 e8d8 d2a5 & 1588 & 78 & 25 & Caro-Kann\\_Defense \\\\\n",
       "\t$\\dots$ & $\\dots$ & $\\dots$ & $\\dots$ & $\\dots$ & $\\dots$ \\\\\n",
       "\\end{tabular}\n"
      ],
      "text/plain": [
       "\u001b[1m565133×5 DataFrame\u001b[0m\n",
       "\u001b[1m    Row \u001b[0m│\u001b[1m Moves                             \u001b[0m\u001b[1m Rating \u001b[0m\u001b[1m Popularity \u001b[0m\u001b[1m NbPlays \u001b[0m\u001b[1m Open\u001b[0m ⋯\n",
       "        │\u001b[90m String                            \u001b[0m\u001b[90m Int64  \u001b[0m\u001b[90m Int64      \u001b[0m\u001b[90m Int64   \u001b[0m\u001b[90m Stri\u001b[0m ⋯\n",
       "────────┼───────────────────────────────────────────────────────────────────────\n",
       "      1 │ b6c5 e2g4 h3g4 d1g4                  1088          85      505  King ⋯\n",
       "      2 │ g5e7 a5c3 b2c3 c6e7                  1457          86      482  Beno\n",
       "      3 │ e8f7 e2e6 f7f8 e6f7                  1595          88      448  Horw\n",
       "      4 │ d8f6 d1h5 h7h6 h5c5                  1762          90     1572  Scot\n",
       "      5 │ c7a8 a5c3                            1013          39      136  Sici ⋯\n",
       "      6 │ h2g3 g6h5                            1490          50       12  Ruy_\n",
       "      7 │ f2f3 d6c5 g1h1 c5c4                   943          96     1091  Pirc\n",
       "      8 │ d3a6 b6c5 a6c8 c5c4                  1927          93      639  Slav\n",
       "   ⋮    │                 ⋮                    ⋮         ⋮          ⋮          ⋱\n",
       " 565127 │ e4c3 a4c6 d8d7 c6c3                  1401          72       30  Fren ⋯\n",
       " 565128 │ e4c3 e2e8 f8e8 e1e8 g8h7 b2c3        1805         100       13  Ital\n",
       " 565129 │ a5a2 b5c7 e8d7 c7a8                   812         100       52  Caro\n",
       " 565130 │ b8d7 c3b5 d6b8 a1c1 e8g8 b5c7        1811          94     2523  Slav\n",
       " 565131 │ g5c1 d5d6 d7f6 h7h8                  1899          85       73  Quee ⋯\n",
       " 565132 │ d2f3 d8a5 c1d2 a5b5                   972          93      637  Sici\n",
       " 565133 │ c6d4 f1e1 e8d8 b1c3 d4f3 g2f3        2496          79       50  King\n",
       "\u001b[36m                                                1 column and 565118 rows omitted\u001b[0m"
      ]
     },
     "metadata": {},
     "output_type": "display_data"
    }
   ],
   "source": [
    "select(df, Not(:Themes))"
   ]
  },
  {
   "cell_type": "code",
   "execution_count": 217,
   "metadata": {},
   "outputs": [
    {
     "ename": "ArgumentError",
     "evalue": "ArgumentError: column name :X not found in the data frame",
     "output_type": "error",
     "traceback": [
      "ArgumentError: column name :X not found in the data frame\n",
      "\n",
      "Stacktrace:\n",
      " [1] lookupname\n",
      "   @ ~/.julia/packages/DataFrames/58MUJ/src/other/index.jl:413 [inlined]\n",
      " [2] getindex\n",
      "   @ ~/.julia/packages/DataFrames/58MUJ/src/other/index.jl:422 [inlined]\n",
      " [3] getindex\n",
      "   @ ~/.julia/packages/DataFrames/58MUJ/src/other/index.jl:227 [inlined]\n",
      " [4] manipulate(df::DataFrame, c::InvertedIndex{Symbol}; copycols::Bool, keeprows::Bool, renamecols::Bool)\n",
      "   @ DataFrames ~/.julia/packages/DataFrames/58MUJ/src/abstractdataframe/selection.jl:1836\n",
      " [5] select(df::DataFrame, args::Any; copycols::Bool, renamecols::Bool, threads::Bool)\n",
      "   @ DataFrames ~/.julia/packages/DataFrames/58MUJ/src/abstractdataframe/selection.jl:1299\n",
      " [6] select(df::DataFrame, args::Any)\n",
      "   @ DataFrames ~/.julia/packages/DataFrames/58MUJ/src/abstractdataframe/selection.jl:1299\n",
      " [7] top-level scope\n",
      "   @ ~/Desktop/DM2024/warsztaty.ipynb:1"
     ]
    }
   ],
   "source": [
    "select(df, Not(:X))"
   ]
  },
  {
   "cell_type": "code",
   "execution_count": 218,
   "metadata": {},
   "outputs": [
    {
     "data": {
      "text/html": [
       "<div><div style = \"float: left;\"><span>565133×6 DataFrame</span></div><div style = \"float: right;\"><span style = \"font-style: italic;\">565123 rows omitted</span></div><div style = \"clear: both;\"></div></div><div class = \"data-frame\" style = \"overflow-x: scroll;\"><table class = \"data-frame\" style = \"margin-bottom: 6px;\"><thead><tr class = \"header\"><th class = \"rowNumber\" style = \"font-weight: bold; text-align: right;\">Row</th><th style = \"text-align: left;\">Moves</th><th style = \"text-align: left;\">Rating</th><th style = \"text-align: left;\">Popularity</th><th style = \"text-align: left;\">NbPlays</th><th style = \"text-align: left;\">Themes</th><th style = \"text-align: left;\">OpeningFamily</th></tr><tr class = \"subheader headerLastRow\"><th class = \"rowNumber\" style = \"font-weight: bold; text-align: right;\"></th><th title = \"String\" style = \"text-align: left;\">String</th><th title = \"Int64\" style = \"text-align: left;\">Int64</th><th title = \"Int64\" style = \"text-align: left;\">Int64</th><th title = \"Int64\" style = \"text-align: left;\">Int64</th><th title = \"String\" style = \"text-align: left;\">String</th><th title = \"String\" style = \"text-align: left;\">String</th></tr></thead><tbody><tr><td class = \"rowNumber\" style = \"font-weight: bold; text-align: right;\">1</td><td style = \"text-align: left;\">b6c5 e2g4 h3g4 d1g4</td><td style = \"text-align: right;\">1088</td><td style = \"text-align: right;\">85</td><td style = \"text-align: right;\">505</td><td style = \"text-align: left;\">advantage middlegame short</td><td style = \"text-align: left;\">Kings_Pawn_Game</td></tr><tr><td class = \"rowNumber\" style = \"font-weight: bold; text-align: right;\">2</td><td style = \"text-align: left;\">g5e7 a5c3 b2c3 c6e7</td><td style = \"text-align: right;\">1457</td><td style = \"text-align: right;\">86</td><td style = \"text-align: right;\">482</td><td style = \"text-align: left;\">advantage master middlegame short</td><td style = \"text-align: left;\">Benoni_Defense</td></tr><tr><td class = \"rowNumber\" style = \"font-weight: bold; text-align: right;\">3</td><td style = \"text-align: left;\">e8f7 e2e6 f7f8 e6f7</td><td style = \"text-align: right;\">1595</td><td style = \"text-align: right;\">88</td><td style = \"text-align: right;\">448</td><td style = \"text-align: left;\">mate mateIn2 middlegame short</td><td style = \"text-align: left;\">Horwitz_Defense</td></tr><tr><td class = \"rowNumber\" style = \"font-weight: bold; text-align: right;\">4</td><td style = \"text-align: left;\">d8f6 d1h5 h7h6 h5c5</td><td style = \"text-align: right;\">1762</td><td style = \"text-align: right;\">90</td><td style = \"text-align: right;\">1572</td><td style = \"text-align: left;\">advantage middlegame short</td><td style = \"text-align: left;\">Scotch_Game</td></tr><tr><td class = \"rowNumber\" style = \"font-weight: bold; text-align: right;\">5</td><td style = \"text-align: left;\">c7a8 a5c3</td><td style = \"text-align: right;\">1013</td><td style = \"text-align: right;\">39</td><td style = \"text-align: right;\">136</td><td style = \"text-align: left;\">bodenMate hangingPiece mate mateIn1 middlegame oneMove</td><td style = \"text-align: left;\">Sicilian_Defense</td></tr><tr><td style = \"text-align: right;\">&vellip;</td><td style = \"text-align: right;\">&vellip;</td><td style = \"text-align: right;\">&vellip;</td><td style = \"text-align: right;\">&vellip;</td><td style = \"text-align: right;\">&vellip;</td><td style = \"text-align: right;\">&vellip;</td><td style = \"text-align: right;\">&vellip;</td></tr><tr><td class = \"rowNumber\" style = \"font-weight: bold; text-align: right;\">565129</td><td style = \"text-align: left;\">a5a2 b5c7 e8d7 c7a8</td><td style = \"text-align: right;\">812</td><td style = \"text-align: right;\">100</td><td style = \"text-align: right;\">52</td><td style = \"text-align: left;\">crushing fork middlegame short</td><td style = \"text-align: left;\">Caro-Kann_Defense</td></tr><tr><td class = \"rowNumber\" style = \"font-weight: bold; text-align: right;\">565130</td><td style = \"text-align: left;\">b8d7 c3b5 d6b8 a1c1 e8g8 b5c7</td><td style = \"text-align: right;\">1811</td><td style = \"text-align: right;\">94</td><td style = \"text-align: right;\">2523</td><td style = \"text-align: left;\">crushing long middlegame quietMove</td><td style = \"text-align: left;\">Slav_Defense</td></tr><tr><td class = \"rowNumber\" style = \"font-weight: bold; text-align: right;\">565131</td><td style = \"text-align: left;\">g5c1 d5d6 d7f6 h7h8</td><td style = \"text-align: right;\">1899</td><td style = \"text-align: right;\">85</td><td style = \"text-align: right;\">73</td><td style = \"text-align: left;\">advantage middlegame short</td><td style = \"text-align: left;\">Queens_Gambit_Declined</td></tr><tr><td class = \"rowNumber\" style = \"font-weight: bold; text-align: right;\">565132</td><td style = \"text-align: left;\">d2f3 d8a5 c1d2 a5b5</td><td style = \"text-align: right;\">972</td><td style = \"text-align: right;\">93</td><td style = \"text-align: right;\">637</td><td style = \"text-align: left;\">advantage fork opening short</td><td style = \"text-align: left;\">Sicilian_Defense</td></tr><tr><td class = \"rowNumber\" style = \"font-weight: bold; text-align: right;\">565133</td><td style = \"text-align: left;\">c6d4 f1e1 e8d8 b1c3 d4f3 g2f3</td><td style = \"text-align: right;\">2496</td><td style = \"text-align: right;\">79</td><td style = \"text-align: right;\">50</td><td style = \"text-align: left;\">advantage long opening</td><td style = \"text-align: left;\">Kings_Gambit_Accepted</td></tr></tbody></table></div>"
      ],
      "text/latex": [
       "\\begin{tabular}{r|cccccc}\n",
       "\t& Moves & Rating & Popularity & NbPlays & Themes & \\\\\n",
       "\t\\hline\n",
       "\t& String & Int64 & Int64 & Int64 & String & \\\\\n",
       "\t\\hline\n",
       "\t1 & b6c5 e2g4 h3g4 d1g4 & 1088 & 85 & 505 & advantage middlegame short & $\\dots$ \\\\\n",
       "\t2 & g5e7 a5c3 b2c3 c6e7 & 1457 & 86 & 482 & advantage master middlegame short & $\\dots$ \\\\\n",
       "\t3 & e8f7 e2e6 f7f8 e6f7 & 1595 & 88 & 448 & mate mateIn2 middlegame short & $\\dots$ \\\\\n",
       "\t4 & d8f6 d1h5 h7h6 h5c5 & 1762 & 90 & 1572 & advantage middlegame short & $\\dots$ \\\\\n",
       "\t5 & c7a8 a5c3 & 1013 & 39 & 136 & bodenMate hangingPiece mate mateIn1 middlegame oneMove & $\\dots$ \\\\\n",
       "\t6 & h2g3 g6h5 & 1490 & 50 & 12 & mate mateIn1 oneMove & $\\dots$ \\\\\n",
       "\t7 & f2f3 d6c5 g1h1 c5c4 & 943 & 96 & 1091 & advantage fork master masterVsMaster middlegame short & $\\dots$ \\\\\n",
       "\t8 & d3a6 b6c5 a6c8 c5c4 & 1927 & 93 & 639 & crushing master masterVsMaster middlegame sacrifice short & $\\dots$ \\\\\n",
       "\t9 & b1c3 f5g4 h5g4 d7g4 & 1628 & 96 & 12910 & advantage opening short trappedPiece & $\\dots$ \\\\\n",
       "\t10 & c6e5 d4e5 d6e7 e5f6 & 1303 & 47 & 19 & advantage fork middlegame short & $\\dots$ \\\\\n",
       "\t11 & f8e7 f3e5 c7e5 e2g4 & 1492 & 93 & 588 & crushing discoveredAttack middlegame short & $\\dots$ \\\\\n",
       "\t12 & g1h1 f6f4 d1f3 f4f3 & 1787 & 96 & 1869 & crushing kingsideAttack middlegame short & $\\dots$ \\\\\n",
       "\t13 & c6c5 d4a4 a6b5 a4b5 & 1044 & 95 & 595 & crushing fork middlegame short & $\\dots$ \\\\\n",
       "\t14 & f1e1 g3e4 e1e4 d5e4 d1h5 h4h5 b3f7 h5f7 & 2172 & 83 & 196 & crushing defensiveMove middlegame veryLong & $\\dots$ \\\\\n",
       "\t15 & d5e6 b4d3 f2g1 d3f4 & 1272 & 93 & 477 & crushing fork middlegame short & $\\dots$ \\\\\n",
       "\t16 & e5f7 d8e7 g7g8 f6g8 & 1762 & 92 & 572 & advantage middlegame short & $\\dots$ \\\\\n",
       "\t17 & d7d4 f4e3 d4f6 e1f1 f6e5 h5g6 e5e3 h3e3 & 2263 & 90 & 173 & advantage defensiveMove middlegame veryLong & $\\dots$ \\\\\n",
       "\t18 & b7c7 f6f2 f1f2 e8e1 f2f1 e1f1 & 1324 & 88 & 34 & kingsideAttack long mate mateIn3 middlegame sacrifice & $\\dots$ \\\\\n",
       "\t19 & d4e5 d6e5 f4h2 e5e4 & 1438 & 78 & 15 & advantage opening short & $\\dots$ \\\\\n",
       "\t20 & f6d7 d2d7 c8d7 f3a8 & 1471 & 93 & 5314 & crushing deflection middlegame short & $\\dots$ \\\\\n",
       "\t21 & f5e4 h5f7 g8h7 f1f6 e7f6 f7d7 & 2365 & 90 & 1505 & advantage long middlegame pin & $\\dots$ \\\\\n",
       "\t22 & e4f2 g1f2 g6d3 d1d3 & 987 & 61 & 74 & advantage hangingPiece middlegame short & $\\dots$ \\\\\n",
       "\t23 & b5d4 h4f2 f1f2 e4f2 & 1685 & 88 & 49 & advantage kingsideAttack master middlegame short & $\\dots$ \\\\\n",
       "\t24 & a8b8 b5d6 e8d8 d2a5 & 1588 & 78 & 25 & crushing master middlegame short & $\\dots$ \\\\\n",
       "\t$\\dots$ & $\\dots$ & $\\dots$ & $\\dots$ & $\\dots$ & $\\dots$ &  \\\\\n",
       "\\end{tabular}\n"
      ],
      "text/plain": [
       "\u001b[1m565133×6 DataFrame\u001b[0m\n",
       "\u001b[1m    Row \u001b[0m│\u001b[1m Moves                             \u001b[0m\u001b[1m Rating \u001b[0m\u001b[1m Popularity \u001b[0m\u001b[1m NbPlays \u001b[0m\u001b[1m Them\u001b[0m ⋯\n",
       "        │\u001b[90m String                            \u001b[0m\u001b[90m Int64  \u001b[0m\u001b[90m Int64      \u001b[0m\u001b[90m Int64   \u001b[0m\u001b[90m Stri\u001b[0m ⋯\n",
       "────────┼───────────────────────────────────────────────────────────────────────\n",
       "      1 │ b6c5 e2g4 h3g4 d1g4                  1088          85      505  adva ⋯\n",
       "      2 │ g5e7 a5c3 b2c3 c6e7                  1457          86      482  adva\n",
       "      3 │ e8f7 e2e6 f7f8 e6f7                  1595          88      448  mate\n",
       "      4 │ d8f6 d1h5 h7h6 h5c5                  1762          90     1572  adva\n",
       "      5 │ c7a8 a5c3                            1013          39      136  bode ⋯\n",
       "      6 │ h2g3 g6h5                            1490          50       12  mate\n",
       "      7 │ f2f3 d6c5 g1h1 c5c4                   943          96     1091  adva\n",
       "      8 │ d3a6 b6c5 a6c8 c5c4                  1927          93      639  crus\n",
       "   ⋮    │                 ⋮                    ⋮         ⋮          ⋮          ⋱\n",
       " 565127 │ e4c3 a4c6 d8d7 c6c3                  1401          72       30  adva ⋯\n",
       " 565128 │ e4c3 e2e8 f8e8 e1e8 g8h7 b2c3        1805         100       13  crus\n",
       " 565129 │ a5a2 b5c7 e8d7 c7a8                   812         100       52  crus\n",
       " 565130 │ b8d7 c3b5 d6b8 a1c1 e8g8 b5c7        1811          94     2523  crus\n",
       " 565131 │ g5c1 d5d6 d7f6 h7h8                  1899          85       73  adva ⋯\n",
       " 565132 │ d2f3 d8a5 c1d2 a5b5                   972          93      637  adva\n",
       " 565133 │ c6d4 f1e1 e8d8 b1c3 d4f3 g2f3        2496          79       50  adva\n",
       "\u001b[36m                                               2 columns and 565118 rows omitted\u001b[0m"
      ]
     },
     "metadata": {},
     "output_type": "display_data"
    }
   ],
   "source": [
    "select(df, Not(Cols(==(\"X\"))))"
   ]
  },
  {
   "cell_type": "markdown",
   "metadata": {},
   "source": [
    "### Przesunięcie kolumny do tyłu"
   ]
  },
  {
   "cell_type": "code",
   "execution_count": 219,
   "metadata": {},
   "outputs": [
    {
     "data": {
      "text/html": [
       "<div><div style = \"float: left;\"><span>565133×6 DataFrame</span></div><div style = \"float: right;\"><span style = \"font-style: italic;\">565123 rows omitted</span></div><div style = \"clear: both;\"></div></div><div class = \"data-frame\" style = \"overflow-x: scroll;\"><table class = \"data-frame\" style = \"margin-bottom: 6px;\"><thead><tr class = \"header\"><th class = \"rowNumber\" style = \"font-weight: bold; text-align: right;\">Row</th><th style = \"text-align: left;\">Rating</th><th style = \"text-align: left;\">Popularity</th><th style = \"text-align: left;\">NbPlays</th><th style = \"text-align: left;\">Themes</th><th style = \"text-align: left;\">OpeningFamily</th><th style = \"text-align: left;\">Moves</th></tr><tr class = \"subheader headerLastRow\"><th class = \"rowNumber\" style = \"font-weight: bold; text-align: right;\"></th><th title = \"Int64\" style = \"text-align: left;\">Int64</th><th title = \"Int64\" style = \"text-align: left;\">Int64</th><th title = \"Int64\" style = \"text-align: left;\">Int64</th><th title = \"String\" style = \"text-align: left;\">String</th><th title = \"String\" style = \"text-align: left;\">String</th><th title = \"String\" style = \"text-align: left;\">String</th></tr></thead><tbody><tr><td class = \"rowNumber\" style = \"font-weight: bold; text-align: right;\">1</td><td style = \"text-align: right;\">1088</td><td style = \"text-align: right;\">85</td><td style = \"text-align: right;\">505</td><td style = \"text-align: left;\">advantage middlegame short</td><td style = \"text-align: left;\">Kings_Pawn_Game</td><td style = \"text-align: left;\">b6c5 e2g4 h3g4 d1g4</td></tr><tr><td class = \"rowNumber\" style = \"font-weight: bold; text-align: right;\">2</td><td style = \"text-align: right;\">1457</td><td style = \"text-align: right;\">86</td><td style = \"text-align: right;\">482</td><td style = \"text-align: left;\">advantage master middlegame short</td><td style = \"text-align: left;\">Benoni_Defense</td><td style = \"text-align: left;\">g5e7 a5c3 b2c3 c6e7</td></tr><tr><td class = \"rowNumber\" style = \"font-weight: bold; text-align: right;\">3</td><td style = \"text-align: right;\">1595</td><td style = \"text-align: right;\">88</td><td style = \"text-align: right;\">448</td><td style = \"text-align: left;\">mate mateIn2 middlegame short</td><td style = \"text-align: left;\">Horwitz_Defense</td><td style = \"text-align: left;\">e8f7 e2e6 f7f8 e6f7</td></tr><tr><td class = \"rowNumber\" style = \"font-weight: bold; text-align: right;\">4</td><td style = \"text-align: right;\">1762</td><td style = \"text-align: right;\">90</td><td style = \"text-align: right;\">1572</td><td style = \"text-align: left;\">advantage middlegame short</td><td style = \"text-align: left;\">Scotch_Game</td><td style = \"text-align: left;\">d8f6 d1h5 h7h6 h5c5</td></tr><tr><td class = \"rowNumber\" style = \"font-weight: bold; text-align: right;\">5</td><td style = \"text-align: right;\">1013</td><td style = \"text-align: right;\">39</td><td style = \"text-align: right;\">136</td><td style = \"text-align: left;\">bodenMate hangingPiece mate mateIn1 middlegame oneMove</td><td style = \"text-align: left;\">Sicilian_Defense</td><td style = \"text-align: left;\">c7a8 a5c3</td></tr><tr><td style = \"text-align: right;\">&vellip;</td><td style = \"text-align: right;\">&vellip;</td><td style = \"text-align: right;\">&vellip;</td><td style = \"text-align: right;\">&vellip;</td><td style = \"text-align: right;\">&vellip;</td><td style = \"text-align: right;\">&vellip;</td><td style = \"text-align: right;\">&vellip;</td></tr><tr><td class = \"rowNumber\" style = \"font-weight: bold; text-align: right;\">565129</td><td style = \"text-align: right;\">812</td><td style = \"text-align: right;\">100</td><td style = \"text-align: right;\">52</td><td style = \"text-align: left;\">crushing fork middlegame short</td><td style = \"text-align: left;\">Caro-Kann_Defense</td><td style = \"text-align: left;\">a5a2 b5c7 e8d7 c7a8</td></tr><tr><td class = \"rowNumber\" style = \"font-weight: bold; text-align: right;\">565130</td><td style = \"text-align: right;\">1811</td><td style = \"text-align: right;\">94</td><td style = \"text-align: right;\">2523</td><td style = \"text-align: left;\">crushing long middlegame quietMove</td><td style = \"text-align: left;\">Slav_Defense</td><td style = \"text-align: left;\">b8d7 c3b5 d6b8 a1c1 e8g8 b5c7</td></tr><tr><td class = \"rowNumber\" style = \"font-weight: bold; text-align: right;\">565131</td><td style = \"text-align: right;\">1899</td><td style = \"text-align: right;\">85</td><td style = \"text-align: right;\">73</td><td style = \"text-align: left;\">advantage middlegame short</td><td style = \"text-align: left;\">Queens_Gambit_Declined</td><td style = \"text-align: left;\">g5c1 d5d6 d7f6 h7h8</td></tr><tr><td class = \"rowNumber\" style = \"font-weight: bold; text-align: right;\">565132</td><td style = \"text-align: right;\">972</td><td style = \"text-align: right;\">93</td><td style = \"text-align: right;\">637</td><td style = \"text-align: left;\">advantage fork opening short</td><td style = \"text-align: left;\">Sicilian_Defense</td><td style = \"text-align: left;\">d2f3 d8a5 c1d2 a5b5</td></tr><tr><td class = \"rowNumber\" style = \"font-weight: bold; text-align: right;\">565133</td><td style = \"text-align: right;\">2496</td><td style = \"text-align: right;\">79</td><td style = \"text-align: right;\">50</td><td style = \"text-align: left;\">advantage long opening</td><td style = \"text-align: left;\">Kings_Gambit_Accepted</td><td style = \"text-align: left;\">c6d4 f1e1 e8d8 b1c3 d4f3 g2f3</td></tr></tbody></table></div>"
      ],
      "text/latex": [
       "\\begin{tabular}{r|ccccc}\n",
       "\t& Rating & Popularity & NbPlays & Themes & \\\\\n",
       "\t\\hline\n",
       "\t& Int64 & Int64 & Int64 & String & \\\\\n",
       "\t\\hline\n",
       "\t1 & 1088 & 85 & 505 & advantage middlegame short & $\\dots$ \\\\\n",
       "\t2 & 1457 & 86 & 482 & advantage master middlegame short & $\\dots$ \\\\\n",
       "\t3 & 1595 & 88 & 448 & mate mateIn2 middlegame short & $\\dots$ \\\\\n",
       "\t4 & 1762 & 90 & 1572 & advantage middlegame short & $\\dots$ \\\\\n",
       "\t5 & 1013 & 39 & 136 & bodenMate hangingPiece mate mateIn1 middlegame oneMove & $\\dots$ \\\\\n",
       "\t6 & 1490 & 50 & 12 & mate mateIn1 oneMove & $\\dots$ \\\\\n",
       "\t7 & 943 & 96 & 1091 & advantage fork master masterVsMaster middlegame short & $\\dots$ \\\\\n",
       "\t8 & 1927 & 93 & 639 & crushing master masterVsMaster middlegame sacrifice short & $\\dots$ \\\\\n",
       "\t9 & 1628 & 96 & 12910 & advantage opening short trappedPiece & $\\dots$ \\\\\n",
       "\t10 & 1303 & 47 & 19 & advantage fork middlegame short & $\\dots$ \\\\\n",
       "\t11 & 1492 & 93 & 588 & crushing discoveredAttack middlegame short & $\\dots$ \\\\\n",
       "\t12 & 1787 & 96 & 1869 & crushing kingsideAttack middlegame short & $\\dots$ \\\\\n",
       "\t13 & 1044 & 95 & 595 & crushing fork middlegame short & $\\dots$ \\\\\n",
       "\t14 & 2172 & 83 & 196 & crushing defensiveMove middlegame veryLong & $\\dots$ \\\\\n",
       "\t15 & 1272 & 93 & 477 & crushing fork middlegame short & $\\dots$ \\\\\n",
       "\t16 & 1762 & 92 & 572 & advantage middlegame short & $\\dots$ \\\\\n",
       "\t17 & 2263 & 90 & 173 & advantage defensiveMove middlegame veryLong & $\\dots$ \\\\\n",
       "\t18 & 1324 & 88 & 34 & kingsideAttack long mate mateIn3 middlegame sacrifice & $\\dots$ \\\\\n",
       "\t19 & 1438 & 78 & 15 & advantage opening short & $\\dots$ \\\\\n",
       "\t20 & 1471 & 93 & 5314 & crushing deflection middlegame short & $\\dots$ \\\\\n",
       "\t21 & 2365 & 90 & 1505 & advantage long middlegame pin & $\\dots$ \\\\\n",
       "\t22 & 987 & 61 & 74 & advantage hangingPiece middlegame short & $\\dots$ \\\\\n",
       "\t23 & 1685 & 88 & 49 & advantage kingsideAttack master middlegame short & $\\dots$ \\\\\n",
       "\t24 & 1588 & 78 & 25 & crushing master middlegame short & $\\dots$ \\\\\n",
       "\t$\\dots$ & $\\dots$ & $\\dots$ & $\\dots$ & $\\dots$ &  \\\\\n",
       "\\end{tabular}\n"
      ],
      "text/plain": [
       "\u001b[1m565133×6 DataFrame\u001b[0m\n",
       "\u001b[1m    Row \u001b[0m│\u001b[1m Rating \u001b[0m\u001b[1m Popularity \u001b[0m\u001b[1m NbPlays \u001b[0m\u001b[1m Themes                            \u001b[0m\u001b[1m Open\u001b[0m ⋯\n",
       "        │\u001b[90m Int64  \u001b[0m\u001b[90m Int64      \u001b[0m\u001b[90m Int64   \u001b[0m\u001b[90m String                            \u001b[0m\u001b[90m Stri\u001b[0m ⋯\n",
       "────────┼───────────────────────────────────────────────────────────────────────\n",
       "      1 │   1088          85      505  advantage middlegame short         King ⋯\n",
       "      2 │   1457          86      482  advantage master middlegame short  Beno\n",
       "      3 │   1595          88      448  mate mateIn2 middlegame short      Horw\n",
       "      4 │   1762          90     1572  advantage middlegame short         Scot\n",
       "      5 │   1013          39      136  bodenMate hangingPiece mate mate…  Sici ⋯\n",
       "      6 │   1490          50       12  mate mateIn1 oneMove               Ruy_\n",
       "      7 │    943          96     1091  advantage fork master masterVsMa…  Pirc\n",
       "      8 │   1927          93      639  crushing master masterVsMaster m…  Slav\n",
       "   ⋮    │   ⋮         ⋮          ⋮                     ⋮                       ⋱\n",
       " 565127 │   1401          72       30  advantage fork middlegame short    Fren ⋯\n",
       " 565128 │   1805         100       13  crushing kingsideAttack long       Ital\n",
       " 565129 │    812         100       52  crushing fork middlegame short     Caro\n",
       " 565130 │   1811          94     2523  crushing long middlegame quietMo…  Slav\n",
       " 565131 │   1899          85       73  advantage middlegame short         Quee ⋯\n",
       " 565132 │    972          93      637  advantage fork opening short       Sici\n",
       " 565133 │   2496          79       50  advantage long opening             King\n",
       "\u001b[36m                                               2 columns and 565118 rows omitted\u001b[0m"
      ]
     },
     "metadata": {},
     "output_type": "display_data"
    }
   ],
   "source": [
    "select(df, Not(:Moves),:Moves)"
   ]
  },
  {
   "cell_type": "markdown",
   "metadata": {},
   "source": [
    "### Przesunięcie kolumny do przodu"
   ]
  },
  {
   "cell_type": "code",
   "execution_count": 220,
   "metadata": {},
   "outputs": [
    {
     "data": {
      "text/html": [
       "<div><div style = \"float: left;\"><span>565133×6 DataFrame</span></div><div style = \"float: right;\"><span style = \"font-style: italic;\">565123 rows omitted</span></div><div style = \"clear: both;\"></div></div><div class = \"data-frame\" style = \"overflow-x: scroll;\"><table class = \"data-frame\" style = \"margin-bottom: 6px;\"><thead><tr class = \"header\"><th class = \"rowNumber\" style = \"font-weight: bold; text-align: right;\">Row</th><th style = \"text-align: left;\">Popularity</th><th style = \"text-align: left;\">Moves</th><th style = \"text-align: left;\">Rating</th><th style = \"text-align: left;\">NbPlays</th><th style = \"text-align: left;\">Themes</th><th style = \"text-align: left;\">OpeningFamily</th></tr><tr class = \"subheader headerLastRow\"><th class = \"rowNumber\" style = \"font-weight: bold; text-align: right;\"></th><th title = \"Int64\" style = \"text-align: left;\">Int64</th><th title = \"String\" style = \"text-align: left;\">String</th><th title = \"Int64\" style = \"text-align: left;\">Int64</th><th title = \"Int64\" style = \"text-align: left;\">Int64</th><th title = \"String\" style = \"text-align: left;\">String</th><th title = \"String\" style = \"text-align: left;\">String</th></tr></thead><tbody><tr><td class = \"rowNumber\" style = \"font-weight: bold; text-align: right;\">1</td><td style = \"text-align: right;\">85</td><td style = \"text-align: left;\">b6c5 e2g4 h3g4 d1g4</td><td style = \"text-align: right;\">1088</td><td style = \"text-align: right;\">505</td><td style = \"text-align: left;\">advantage middlegame short</td><td style = \"text-align: left;\">Kings_Pawn_Game</td></tr><tr><td class = \"rowNumber\" style = \"font-weight: bold; text-align: right;\">2</td><td style = \"text-align: right;\">86</td><td style = \"text-align: left;\">g5e7 a5c3 b2c3 c6e7</td><td style = \"text-align: right;\">1457</td><td style = \"text-align: right;\">482</td><td style = \"text-align: left;\">advantage master middlegame short</td><td style = \"text-align: left;\">Benoni_Defense</td></tr><tr><td class = \"rowNumber\" style = \"font-weight: bold; text-align: right;\">3</td><td style = \"text-align: right;\">88</td><td style = \"text-align: left;\">e8f7 e2e6 f7f8 e6f7</td><td style = \"text-align: right;\">1595</td><td style = \"text-align: right;\">448</td><td style = \"text-align: left;\">mate mateIn2 middlegame short</td><td style = \"text-align: left;\">Horwitz_Defense</td></tr><tr><td class = \"rowNumber\" style = \"font-weight: bold; text-align: right;\">4</td><td style = \"text-align: right;\">90</td><td style = \"text-align: left;\">d8f6 d1h5 h7h6 h5c5</td><td style = \"text-align: right;\">1762</td><td style = \"text-align: right;\">1572</td><td style = \"text-align: left;\">advantage middlegame short</td><td style = \"text-align: left;\">Scotch_Game</td></tr><tr><td class = \"rowNumber\" style = \"font-weight: bold; text-align: right;\">5</td><td style = \"text-align: right;\">39</td><td style = \"text-align: left;\">c7a8 a5c3</td><td style = \"text-align: right;\">1013</td><td style = \"text-align: right;\">136</td><td style = \"text-align: left;\">bodenMate hangingPiece mate mateIn1 middlegame oneMove</td><td style = \"text-align: left;\">Sicilian_Defense</td></tr><tr><td style = \"text-align: right;\">&vellip;</td><td style = \"text-align: right;\">&vellip;</td><td style = \"text-align: right;\">&vellip;</td><td style = \"text-align: right;\">&vellip;</td><td style = \"text-align: right;\">&vellip;</td><td style = \"text-align: right;\">&vellip;</td><td style = \"text-align: right;\">&vellip;</td></tr><tr><td class = \"rowNumber\" style = \"font-weight: bold; text-align: right;\">565129</td><td style = \"text-align: right;\">100</td><td style = \"text-align: left;\">a5a2 b5c7 e8d7 c7a8</td><td style = \"text-align: right;\">812</td><td style = \"text-align: right;\">52</td><td style = \"text-align: left;\">crushing fork middlegame short</td><td style = \"text-align: left;\">Caro-Kann_Defense</td></tr><tr><td class = \"rowNumber\" style = \"font-weight: bold; text-align: right;\">565130</td><td style = \"text-align: right;\">94</td><td style = \"text-align: left;\">b8d7 c3b5 d6b8 a1c1 e8g8 b5c7</td><td style = \"text-align: right;\">1811</td><td style = \"text-align: right;\">2523</td><td style = \"text-align: left;\">crushing long middlegame quietMove</td><td style = \"text-align: left;\">Slav_Defense</td></tr><tr><td class = \"rowNumber\" style = \"font-weight: bold; text-align: right;\">565131</td><td style = \"text-align: right;\">85</td><td style = \"text-align: left;\">g5c1 d5d6 d7f6 h7h8</td><td style = \"text-align: right;\">1899</td><td style = \"text-align: right;\">73</td><td style = \"text-align: left;\">advantage middlegame short</td><td style = \"text-align: left;\">Queens_Gambit_Declined</td></tr><tr><td class = \"rowNumber\" style = \"font-weight: bold; text-align: right;\">565132</td><td style = \"text-align: right;\">93</td><td style = \"text-align: left;\">d2f3 d8a5 c1d2 a5b5</td><td style = \"text-align: right;\">972</td><td style = \"text-align: right;\">637</td><td style = \"text-align: left;\">advantage fork opening short</td><td style = \"text-align: left;\">Sicilian_Defense</td></tr><tr><td class = \"rowNumber\" style = \"font-weight: bold; text-align: right;\">565133</td><td style = \"text-align: right;\">79</td><td style = \"text-align: left;\">c6d4 f1e1 e8d8 b1c3 d4f3 g2f3</td><td style = \"text-align: right;\">2496</td><td style = \"text-align: right;\">50</td><td style = \"text-align: left;\">advantage long opening</td><td style = \"text-align: left;\">Kings_Gambit_Accepted</td></tr></tbody></table></div>"
      ],
      "text/latex": [
       "\\begin{tabular}{r|cccccc}\n",
       "\t& Popularity & Moves & Rating & NbPlays & Themes & \\\\\n",
       "\t\\hline\n",
       "\t& Int64 & String & Int64 & Int64 & String & \\\\\n",
       "\t\\hline\n",
       "\t1 & 85 & b6c5 e2g4 h3g4 d1g4 & 1088 & 505 & advantage middlegame short & $\\dots$ \\\\\n",
       "\t2 & 86 & g5e7 a5c3 b2c3 c6e7 & 1457 & 482 & advantage master middlegame short & $\\dots$ \\\\\n",
       "\t3 & 88 & e8f7 e2e6 f7f8 e6f7 & 1595 & 448 & mate mateIn2 middlegame short & $\\dots$ \\\\\n",
       "\t4 & 90 & d8f6 d1h5 h7h6 h5c5 & 1762 & 1572 & advantage middlegame short & $\\dots$ \\\\\n",
       "\t5 & 39 & c7a8 a5c3 & 1013 & 136 & bodenMate hangingPiece mate mateIn1 middlegame oneMove & $\\dots$ \\\\\n",
       "\t6 & 50 & h2g3 g6h5 & 1490 & 12 & mate mateIn1 oneMove & $\\dots$ \\\\\n",
       "\t7 & 96 & f2f3 d6c5 g1h1 c5c4 & 943 & 1091 & advantage fork master masterVsMaster middlegame short & $\\dots$ \\\\\n",
       "\t8 & 93 & d3a6 b6c5 a6c8 c5c4 & 1927 & 639 & crushing master masterVsMaster middlegame sacrifice short & $\\dots$ \\\\\n",
       "\t9 & 96 & b1c3 f5g4 h5g4 d7g4 & 1628 & 12910 & advantage opening short trappedPiece & $\\dots$ \\\\\n",
       "\t10 & 47 & c6e5 d4e5 d6e7 e5f6 & 1303 & 19 & advantage fork middlegame short & $\\dots$ \\\\\n",
       "\t11 & 93 & f8e7 f3e5 c7e5 e2g4 & 1492 & 588 & crushing discoveredAttack middlegame short & $\\dots$ \\\\\n",
       "\t12 & 96 & g1h1 f6f4 d1f3 f4f3 & 1787 & 1869 & crushing kingsideAttack middlegame short & $\\dots$ \\\\\n",
       "\t13 & 95 & c6c5 d4a4 a6b5 a4b5 & 1044 & 595 & crushing fork middlegame short & $\\dots$ \\\\\n",
       "\t14 & 83 & f1e1 g3e4 e1e4 d5e4 d1h5 h4h5 b3f7 h5f7 & 2172 & 196 & crushing defensiveMove middlegame veryLong & $\\dots$ \\\\\n",
       "\t15 & 93 & d5e6 b4d3 f2g1 d3f4 & 1272 & 477 & crushing fork middlegame short & $\\dots$ \\\\\n",
       "\t16 & 92 & e5f7 d8e7 g7g8 f6g8 & 1762 & 572 & advantage middlegame short & $\\dots$ \\\\\n",
       "\t17 & 90 & d7d4 f4e3 d4f6 e1f1 f6e5 h5g6 e5e3 h3e3 & 2263 & 173 & advantage defensiveMove middlegame veryLong & $\\dots$ \\\\\n",
       "\t18 & 88 & b7c7 f6f2 f1f2 e8e1 f2f1 e1f1 & 1324 & 34 & kingsideAttack long mate mateIn3 middlegame sacrifice & $\\dots$ \\\\\n",
       "\t19 & 78 & d4e5 d6e5 f4h2 e5e4 & 1438 & 15 & advantage opening short & $\\dots$ \\\\\n",
       "\t20 & 93 & f6d7 d2d7 c8d7 f3a8 & 1471 & 5314 & crushing deflection middlegame short & $\\dots$ \\\\\n",
       "\t21 & 90 & f5e4 h5f7 g8h7 f1f6 e7f6 f7d7 & 2365 & 1505 & advantage long middlegame pin & $\\dots$ \\\\\n",
       "\t22 & 61 & e4f2 g1f2 g6d3 d1d3 & 987 & 74 & advantage hangingPiece middlegame short & $\\dots$ \\\\\n",
       "\t23 & 88 & b5d4 h4f2 f1f2 e4f2 & 1685 & 49 & advantage kingsideAttack master middlegame short & $\\dots$ \\\\\n",
       "\t24 & 78 & a8b8 b5d6 e8d8 d2a5 & 1588 & 25 & crushing master middlegame short & $\\dots$ \\\\\n",
       "\t$\\dots$ & $\\dots$ & $\\dots$ & $\\dots$ & $\\dots$ & $\\dots$ &  \\\\\n",
       "\\end{tabular}\n"
      ],
      "text/plain": [
       "\u001b[1m565133×6 DataFrame\u001b[0m\n",
       "\u001b[1m    Row \u001b[0m│\u001b[1m Popularity \u001b[0m\u001b[1m Moves                             \u001b[0m\u001b[1m Rating \u001b[0m\u001b[1m NbPlays \u001b[0m\u001b[1m Them\u001b[0m ⋯\n",
       "        │\u001b[90m Int64      \u001b[0m\u001b[90m String                            \u001b[0m\u001b[90m Int64  \u001b[0m\u001b[90m Int64   \u001b[0m\u001b[90m Stri\u001b[0m ⋯\n",
       "────────┼───────────────────────────────────────────────────────────────────────\n",
       "      1 │         85  b6c5 e2g4 h3g4 d1g4                  1088      505  adva ⋯\n",
       "      2 │         86  g5e7 a5c3 b2c3 c6e7                  1457      482  adva\n",
       "      3 │         88  e8f7 e2e6 f7f8 e6f7                  1595      448  mate\n",
       "      4 │         90  d8f6 d1h5 h7h6 h5c5                  1762     1572  adva\n",
       "      5 │         39  c7a8 a5c3                            1013      136  bode ⋯\n",
       "      6 │         50  h2g3 g6h5                            1490       12  mate\n",
       "      7 │         96  f2f3 d6c5 g1h1 c5c4                   943     1091  adva\n",
       "      8 │         93  d3a6 b6c5 a6c8 c5c4                  1927      639  crus\n",
       "   ⋮    │     ⋮                       ⋮                    ⋮        ⋮          ⋱\n",
       " 565127 │         72  e4c3 a4c6 d8d7 c6c3                  1401       30  adva ⋯\n",
       " 565128 │        100  e4c3 e2e8 f8e8 e1e8 g8h7 b2c3        1805       13  crus\n",
       " 565129 │        100  a5a2 b5c7 e8d7 c7a8                   812       52  crus\n",
       " 565130 │         94  b8d7 c3b5 d6b8 a1c1 e8g8 b5c7        1811     2523  crus\n",
       " 565131 │         85  g5c1 d5d6 d7f6 h7h8                  1899       73  adva ⋯\n",
       " 565132 │         93  d2f3 d8a5 c1d2 a5b5                   972      637  adva\n",
       " 565133 │         79  c6d4 f1e1 e8d8 b1c3 d4f3 g2f3        2496       50  adva\n",
       "\u001b[36m                                               2 columns and 565118 rows omitted\u001b[0m"
      ]
     },
     "metadata": {},
     "output_type": "display_data"
    }
   ],
   "source": [
    "select(df,:Popularity,:)"
   ]
  },
  {
   "cell_type": "markdown",
   "metadata": {},
   "source": [
    "### Można też oba na raz :)"
   ]
  },
  {
   "cell_type": "code",
   "execution_count": 221,
   "metadata": {},
   "outputs": [
    {
     "data": {
      "text/html": [
       "<div><div style = \"float: left;\"><span>565133×6 DataFrame</span></div><div style = \"float: right;\"><span style = \"font-style: italic;\">565123 rows omitted</span></div><div style = \"clear: both;\"></div></div><div class = \"data-frame\" style = \"overflow-x: scroll;\"><table class = \"data-frame\" style = \"margin-bottom: 6px;\"><thead><tr class = \"header\"><th class = \"rowNumber\" style = \"font-weight: bold; text-align: right;\">Row</th><th style = \"text-align: left;\">Popularity</th><th style = \"text-align: left;\">Rating</th><th style = \"text-align: left;\">NbPlays</th><th style = \"text-align: left;\">Themes</th><th style = \"text-align: left;\">OpeningFamily</th><th style = \"text-align: left;\">Moves</th></tr><tr class = \"subheader headerLastRow\"><th class = \"rowNumber\" style = \"font-weight: bold; text-align: right;\"></th><th title = \"Int64\" style = \"text-align: left;\">Int64</th><th title = \"Int64\" style = \"text-align: left;\">Int64</th><th title = \"Int64\" style = \"text-align: left;\">Int64</th><th title = \"String\" style = \"text-align: left;\">String</th><th title = \"String\" style = \"text-align: left;\">String</th><th title = \"String\" style = \"text-align: left;\">String</th></tr></thead><tbody><tr><td class = \"rowNumber\" style = \"font-weight: bold; text-align: right;\">1</td><td style = \"text-align: right;\">85</td><td style = \"text-align: right;\">1088</td><td style = \"text-align: right;\">505</td><td style = \"text-align: left;\">advantage middlegame short</td><td style = \"text-align: left;\">Kings_Pawn_Game</td><td style = \"text-align: left;\">b6c5 e2g4 h3g4 d1g4</td></tr><tr><td class = \"rowNumber\" style = \"font-weight: bold; text-align: right;\">2</td><td style = \"text-align: right;\">86</td><td style = \"text-align: right;\">1457</td><td style = \"text-align: right;\">482</td><td style = \"text-align: left;\">advantage master middlegame short</td><td style = \"text-align: left;\">Benoni_Defense</td><td style = \"text-align: left;\">g5e7 a5c3 b2c3 c6e7</td></tr><tr><td class = \"rowNumber\" style = \"font-weight: bold; text-align: right;\">3</td><td style = \"text-align: right;\">88</td><td style = \"text-align: right;\">1595</td><td style = \"text-align: right;\">448</td><td style = \"text-align: left;\">mate mateIn2 middlegame short</td><td style = \"text-align: left;\">Horwitz_Defense</td><td style = \"text-align: left;\">e8f7 e2e6 f7f8 e6f7</td></tr><tr><td class = \"rowNumber\" style = \"font-weight: bold; text-align: right;\">4</td><td style = \"text-align: right;\">90</td><td style = \"text-align: right;\">1762</td><td style = \"text-align: right;\">1572</td><td style = \"text-align: left;\">advantage middlegame short</td><td style = \"text-align: left;\">Scotch_Game</td><td style = \"text-align: left;\">d8f6 d1h5 h7h6 h5c5</td></tr><tr><td class = \"rowNumber\" style = \"font-weight: bold; text-align: right;\">5</td><td style = \"text-align: right;\">39</td><td style = \"text-align: right;\">1013</td><td style = \"text-align: right;\">136</td><td style = \"text-align: left;\">bodenMate hangingPiece mate mateIn1 middlegame oneMove</td><td style = \"text-align: left;\">Sicilian_Defense</td><td style = \"text-align: left;\">c7a8 a5c3</td></tr><tr><td style = \"text-align: right;\">&vellip;</td><td style = \"text-align: right;\">&vellip;</td><td style = \"text-align: right;\">&vellip;</td><td style = \"text-align: right;\">&vellip;</td><td style = \"text-align: right;\">&vellip;</td><td style = \"text-align: right;\">&vellip;</td><td style = \"text-align: right;\">&vellip;</td></tr><tr><td class = \"rowNumber\" style = \"font-weight: bold; text-align: right;\">565129</td><td style = \"text-align: right;\">100</td><td style = \"text-align: right;\">812</td><td style = \"text-align: right;\">52</td><td style = \"text-align: left;\">crushing fork middlegame short</td><td style = \"text-align: left;\">Caro-Kann_Defense</td><td style = \"text-align: left;\">a5a2 b5c7 e8d7 c7a8</td></tr><tr><td class = \"rowNumber\" style = \"font-weight: bold; text-align: right;\">565130</td><td style = \"text-align: right;\">94</td><td style = \"text-align: right;\">1811</td><td style = \"text-align: right;\">2523</td><td style = \"text-align: left;\">crushing long middlegame quietMove</td><td style = \"text-align: left;\">Slav_Defense</td><td style = \"text-align: left;\">b8d7 c3b5 d6b8 a1c1 e8g8 b5c7</td></tr><tr><td class = \"rowNumber\" style = \"font-weight: bold; text-align: right;\">565131</td><td style = \"text-align: right;\">85</td><td style = \"text-align: right;\">1899</td><td style = \"text-align: right;\">73</td><td style = \"text-align: left;\">advantage middlegame short</td><td style = \"text-align: left;\">Queens_Gambit_Declined</td><td style = \"text-align: left;\">g5c1 d5d6 d7f6 h7h8</td></tr><tr><td class = \"rowNumber\" style = \"font-weight: bold; text-align: right;\">565132</td><td style = \"text-align: right;\">93</td><td style = \"text-align: right;\">972</td><td style = \"text-align: right;\">637</td><td style = \"text-align: left;\">advantage fork opening short</td><td style = \"text-align: left;\">Sicilian_Defense</td><td style = \"text-align: left;\">d2f3 d8a5 c1d2 a5b5</td></tr><tr><td class = \"rowNumber\" style = \"font-weight: bold; text-align: right;\">565133</td><td style = \"text-align: right;\">79</td><td style = \"text-align: right;\">2496</td><td style = \"text-align: right;\">50</td><td style = \"text-align: left;\">advantage long opening</td><td style = \"text-align: left;\">Kings_Gambit_Accepted</td><td style = \"text-align: left;\">c6d4 f1e1 e8d8 b1c3 d4f3 g2f3</td></tr></tbody></table></div>"
      ],
      "text/latex": [
       "\\begin{tabular}{r|ccccc}\n",
       "\t& Popularity & Rating & NbPlays & Themes & \\\\\n",
       "\t\\hline\n",
       "\t& Int64 & Int64 & Int64 & String & \\\\\n",
       "\t\\hline\n",
       "\t1 & 85 & 1088 & 505 & advantage middlegame short & $\\dots$ \\\\\n",
       "\t2 & 86 & 1457 & 482 & advantage master middlegame short & $\\dots$ \\\\\n",
       "\t3 & 88 & 1595 & 448 & mate mateIn2 middlegame short & $\\dots$ \\\\\n",
       "\t4 & 90 & 1762 & 1572 & advantage middlegame short & $\\dots$ \\\\\n",
       "\t5 & 39 & 1013 & 136 & bodenMate hangingPiece mate mateIn1 middlegame oneMove & $\\dots$ \\\\\n",
       "\t6 & 50 & 1490 & 12 & mate mateIn1 oneMove & $\\dots$ \\\\\n",
       "\t7 & 96 & 943 & 1091 & advantage fork master masterVsMaster middlegame short & $\\dots$ \\\\\n",
       "\t8 & 93 & 1927 & 639 & crushing master masterVsMaster middlegame sacrifice short & $\\dots$ \\\\\n",
       "\t9 & 96 & 1628 & 12910 & advantage opening short trappedPiece & $\\dots$ \\\\\n",
       "\t10 & 47 & 1303 & 19 & advantage fork middlegame short & $\\dots$ \\\\\n",
       "\t11 & 93 & 1492 & 588 & crushing discoveredAttack middlegame short & $\\dots$ \\\\\n",
       "\t12 & 96 & 1787 & 1869 & crushing kingsideAttack middlegame short & $\\dots$ \\\\\n",
       "\t13 & 95 & 1044 & 595 & crushing fork middlegame short & $\\dots$ \\\\\n",
       "\t14 & 83 & 2172 & 196 & crushing defensiveMove middlegame veryLong & $\\dots$ \\\\\n",
       "\t15 & 93 & 1272 & 477 & crushing fork middlegame short & $\\dots$ \\\\\n",
       "\t16 & 92 & 1762 & 572 & advantage middlegame short & $\\dots$ \\\\\n",
       "\t17 & 90 & 2263 & 173 & advantage defensiveMove middlegame veryLong & $\\dots$ \\\\\n",
       "\t18 & 88 & 1324 & 34 & kingsideAttack long mate mateIn3 middlegame sacrifice & $\\dots$ \\\\\n",
       "\t19 & 78 & 1438 & 15 & advantage opening short & $\\dots$ \\\\\n",
       "\t20 & 93 & 1471 & 5314 & crushing deflection middlegame short & $\\dots$ \\\\\n",
       "\t21 & 90 & 2365 & 1505 & advantage long middlegame pin & $\\dots$ \\\\\n",
       "\t22 & 61 & 987 & 74 & advantage hangingPiece middlegame short & $\\dots$ \\\\\n",
       "\t23 & 88 & 1685 & 49 & advantage kingsideAttack master middlegame short & $\\dots$ \\\\\n",
       "\t24 & 78 & 1588 & 25 & crushing master middlegame short & $\\dots$ \\\\\n",
       "\t$\\dots$ & $\\dots$ & $\\dots$ & $\\dots$ & $\\dots$ &  \\\\\n",
       "\\end{tabular}\n"
      ],
      "text/plain": [
       "\u001b[1m565133×6 DataFrame\u001b[0m\n",
       "\u001b[1m    Row \u001b[0m│\u001b[1m Popularity \u001b[0m\u001b[1m Rating \u001b[0m\u001b[1m NbPlays \u001b[0m\u001b[1m Themes                            \u001b[0m\u001b[1m Open\u001b[0m ⋯\n",
       "        │\u001b[90m Int64      \u001b[0m\u001b[90m Int64  \u001b[0m\u001b[90m Int64   \u001b[0m\u001b[90m String                            \u001b[0m\u001b[90m Stri\u001b[0m ⋯\n",
       "────────┼───────────────────────────────────────────────────────────────────────\n",
       "      1 │         85    1088      505  advantage middlegame short         King ⋯\n",
       "      2 │         86    1457      482  advantage master middlegame short  Beno\n",
       "      3 │         88    1595      448  mate mateIn2 middlegame short      Horw\n",
       "      4 │         90    1762     1572  advantage middlegame short         Scot\n",
       "      5 │         39    1013      136  bodenMate hangingPiece mate mate…  Sici ⋯\n",
       "      6 │         50    1490       12  mate mateIn1 oneMove               Ruy_\n",
       "      7 │         96     943     1091  advantage fork master masterVsMa…  Pirc\n",
       "      8 │         93    1927      639  crushing master masterVsMaster m…  Slav\n",
       "   ⋮    │     ⋮         ⋮        ⋮                     ⋮                       ⋱\n",
       " 565127 │         72    1401       30  advantage fork middlegame short    Fren ⋯\n",
       " 565128 │        100    1805       13  crushing kingsideAttack long       Ital\n",
       " 565129 │        100     812       52  crushing fork middlegame short     Caro\n",
       " 565130 │         94    1811     2523  crushing long middlegame quietMo…  Slav\n",
       " 565131 │         85    1899       73  advantage middlegame short         Quee ⋯\n",
       " 565132 │         93     972      637  advantage fork opening short       Sici\n",
       " 565133 │         79    2496       50  advantage long opening             King\n",
       "\u001b[36m                                               2 columns and 565118 rows omitted\u001b[0m"
      ]
     },
     "metadata": {},
     "output_type": "display_data"
    }
   ],
   "source": [
    "select(df,:Popularity,Not(:Moves),:Moves)"
   ]
  },
  {
   "cell_type": "code",
   "execution_count": 222,
   "metadata": {},
   "outputs": [
    {
     "data": {
      "text/html": [
       "<div><div style = \"float: left;\"><span>565133×3 DataFrame</span></div><div style = \"float: right;\"><span style = \"font-style: italic;\">565123 rows omitted</span></div><div style = \"clear: both;\"></div></div><div class = \"data-frame\" style = \"overflow-x: scroll;\"><table class = \"data-frame\" style = \"margin-bottom: 6px;\"><thead><tr class = \"header\"><th class = \"rowNumber\" style = \"font-weight: bold; text-align: right;\">Row</th><th style = \"text-align: left;\">Rating</th><th style = \"text-align: left;\">Popularity</th><th style = \"text-align: left;\">NbPlays</th></tr><tr class = \"subheader headerLastRow\"><th class = \"rowNumber\" style = \"font-weight: bold; text-align: right;\"></th><th title = \"Int64\" style = \"text-align: left;\">Int64</th><th title = \"Int64\" style = \"text-align: left;\">Int64</th><th title = \"Int64\" style = \"text-align: left;\">Int64</th></tr></thead><tbody><tr><td class = \"rowNumber\" style = \"font-weight: bold; text-align: right;\">1</td><td style = \"text-align: right;\">1088</td><td style = \"text-align: right;\">85</td><td style = \"text-align: right;\">505</td></tr><tr><td class = \"rowNumber\" style = \"font-weight: bold; text-align: right;\">2</td><td style = \"text-align: right;\">1457</td><td style = \"text-align: right;\">86</td><td style = \"text-align: right;\">482</td></tr><tr><td class = \"rowNumber\" style = \"font-weight: bold; text-align: right;\">3</td><td style = \"text-align: right;\">1595</td><td style = \"text-align: right;\">88</td><td style = \"text-align: right;\">448</td></tr><tr><td class = \"rowNumber\" style = \"font-weight: bold; text-align: right;\">4</td><td style = \"text-align: right;\">1762</td><td style = \"text-align: right;\">90</td><td style = \"text-align: right;\">1572</td></tr><tr><td class = \"rowNumber\" style = \"font-weight: bold; text-align: right;\">5</td><td style = \"text-align: right;\">1013</td><td style = \"text-align: right;\">39</td><td style = \"text-align: right;\">136</td></tr><tr><td style = \"text-align: right;\">&vellip;</td><td style = \"text-align: right;\">&vellip;</td><td style = \"text-align: right;\">&vellip;</td><td style = \"text-align: right;\">&vellip;</td></tr><tr><td class = \"rowNumber\" style = \"font-weight: bold; text-align: right;\">565129</td><td style = \"text-align: right;\">812</td><td style = \"text-align: right;\">100</td><td style = \"text-align: right;\">52</td></tr><tr><td class = \"rowNumber\" style = \"font-weight: bold; text-align: right;\">565130</td><td style = \"text-align: right;\">1811</td><td style = \"text-align: right;\">94</td><td style = \"text-align: right;\">2523</td></tr><tr><td class = \"rowNumber\" style = \"font-weight: bold; text-align: right;\">565131</td><td style = \"text-align: right;\">1899</td><td style = \"text-align: right;\">85</td><td style = \"text-align: right;\">73</td></tr><tr><td class = \"rowNumber\" style = \"font-weight: bold; text-align: right;\">565132</td><td style = \"text-align: right;\">972</td><td style = \"text-align: right;\">93</td><td style = \"text-align: right;\">637</td></tr><tr><td class = \"rowNumber\" style = \"font-weight: bold; text-align: right;\">565133</td><td style = \"text-align: right;\">2496</td><td style = \"text-align: right;\">79</td><td style = \"text-align: right;\">50</td></tr></tbody></table></div>"
      ],
      "text/latex": [
       "\\begin{tabular}{r|ccc}\n",
       "\t& Rating & Popularity & NbPlays\\\\\n",
       "\t\\hline\n",
       "\t& Int64 & Int64 & Int64\\\\\n",
       "\t\\hline\n",
       "\t1 & 1088 & 85 & 505 \\\\\n",
       "\t2 & 1457 & 86 & 482 \\\\\n",
       "\t3 & 1595 & 88 & 448 \\\\\n",
       "\t4 & 1762 & 90 & 1572 \\\\\n",
       "\t5 & 1013 & 39 & 136 \\\\\n",
       "\t6 & 1490 & 50 & 12 \\\\\n",
       "\t7 & 943 & 96 & 1091 \\\\\n",
       "\t8 & 1927 & 93 & 639 \\\\\n",
       "\t9 & 1628 & 96 & 12910 \\\\\n",
       "\t10 & 1303 & 47 & 19 \\\\\n",
       "\t11 & 1492 & 93 & 588 \\\\\n",
       "\t12 & 1787 & 96 & 1869 \\\\\n",
       "\t13 & 1044 & 95 & 595 \\\\\n",
       "\t14 & 2172 & 83 & 196 \\\\\n",
       "\t15 & 1272 & 93 & 477 \\\\\n",
       "\t16 & 1762 & 92 & 572 \\\\\n",
       "\t17 & 2263 & 90 & 173 \\\\\n",
       "\t18 & 1324 & 88 & 34 \\\\\n",
       "\t19 & 1438 & 78 & 15 \\\\\n",
       "\t20 & 1471 & 93 & 5314 \\\\\n",
       "\t21 & 2365 & 90 & 1505 \\\\\n",
       "\t22 & 987 & 61 & 74 \\\\\n",
       "\t23 & 1685 & 88 & 49 \\\\\n",
       "\t24 & 1588 & 78 & 25 \\\\\n",
       "\t$\\dots$ & $\\dots$ & $\\dots$ & $\\dots$ \\\\\n",
       "\\end{tabular}\n"
      ],
      "text/plain": [
       "\u001b[1m565133×3 DataFrame\u001b[0m\n",
       "\u001b[1m    Row \u001b[0m│\u001b[1m Rating \u001b[0m\u001b[1m Popularity \u001b[0m\u001b[1m NbPlays \u001b[0m\n",
       "        │\u001b[90m Int64  \u001b[0m\u001b[90m Int64      \u001b[0m\u001b[90m Int64   \u001b[0m\n",
       "────────┼─────────────────────────────\n",
       "      1 │   1088          85      505\n",
       "      2 │   1457          86      482\n",
       "      3 │   1595          88      448\n",
       "      4 │   1762          90     1572\n",
       "      5 │   1013          39      136\n",
       "      6 │   1490          50       12\n",
       "      7 │    943          96     1091\n",
       "      8 │   1927          93      639\n",
       "   ⋮    │   ⋮         ⋮          ⋮\n",
       " 565127 │   1401          72       30\n",
       " 565128 │   1805         100       13\n",
       " 565129 │    812         100       52\n",
       " 565130 │   1811          94     2523\n",
       " 565131 │   1899          85       73\n",
       " 565132 │    972          93      637\n",
       " 565133 │   2496          79       50\n",
       "\u001b[36m                   565118 rows omitted\u001b[0m"
      ]
     },
     "metadata": {},
     "output_type": "display_data"
    }
   ],
   "source": [
    "select(df,Between(\"Rating\", \"NbPlays\"))"
   ]
  },
  {
   "cell_type": "code",
   "execution_count": 223,
   "metadata": {},
   "outputs": [
    {
     "data": {
      "text/html": [
       "<div><div style = \"float: left;\"><span>565133×2 DataFrame</span></div><div style = \"float: right;\"><span style = \"font-style: italic;\">565123 rows omitted</span></div><div style = \"clear: both;\"></div></div><div class = \"data-frame\" style = \"overflow-x: scroll;\"><table class = \"data-frame\" style = \"margin-bottom: 6px;\"><thead><tr class = \"header\"><th class = \"rowNumber\" style = \"font-weight: bold; text-align: right;\">Row</th><th style = \"text-align: left;\">Popularity</th><th style = \"text-align: left;\">NbPlays</th></tr><tr class = \"subheader headerLastRow\"><th class = \"rowNumber\" style = \"font-weight: bold; text-align: right;\"></th><th title = \"Int64\" style = \"text-align: left;\">Int64</th><th title = \"Int64\" style = \"text-align: left;\">Int64</th></tr></thead><tbody><tr><td class = \"rowNumber\" style = \"font-weight: bold; text-align: right;\">1</td><td style = \"text-align: right;\">85</td><td style = \"text-align: right;\">505</td></tr><tr><td class = \"rowNumber\" style = \"font-weight: bold; text-align: right;\">2</td><td style = \"text-align: right;\">86</td><td style = \"text-align: right;\">482</td></tr><tr><td class = \"rowNumber\" style = \"font-weight: bold; text-align: right;\">3</td><td style = \"text-align: right;\">88</td><td style = \"text-align: right;\">448</td></tr><tr><td class = \"rowNumber\" style = \"font-weight: bold; text-align: right;\">4</td><td style = \"text-align: right;\">90</td><td style = \"text-align: right;\">1572</td></tr><tr><td class = \"rowNumber\" style = \"font-weight: bold; text-align: right;\">5</td><td style = \"text-align: right;\">39</td><td style = \"text-align: right;\">136</td></tr><tr><td style = \"text-align: right;\">&vellip;</td><td style = \"text-align: right;\">&vellip;</td><td style = \"text-align: right;\">&vellip;</td></tr><tr><td class = \"rowNumber\" style = \"font-weight: bold; text-align: right;\">565129</td><td style = \"text-align: right;\">100</td><td style = \"text-align: right;\">52</td></tr><tr><td class = \"rowNumber\" style = \"font-weight: bold; text-align: right;\">565130</td><td style = \"text-align: right;\">94</td><td style = \"text-align: right;\">2523</td></tr><tr><td class = \"rowNumber\" style = \"font-weight: bold; text-align: right;\">565131</td><td style = \"text-align: right;\">85</td><td style = \"text-align: right;\">73</td></tr><tr><td class = \"rowNumber\" style = \"font-weight: bold; text-align: right;\">565132</td><td style = \"text-align: right;\">93</td><td style = \"text-align: right;\">637</td></tr><tr><td class = \"rowNumber\" style = \"font-weight: bold; text-align: right;\">565133</td><td style = \"text-align: right;\">79</td><td style = \"text-align: right;\">50</td></tr></tbody></table></div>"
      ],
      "text/latex": [
       "\\begin{tabular}{r|cc}\n",
       "\t& Popularity & NbPlays\\\\\n",
       "\t\\hline\n",
       "\t& Int64 & Int64\\\\\n",
       "\t\\hline\n",
       "\t1 & 85 & 505 \\\\\n",
       "\t2 & 86 & 482 \\\\\n",
       "\t3 & 88 & 448 \\\\\n",
       "\t4 & 90 & 1572 \\\\\n",
       "\t5 & 39 & 136 \\\\\n",
       "\t6 & 50 & 12 \\\\\n",
       "\t7 & 96 & 1091 \\\\\n",
       "\t8 & 93 & 639 \\\\\n",
       "\t9 & 96 & 12910 \\\\\n",
       "\t10 & 47 & 19 \\\\\n",
       "\t11 & 93 & 588 \\\\\n",
       "\t12 & 96 & 1869 \\\\\n",
       "\t13 & 95 & 595 \\\\\n",
       "\t14 & 83 & 196 \\\\\n",
       "\t15 & 93 & 477 \\\\\n",
       "\t16 & 92 & 572 \\\\\n",
       "\t17 & 90 & 173 \\\\\n",
       "\t18 & 88 & 34 \\\\\n",
       "\t19 & 78 & 15 \\\\\n",
       "\t20 & 93 & 5314 \\\\\n",
       "\t21 & 90 & 1505 \\\\\n",
       "\t22 & 61 & 74 \\\\\n",
       "\t23 & 88 & 49 \\\\\n",
       "\t24 & 78 & 25 \\\\\n",
       "\t$\\dots$ & $\\dots$ & $\\dots$ \\\\\n",
       "\\end{tabular}\n"
      ],
      "text/plain": [
       "\u001b[1m565133×2 DataFrame\u001b[0m\n",
       "\u001b[1m    Row \u001b[0m│\u001b[1m Popularity \u001b[0m\u001b[1m NbPlays \u001b[0m\n",
       "        │\u001b[90m Int64      \u001b[0m\u001b[90m Int64   \u001b[0m\n",
       "────────┼─────────────────────\n",
       "      1 │         85      505\n",
       "      2 │         86      482\n",
       "      3 │         88      448\n",
       "      4 │         90     1572\n",
       "      5 │         39      136\n",
       "      6 │         50       12\n",
       "      7 │         96     1091\n",
       "      8 │         93      639\n",
       "   ⋮    │     ⋮          ⋮\n",
       " 565127 │         72       30\n",
       " 565128 │        100       13\n",
       " 565129 │        100       52\n",
       " 565130 │         94     2523\n",
       " 565131 │         85       73\n",
       " 565132 │         93      637\n",
       " 565133 │         79       50\n",
       "\u001b[36m           565118 rows omitted\u001b[0m"
      ]
     },
     "metadata": {},
     "output_type": "display_data"
    }
   ],
   "source": [
    "select(df, r\"P\")"
   ]
  },
  {
   "cell_type": "code",
   "execution_count": 224,
   "metadata": {},
   "outputs": [
    {
     "data": {
      "text/html": [
       "<div><div style = \"float: left;\"><span>565133×1 DataFrame</span></div><div style = \"float: right;\"><span style = \"font-style: italic;\">565123 rows omitted</span></div><div style = \"clear: both;\"></div></div><div class = \"data-frame\" style = \"overflow-x: scroll;\"><table class = \"data-frame\" style = \"margin-bottom: 6px;\"><thead><tr class = \"header\"><th class = \"rowNumber\" style = \"font-weight: bold; text-align: right;\">Row</th><th style = \"text-align: left;\">Popularity</th></tr><tr class = \"subheader headerLastRow\"><th class = \"rowNumber\" style = \"font-weight: bold; text-align: right;\"></th><th title = \"Int64\" style = \"text-align: left;\">Int64</th></tr></thead><tbody><tr><td class = \"rowNumber\" style = \"font-weight: bold; text-align: right;\">1</td><td style = \"text-align: right;\">85</td></tr><tr><td class = \"rowNumber\" style = \"font-weight: bold; text-align: right;\">2</td><td style = \"text-align: right;\">86</td></tr><tr><td class = \"rowNumber\" style = \"font-weight: bold; text-align: right;\">3</td><td style = \"text-align: right;\">88</td></tr><tr><td class = \"rowNumber\" style = \"font-weight: bold; text-align: right;\">4</td><td style = \"text-align: right;\">90</td></tr><tr><td class = \"rowNumber\" style = \"font-weight: bold; text-align: right;\">5</td><td style = \"text-align: right;\">39</td></tr><tr><td style = \"text-align: right;\">&vellip;</td><td style = \"text-align: right;\">&vellip;</td></tr><tr><td class = \"rowNumber\" style = \"font-weight: bold; text-align: right;\">565129</td><td style = \"text-align: right;\">100</td></tr><tr><td class = \"rowNumber\" style = \"font-weight: bold; text-align: right;\">565130</td><td style = \"text-align: right;\">94</td></tr><tr><td class = \"rowNumber\" style = \"font-weight: bold; text-align: right;\">565131</td><td style = \"text-align: right;\">85</td></tr><tr><td class = \"rowNumber\" style = \"font-weight: bold; text-align: right;\">565132</td><td style = \"text-align: right;\">93</td></tr><tr><td class = \"rowNumber\" style = \"font-weight: bold; text-align: right;\">565133</td><td style = \"text-align: right;\">79</td></tr></tbody></table></div>"
      ],
      "text/latex": [
       "\\begin{tabular}{r|c}\n",
       "\t& Popularity\\\\\n",
       "\t\\hline\n",
       "\t& Int64\\\\\n",
       "\t\\hline\n",
       "\t1 & 85 \\\\\n",
       "\t2 & 86 \\\\\n",
       "\t3 & 88 \\\\\n",
       "\t4 & 90 \\\\\n",
       "\t5 & 39 \\\\\n",
       "\t6 & 50 \\\\\n",
       "\t7 & 96 \\\\\n",
       "\t8 & 93 \\\\\n",
       "\t9 & 96 \\\\\n",
       "\t10 & 47 \\\\\n",
       "\t11 & 93 \\\\\n",
       "\t12 & 96 \\\\\n",
       "\t13 & 95 \\\\\n",
       "\t14 & 83 \\\\\n",
       "\t15 & 93 \\\\\n",
       "\t16 & 92 \\\\\n",
       "\t17 & 90 \\\\\n",
       "\t18 & 88 \\\\\n",
       "\t19 & 78 \\\\\n",
       "\t20 & 93 \\\\\n",
       "\t21 & 90 \\\\\n",
       "\t22 & 61 \\\\\n",
       "\t23 & 88 \\\\\n",
       "\t24 & 78 \\\\\n",
       "\t$\\dots$ & $\\dots$ \\\\\n",
       "\\end{tabular}\n"
      ],
      "text/plain": [
       "\u001b[1m565133×1 DataFrame\u001b[0m\n",
       "\u001b[1m    Row \u001b[0m│\u001b[1m Popularity \u001b[0m\n",
       "        │\u001b[90m Int64      \u001b[0m\n",
       "────────┼────────────\n",
       "      1 │         85\n",
       "      2 │         86\n",
       "      3 │         88\n",
       "      4 │         90\n",
       "      5 │         39\n",
       "      6 │         50\n",
       "      7 │         96\n",
       "      8 │         93\n",
       "   ⋮    │     ⋮\n",
       " 565127 │         72\n",
       " 565128 │        100\n",
       " 565129 │        100\n",
       " 565130 │         94\n",
       " 565131 │         85\n",
       " 565132 │         93\n",
       " 565133 │         79\n",
       "\u001b[36m  565118 rows omitted\u001b[0m"
      ]
     },
     "metadata": {},
     "output_type": "display_data"
    }
   ],
   "source": [
    "select(df, r\"^P\")"
   ]
  },
  {
   "cell_type": "code",
   "execution_count": 225,
   "metadata": {},
   "outputs": [
    {
     "data": {
      "text/html": [
       "<div><div style = \"float: left;\"><span>565133×3 DataFrame</span></div><div style = \"float: right;\"><span style = \"font-style: italic;\">565123 rows omitted</span></div><div style = \"clear: both;\"></div></div><div class = \"data-frame\" style = \"overflow-x: scroll;\"><table class = \"data-frame\" style = \"margin-bottom: 6px;\"><thead><tr class = \"header\"><th class = \"rowNumber\" style = \"font-weight: bold; text-align: right;\">Row</th><th style = \"text-align: left;\">Moves</th><th style = \"text-align: left;\">NbPlays</th><th style = \"text-align: left;\">Themes</th></tr><tr class = \"subheader headerLastRow\"><th class = \"rowNumber\" style = \"font-weight: bold; text-align: right;\"></th><th title = \"String\" style = \"text-align: left;\">String</th><th title = \"Int64\" style = \"text-align: left;\">Int64</th><th title = \"String\" style = \"text-align: left;\">String</th></tr></thead><tbody><tr><td class = \"rowNumber\" style = \"font-weight: bold; text-align: right;\">1</td><td style = \"text-align: left;\">b6c5 e2g4 h3g4 d1g4</td><td style = \"text-align: right;\">505</td><td style = \"text-align: left;\">advantage middlegame short</td></tr><tr><td class = \"rowNumber\" style = \"font-weight: bold; text-align: right;\">2</td><td style = \"text-align: left;\">g5e7 a5c3 b2c3 c6e7</td><td style = \"text-align: right;\">482</td><td style = \"text-align: left;\">advantage master middlegame short</td></tr><tr><td class = \"rowNumber\" style = \"font-weight: bold; text-align: right;\">3</td><td style = \"text-align: left;\">e8f7 e2e6 f7f8 e6f7</td><td style = \"text-align: right;\">448</td><td style = \"text-align: left;\">mate mateIn2 middlegame short</td></tr><tr><td class = \"rowNumber\" style = \"font-weight: bold; text-align: right;\">4</td><td style = \"text-align: left;\">d8f6 d1h5 h7h6 h5c5</td><td style = \"text-align: right;\">1572</td><td style = \"text-align: left;\">advantage middlegame short</td></tr><tr><td class = \"rowNumber\" style = \"font-weight: bold; text-align: right;\">5</td><td style = \"text-align: left;\">c7a8 a5c3</td><td style = \"text-align: right;\">136</td><td style = \"text-align: left;\">bodenMate hangingPiece mate mateIn1 middlegame oneMove</td></tr><tr><td style = \"text-align: right;\">&vellip;</td><td style = \"text-align: right;\">&vellip;</td><td style = \"text-align: right;\">&vellip;</td><td style = \"text-align: right;\">&vellip;</td></tr><tr><td class = \"rowNumber\" style = \"font-weight: bold; text-align: right;\">565129</td><td style = \"text-align: left;\">a5a2 b5c7 e8d7 c7a8</td><td style = \"text-align: right;\">52</td><td style = \"text-align: left;\">crushing fork middlegame short</td></tr><tr><td class = \"rowNumber\" style = \"font-weight: bold; text-align: right;\">565130</td><td style = \"text-align: left;\">b8d7 c3b5 d6b8 a1c1 e8g8 b5c7</td><td style = \"text-align: right;\">2523</td><td style = \"text-align: left;\">crushing long middlegame quietMove</td></tr><tr><td class = \"rowNumber\" style = \"font-weight: bold; text-align: right;\">565131</td><td style = \"text-align: left;\">g5c1 d5d6 d7f6 h7h8</td><td style = \"text-align: right;\">73</td><td style = \"text-align: left;\">advantage middlegame short</td></tr><tr><td class = \"rowNumber\" style = \"font-weight: bold; text-align: right;\">565132</td><td style = \"text-align: left;\">d2f3 d8a5 c1d2 a5b5</td><td style = \"text-align: right;\">637</td><td style = \"text-align: left;\">advantage fork opening short</td></tr><tr><td class = \"rowNumber\" style = \"font-weight: bold; text-align: right;\">565133</td><td style = \"text-align: left;\">c6d4 f1e1 e8d8 b1c3 d4f3 g2f3</td><td style = \"text-align: right;\">50</td><td style = \"text-align: left;\">advantage long opening</td></tr></tbody></table></div>"
      ],
      "text/latex": [
       "\\begin{tabular}{r|ccc}\n",
       "\t& Moves & NbPlays & Themes\\\\\n",
       "\t\\hline\n",
       "\t& String & Int64 & String\\\\\n",
       "\t\\hline\n",
       "\t1 & b6c5 e2g4 h3g4 d1g4 & 505 & advantage middlegame short \\\\\n",
       "\t2 & g5e7 a5c3 b2c3 c6e7 & 482 & advantage master middlegame short \\\\\n",
       "\t3 & e8f7 e2e6 f7f8 e6f7 & 448 & mate mateIn2 middlegame short \\\\\n",
       "\t4 & d8f6 d1h5 h7h6 h5c5 & 1572 & advantage middlegame short \\\\\n",
       "\t5 & c7a8 a5c3 & 136 & bodenMate hangingPiece mate mateIn1 middlegame oneMove \\\\\n",
       "\t6 & h2g3 g6h5 & 12 & mate mateIn1 oneMove \\\\\n",
       "\t7 & f2f3 d6c5 g1h1 c5c4 & 1091 & advantage fork master masterVsMaster middlegame short \\\\\n",
       "\t8 & d3a6 b6c5 a6c8 c5c4 & 639 & crushing master masterVsMaster middlegame sacrifice short \\\\\n",
       "\t9 & b1c3 f5g4 h5g4 d7g4 & 12910 & advantage opening short trappedPiece \\\\\n",
       "\t10 & c6e5 d4e5 d6e7 e5f6 & 19 & advantage fork middlegame short \\\\\n",
       "\t11 & f8e7 f3e5 c7e5 e2g4 & 588 & crushing discoveredAttack middlegame short \\\\\n",
       "\t12 & g1h1 f6f4 d1f3 f4f3 & 1869 & crushing kingsideAttack middlegame short \\\\\n",
       "\t13 & c6c5 d4a4 a6b5 a4b5 & 595 & crushing fork middlegame short \\\\\n",
       "\t14 & f1e1 g3e4 e1e4 d5e4 d1h5 h4h5 b3f7 h5f7 & 196 & crushing defensiveMove middlegame veryLong \\\\\n",
       "\t15 & d5e6 b4d3 f2g1 d3f4 & 477 & crushing fork middlegame short \\\\\n",
       "\t16 & e5f7 d8e7 g7g8 f6g8 & 572 & advantage middlegame short \\\\\n",
       "\t17 & d7d4 f4e3 d4f6 e1f1 f6e5 h5g6 e5e3 h3e3 & 173 & advantage defensiveMove middlegame veryLong \\\\\n",
       "\t18 & b7c7 f6f2 f1f2 e8e1 f2f1 e1f1 & 34 & kingsideAttack long mate mateIn3 middlegame sacrifice \\\\\n",
       "\t19 & d4e5 d6e5 f4h2 e5e4 & 15 & advantage opening short \\\\\n",
       "\t20 & f6d7 d2d7 c8d7 f3a8 & 5314 & crushing deflection middlegame short \\\\\n",
       "\t21 & f5e4 h5f7 g8h7 f1f6 e7f6 f7d7 & 1505 & advantage long middlegame pin \\\\\n",
       "\t22 & e4f2 g1f2 g6d3 d1d3 & 74 & advantage hangingPiece middlegame short \\\\\n",
       "\t23 & b5d4 h4f2 f1f2 e4f2 & 49 & advantage kingsideAttack master middlegame short \\\\\n",
       "\t24 & a8b8 b5d6 e8d8 d2a5 & 25 & crushing master middlegame short \\\\\n",
       "\t$\\dots$ & $\\dots$ & $\\dots$ & $\\dots$ \\\\\n",
       "\\end{tabular}\n"
      ],
      "text/plain": [
       "\u001b[1m565133×3 DataFrame\u001b[0m\n",
       "\u001b[1m    Row \u001b[0m│\u001b[1m Moves                             \u001b[0m\u001b[1m NbPlays \u001b[0m\u001b[1m Themes                  \u001b[0m ⋯\n",
       "        │\u001b[90m String                            \u001b[0m\u001b[90m Int64   \u001b[0m\u001b[90m String                  \u001b[0m ⋯\n",
       "────────┼───────────────────────────────────────────────────────────────────────\n",
       "      1 │ b6c5 e2g4 h3g4 d1g4                    505  advantage middlegame sho ⋯\n",
       "      2 │ g5e7 a5c3 b2c3 c6e7                    482  advantage master middleg\n",
       "      3 │ e8f7 e2e6 f7f8 e6f7                    448  mate mateIn2 middlegame\n",
       "      4 │ d8f6 d1h5 h7h6 h5c5                   1572  advantage middlegame sho\n",
       "      5 │ c7a8 a5c3                              136  bodenMate hangingPiece m ⋯\n",
       "      6 │ h2g3 g6h5                               12  mate mateIn1 oneMove\n",
       "      7 │ f2f3 d6c5 g1h1 c5c4                   1091  advantage fork master ma\n",
       "      8 │ d3a6 b6c5 a6c8 c5c4                    639  crushing master masterVs\n",
       "   ⋮    │                 ⋮                     ⋮                     ⋮        ⋱\n",
       " 565127 │ e4c3 a4c6 d8d7 c6c3                     30  advantage fork middlegam ⋯\n",
       " 565128 │ e4c3 e2e8 f8e8 e1e8 g8h7 b2c3           13  crushing kingsideAttack\n",
       " 565129 │ a5a2 b5c7 e8d7 c7a8                     52  crushing fork middlegame\n",
       " 565130 │ b8d7 c3b5 d6b8 a1c1 e8g8 b5c7         2523  crushing long middlegame\n",
       " 565131 │ g5c1 d5d6 d7f6 h7h8                     73  advantage middlegame sho ⋯\n",
       " 565132 │ d2f3 d8a5 c1d2 a5b5                    637  advantage fork opening s\n",
       " 565133 │ c6d4 f1e1 e8d8 b1c3 d4f3 g2f3           50  advantage long opening\n",
       "\u001b[36m                                                1 column and 565118 rows omitted\u001b[0m"
      ]
     },
     "metadata": {},
     "output_type": "display_data"
    }
   ],
   "source": [
    "select(df,Cols(endswith(\"s\")))"
   ]
  },
  {
   "cell_type": "code",
   "execution_count": 226,
   "metadata": {},
   "outputs": [
    {
     "data": {
      "text/html": [
       "<div><div style = \"float: left;\"><span>1×1 DataFrame</span></div><div style = \"clear: both;\"></div></div><div class = \"data-frame\" style = \"overflow-x: scroll;\"><table class = \"data-frame\" style = \"margin-bottom: 6px;\"><thead><tr class = \"header\"><th class = \"rowNumber\" style = \"font-weight: bold; text-align: right;\">Row</th><th style = \"text-align: left;\">Rating_mean</th></tr><tr class = \"subheader headerLastRow\"><th class = \"rowNumber\" style = \"font-weight: bold; text-align: right;\"></th><th title = \"Float64\" style = \"text-align: left;\">Float64</th></tr></thead><tbody><tr><td class = \"rowNumber\" style = \"font-weight: bold; text-align: right;\">1</td><td style = \"text-align: right;\">1578.6</td></tr></tbody></table></div>"
      ],
      "text/latex": [
       "\\begin{tabular}{r|c}\n",
       "\t& Rating\\_mean\\\\\n",
       "\t\\hline\n",
       "\t& Float64\\\\\n",
       "\t\\hline\n",
       "\t1 & 1578.6 \\\\\n",
       "\\end{tabular}\n"
      ],
      "text/plain": [
       "\u001b[1m1×1 DataFrame\u001b[0m\n",
       "\u001b[1m Row \u001b[0m│\u001b[1m Rating_mean \u001b[0m\n",
       "     │\u001b[90m Float64     \u001b[0m\n",
       "─────┼─────────────\n",
       "   1 │      1578.6"
      ]
     },
     "metadata": {},
     "output_type": "display_data"
    }
   ],
   "source": [
    "combine(df, :Rating => mean => :Rating_mean)"
   ]
  },
  {
   "cell_type": "code",
   "execution_count": 227,
   "metadata": {},
   "outputs": [
    {
     "data": {
      "text/html": [
       "<div><div style = \"float: left;\"><span>1×1 DataFrame</span></div><div style = \"clear: both;\"></div></div><div class = \"data-frame\" style = \"overflow-x: scroll;\"><table class = \"data-frame\" style = \"margin-bottom: 6px;\"><thead><tr class = \"header\"><th class = \"rowNumber\" style = \"font-weight: bold; text-align: right;\">Row</th><th style = \"text-align: left;\">Rating_mean</th></tr><tr class = \"subheader headerLastRow\"><th class = \"rowNumber\" style = \"font-weight: bold; text-align: right;\"></th><th title = \"Float64\" style = \"text-align: left;\">Float64</th></tr></thead><tbody><tr><td class = \"rowNumber\" style = \"font-weight: bold; text-align: right;\">1</td><td style = \"text-align: right;\">1578.6</td></tr></tbody></table></div>"
      ],
      "text/latex": [
       "\\begin{tabular}{r|c}\n",
       "\t& Rating\\_mean\\\\\n",
       "\t\\hline\n",
       "\t& Float64\\\\\n",
       "\t\\hline\n",
       "\t1 & 1578.6 \\\\\n",
       "\\end{tabular}\n"
      ],
      "text/plain": [
       "\u001b[1m1×1 DataFrame\u001b[0m\n",
       "\u001b[1m Row \u001b[0m│\u001b[1m Rating_mean \u001b[0m\n",
       "     │\u001b[90m Float64     \u001b[0m\n",
       "─────┼─────────────\n",
       "   1 │      1578.6"
      ]
     },
     "metadata": {},
     "output_type": "display_data"
    }
   ],
   "source": [
    "combine(df, :Rating => mean)"
   ]
  },
  {
   "cell_type": "code",
   "execution_count": 228,
   "metadata": {},
   "outputs": [
    {
     "data": {
      "text/html": [
       "<div><div style = \"float: left;\"><span>1×2 DataFrame</span></div><div style = \"clear: both;\"></div></div><div class = \"data-frame\" style = \"overflow-x: scroll;\"><table class = \"data-frame\" style = \"margin-bottom: 6px;\"><thead><tr class = \"header\"><th class = \"rowNumber\" style = \"font-weight: bold; text-align: right;\">Row</th><th style = \"text-align: left;\">Rating_mean</th><th style = \"text-align: left;\">NbPlays_mean</th></tr><tr class = \"subheader headerLastRow\"><th class = \"rowNumber\" style = \"font-weight: bold; text-align: right;\"></th><th title = \"Float64\" style = \"text-align: left;\">Float64</th><th title = \"Float64\" style = \"text-align: left;\">Float64</th></tr></thead><tbody><tr><td class = \"rowNumber\" style = \"font-weight: bold; text-align: right;\">1</td><td style = \"text-align: right;\">1578.6</td><td style = \"text-align: right;\">1046.09</td></tr></tbody></table></div>"
      ],
      "text/latex": [
       "\\begin{tabular}{r|cc}\n",
       "\t& Rating\\_mean & NbPlays\\_mean\\\\\n",
       "\t\\hline\n",
       "\t& Float64 & Float64\\\\\n",
       "\t\\hline\n",
       "\t1 & 1578.6 & 1046.09 \\\\\n",
       "\\end{tabular}\n"
      ],
      "text/plain": [
       "\u001b[1m1×2 DataFrame\u001b[0m\n",
       "\u001b[1m Row \u001b[0m│\u001b[1m Rating_mean \u001b[0m\u001b[1m NbPlays_mean \u001b[0m\n",
       "     │\u001b[90m Float64     \u001b[0m\u001b[90m Float64      \u001b[0m\n",
       "─────┼───────────────────────────\n",
       "   1 │      1578.6       1046.09"
      ]
     },
     "metadata": {},
     "output_type": "display_data"
    }
   ],
   "source": [
    "combine(df, [:Rating,:NbPlays] .=> mean)"
   ]
  },
  {
   "cell_type": "code",
   "execution_count": 229,
   "metadata": {},
   "outputs": [
    {
     "data": {
      "text/html": [
       "<div><div style = \"float: left;\"><span>1×2 DataFrame</span></div><div style = \"clear: both;\"></div></div><div class = \"data-frame\" style = \"overflow-x: scroll;\"><table class = \"data-frame\" style = \"margin-bottom: 6px;\"><thead><tr class = \"header\"><th class = \"rowNumber\" style = \"font-weight: bold; text-align: right;\">Row</th><th style = \"text-align: left;\">Rating_srednia</th><th style = \"text-align: left;\">NbPlays_srednia</th></tr><tr class = \"subheader headerLastRow\"><th class = \"rowNumber\" style = \"font-weight: bold; text-align: right;\"></th><th title = \"Float64\" style = \"text-align: left;\">Float64</th><th title = \"Float64\" style = \"text-align: left;\">Float64</th></tr></thead><tbody><tr><td class = \"rowNumber\" style = \"font-weight: bold; text-align: right;\">1</td><td style = \"text-align: right;\">1578.6</td><td style = \"text-align: right;\">1046.09</td></tr></tbody></table></div>"
      ],
      "text/latex": [
       "\\begin{tabular}{r|cc}\n",
       "\t& Rating\\_srednia & NbPlays\\_srednia\\\\\n",
       "\t\\hline\n",
       "\t& Float64 & Float64\\\\\n",
       "\t\\hline\n",
       "\t1 & 1578.6 & 1046.09 \\\\\n",
       "\\end{tabular}\n"
      ],
      "text/plain": [
       "\u001b[1m1×2 DataFrame\u001b[0m\n",
       "\u001b[1m Row \u001b[0m│\u001b[1m Rating_srednia \u001b[0m\u001b[1m NbPlays_srednia \u001b[0m\n",
       "     │\u001b[90m Float64        \u001b[0m\u001b[90m Float64         \u001b[0m\n",
       "─────┼─────────────────────────────────\n",
       "   1 │         1578.6          1046.09"
      ]
     },
     "metadata": {},
     "output_type": "display_data"
    }
   ],
   "source": [
    "combine(df, [:Rating,:NbPlays] .=> mean .=> x -> x.*\"_srednia\")"
   ]
  },
  {
   "cell_type": "code",
   "execution_count": 231,
   "metadata": {},
   "outputs": [
    {
     "data": {
      "text/html": [
       "<div><div style = \"float: left;\"><span>565133×7 DataFrame</span></div><div style = \"float: right;\"><span style = \"font-style: italic;\">565123 rows omitted</span></div><div style = \"clear: both;\"></div></div><div class = \"data-frame\" style = \"overflow-x: scroll;\"><table class = \"data-frame\" style = \"margin-bottom: 6px;\"><thead><tr class = \"header\"><th class = \"rowNumber\" style = \"font-weight: bold; text-align: right;\">Row</th><th style = \"text-align: left;\">Moves</th><th style = \"text-align: left;\">Rating</th><th style = \"text-align: left;\">Popularity</th><th style = \"text-align: left;\">NbPlays</th><th style = \"text-align: left;\">Themes</th><th style = \"text-align: left;\">OpeningFamily</th><th style = \"text-align: left;\">MoveNo</th></tr><tr class = \"subheader headerLastRow\"><th class = \"rowNumber\" style = \"font-weight: bold; text-align: right;\"></th><th title = \"String\" style = \"text-align: left;\">String</th><th title = \"Int64\" style = \"text-align: left;\">Int64</th><th title = \"Int64\" style = \"text-align: left;\">Int64</th><th title = \"Int64\" style = \"text-align: left;\">Int64</th><th title = \"String\" style = \"text-align: left;\">String</th><th title = \"String\" style = \"text-align: left;\">String</th><th title = \"Int64\" style = \"text-align: left;\">Int64</th></tr></thead><tbody><tr><td class = \"rowNumber\" style = \"font-weight: bold; text-align: right;\">1</td><td style = \"text-align: left;\">b6c5 e2g4 h3g4 d1g4</td><td style = \"text-align: right;\">1088</td><td style = \"text-align: right;\">85</td><td style = \"text-align: right;\">505</td><td style = \"text-align: left;\">advantage middlegame short</td><td style = \"text-align: left;\">Kings_Pawn_Game</td><td style = \"text-align: right;\">4</td></tr><tr><td class = \"rowNumber\" style = \"font-weight: bold; text-align: right;\">2</td><td style = \"text-align: left;\">g5e7 a5c3 b2c3 c6e7</td><td style = \"text-align: right;\">1457</td><td style = \"text-align: right;\">86</td><td style = \"text-align: right;\">482</td><td style = \"text-align: left;\">advantage master middlegame short</td><td style = \"text-align: left;\">Benoni_Defense</td><td style = \"text-align: right;\">4</td></tr><tr><td class = \"rowNumber\" style = \"font-weight: bold; text-align: right;\">3</td><td style = \"text-align: left;\">e8f7 e2e6 f7f8 e6f7</td><td style = \"text-align: right;\">1595</td><td style = \"text-align: right;\">88</td><td style = \"text-align: right;\">448</td><td style = \"text-align: left;\">mate mateIn2 middlegame short</td><td style = \"text-align: left;\">Horwitz_Defense</td><td style = \"text-align: right;\">4</td></tr><tr><td class = \"rowNumber\" style = \"font-weight: bold; text-align: right;\">4</td><td style = \"text-align: left;\">d8f6 d1h5 h7h6 h5c5</td><td style = \"text-align: right;\">1762</td><td style = \"text-align: right;\">90</td><td style = \"text-align: right;\">1572</td><td style = \"text-align: left;\">advantage middlegame short</td><td style = \"text-align: left;\">Scotch_Game</td><td style = \"text-align: right;\">4</td></tr><tr><td class = \"rowNumber\" style = \"font-weight: bold; text-align: right;\">5</td><td style = \"text-align: left;\">c7a8 a5c3</td><td style = \"text-align: right;\">1013</td><td style = \"text-align: right;\">39</td><td style = \"text-align: right;\">136</td><td style = \"text-align: left;\">bodenMate hangingPiece mate mateIn1 middlegame oneMove</td><td style = \"text-align: left;\">Sicilian_Defense</td><td style = \"text-align: right;\">2</td></tr><tr><td style = \"text-align: right;\">&vellip;</td><td style = \"text-align: right;\">&vellip;</td><td style = \"text-align: right;\">&vellip;</td><td style = \"text-align: right;\">&vellip;</td><td style = \"text-align: right;\">&vellip;</td><td style = \"text-align: right;\">&vellip;</td><td style = \"text-align: right;\">&vellip;</td><td style = \"text-align: right;\">&vellip;</td></tr><tr><td class = \"rowNumber\" style = \"font-weight: bold; text-align: right;\">565129</td><td style = \"text-align: left;\">a5a2 b5c7 e8d7 c7a8</td><td style = \"text-align: right;\">812</td><td style = \"text-align: right;\">100</td><td style = \"text-align: right;\">52</td><td style = \"text-align: left;\">crushing fork middlegame short</td><td style = \"text-align: left;\">Caro-Kann_Defense</td><td style = \"text-align: right;\">4</td></tr><tr><td class = \"rowNumber\" style = \"font-weight: bold; text-align: right;\">565130</td><td style = \"text-align: left;\">b8d7 c3b5 d6b8 a1c1 e8g8 b5c7</td><td style = \"text-align: right;\">1811</td><td style = \"text-align: right;\">94</td><td style = \"text-align: right;\">2523</td><td style = \"text-align: left;\">crushing long middlegame quietMove</td><td style = \"text-align: left;\">Slav_Defense</td><td style = \"text-align: right;\">6</td></tr><tr><td class = \"rowNumber\" style = \"font-weight: bold; text-align: right;\">565131</td><td style = \"text-align: left;\">g5c1 d5d6 d7f6 h7h8</td><td style = \"text-align: right;\">1899</td><td style = \"text-align: right;\">85</td><td style = \"text-align: right;\">73</td><td style = \"text-align: left;\">advantage middlegame short</td><td style = \"text-align: left;\">Queens_Gambit_Declined</td><td style = \"text-align: right;\">4</td></tr><tr><td class = \"rowNumber\" style = \"font-weight: bold; text-align: right;\">565132</td><td style = \"text-align: left;\">d2f3 d8a5 c1d2 a5b5</td><td style = \"text-align: right;\">972</td><td style = \"text-align: right;\">93</td><td style = \"text-align: right;\">637</td><td style = \"text-align: left;\">advantage fork opening short</td><td style = \"text-align: left;\">Sicilian_Defense</td><td style = \"text-align: right;\">4</td></tr><tr><td class = \"rowNumber\" style = \"font-weight: bold; text-align: right;\">565133</td><td style = \"text-align: left;\">c6d4 f1e1 e8d8 b1c3 d4f3 g2f3</td><td style = \"text-align: right;\">2496</td><td style = \"text-align: right;\">79</td><td style = \"text-align: right;\">50</td><td style = \"text-align: left;\">advantage long opening</td><td style = \"text-align: left;\">Kings_Gambit_Accepted</td><td style = \"text-align: right;\">6</td></tr></tbody></table></div>"
      ],
      "text/latex": [
       "\\begin{tabular}{r|cccccc}\n",
       "\t& Moves & Rating & Popularity & NbPlays & Themes & \\\\\n",
       "\t\\hline\n",
       "\t& String & Int64 & Int64 & Int64 & String & \\\\\n",
       "\t\\hline\n",
       "\t1 & b6c5 e2g4 h3g4 d1g4 & 1088 & 85 & 505 & advantage middlegame short & $\\dots$ \\\\\n",
       "\t2 & g5e7 a5c3 b2c3 c6e7 & 1457 & 86 & 482 & advantage master middlegame short & $\\dots$ \\\\\n",
       "\t3 & e8f7 e2e6 f7f8 e6f7 & 1595 & 88 & 448 & mate mateIn2 middlegame short & $\\dots$ \\\\\n",
       "\t4 & d8f6 d1h5 h7h6 h5c5 & 1762 & 90 & 1572 & advantage middlegame short & $\\dots$ \\\\\n",
       "\t5 & c7a8 a5c3 & 1013 & 39 & 136 & bodenMate hangingPiece mate mateIn1 middlegame oneMove & $\\dots$ \\\\\n",
       "\t6 & h2g3 g6h5 & 1490 & 50 & 12 & mate mateIn1 oneMove & $\\dots$ \\\\\n",
       "\t7 & f2f3 d6c5 g1h1 c5c4 & 943 & 96 & 1091 & advantage fork master masterVsMaster middlegame short & $\\dots$ \\\\\n",
       "\t8 & d3a6 b6c5 a6c8 c5c4 & 1927 & 93 & 639 & crushing master masterVsMaster middlegame sacrifice short & $\\dots$ \\\\\n",
       "\t9 & b1c3 f5g4 h5g4 d7g4 & 1628 & 96 & 12910 & advantage opening short trappedPiece & $\\dots$ \\\\\n",
       "\t10 & c6e5 d4e5 d6e7 e5f6 & 1303 & 47 & 19 & advantage fork middlegame short & $\\dots$ \\\\\n",
       "\t11 & f8e7 f3e5 c7e5 e2g4 & 1492 & 93 & 588 & crushing discoveredAttack middlegame short & $\\dots$ \\\\\n",
       "\t12 & g1h1 f6f4 d1f3 f4f3 & 1787 & 96 & 1869 & crushing kingsideAttack middlegame short & $\\dots$ \\\\\n",
       "\t13 & c6c5 d4a4 a6b5 a4b5 & 1044 & 95 & 595 & crushing fork middlegame short & $\\dots$ \\\\\n",
       "\t14 & f1e1 g3e4 e1e4 d5e4 d1h5 h4h5 b3f7 h5f7 & 2172 & 83 & 196 & crushing defensiveMove middlegame veryLong & $\\dots$ \\\\\n",
       "\t15 & d5e6 b4d3 f2g1 d3f4 & 1272 & 93 & 477 & crushing fork middlegame short & $\\dots$ \\\\\n",
       "\t16 & e5f7 d8e7 g7g8 f6g8 & 1762 & 92 & 572 & advantage middlegame short & $\\dots$ \\\\\n",
       "\t17 & d7d4 f4e3 d4f6 e1f1 f6e5 h5g6 e5e3 h3e3 & 2263 & 90 & 173 & advantage defensiveMove middlegame veryLong & $\\dots$ \\\\\n",
       "\t18 & b7c7 f6f2 f1f2 e8e1 f2f1 e1f1 & 1324 & 88 & 34 & kingsideAttack long mate mateIn3 middlegame sacrifice & $\\dots$ \\\\\n",
       "\t19 & d4e5 d6e5 f4h2 e5e4 & 1438 & 78 & 15 & advantage opening short & $\\dots$ \\\\\n",
       "\t20 & f6d7 d2d7 c8d7 f3a8 & 1471 & 93 & 5314 & crushing deflection middlegame short & $\\dots$ \\\\\n",
       "\t21 & f5e4 h5f7 g8h7 f1f6 e7f6 f7d7 & 2365 & 90 & 1505 & advantage long middlegame pin & $\\dots$ \\\\\n",
       "\t22 & e4f2 g1f2 g6d3 d1d3 & 987 & 61 & 74 & advantage hangingPiece middlegame short & $\\dots$ \\\\\n",
       "\t23 & b5d4 h4f2 f1f2 e4f2 & 1685 & 88 & 49 & advantage kingsideAttack master middlegame short & $\\dots$ \\\\\n",
       "\t24 & a8b8 b5d6 e8d8 d2a5 & 1588 & 78 & 25 & crushing master middlegame short & $\\dots$ \\\\\n",
       "\t$\\dots$ & $\\dots$ & $\\dots$ & $\\dots$ & $\\dots$ & $\\dots$ &  \\\\\n",
       "\\end{tabular}\n"
      ],
      "text/plain": [
       "\u001b[1m565133×7 DataFrame\u001b[0m\n",
       "\u001b[1m    Row \u001b[0m│\u001b[1m Moves                             \u001b[0m\u001b[1m Rating \u001b[0m\u001b[1m Popularity \u001b[0m\u001b[1m NbPlays \u001b[0m\u001b[1m Them\u001b[0m ⋯\n",
       "        │\u001b[90m String                            \u001b[0m\u001b[90m Int64  \u001b[0m\u001b[90m Int64      \u001b[0m\u001b[90m Int64   \u001b[0m\u001b[90m Stri\u001b[0m ⋯\n",
       "────────┼───────────────────────────────────────────────────────────────────────\n",
       "      1 │ b6c5 e2g4 h3g4 d1g4                  1088          85      505  adva ⋯\n",
       "      2 │ g5e7 a5c3 b2c3 c6e7                  1457          86      482  adva\n",
       "      3 │ e8f7 e2e6 f7f8 e6f7                  1595          88      448  mate\n",
       "      4 │ d8f6 d1h5 h7h6 h5c5                  1762          90     1572  adva\n",
       "      5 │ c7a8 a5c3                            1013          39      136  bode ⋯\n",
       "      6 │ h2g3 g6h5                            1490          50       12  mate\n",
       "      7 │ f2f3 d6c5 g1h1 c5c4                   943          96     1091  adva\n",
       "      8 │ d3a6 b6c5 a6c8 c5c4                  1927          93      639  crus\n",
       "   ⋮    │                 ⋮                    ⋮         ⋮          ⋮          ⋱\n",
       " 565127 │ e4c3 a4c6 d8d7 c6c3                  1401          72       30  adva ⋯\n",
       " 565128 │ e4c3 e2e8 f8e8 e1e8 g8h7 b2c3        1805         100       13  crus\n",
       " 565129 │ a5a2 b5c7 e8d7 c7a8                   812         100       52  crus\n",
       " 565130 │ b8d7 c3b5 d6b8 a1c1 e8g8 b5c7        1811          94     2523  crus\n",
       " 565131 │ g5c1 d5d6 d7f6 h7h8                  1899          85       73  adva ⋯\n",
       " 565132 │ d2f3 d8a5 c1d2 a5b5                   972          93      637  adva\n",
       " 565133 │ c6d4 f1e1 e8d8 b1c3 d4f3 g2f3        2496          79       50  adva\n",
       "\u001b[36m                                               3 columns and 565118 rows omitted\u001b[0m"
      ]
     },
     "metadata": {},
     "output_type": "display_data"
    }
   ],
   "source": [
    "transform(df, :Moves => ByRow(x -> 1 + count(==(' '), x)) => :MoveNo)"
   ]
  },
  {
   "cell_type": "code",
   "execution_count": 232,
   "metadata": {},
   "outputs": [
    {
     "data": {
      "text/html": [
       "<div><div style = \"float: left;\"><span>565133×1 DataFrame</span></div><div style = \"float: right;\"><span style = \"font-style: italic;\">565123 rows omitted</span></div><div style = \"clear: both;\"></div></div><div class = \"data-frame\" style = \"overflow-x: scroll;\"><table class = \"data-frame\" style = \"margin-bottom: 6px;\"><thead><tr class = \"header\"><th class = \"rowNumber\" style = \"font-weight: bold; text-align: right;\">Row</th><th style = \"text-align: left;\">Themes</th></tr><tr class = \"subheader headerLastRow\"><th class = \"rowNumber\" style = \"font-weight: bold; text-align: right;\"></th><th title = \"String\" style = \"text-align: left;\">String</th></tr></thead><tbody><tr><td class = \"rowNumber\" style = \"font-weight: bold; text-align: right;\">1</td><td style = \"text-align: left;\">advantage middlegame short</td></tr><tr><td class = \"rowNumber\" style = \"font-weight: bold; text-align: right;\">2</td><td style = \"text-align: left;\">advantage master middlegame short</td></tr><tr><td class = \"rowNumber\" style = \"font-weight: bold; text-align: right;\">3</td><td style = \"text-align: left;\">mate mateIn2 middlegame short</td></tr><tr><td class = \"rowNumber\" style = \"font-weight: bold; text-align: right;\">4</td><td style = \"text-align: left;\">advantage middlegame short</td></tr><tr><td class = \"rowNumber\" style = \"font-weight: bold; text-align: right;\">5</td><td style = \"text-align: left;\">bodenMate hangingPiece mate mateIn1 middlegame oneMove</td></tr><tr><td style = \"text-align: right;\">&vellip;</td><td style = \"text-align: right;\">&vellip;</td></tr><tr><td class = \"rowNumber\" style = \"font-weight: bold; text-align: right;\">565129</td><td style = \"text-align: left;\">crushing fork middlegame short</td></tr><tr><td class = \"rowNumber\" style = \"font-weight: bold; text-align: right;\">565130</td><td style = \"text-align: left;\">crushing long middlegame quietMove</td></tr><tr><td class = \"rowNumber\" style = \"font-weight: bold; text-align: right;\">565131</td><td style = \"text-align: left;\">advantage middlegame short</td></tr><tr><td class = \"rowNumber\" style = \"font-weight: bold; text-align: right;\">565132</td><td style = \"text-align: left;\">advantage fork opening short</td></tr><tr><td class = \"rowNumber\" style = \"font-weight: bold; text-align: right;\">565133</td><td style = \"text-align: left;\">advantage long opening</td></tr></tbody></table></div>"
      ],
      "text/latex": [
       "\\begin{tabular}{r|c}\n",
       "\t& Themes\\\\\n",
       "\t\\hline\n",
       "\t& String\\\\\n",
       "\t\\hline\n",
       "\t1 & advantage middlegame short \\\\\n",
       "\t2 & advantage master middlegame short \\\\\n",
       "\t3 & mate mateIn2 middlegame short \\\\\n",
       "\t4 & advantage middlegame short \\\\\n",
       "\t5 & bodenMate hangingPiece mate mateIn1 middlegame oneMove \\\\\n",
       "\t6 & mate mateIn1 oneMove \\\\\n",
       "\t7 & advantage fork master masterVsMaster middlegame short \\\\\n",
       "\t8 & crushing master masterVsMaster middlegame sacrifice short \\\\\n",
       "\t9 & advantage opening short trappedPiece \\\\\n",
       "\t10 & advantage fork middlegame short \\\\\n",
       "\t11 & crushing discoveredAttack middlegame short \\\\\n",
       "\t12 & crushing kingsideAttack middlegame short \\\\\n",
       "\t13 & crushing fork middlegame short \\\\\n",
       "\t14 & crushing defensiveMove middlegame veryLong \\\\\n",
       "\t15 & crushing fork middlegame short \\\\\n",
       "\t16 & advantage middlegame short \\\\\n",
       "\t17 & advantage defensiveMove middlegame veryLong \\\\\n",
       "\t18 & kingsideAttack long mate mateIn3 middlegame sacrifice \\\\\n",
       "\t19 & advantage opening short \\\\\n",
       "\t20 & crushing deflection middlegame short \\\\\n",
       "\t21 & advantage long middlegame pin \\\\\n",
       "\t22 & advantage hangingPiece middlegame short \\\\\n",
       "\t23 & advantage kingsideAttack master middlegame short \\\\\n",
       "\t24 & crushing master middlegame short \\\\\n",
       "\t$\\dots$ & $\\dots$ \\\\\n",
       "\\end{tabular}\n"
      ],
      "text/plain": [
       "\u001b[1m565133×1 DataFrame\u001b[0m\n",
       "\u001b[1m    Row \u001b[0m│\u001b[1m Themes                            \u001b[0m\n",
       "        │\u001b[90m String                            \u001b[0m\n",
       "────────┼───────────────────────────────────\n",
       "      1 │ advantage middlegame short\n",
       "      2 │ advantage master middlegame short\n",
       "      3 │ mate mateIn2 middlegame short\n",
       "      4 │ advantage middlegame short\n",
       "      5 │ bodenMate hangingPiece mate mate…\n",
       "      6 │ mate mateIn1 oneMove\n",
       "      7 │ advantage fork master masterVsMa…\n",
       "      8 │ crushing master masterVsMaster m…\n",
       "   ⋮    │                 ⋮\n",
       " 565127 │ advantage fork middlegame short\n",
       " 565128 │ crushing kingsideAttack long\n",
       " 565129 │ crushing fork middlegame short\n",
       " 565130 │ crushing long middlegame quietMo…\n",
       " 565131 │ advantage middlegame short\n",
       " 565132 │ advantage fork opening short\n",
       " 565133 │ advantage long opening\n",
       "\u001b[36m                         565118 rows omitted\u001b[0m"
      ]
     },
     "metadata": {},
     "output_type": "display_data"
    }
   ],
   "source": [
    "@select(df, :Themes)"
   ]
  },
  {
   "cell_type": "code",
   "execution_count": 233,
   "metadata": {},
   "outputs": [
    {
     "data": {
      "text/html": [
       "<div><div style = \"float: left;\"><span>565133×4 DataFrame</span></div><div style = \"float: right;\"><span style = \"font-style: italic;\">565123 rows omitted</span></div><div style = \"clear: both;\"></div></div><div class = \"data-frame\" style = \"overflow-x: scroll;\"><table class = \"data-frame\" style = \"margin-bottom: 6px;\"><thead><tr class = \"header\"><th class = \"rowNumber\" style = \"font-weight: bold; text-align: right;\">Row</th><th style = \"text-align: left;\">Themes</th><th style = \"text-align: left;\">NbPlays</th><th style = \"text-align: left;\">Rating</th><th style = \"text-align: left;\">Moves</th></tr><tr class = \"subheader headerLastRow\"><th class = \"rowNumber\" style = \"font-weight: bold; text-align: right;\"></th><th title = \"String\" style = \"text-align: left;\">String</th><th title = \"Int64\" style = \"text-align: left;\">Int64</th><th title = \"Int64\" style = \"text-align: left;\">Int64</th><th title = \"String\" style = \"text-align: left;\">String</th></tr></thead><tbody><tr><td class = \"rowNumber\" style = \"font-weight: bold; text-align: right;\">1</td><td style = \"text-align: left;\">advantage middlegame short</td><td style = \"text-align: right;\">505</td><td style = \"text-align: right;\">1088</td><td style = \"text-align: left;\">b6c5 e2g4 h3g4 d1g4</td></tr><tr><td class = \"rowNumber\" style = \"font-weight: bold; text-align: right;\">2</td><td style = \"text-align: left;\">advantage master middlegame short</td><td style = \"text-align: right;\">482</td><td style = \"text-align: right;\">1457</td><td style = \"text-align: left;\">g5e7 a5c3 b2c3 c6e7</td></tr><tr><td class = \"rowNumber\" style = \"font-weight: bold; text-align: right;\">3</td><td style = \"text-align: left;\">mate mateIn2 middlegame short</td><td style = \"text-align: right;\">448</td><td style = \"text-align: right;\">1595</td><td style = \"text-align: left;\">e8f7 e2e6 f7f8 e6f7</td></tr><tr><td class = \"rowNumber\" style = \"font-weight: bold; text-align: right;\">4</td><td style = \"text-align: left;\">advantage middlegame short</td><td style = \"text-align: right;\">1572</td><td style = \"text-align: right;\">1762</td><td style = \"text-align: left;\">d8f6 d1h5 h7h6 h5c5</td></tr><tr><td class = \"rowNumber\" style = \"font-weight: bold; text-align: right;\">5</td><td style = \"text-align: left;\">bodenMate hangingPiece mate mateIn1 middlegame oneMove</td><td style = \"text-align: right;\">136</td><td style = \"text-align: right;\">1013</td><td style = \"text-align: left;\">c7a8 a5c3</td></tr><tr><td style = \"text-align: right;\">&vellip;</td><td style = \"text-align: right;\">&vellip;</td><td style = \"text-align: right;\">&vellip;</td><td style = \"text-align: right;\">&vellip;</td><td style = \"text-align: right;\">&vellip;</td></tr><tr><td class = \"rowNumber\" style = \"font-weight: bold; text-align: right;\">565129</td><td style = \"text-align: left;\">crushing fork middlegame short</td><td style = \"text-align: right;\">52</td><td style = \"text-align: right;\">812</td><td style = \"text-align: left;\">a5a2 b5c7 e8d7 c7a8</td></tr><tr><td class = \"rowNumber\" style = \"font-weight: bold; text-align: right;\">565130</td><td style = \"text-align: left;\">crushing long middlegame quietMove</td><td style = \"text-align: right;\">2523</td><td style = \"text-align: right;\">1811</td><td style = \"text-align: left;\">b8d7 c3b5 d6b8 a1c1 e8g8 b5c7</td></tr><tr><td class = \"rowNumber\" style = \"font-weight: bold; text-align: right;\">565131</td><td style = \"text-align: left;\">advantage middlegame short</td><td style = \"text-align: right;\">73</td><td style = \"text-align: right;\">1899</td><td style = \"text-align: left;\">g5c1 d5d6 d7f6 h7h8</td></tr><tr><td class = \"rowNumber\" style = \"font-weight: bold; text-align: right;\">565132</td><td style = \"text-align: left;\">advantage fork opening short</td><td style = \"text-align: right;\">637</td><td style = \"text-align: right;\">972</td><td style = \"text-align: left;\">d2f3 d8a5 c1d2 a5b5</td></tr><tr><td class = \"rowNumber\" style = \"font-weight: bold; text-align: right;\">565133</td><td style = \"text-align: left;\">advantage long opening</td><td style = \"text-align: right;\">50</td><td style = \"text-align: right;\">2496</td><td style = \"text-align: left;\">c6d4 f1e1 e8d8 b1c3 d4f3 g2f3</td></tr></tbody></table></div>"
      ],
      "text/latex": [
       "\\begin{tabular}{r|cccc}\n",
       "\t& Themes & NbPlays & Rating & Moves\\\\\n",
       "\t\\hline\n",
       "\t& String & Int64 & Int64 & String\\\\\n",
       "\t\\hline\n",
       "\t1 & advantage middlegame short & 505 & 1088 & b6c5 e2g4 h3g4 d1g4 \\\\\n",
       "\t2 & advantage master middlegame short & 482 & 1457 & g5e7 a5c3 b2c3 c6e7 \\\\\n",
       "\t3 & mate mateIn2 middlegame short & 448 & 1595 & e8f7 e2e6 f7f8 e6f7 \\\\\n",
       "\t4 & advantage middlegame short & 1572 & 1762 & d8f6 d1h5 h7h6 h5c5 \\\\\n",
       "\t5 & bodenMate hangingPiece mate mateIn1 middlegame oneMove & 136 & 1013 & c7a8 a5c3 \\\\\n",
       "\t6 & mate mateIn1 oneMove & 12 & 1490 & h2g3 g6h5 \\\\\n",
       "\t7 & advantage fork master masterVsMaster middlegame short & 1091 & 943 & f2f3 d6c5 g1h1 c5c4 \\\\\n",
       "\t8 & crushing master masterVsMaster middlegame sacrifice short & 639 & 1927 & d3a6 b6c5 a6c8 c5c4 \\\\\n",
       "\t9 & advantage opening short trappedPiece & 12910 & 1628 & b1c3 f5g4 h5g4 d7g4 \\\\\n",
       "\t10 & advantage fork middlegame short & 19 & 1303 & c6e5 d4e5 d6e7 e5f6 \\\\\n",
       "\t11 & crushing discoveredAttack middlegame short & 588 & 1492 & f8e7 f3e5 c7e5 e2g4 \\\\\n",
       "\t12 & crushing kingsideAttack middlegame short & 1869 & 1787 & g1h1 f6f4 d1f3 f4f3 \\\\\n",
       "\t13 & crushing fork middlegame short & 595 & 1044 & c6c5 d4a4 a6b5 a4b5 \\\\\n",
       "\t14 & crushing defensiveMove middlegame veryLong & 196 & 2172 & f1e1 g3e4 e1e4 d5e4 d1h5 h4h5 b3f7 h5f7 \\\\\n",
       "\t15 & crushing fork middlegame short & 477 & 1272 & d5e6 b4d3 f2g1 d3f4 \\\\\n",
       "\t16 & advantage middlegame short & 572 & 1762 & e5f7 d8e7 g7g8 f6g8 \\\\\n",
       "\t17 & advantage defensiveMove middlegame veryLong & 173 & 2263 & d7d4 f4e3 d4f6 e1f1 f6e5 h5g6 e5e3 h3e3 \\\\\n",
       "\t18 & kingsideAttack long mate mateIn3 middlegame sacrifice & 34 & 1324 & b7c7 f6f2 f1f2 e8e1 f2f1 e1f1 \\\\\n",
       "\t19 & advantage opening short & 15 & 1438 & d4e5 d6e5 f4h2 e5e4 \\\\\n",
       "\t20 & crushing deflection middlegame short & 5314 & 1471 & f6d7 d2d7 c8d7 f3a8 \\\\\n",
       "\t21 & advantage long middlegame pin & 1505 & 2365 & f5e4 h5f7 g8h7 f1f6 e7f6 f7d7 \\\\\n",
       "\t22 & advantage hangingPiece middlegame short & 74 & 987 & e4f2 g1f2 g6d3 d1d3 \\\\\n",
       "\t23 & advantage kingsideAttack master middlegame short & 49 & 1685 & b5d4 h4f2 f1f2 e4f2 \\\\\n",
       "\t24 & crushing master middlegame short & 25 & 1588 & a8b8 b5d6 e8d8 d2a5 \\\\\n",
       "\t$\\dots$ & $\\dots$ & $\\dots$ & $\\dots$ & $\\dots$ \\\\\n",
       "\\end{tabular}\n"
      ],
      "text/plain": [
       "\u001b[1m565133×4 DataFrame\u001b[0m\n",
       "\u001b[1m    Row \u001b[0m│\u001b[1m Themes                            \u001b[0m\u001b[1m NbPlays \u001b[0m\u001b[1m Rating \u001b[0m\u001b[1m Moves           \u001b[0m ⋯\n",
       "        │\u001b[90m String                            \u001b[0m\u001b[90m Int64   \u001b[0m\u001b[90m Int64  \u001b[0m\u001b[90m String          \u001b[0m ⋯\n",
       "────────┼───────────────────────────────────────────────────────────────────────\n",
       "      1 │ advantage middlegame short             505    1088  b6c5 e2g4 h3g4 d ⋯\n",
       "      2 │ advantage master middlegame short      482    1457  g5e7 a5c3 b2c3 c\n",
       "      3 │ mate mateIn2 middlegame short          448    1595  e8f7 e2e6 f7f8 e\n",
       "      4 │ advantage middlegame short            1572    1762  d8f6 d1h5 h7h6 h\n",
       "      5 │ bodenMate hangingPiece mate mate…      136    1013  c7a8 a5c3        ⋯\n",
       "      6 │ mate mateIn1 oneMove                    12    1490  h2g3 g6h5\n",
       "      7 │ advantage fork master masterVsMa…     1091     943  f2f3 d6c5 g1h1 c\n",
       "      8 │ crushing master masterVsMaster m…      639    1927  d3a6 b6c5 a6c8 c\n",
       "   ⋮    │                 ⋮                     ⋮       ⋮                      ⋱\n",
       " 565127 │ advantage fork middlegame short         30    1401  e4c3 a4c6 d8d7 c ⋯\n",
       " 565128 │ crushing kingsideAttack long            13    1805  e4c3 e2e8 f8e8 e\n",
       " 565129 │ crushing fork middlegame short          52     812  a5a2 b5c7 e8d7 c\n",
       " 565130 │ crushing long middlegame quietMo…     2523    1811  b8d7 c3b5 d6b8 a\n",
       " 565131 │ advantage middlegame short              73    1899  g5c1 d5d6 d7f6 h ⋯\n",
       " 565132 │ advantage fork opening short           637     972  d2f3 d8a5 c1d2 a\n",
       " 565133 │ advantage long opening                  50    2496  c6d4 f1e1 e8d8 b\n",
       "\u001b[36m                                                1 column and 565118 rows omitted\u001b[0m"
      ]
     },
     "metadata": {},
     "output_type": "display_data"
    }
   ],
   "source": [
    "@select(df, :Themes, :NbPlays, :Rating, :Moves)"
   ]
  },
  {
   "cell_type": "code",
   "execution_count": 234,
   "metadata": {},
   "outputs": [
    {
     "data": {
      "text/html": [
       "<div><div style = \"float: left;\"><span>565133×4 DataFrame</span></div><div style = \"float: right;\"><span style = \"font-style: italic;\">565123 rows omitted</span></div><div style = \"clear: both;\"></div></div><div class = \"data-frame\" style = \"overflow-x: scroll;\"><table class = \"data-frame\" style = \"margin-bottom: 6px;\"><thead><tr class = \"header\"><th class = \"rowNumber\" style = \"font-weight: bold; text-align: right;\">Row</th><th style = \"text-align: left;\">Themes</th><th style = \"text-align: left;\">NbPlays</th><th style = \"text-align: left;\">Rating</th><th style = \"text-align: left;\">Moves</th></tr><tr class = \"subheader headerLastRow\"><th class = \"rowNumber\" style = \"font-weight: bold; text-align: right;\"></th><th title = \"String\" style = \"text-align: left;\">String</th><th title = \"Int64\" style = \"text-align: left;\">Int64</th><th title = \"Int64\" style = \"text-align: left;\">Int64</th><th title = \"String\" style = \"text-align: left;\">String</th></tr></thead><tbody><tr><td class = \"rowNumber\" style = \"font-weight: bold; text-align: right;\">1</td><td style = \"text-align: left;\">advantage middlegame short</td><td style = \"text-align: right;\">505</td><td style = \"text-align: right;\">1088</td><td style = \"text-align: left;\">b6c5 e2g4 h3g4 d1g4</td></tr><tr><td class = \"rowNumber\" style = \"font-weight: bold; text-align: right;\">2</td><td style = \"text-align: left;\">advantage master middlegame short</td><td style = \"text-align: right;\">482</td><td style = \"text-align: right;\">1457</td><td style = \"text-align: left;\">g5e7 a5c3 b2c3 c6e7</td></tr><tr><td class = \"rowNumber\" style = \"font-weight: bold; text-align: right;\">3</td><td style = \"text-align: left;\">mate mateIn2 middlegame short</td><td style = \"text-align: right;\">448</td><td style = \"text-align: right;\">1595</td><td style = \"text-align: left;\">e8f7 e2e6 f7f8 e6f7</td></tr><tr><td class = \"rowNumber\" style = \"font-weight: bold; text-align: right;\">4</td><td style = \"text-align: left;\">advantage middlegame short</td><td style = \"text-align: right;\">1572</td><td style = \"text-align: right;\">1762</td><td style = \"text-align: left;\">d8f6 d1h5 h7h6 h5c5</td></tr><tr><td class = \"rowNumber\" style = \"font-weight: bold; text-align: right;\">5</td><td style = \"text-align: left;\">bodenMate hangingPiece mate mateIn1 middlegame oneMove</td><td style = \"text-align: right;\">136</td><td style = \"text-align: right;\">1013</td><td style = \"text-align: left;\">c7a8 a5c3</td></tr><tr><td style = \"text-align: right;\">&vellip;</td><td style = \"text-align: right;\">&vellip;</td><td style = \"text-align: right;\">&vellip;</td><td style = \"text-align: right;\">&vellip;</td><td style = \"text-align: right;\">&vellip;</td></tr><tr><td class = \"rowNumber\" style = \"font-weight: bold; text-align: right;\">565129</td><td style = \"text-align: left;\">crushing fork middlegame short</td><td style = \"text-align: right;\">52</td><td style = \"text-align: right;\">812</td><td style = \"text-align: left;\">a5a2 b5c7 e8d7 c7a8</td></tr><tr><td class = \"rowNumber\" style = \"font-weight: bold; text-align: right;\">565130</td><td style = \"text-align: left;\">crushing long middlegame quietMove</td><td style = \"text-align: right;\">2523</td><td style = \"text-align: right;\">1811</td><td style = \"text-align: left;\">b8d7 c3b5 d6b8 a1c1 e8g8 b5c7</td></tr><tr><td class = \"rowNumber\" style = \"font-weight: bold; text-align: right;\">565131</td><td style = \"text-align: left;\">advantage middlegame short</td><td style = \"text-align: right;\">73</td><td style = \"text-align: right;\">1899</td><td style = \"text-align: left;\">g5c1 d5d6 d7f6 h7h8</td></tr><tr><td class = \"rowNumber\" style = \"font-weight: bold; text-align: right;\">565132</td><td style = \"text-align: left;\">advantage fork opening short</td><td style = \"text-align: right;\">637</td><td style = \"text-align: right;\">972</td><td style = \"text-align: left;\">d2f3 d8a5 c1d2 a5b5</td></tr><tr><td class = \"rowNumber\" style = \"font-weight: bold; text-align: right;\">565133</td><td style = \"text-align: left;\">advantage long opening</td><td style = \"text-align: right;\">50</td><td style = \"text-align: right;\">2496</td><td style = \"text-align: left;\">c6d4 f1e1 e8d8 b1c3 d4f3 g2f3</td></tr></tbody></table></div>"
      ],
      "text/latex": [
       "\\begin{tabular}{r|cccc}\n",
       "\t& Themes & NbPlays & Rating & Moves\\\\\n",
       "\t\\hline\n",
       "\t& String & Int64 & Int64 & String\\\\\n",
       "\t\\hline\n",
       "\t1 & advantage middlegame short & 505 & 1088 & b6c5 e2g4 h3g4 d1g4 \\\\\n",
       "\t2 & advantage master middlegame short & 482 & 1457 & g5e7 a5c3 b2c3 c6e7 \\\\\n",
       "\t3 & mate mateIn2 middlegame short & 448 & 1595 & e8f7 e2e6 f7f8 e6f7 \\\\\n",
       "\t4 & advantage middlegame short & 1572 & 1762 & d8f6 d1h5 h7h6 h5c5 \\\\\n",
       "\t5 & bodenMate hangingPiece mate mateIn1 middlegame oneMove & 136 & 1013 & c7a8 a5c3 \\\\\n",
       "\t6 & mate mateIn1 oneMove & 12 & 1490 & h2g3 g6h5 \\\\\n",
       "\t7 & advantage fork master masterVsMaster middlegame short & 1091 & 943 & f2f3 d6c5 g1h1 c5c4 \\\\\n",
       "\t8 & crushing master masterVsMaster middlegame sacrifice short & 639 & 1927 & d3a6 b6c5 a6c8 c5c4 \\\\\n",
       "\t9 & advantage opening short trappedPiece & 12910 & 1628 & b1c3 f5g4 h5g4 d7g4 \\\\\n",
       "\t10 & advantage fork middlegame short & 19 & 1303 & c6e5 d4e5 d6e7 e5f6 \\\\\n",
       "\t11 & crushing discoveredAttack middlegame short & 588 & 1492 & f8e7 f3e5 c7e5 e2g4 \\\\\n",
       "\t12 & crushing kingsideAttack middlegame short & 1869 & 1787 & g1h1 f6f4 d1f3 f4f3 \\\\\n",
       "\t13 & crushing fork middlegame short & 595 & 1044 & c6c5 d4a4 a6b5 a4b5 \\\\\n",
       "\t14 & crushing defensiveMove middlegame veryLong & 196 & 2172 & f1e1 g3e4 e1e4 d5e4 d1h5 h4h5 b3f7 h5f7 \\\\\n",
       "\t15 & crushing fork middlegame short & 477 & 1272 & d5e6 b4d3 f2g1 d3f4 \\\\\n",
       "\t16 & advantage middlegame short & 572 & 1762 & e5f7 d8e7 g7g8 f6g8 \\\\\n",
       "\t17 & advantage defensiveMove middlegame veryLong & 173 & 2263 & d7d4 f4e3 d4f6 e1f1 f6e5 h5g6 e5e3 h3e3 \\\\\n",
       "\t18 & kingsideAttack long mate mateIn3 middlegame sacrifice & 34 & 1324 & b7c7 f6f2 f1f2 e8e1 f2f1 e1f1 \\\\\n",
       "\t19 & advantage opening short & 15 & 1438 & d4e5 d6e5 f4h2 e5e4 \\\\\n",
       "\t20 & crushing deflection middlegame short & 5314 & 1471 & f6d7 d2d7 c8d7 f3a8 \\\\\n",
       "\t21 & advantage long middlegame pin & 1505 & 2365 & f5e4 h5f7 g8h7 f1f6 e7f6 f7d7 \\\\\n",
       "\t22 & advantage hangingPiece middlegame short & 74 & 987 & e4f2 g1f2 g6d3 d1d3 \\\\\n",
       "\t23 & advantage kingsideAttack master middlegame short & 49 & 1685 & b5d4 h4f2 f1f2 e4f2 \\\\\n",
       "\t24 & crushing master middlegame short & 25 & 1588 & a8b8 b5d6 e8d8 d2a5 \\\\\n",
       "\t$\\dots$ & $\\dots$ & $\\dots$ & $\\dots$ & $\\dots$ \\\\\n",
       "\\end{tabular}\n"
      ],
      "text/plain": [
       "\u001b[1m565133×4 DataFrame\u001b[0m\n",
       "\u001b[1m    Row \u001b[0m│\u001b[1m Themes                            \u001b[0m\u001b[1m NbPlays \u001b[0m\u001b[1m Rating \u001b[0m\u001b[1m Moves           \u001b[0m ⋯\n",
       "        │\u001b[90m String                            \u001b[0m\u001b[90m Int64   \u001b[0m\u001b[90m Int64  \u001b[0m\u001b[90m String          \u001b[0m ⋯\n",
       "────────┼───────────────────────────────────────────────────────────────────────\n",
       "      1 │ advantage middlegame short             505    1088  b6c5 e2g4 h3g4 d ⋯\n",
       "      2 │ advantage master middlegame short      482    1457  g5e7 a5c3 b2c3 c\n",
       "      3 │ mate mateIn2 middlegame short          448    1595  e8f7 e2e6 f7f8 e\n",
       "      4 │ advantage middlegame short            1572    1762  d8f6 d1h5 h7h6 h\n",
       "      5 │ bodenMate hangingPiece mate mate…      136    1013  c7a8 a5c3        ⋯\n",
       "      6 │ mate mateIn1 oneMove                    12    1490  h2g3 g6h5\n",
       "      7 │ advantage fork master masterVsMa…     1091     943  f2f3 d6c5 g1h1 c\n",
       "      8 │ crushing master masterVsMaster m…      639    1927  d3a6 b6c5 a6c8 c\n",
       "   ⋮    │                 ⋮                     ⋮       ⋮                      ⋱\n",
       " 565127 │ advantage fork middlegame short         30    1401  e4c3 a4c6 d8d7 c ⋯\n",
       " 565128 │ crushing kingsideAttack long            13    1805  e4c3 e2e8 f8e8 e\n",
       " 565129 │ crushing fork middlegame short          52     812  a5a2 b5c7 e8d7 c\n",
       " 565130 │ crushing long middlegame quietMo…     2523    1811  b8d7 c3b5 d6b8 a\n",
       " 565131 │ advantage middlegame short              73    1899  g5c1 d5d6 d7f6 h ⋯\n",
       " 565132 │ advantage fork opening short           637     972  d2f3 d8a5 c1d2 a\n",
       " 565133 │ advantage long opening                  50    2496  c6d4 f1e1 e8d8 b\n",
       "\u001b[36m                                                1 column and 565118 rows omitted\u001b[0m"
      ]
     },
     "metadata": {},
     "output_type": "display_data"
    }
   ],
   "source": [
    "@select(df, $\"Themes\", $4, $[:Rating, :Moves])"
   ]
  },
  {
   "cell_type": "code",
   "execution_count": 235,
   "metadata": {},
   "outputs": [
    {
     "data": {
      "text/plain": [
       "quote\n",
       "    \u001b[90m#= /Users/igorholowacz/.julia/packages/DataFramesMeta/VSP9g/src/macros.jl:1791 =#\u001b[39m\n",
       "    (DataFrames.select)(df, \"Themes\", 4, [:Rating, :Moves]; )\n",
       "end"
      ]
     },
     "metadata": {},
     "output_type": "display_data"
    }
   ],
   "source": [
    "@macroexpand @select(df, $\"Themes\", $4, $[:Rating, :Moves])"
   ]
  },
  {
   "cell_type": "code",
   "execution_count": 236,
   "metadata": {},
   "outputs": [
    {
     "data": {
      "text/html": [
       "<div><div style = \"float: left;\"><span>1×1 DataFrame</span></div><div style = \"clear: both;\"></div></div><div class = \"data-frame\" style = \"overflow-x: scroll;\"><table class = \"data-frame\" style = \"margin-bottom: 6px;\"><thead><tr class = \"header\"><th class = \"rowNumber\" style = \"font-weight: bold; text-align: right;\">Row</th><th style = \"text-align: left;\">Rating_mean</th></tr><tr class = \"subheader headerLastRow\"><th class = \"rowNumber\" style = \"font-weight: bold; text-align: right;\"></th><th title = \"Float64\" style = \"text-align: left;\">Float64</th></tr></thead><tbody><tr><td class = \"rowNumber\" style = \"font-weight: bold; text-align: right;\">1</td><td style = \"text-align: right;\">1578.6</td></tr></tbody></table></div>"
      ],
      "text/latex": [
       "\\begin{tabular}{r|c}\n",
       "\t& Rating\\_mean\\\\\n",
       "\t\\hline\n",
       "\t& Float64\\\\\n",
       "\t\\hline\n",
       "\t1 & 1578.6 \\\\\n",
       "\\end{tabular}\n"
      ],
      "text/plain": [
       "\u001b[1m1×1 DataFrame\u001b[0m\n",
       "\u001b[1m Row \u001b[0m│\u001b[1m Rating_mean \u001b[0m\n",
       "     │\u001b[90m Float64     \u001b[0m\n",
       "─────┼─────────────\n",
       "   1 │      1578.6"
      ]
     },
     "metadata": {},
     "output_type": "display_data"
    }
   ],
   "source": [
    "#combine(df, :Rating => mean)\n",
    "@combine(df, :Rating_mean = mean(:Rating))"
   ]
  },
  {
   "cell_type": "code",
   "execution_count": 237,
   "metadata": {},
   "outputs": [
    {
     "data": {
      "text/html": [
       "<div><div style = \"float: left;\"><span>565133×7 DataFrame</span></div><div style = \"float: right;\"><span style = \"font-style: italic;\">565123 rows omitted</span></div><div style = \"clear: both;\"></div></div><div class = \"data-frame\" style = \"overflow-x: scroll;\"><table class = \"data-frame\" style = \"margin-bottom: 6px;\"><thead><tr class = \"header\"><th class = \"rowNumber\" style = \"font-weight: bold; text-align: right;\">Row</th><th style = \"text-align: left;\">Moves</th><th style = \"text-align: left;\">Rating</th><th style = \"text-align: left;\">Popularity</th><th style = \"text-align: left;\">NbPlays</th><th style = \"text-align: left;\">Themes</th><th style = \"text-align: left;\">OpeningFamily</th><th style = \"text-align: left;\">MoveNo</th></tr><tr class = \"subheader headerLastRow\"><th class = \"rowNumber\" style = \"font-weight: bold; text-align: right;\"></th><th title = \"String\" style = \"text-align: left;\">String</th><th title = \"Int64\" style = \"text-align: left;\">Int64</th><th title = \"Int64\" style = \"text-align: left;\">Int64</th><th title = \"Int64\" style = \"text-align: left;\">Int64</th><th title = \"String\" style = \"text-align: left;\">String</th><th title = \"String\" style = \"text-align: left;\">String</th><th title = \"Int64\" style = \"text-align: left;\">Int64</th></tr></thead><tbody><tr><td class = \"rowNumber\" style = \"font-weight: bold; text-align: right;\">1</td><td style = \"text-align: left;\">b6c5 e2g4 h3g4 d1g4</td><td style = \"text-align: right;\">1088</td><td style = \"text-align: right;\">85</td><td style = \"text-align: right;\">505</td><td style = \"text-align: left;\">advantage middlegame short</td><td style = \"text-align: left;\">Kings_Pawn_Game</td><td style = \"text-align: right;\">4</td></tr><tr><td class = \"rowNumber\" style = \"font-weight: bold; text-align: right;\">2</td><td style = \"text-align: left;\">g5e7 a5c3 b2c3 c6e7</td><td style = \"text-align: right;\">1457</td><td style = \"text-align: right;\">86</td><td style = \"text-align: right;\">482</td><td style = \"text-align: left;\">advantage master middlegame short</td><td style = \"text-align: left;\">Benoni_Defense</td><td style = \"text-align: right;\">4</td></tr><tr><td class = \"rowNumber\" style = \"font-weight: bold; text-align: right;\">3</td><td style = \"text-align: left;\">e8f7 e2e6 f7f8 e6f7</td><td style = \"text-align: right;\">1595</td><td style = \"text-align: right;\">88</td><td style = \"text-align: right;\">448</td><td style = \"text-align: left;\">mate mateIn2 middlegame short</td><td style = \"text-align: left;\">Horwitz_Defense</td><td style = \"text-align: right;\">4</td></tr><tr><td class = \"rowNumber\" style = \"font-weight: bold; text-align: right;\">4</td><td style = \"text-align: left;\">d8f6 d1h5 h7h6 h5c5</td><td style = \"text-align: right;\">1762</td><td style = \"text-align: right;\">90</td><td style = \"text-align: right;\">1572</td><td style = \"text-align: left;\">advantage middlegame short</td><td style = \"text-align: left;\">Scotch_Game</td><td style = \"text-align: right;\">4</td></tr><tr><td class = \"rowNumber\" style = \"font-weight: bold; text-align: right;\">5</td><td style = \"text-align: left;\">c7a8 a5c3</td><td style = \"text-align: right;\">1013</td><td style = \"text-align: right;\">39</td><td style = \"text-align: right;\">136</td><td style = \"text-align: left;\">bodenMate hangingPiece mate mateIn1 middlegame oneMove</td><td style = \"text-align: left;\">Sicilian_Defense</td><td style = \"text-align: right;\">2</td></tr><tr><td style = \"text-align: right;\">&vellip;</td><td style = \"text-align: right;\">&vellip;</td><td style = \"text-align: right;\">&vellip;</td><td style = \"text-align: right;\">&vellip;</td><td style = \"text-align: right;\">&vellip;</td><td style = \"text-align: right;\">&vellip;</td><td style = \"text-align: right;\">&vellip;</td><td style = \"text-align: right;\">&vellip;</td></tr><tr><td class = \"rowNumber\" style = \"font-weight: bold; text-align: right;\">565129</td><td style = \"text-align: left;\">a5a2 b5c7 e8d7 c7a8</td><td style = \"text-align: right;\">812</td><td style = \"text-align: right;\">100</td><td style = \"text-align: right;\">52</td><td style = \"text-align: left;\">crushing fork middlegame short</td><td style = \"text-align: left;\">Caro-Kann_Defense</td><td style = \"text-align: right;\">4</td></tr><tr><td class = \"rowNumber\" style = \"font-weight: bold; text-align: right;\">565130</td><td style = \"text-align: left;\">b8d7 c3b5 d6b8 a1c1 e8g8 b5c7</td><td style = \"text-align: right;\">1811</td><td style = \"text-align: right;\">94</td><td style = \"text-align: right;\">2523</td><td style = \"text-align: left;\">crushing long middlegame quietMove</td><td style = \"text-align: left;\">Slav_Defense</td><td style = \"text-align: right;\">6</td></tr><tr><td class = \"rowNumber\" style = \"font-weight: bold; text-align: right;\">565131</td><td style = \"text-align: left;\">g5c1 d5d6 d7f6 h7h8</td><td style = \"text-align: right;\">1899</td><td style = \"text-align: right;\">85</td><td style = \"text-align: right;\">73</td><td style = \"text-align: left;\">advantage middlegame short</td><td style = \"text-align: left;\">Queens_Gambit_Declined</td><td style = \"text-align: right;\">4</td></tr><tr><td class = \"rowNumber\" style = \"font-weight: bold; text-align: right;\">565132</td><td style = \"text-align: left;\">d2f3 d8a5 c1d2 a5b5</td><td style = \"text-align: right;\">972</td><td style = \"text-align: right;\">93</td><td style = \"text-align: right;\">637</td><td style = \"text-align: left;\">advantage fork opening short</td><td style = \"text-align: left;\">Sicilian_Defense</td><td style = \"text-align: right;\">4</td></tr><tr><td class = \"rowNumber\" style = \"font-weight: bold; text-align: right;\">565133</td><td style = \"text-align: left;\">c6d4 f1e1 e8d8 b1c3 d4f3 g2f3</td><td style = \"text-align: right;\">2496</td><td style = \"text-align: right;\">79</td><td style = \"text-align: right;\">50</td><td style = \"text-align: left;\">advantage long opening</td><td style = \"text-align: left;\">Kings_Gambit_Accepted</td><td style = \"text-align: right;\">6</td></tr></tbody></table></div>"
      ],
      "text/latex": [
       "\\begin{tabular}{r|cccccc}\n",
       "\t& Moves & Rating & Popularity & NbPlays & Themes & \\\\\n",
       "\t\\hline\n",
       "\t& String & Int64 & Int64 & Int64 & String & \\\\\n",
       "\t\\hline\n",
       "\t1 & b6c5 e2g4 h3g4 d1g4 & 1088 & 85 & 505 & advantage middlegame short & $\\dots$ \\\\\n",
       "\t2 & g5e7 a5c3 b2c3 c6e7 & 1457 & 86 & 482 & advantage master middlegame short & $\\dots$ \\\\\n",
       "\t3 & e8f7 e2e6 f7f8 e6f7 & 1595 & 88 & 448 & mate mateIn2 middlegame short & $\\dots$ \\\\\n",
       "\t4 & d8f6 d1h5 h7h6 h5c5 & 1762 & 90 & 1572 & advantage middlegame short & $\\dots$ \\\\\n",
       "\t5 & c7a8 a5c3 & 1013 & 39 & 136 & bodenMate hangingPiece mate mateIn1 middlegame oneMove & $\\dots$ \\\\\n",
       "\t6 & h2g3 g6h5 & 1490 & 50 & 12 & mate mateIn1 oneMove & $\\dots$ \\\\\n",
       "\t7 & f2f3 d6c5 g1h1 c5c4 & 943 & 96 & 1091 & advantage fork master masterVsMaster middlegame short & $\\dots$ \\\\\n",
       "\t8 & d3a6 b6c5 a6c8 c5c4 & 1927 & 93 & 639 & crushing master masterVsMaster middlegame sacrifice short & $\\dots$ \\\\\n",
       "\t9 & b1c3 f5g4 h5g4 d7g4 & 1628 & 96 & 12910 & advantage opening short trappedPiece & $\\dots$ \\\\\n",
       "\t10 & c6e5 d4e5 d6e7 e5f6 & 1303 & 47 & 19 & advantage fork middlegame short & $\\dots$ \\\\\n",
       "\t11 & f8e7 f3e5 c7e5 e2g4 & 1492 & 93 & 588 & crushing discoveredAttack middlegame short & $\\dots$ \\\\\n",
       "\t12 & g1h1 f6f4 d1f3 f4f3 & 1787 & 96 & 1869 & crushing kingsideAttack middlegame short & $\\dots$ \\\\\n",
       "\t13 & c6c5 d4a4 a6b5 a4b5 & 1044 & 95 & 595 & crushing fork middlegame short & $\\dots$ \\\\\n",
       "\t14 & f1e1 g3e4 e1e4 d5e4 d1h5 h4h5 b3f7 h5f7 & 2172 & 83 & 196 & crushing defensiveMove middlegame veryLong & $\\dots$ \\\\\n",
       "\t15 & d5e6 b4d3 f2g1 d3f4 & 1272 & 93 & 477 & crushing fork middlegame short & $\\dots$ \\\\\n",
       "\t16 & e5f7 d8e7 g7g8 f6g8 & 1762 & 92 & 572 & advantage middlegame short & $\\dots$ \\\\\n",
       "\t17 & d7d4 f4e3 d4f6 e1f1 f6e5 h5g6 e5e3 h3e3 & 2263 & 90 & 173 & advantage defensiveMove middlegame veryLong & $\\dots$ \\\\\n",
       "\t18 & b7c7 f6f2 f1f2 e8e1 f2f1 e1f1 & 1324 & 88 & 34 & kingsideAttack long mate mateIn3 middlegame sacrifice & $\\dots$ \\\\\n",
       "\t19 & d4e5 d6e5 f4h2 e5e4 & 1438 & 78 & 15 & advantage opening short & $\\dots$ \\\\\n",
       "\t20 & f6d7 d2d7 c8d7 f3a8 & 1471 & 93 & 5314 & crushing deflection middlegame short & $\\dots$ \\\\\n",
       "\t21 & f5e4 h5f7 g8h7 f1f6 e7f6 f7d7 & 2365 & 90 & 1505 & advantage long middlegame pin & $\\dots$ \\\\\n",
       "\t22 & e4f2 g1f2 g6d3 d1d3 & 987 & 61 & 74 & advantage hangingPiece middlegame short & $\\dots$ \\\\\n",
       "\t23 & b5d4 h4f2 f1f2 e4f2 & 1685 & 88 & 49 & advantage kingsideAttack master middlegame short & $\\dots$ \\\\\n",
       "\t24 & a8b8 b5d6 e8d8 d2a5 & 1588 & 78 & 25 & crushing master middlegame short & $\\dots$ \\\\\n",
       "\t$\\dots$ & $\\dots$ & $\\dots$ & $\\dots$ & $\\dots$ & $\\dots$ &  \\\\\n",
       "\\end{tabular}\n"
      ],
      "text/plain": [
       "\u001b[1m565133×7 DataFrame\u001b[0m\n",
       "\u001b[1m    Row \u001b[0m│\u001b[1m Moves                             \u001b[0m\u001b[1m Rating \u001b[0m\u001b[1m Popularity \u001b[0m\u001b[1m NbPlays \u001b[0m\u001b[1m Them\u001b[0m ⋯\n",
       "        │\u001b[90m String                            \u001b[0m\u001b[90m Int64  \u001b[0m\u001b[90m Int64      \u001b[0m\u001b[90m Int64   \u001b[0m\u001b[90m Stri\u001b[0m ⋯\n",
       "────────┼───────────────────────────────────────────────────────────────────────\n",
       "      1 │ b6c5 e2g4 h3g4 d1g4                  1088          85      505  adva ⋯\n",
       "      2 │ g5e7 a5c3 b2c3 c6e7                  1457          86      482  adva\n",
       "      3 │ e8f7 e2e6 f7f8 e6f7                  1595          88      448  mate\n",
       "      4 │ d8f6 d1h5 h7h6 h5c5                  1762          90     1572  adva\n",
       "      5 │ c7a8 a5c3                            1013          39      136  bode ⋯\n",
       "      6 │ h2g3 g6h5                            1490          50       12  mate\n",
       "      7 │ f2f3 d6c5 g1h1 c5c4                   943          96     1091  adva\n",
       "      8 │ d3a6 b6c5 a6c8 c5c4                  1927          93      639  crus\n",
       "   ⋮    │                 ⋮                    ⋮         ⋮          ⋮          ⋱\n",
       " 565127 │ e4c3 a4c6 d8d7 c6c3                  1401          72       30  adva ⋯\n",
       " 565128 │ e4c3 e2e8 f8e8 e1e8 g8h7 b2c3        1805         100       13  crus\n",
       " 565129 │ a5a2 b5c7 e8d7 c7a8                   812         100       52  crus\n",
       " 565130 │ b8d7 c3b5 d6b8 a1c1 e8g8 b5c7        1811          94     2523  crus\n",
       " 565131 │ g5c1 d5d6 d7f6 h7h8                  1899          85       73  adva ⋯\n",
       " 565132 │ d2f3 d8a5 c1d2 a5b5                   972          93      637  adva\n",
       " 565133 │ c6d4 f1e1 e8d8 b1c3 d4f3 g2f3        2496          79       50  adva\n",
       "\u001b[36m                                               3 columns and 565118 rows omitted\u001b[0m"
      ]
     },
     "metadata": {},
     "output_type": "display_data"
    }
   ],
   "source": [
    "#transform(df, :Moves => ByRow(x -> 1 + count(==(' '), x)) => :MoveNo)\n",
    "@rtransform(df, :MoveNo = 1 + count(==(' '), :Moves))"
   ]
  },
  {
   "cell_type": "code",
   "execution_count": 238,
   "metadata": {},
   "outputs": [
    {
     "data": {
      "text/html": [
       "<div><div style = \"float: left;\"><span>11×4 DataFrame</span></div><div style = \"clear: both;\"></div></div><div class = \"data-frame\" style = \"overflow-x: scroll;\"><table class = \"data-frame\" style = \"margin-bottom: 6px;\"><thead><tr class = \"header\"><th class = \"rowNumber\" style = \"font-weight: bold; text-align: right;\">Row</th><th style = \"text-align: left;\">MoveNo</th><th style = \"text-align: left;\">nrow</th><th style = \"text-align: left;\">Rating_mean</th><th style = \"text-align: left;\">Popularity_mean</th></tr><tr class = \"subheader headerLastRow\"><th class = \"rowNumber\" style = \"font-weight: bold; text-align: right;\"></th><th title = \"Int64\" style = \"text-align: left;\">Int64</th><th title = \"Int64\" style = \"text-align: left;\">Int64</th><th title = \"Float64\" style = \"text-align: left;\">Float64</th><th title = \"Float64\" style = \"text-align: left;\">Float64</th></tr></thead><tbody><tr><td class = \"rowNumber\" style = \"font-weight: bold; text-align: right;\">1</td><td style = \"text-align: right;\">2</td><td style = \"text-align: right;\">48933</td><td style = \"text-align: right;\">1173.67</td><td style = \"text-align: right;\">74.6678</td></tr><tr><td class = \"rowNumber\" style = \"font-weight: bold; text-align: right;\">2</td><td style = \"text-align: right;\">4</td><td style = \"text-align: right;\">357884</td><td style = \"text-align: right;\">1505.63</td><td style = \"text-align: right;\">81.7749</td></tr><tr><td class = \"rowNumber\" style = \"font-weight: bold; text-align: right;\">3</td><td style = \"text-align: right;\">6</td><td style = \"text-align: right;\">129576</td><td style = \"text-align: right;\">1814.91</td><td style = \"text-align: right;\">85.5729</td></tr><tr><td class = \"rowNumber\" style = \"font-weight: bold; text-align: right;\">4</td><td style = \"text-align: right;\">8</td><td style = \"text-align: right;\">22687</td><td style = \"text-align: right;\">2065.25</td><td style = \"text-align: right;\">84.2806</td></tr><tr><td class = \"rowNumber\" style = \"font-weight: bold; text-align: right;\">5</td><td style = \"text-align: right;\">10</td><td style = \"text-align: right;\">4492</td><td style = \"text-align: right;\">2249.31</td><td style = \"text-align: right;\">82.3771</td></tr><tr><td class = \"rowNumber\" style = \"font-weight: bold; text-align: right;\">6</td><td style = \"text-align: right;\">12</td><td style = \"text-align: right;\">1068</td><td style = \"text-align: right;\">2357.96</td><td style = \"text-align: right;\">80.3446</td></tr><tr><td class = \"rowNumber\" style = \"font-weight: bold; text-align: right;\">7</td><td style = \"text-align: right;\">14</td><td style = \"text-align: right;\">343</td><td style = \"text-align: right;\">2426.43</td><td style = \"text-align: right;\">78.5335</td></tr><tr><td class = \"rowNumber\" style = \"font-weight: bold; text-align: right;\">8</td><td style = \"text-align: right;\">16</td><td style = \"text-align: right;\">104</td><td style = \"text-align: right;\">2408.8</td><td style = \"text-align: right;\">76.9615</td></tr><tr><td class = \"rowNumber\" style = \"font-weight: bold; text-align: right;\">9</td><td style = \"text-align: right;\">18</td><td style = \"text-align: right;\">25</td><td style = \"text-align: right;\">2470.04</td><td style = \"text-align: right;\">84.16</td></tr><tr><td class = \"rowNumber\" style = \"font-weight: bold; text-align: right;\">10</td><td style = \"text-align: right;\">20</td><td style = \"text-align: right;\">16</td><td style = \"text-align: right;\">2532.88</td><td style = \"text-align: right;\">82.4375</td></tr><tr><td class = \"rowNumber\" style = \"font-weight: bold; text-align: right;\">11</td><td style = \"text-align: right;\">22</td><td style = \"text-align: right;\">5</td><td style = \"text-align: right;\">2721.4</td><td style = \"text-align: right;\">83.2</td></tr></tbody></table></div>"
      ],
      "text/latex": [
       "\\begin{tabular}{r|cccc}\n",
       "\t& MoveNo & nrow & Rating\\_mean & Popularity\\_mean\\\\\n",
       "\t\\hline\n",
       "\t& Int64 & Int64 & Float64 & Float64\\\\\n",
       "\t\\hline\n",
       "\t1 & 2 & 48933 & 1173.67 & 74.6678 \\\\\n",
       "\t2 & 4 & 357884 & 1505.63 & 81.7749 \\\\\n",
       "\t3 & 6 & 129576 & 1814.91 & 85.5729 \\\\\n",
       "\t4 & 8 & 22687 & 2065.25 & 84.2806 \\\\\n",
       "\t5 & 10 & 4492 & 2249.31 & 82.3771 \\\\\n",
       "\t6 & 12 & 1068 & 2357.96 & 80.3446 \\\\\n",
       "\t7 & 14 & 343 & 2426.43 & 78.5335 \\\\\n",
       "\t8 & 16 & 104 & 2408.8 & 76.9615 \\\\\n",
       "\t9 & 18 & 25 & 2470.04 & 84.16 \\\\\n",
       "\t10 & 20 & 16 & 2532.88 & 82.4375 \\\\\n",
       "\t11 & 22 & 5 & 2721.4 & 83.2 \\\\\n",
       "\\end{tabular}\n"
      ],
      "text/plain": [
       "\u001b[1m11×4 DataFrame\u001b[0m\n",
       "\u001b[1m Row \u001b[0m│\u001b[1m MoveNo \u001b[0m\u001b[1m nrow   \u001b[0m\u001b[1m Rating_mean \u001b[0m\u001b[1m Popularity_mean \u001b[0m\n",
       "     │\u001b[90m Int64  \u001b[0m\u001b[90m Int64  \u001b[0m\u001b[90m Float64     \u001b[0m\u001b[90m Float64         \u001b[0m\n",
       "─────┼──────────────────────────────────────────────\n",
       "   1 │      2   48933      1173.67          74.6678\n",
       "   2 │      4  357884      1505.63          81.7749\n",
       "   3 │      6  129576      1814.91          85.5729\n",
       "   4 │      8   22687      2065.25          84.2806\n",
       "   5 │     10    4492      2249.31          82.3771\n",
       "   6 │     12    1068      2357.96          80.3446\n",
       "   7 │     14     343      2426.43          78.5335\n",
       "   8 │     16     104      2408.8           76.9615\n",
       "   9 │     18      25      2470.04          84.16\n",
       "  10 │     20      16      2532.88          82.4375\n",
       "  11 │     22       5      2721.4           83.2"
      ]
     },
     "metadata": {},
     "output_type": "display_data"
    }
   ],
   "source": [
    "@chain df begin\n",
    "    @rtransform(:MoveNo = 1 + count(==(' '), :Moves))\n",
    "    groupby(:MoveNo, sort=true)\n",
    "    @combine($nrow,\n",
    "             :Rating_mean = mean(:Rating),\n",
    "             :Popularity_mean = mean(:Popularity))\n",
    "end"
   ]
  },
  {
   "cell_type": "code",
   "execution_count": 246,
   "metadata": {},
   "outputs": [
    {
     "data": {
      "text/html": [
       "<div><div style = \"float: left;\"><span>565133×4 DataFrame</span></div><div style = \"float: right;\"><span style = \"font-style: italic;\">565123 rows omitted</span></div><div style = \"clear: both;\"></div></div><div class = \"data-frame\" style = \"overflow-x: scroll;\"><table class = \"data-frame\" style = \"margin-bottom: 6px;\"><thead><tr class = \"header\"><th class = \"rowNumber\" style = \"font-weight: bold; text-align: right;\">Row</th><th style = \"text-align: left;\">Popularity</th><th style = \"text-align: left;\">NbPlays</th><th style = \"text-align: left;\">MoveNo</th><th style = \"text-align: left;\">Rating_5</th></tr><tr class = \"subheader headerLastRow\"><th class = \"rowNumber\" style = \"font-weight: bold; text-align: right;\"></th><th title = \"Int64\" style = \"text-align: left;\">Int64</th><th title = \"Int64\" style = \"text-align: left;\">Int64</th><th title = \"Int64\" style = \"text-align: left;\">Int64</th><th title = \"CategoricalValue{String, UInt32}\" style = \"text-align: left;\">Cat…</th></tr></thead><tbody><tr><td class = \"rowNumber\" style = \"font-weight: bold; text-align: right;\">1</td><td style = \"text-align: right;\">85</td><td style = \"text-align: right;\">505</td><td style = \"text-align: right;\">4</td><td style = \"text-align: left;\">Q1: [550.0, 1174.0)</td></tr><tr><td class = \"rowNumber\" style = \"font-weight: bold; text-align: right;\">2</td><td style = \"text-align: right;\">86</td><td style = \"text-align: right;\">482</td><td style = \"text-align: right;\">4</td><td style = \"text-align: left;\">Q3: [1435.0, 1669.0)</td></tr><tr><td class = \"rowNumber\" style = \"font-weight: bold; text-align: right;\">3</td><td style = \"text-align: right;\">88</td><td style = \"text-align: right;\">448</td><td style = \"text-align: right;\">4</td><td style = \"text-align: left;\">Q3: [1435.0, 1669.0)</td></tr><tr><td class = \"rowNumber\" style = \"font-weight: bold; text-align: right;\">4</td><td style = \"text-align: right;\">90</td><td style = \"text-align: right;\">1572</td><td style = \"text-align: right;\">4</td><td style = \"text-align: left;\">Q4: [1669.0, 1975.0)</td></tr><tr><td class = \"rowNumber\" style = \"font-weight: bold; text-align: right;\">5</td><td style = \"text-align: right;\">39</td><td style = \"text-align: right;\">136</td><td style = \"text-align: right;\">2</td><td style = \"text-align: left;\">Q1: [550.0, 1174.0)</td></tr><tr><td style = \"text-align: right;\">&vellip;</td><td style = \"text-align: right;\">&vellip;</td><td style = \"text-align: right;\">&vellip;</td><td style = \"text-align: right;\">&vellip;</td><td style = \"text-align: right;\">&vellip;</td></tr><tr><td class = \"rowNumber\" style = \"font-weight: bold; text-align: right;\">565129</td><td style = \"text-align: right;\">100</td><td style = \"text-align: right;\">52</td><td style = \"text-align: right;\">4</td><td style = \"text-align: left;\">Q1: [550.0, 1174.0)</td></tr><tr><td class = \"rowNumber\" style = \"font-weight: bold; text-align: right;\">565130</td><td style = \"text-align: right;\">94</td><td style = \"text-align: right;\">2523</td><td style = \"text-align: right;\">6</td><td style = \"text-align: left;\">Q4: [1669.0, 1975.0)</td></tr><tr><td class = \"rowNumber\" style = \"font-weight: bold; text-align: right;\">565131</td><td style = \"text-align: right;\">85</td><td style = \"text-align: right;\">73</td><td style = \"text-align: right;\">4</td><td style = \"text-align: left;\">Q4: [1669.0, 1975.0)</td></tr><tr><td class = \"rowNumber\" style = \"font-weight: bold; text-align: right;\">565132</td><td style = \"text-align: right;\">93</td><td style = \"text-align: right;\">637</td><td style = \"text-align: right;\">4</td><td style = \"text-align: left;\">Q1: [550.0, 1174.0)</td></tr><tr><td class = \"rowNumber\" style = \"font-weight: bold; text-align: right;\">565133</td><td style = \"text-align: right;\">79</td><td style = \"text-align: right;\">50</td><td style = \"text-align: right;\">6</td><td style = \"text-align: left;\">Q5: [1975.0, 2914.0]</td></tr></tbody></table></div>"
      ],
      "text/latex": [
       "\\begin{tabular}{r|cccc}\n",
       "\t& Popularity & NbPlays & MoveNo & Rating\\_5\\\\\n",
       "\t\\hline\n",
       "\t& Int64 & Int64 & Int64 & Cat…\\\\\n",
       "\t\\hline\n",
       "\t1 & 85 & 505 & 4 & Q1: [550.0, 1174.0) \\\\\n",
       "\t2 & 86 & 482 & 4 & Q3: [1435.0, 1669.0) \\\\\n",
       "\t3 & 88 & 448 & 4 & Q3: [1435.0, 1669.0) \\\\\n",
       "\t4 & 90 & 1572 & 4 & Q4: [1669.0, 1975.0) \\\\\n",
       "\t5 & 39 & 136 & 2 & Q1: [550.0, 1174.0) \\\\\n",
       "\t6 & 50 & 12 & 2 & Q3: [1435.0, 1669.0) \\\\\n",
       "\t7 & 96 & 1091 & 4 & Q1: [550.0, 1174.0) \\\\\n",
       "\t8 & 93 & 639 & 4 & Q4: [1669.0, 1975.0) \\\\\n",
       "\t9 & 96 & 12910 & 4 & Q3: [1435.0, 1669.0) \\\\\n",
       "\t10 & 47 & 19 & 4 & Q2: [1174.0, 1435.0) \\\\\n",
       "\t11 & 93 & 588 & 4 & Q3: [1435.0, 1669.0) \\\\\n",
       "\t12 & 96 & 1869 & 4 & Q4: [1669.0, 1975.0) \\\\\n",
       "\t13 & 95 & 595 & 4 & Q1: [550.0, 1174.0) \\\\\n",
       "\t14 & 83 & 196 & 8 & Q5: [1975.0, 2914.0] \\\\\n",
       "\t15 & 93 & 477 & 4 & Q2: [1174.0, 1435.0) \\\\\n",
       "\t16 & 92 & 572 & 4 & Q4: [1669.0, 1975.0) \\\\\n",
       "\t17 & 90 & 173 & 8 & Q5: [1975.0, 2914.0] \\\\\n",
       "\t18 & 88 & 34 & 6 & Q2: [1174.0, 1435.0) \\\\\n",
       "\t19 & 78 & 15 & 4 & Q3: [1435.0, 1669.0) \\\\\n",
       "\t20 & 93 & 5314 & 4 & Q3: [1435.0, 1669.0) \\\\\n",
       "\t21 & 90 & 1505 & 6 & Q5: [1975.0, 2914.0] \\\\\n",
       "\t22 & 61 & 74 & 4 & Q1: [550.0, 1174.0) \\\\\n",
       "\t23 & 88 & 49 & 4 & Q4: [1669.0, 1975.0) \\\\\n",
       "\t24 & 78 & 25 & 4 & Q3: [1435.0, 1669.0) \\\\\n",
       "\t$\\dots$ & $\\dots$ & $\\dots$ & $\\dots$ & $\\dots$ \\\\\n",
       "\\end{tabular}\n"
      ],
      "text/plain": [
       "\u001b[1m565133×4 DataFrame\u001b[0m\n",
       "\u001b[1m    Row \u001b[0m│\u001b[1m Popularity \u001b[0m\u001b[1m NbPlays \u001b[0m\u001b[1m MoveNo \u001b[0m\u001b[1m Rating_5             \u001b[0m\n",
       "        │\u001b[90m Int64      \u001b[0m\u001b[90m Int64   \u001b[0m\u001b[90m Int64  \u001b[0m\u001b[90m Cat…                 \u001b[0m\n",
       "────────┼───────────────────────────────────────────────────\n",
       "      1 │         85      505       4  Q1: [550.0, 1174.0)\n",
       "      2 │         86      482       4  Q3: [1435.0, 1669.0)\n",
       "      3 │         88      448       4  Q3: [1435.0, 1669.0)\n",
       "      4 │         90     1572       4  Q4: [1669.0, 1975.0)\n",
       "      5 │         39      136       2  Q1: [550.0, 1174.0)\n",
       "      6 │         50       12       2  Q3: [1435.0, 1669.0)\n",
       "      7 │         96     1091       4  Q1: [550.0, 1174.0)\n",
       "      8 │         93      639       4  Q4: [1669.0, 1975.0)\n",
       "   ⋮    │     ⋮          ⋮       ⋮              ⋮\n",
       " 565127 │         72       30       4  Q2: [1174.0, 1435.0)\n",
       " 565128 │        100       13       6  Q4: [1669.0, 1975.0)\n",
       " 565129 │        100       52       4  Q1: [550.0, 1174.0)\n",
       " 565130 │         94     2523       6  Q4: [1669.0, 1975.0)\n",
       " 565131 │         85       73       4  Q4: [1669.0, 1975.0)\n",
       " 565132 │         93      637       4  Q1: [550.0, 1174.0)\n",
       " 565133 │         79       50       6  Q5: [1975.0, 2914.0]\n",
       "\u001b[36m                                         565118 rows omitted\u001b[0m"
      ]
     },
     "metadata": {},
     "output_type": "display_data"
    }
   ],
   "source": [
    "@chain df begin\n",
    "    @rtransform(:MoveNo = 1 + count(==(' '), :Moves))\n",
    "    select(:Popularity,\n",
    "           :NbPlays,\n",
    "           :MoveNo,\n",
    "           :Rating => (x -> cut(x, 5)) => :Rating_5\n",
    "           )\n",
    "end"
   ]
  },
  {
   "cell_type": "code",
   "execution_count": 253,
   "metadata": {},
   "outputs": [
    {
     "data": {
      "text/html": [
       "<div><div style = \"float: left;\"><span>27175×6 DataFrame</span></div><div style = \"float: right;\"><span style = \"font-style: italic;\">27165 rows omitted</span></div><div style = \"clear: both;\"></div></div><div class = \"data-frame\" style = \"overflow-x: scroll;\"><table class = \"data-frame\" style = \"margin-bottom: 6px;\"><thead><tr class = \"header\"><th class = \"rowNumber\" style = \"font-weight: bold; text-align: right;\">Row</th><th style = \"text-align: left;\">Moves</th><th style = \"text-align: left;\">Rating</th><th style = \"text-align: left;\">Popularity</th><th style = \"text-align: left;\">NbPlays</th><th style = \"text-align: left;\">Themes</th><th style = \"text-align: left;\">OpeningFamily</th></tr><tr class = \"subheader headerLastRow\"><th class = \"rowNumber\" style = \"font-weight: bold; text-align: right;\"></th><th title = \"String\" style = \"text-align: left;\">String</th><th title = \"Int64\" style = \"text-align: left;\">Int64</th><th title = \"Int64\" style = \"text-align: left;\">Int64</th><th title = \"Int64\" style = \"text-align: left;\">Int64</th><th title = \"String\" style = \"text-align: left;\">String</th><th title = \"String\" style = \"text-align: left;\">String</th></tr></thead><tbody><tr><td class = \"rowNumber\" style = \"font-weight: bold; text-align: right;\">1</td><td style = \"text-align: left;\">f8e7 f3e5 c7e5 e2g4</td><td style = \"text-align: right;\">1492</td><td style = \"text-align: right;\">93</td><td style = \"text-align: right;\">588</td><td style = \"text-align: left;\">crushing discoveredAttack middlegame short</td><td style = \"text-align: left;\">Caro-Kann_Defense</td></tr><tr><td class = \"rowNumber\" style = \"font-weight: bold; text-align: right;\">2</td><td style = \"text-align: left;\">e4f2 g1f2 g6d3 d1d3</td><td style = \"text-align: right;\">987</td><td style = \"text-align: right;\">61</td><td style = \"text-align: right;\">74</td><td style = \"text-align: left;\">advantage hangingPiece middlegame short</td><td style = \"text-align: left;\">Caro-Kann_Defense</td></tr><tr><td class = \"rowNumber\" style = \"font-weight: bold; text-align: right;\">3</td><td style = \"text-align: left;\">a8b8 b5d6 e8d8 d2a5</td><td style = \"text-align: right;\">1588</td><td style = \"text-align: right;\">78</td><td style = \"text-align: right;\">25</td><td style = \"text-align: left;\">crushing master middlegame short</td><td style = \"text-align: left;\">Caro-Kann_Defense</td></tr><tr><td class = \"rowNumber\" style = \"font-weight: bold; text-align: right;\">4</td><td style = \"text-align: left;\">e5d7 f6d7 c5d7 c7d7</td><td style = \"text-align: right;\">973</td><td style = \"text-align: right;\">95</td><td style = \"text-align: right;\">1203</td><td style = \"text-align: left;\">crushing middlegame short</td><td style = \"text-align: left;\">Caro-Kann_Defense</td></tr><tr><td class = \"rowNumber\" style = \"font-weight: bold; text-align: right;\">5</td><td style = \"text-align: left;\">h4g6 d6h2 g1h1 h7g6</td><td style = \"text-align: right;\">2028</td><td style = \"text-align: right;\">94</td><td style = \"text-align: right;\">7325</td><td style = \"text-align: left;\">crushing intermezzo opening short</td><td style = \"text-align: left;\">Caro-Kann_Defense</td></tr><tr><td style = \"text-align: right;\">&vellip;</td><td style = \"text-align: right;\">&vellip;</td><td style = \"text-align: right;\">&vellip;</td><td style = \"text-align: right;\">&vellip;</td><td style = \"text-align: right;\">&vellip;</td><td style = \"text-align: right;\">&vellip;</td><td style = \"text-align: right;\">&vellip;</td></tr><tr><td class = \"rowNumber\" style = \"font-weight: bold; text-align: right;\">27171</td><td style = \"text-align: left;\">d5b4 e4f6 e7f6 d3h7</td><td style = \"text-align: right;\">1327</td><td style = \"text-align: right;\">93</td><td style = \"text-align: right;\">704</td><td style = \"text-align: left;\">clearance kingsideAttack mate mateIn2 middlegame sacrifice short</td><td style = \"text-align: left;\">Caro-Kann_Defense</td></tr><tr><td class = \"rowNumber\" style = \"font-weight: bold; text-align: right;\">27172</td><td style = \"text-align: left;\">c4b4 c8c1 e1f2 e4e3</td><td style = \"text-align: right;\">1578</td><td style = \"text-align: right;\">100</td><td style = \"text-align: right;\">3</td><td style = \"text-align: left;\">mate mateIn2 pin short</td><td style = \"text-align: left;\">Caro-Kann_Defense</td></tr><tr><td class = \"rowNumber\" style = \"font-weight: bold; text-align: right;\">27173</td><td style = \"text-align: left;\">e6f7 g4c8 d6e6 c8e6</td><td style = \"text-align: right;\">1104</td><td style = \"text-align: right;\">100</td><td style = \"text-align: right;\">7</td><td style = \"text-align: left;\">crushing hangingPiece short</td><td style = \"text-align: left;\">Caro-Kann_Defense</td></tr><tr><td class = \"rowNumber\" style = \"font-weight: bold; text-align: right;\">27174</td><td style = \"text-align: left;\">g8f6 f3c6 b7c6 c4a6</td><td style = \"text-align: right;\">1621</td><td style = \"text-align: right;\">90</td><td style = \"text-align: right;\">231698</td><td style = \"text-align: left;\">bodenMate mate mateIn2 middlegame queensideAttack sacrifice short</td><td style = \"text-align: left;\">Caro-Kann_Defense</td></tr><tr><td class = \"rowNumber\" style = \"font-weight: bold; text-align: right;\">27175</td><td style = \"text-align: left;\">a5a2 b5c7 e8d7 c7a8</td><td style = \"text-align: right;\">812</td><td style = \"text-align: right;\">100</td><td style = \"text-align: right;\">52</td><td style = \"text-align: left;\">crushing fork middlegame short</td><td style = \"text-align: left;\">Caro-Kann_Defense</td></tr></tbody></table></div>"
      ],
      "text/latex": [
       "\\begin{tabular}{r|cccccc}\n",
       "\t& Moves & Rating & Popularity & NbPlays & Themes & \\\\\n",
       "\t\\hline\n",
       "\t& String & Int64 & Int64 & Int64 & String & \\\\\n",
       "\t\\hline\n",
       "\t1 & f8e7 f3e5 c7e5 e2g4 & 1492 & 93 & 588 & crushing discoveredAttack middlegame short & $\\dots$ \\\\\n",
       "\t2 & e4f2 g1f2 g6d3 d1d3 & 987 & 61 & 74 & advantage hangingPiece middlegame short & $\\dots$ \\\\\n",
       "\t3 & a8b8 b5d6 e8d8 d2a5 & 1588 & 78 & 25 & crushing master middlegame short & $\\dots$ \\\\\n",
       "\t4 & e5d7 f6d7 c5d7 c7d7 & 973 & 95 & 1203 & crushing middlegame short & $\\dots$ \\\\\n",
       "\t5 & h4g6 d6h2 g1h1 h7g6 & 2028 & 94 & 7325 & crushing intermezzo opening short & $\\dots$ \\\\\n",
       "\t6 & a8d8 d2b1 a3a4 d1a4 & 1586 & 93 & 5999 & advantage master middlegame short trappedPiece & $\\dots$ \\\\\n",
       "\t7 & e1e6 e8d7 d2f4 c7f4 & 1304 & 74 & 136 & crushing hangingPiece middlegame short & $\\dots$ \\\\\n",
       "\t8 & c3d5 f6d5 g5d8 d5e3 & 1420 & 100 & 16 & crushing hangingPiece short & $\\dots$ \\\\\n",
       "\t9 & d8d1 e6e7 f8g8 e1d1 & 1920 & 79 & 124 & advancedPawn crushing intermezzo opening short & $\\dots$ \\\\\n",
       "\t10 & c3d5 f6d5 f3d5 g7d4 & 2325 & 91 & 192 & crushing discoveredAttack middlegame short & $\\dots$ \\\\\n",
       "\t11 & c1b2 f8b8 b2c1 c5e3 d1d2 e3c3 & 2074 & 61 & 40 & crushing fork long middlegame & $\\dots$ \\\\\n",
       "\t12 & e3d3 e1e8 g8h7 e8c8 & 927 & 92 & 236 & advantage fork middlegame short & $\\dots$ \\\\\n",
       "\t13 & h4h5 d6h2 g1h1 f5g3 h1h2 g3e2 & 1661 & 92 & 6640 & crushing discoveredAttack fork long middlegame & $\\dots$ \\\\\n",
       "\t14 & h8e8 e1e8 d8e8 b5c7 e8c6 c7a8 & 1259 & 91 & 207 & crushing fork long middlegame & $\\dots$ \\\\\n",
       "\t15 & g7g6 d1a1 a2a1 h1a1 & 1223 & 95 & 2357 & advantage middlegame short trappedPiece & $\\dots$ \\\\\n",
       "\t16 & e7g6 d3g6 f7g6 e2b5 c8d7 b5c5 & 1899 & 96 & 4336 & clearance crushing fork long opening & $\\dots$ \\\\\n",
       "\t17 & a2a3 b4c3 b2c3 a5a6 d4c5 a6e2 & 2222 & 88 & 86 & advantage fork long & $\\dots$ \\\\\n",
       "\t18 & d6c4 d3c4 f7f6 e5d6 d5c4 d6d7 & 1355 & 100 & 7 & crushing long & $\\dots$ \\\\\n",
       "\t19 & e3d2 a5a4 b3a4 b6a4 & 1375 & 70 & 106 & advantage middlegame short & $\\dots$ \\\\\n",
       "\t20 & f8h7 g4h5 f7g7 f4e6 & 1820 & 95 & 7905 & crushing deflection fork master middlegame short & $\\dots$ \\\\\n",
       "\t21 & f7f5 h4g6 h7g6 f4h6 & 1616 & 96 & 6357 & kingsideAttack mate mateIn2 middlegame sacrifice short & $\\dots$ \\\\\n",
       "\t22 & d6a3 b2a3 b8b1 c3b1 & 1477 & 97 & 6540 & advantage hangingPiece middlegame short & $\\dots$ \\\\\n",
       "\t23 & c5c4 h5f6 g7f6 d3h7 f8h7 c2h7 & 1933 & 91 & 857 & advantage kingsideAttack long master middlegame sacrifice & $\\dots$ \\\\\n",
       "\t24 & c1b1 e6a2 b1a2 b6a5 a2b1 a5e1 & 1806 & 48 & 20 & attraction crushing fork long middlegame sacrifice & $\\dots$ \\\\\n",
       "\t$\\dots$ & $\\dots$ & $\\dots$ & $\\dots$ & $\\dots$ & $\\dots$ &  \\\\\n",
       "\\end{tabular}\n"
      ],
      "text/plain": [
       "\u001b[1m27175×6 DataFrame\u001b[0m\n",
       "\u001b[1m   Row \u001b[0m│\u001b[1m Moves                         \u001b[0m\u001b[1m Rating \u001b[0m\u001b[1m Popularity \u001b[0m\u001b[1m NbPlays \u001b[0m\u001b[1m Themes   \u001b[0m ⋯\n",
       "       │\u001b[90m String                        \u001b[0m\u001b[90m Int64  \u001b[0m\u001b[90m Int64      \u001b[0m\u001b[90m Int64   \u001b[0m\u001b[90m String   \u001b[0m ⋯\n",
       "───────┼────────────────────────────────────────────────────────────────────────\n",
       "     1 │ f8e7 f3e5 c7e5 e2g4              1492          93      588  crushing  ⋯\n",
       "     2 │ e4f2 g1f2 g6d3 d1d3               987          61       74  advantage\n",
       "     3 │ a8b8 b5d6 e8d8 d2a5              1588          78       25  crushing\n",
       "     4 │ e5d7 f6d7 c5d7 c7d7               973          95     1203  crushing\n",
       "     5 │ h4g6 d6h2 g1h1 h7g6              2028          94     7325  crushing  ⋯\n",
       "     6 │ a8d8 d2b1 a3a4 d1a4              1586          93     5999  advantage\n",
       "     7 │ e1e6 e8d7 d2f4 c7f4              1304          74      136  crushing\n",
       "     8 │ c3d5 f6d5 g5d8 d5e3              1420         100       16  crushing\n",
       "   ⋮   │               ⋮                  ⋮         ⋮          ⋮               ⋱\n",
       " 27169 │ g6h5 g4g7                        1156          90      321  mate mate ⋯\n",
       " 27170 │ b5c6 c8c6                         615          74      275  advantage\n",
       " 27171 │ d5b4 e4f6 e7f6 d3h7              1327          93      704  clearance\n",
       " 27172 │ c4b4 c8c1 e1f2 e4e3              1578         100        3  mate mate\n",
       " 27173 │ e6f7 g4c8 d6e6 c8e6              1104         100        7  crushing  ⋯\n",
       " 27174 │ g8f6 f3c6 b7c6 c4a6              1621          90   231698  bodenMate\n",
       " 27175 │ a5a2 b5c7 e8d7 c7a8               812         100       52  crushing\n",
       "\u001b[36m                                                2 columns and 27160 rows omitted\u001b[0m"
      ]
     },
     "metadata": {},
     "output_type": "display_data"
    }
   ],
   "source": [
    "@rsubset(df, :OpeningFamily == \"Caro-Kann_Defense\")"
   ]
  },
  {
   "cell_type": "markdown",
   "metadata": {},
   "source": [
    "## Summary of available functions and macros\n",
    "\n",
    "\n",
    "| DataFrames.jl | DataFramesMeta.jl | Operation |\n",
    "|:--------------|:------------------|:----------|\n",
    "| `select`      | `@select`         | select/transform whole columns of source; keep number and order of columns fixed |\n",
    "|               | `@rselect`        | same as `@select` but all operations are applied by row (same as `ByRow` in `select`) |\n",
    "| `transform`   | `@transform`      | same as `select` but keeps all columns from the source (`:` is passed as a first argument to `select`) |\n",
    "|               | `@rtransform`     | same as `@transform` but all operations are applied by row (same as `ByRow` in `transform`) |\n",
    "| `select!`     | `@select!`        | same as `select` but updates parent data frame in-place |\n",
    "|               | `@rselect!`       | same as `@rselect!` but updates parent data frame in-place |\n",
    "| `transform!`  | `@transform!`     | same as `transform` but updates parent data frame in-place |\n",
    "|               | `@rtransform!`    | same as `@rtransform!` but updates parent data frame in-place |\n",
    "| `combine`     | `@combine`        | same as `select` but combines rows (e.g. produces one row from many rows); for `GroupedDataFrame` keeps order of groups |\n",
    "| `subset`      | `@subset`         | subset rows of a data frame based on conditions (passing target column name is not allowed) |\n",
    "|               | `@rsubset`        | same as `@subset` but all operations are applied by row (same as `ByRow` in `subset`) |\n",
    "| `subset!`     | `@subset!`        | same as `subset` but updates parent data frame in-place |\n",
    "|               | `@rsubset!`       | same as `@rsubset!` but updates parent data frame in-place |\n",
    "\n",
    "General rules:\n",
    "* `combine` is typically used for aggregation; because of this it does not have `r` nor `!` modifiers\n",
    "* for other operations there are three funtions `select`, `transform`, and `subset` and they allow `r` and `!` modifiers\n",
    "\n",
    "In total you need to learn 4 names (`select`, `transform`, `subset`, and `combine`) and the fact that there are three modifiers:\n",
    "* `!` suffix: in place operation;\n",
    "* `@` prefix: use macro instead of a function (assignment syntax using `=` instead of pair syntax using `=>`);\n",
    "* `r` prefix: in macros apply all operations by row instead to whole columns.\n"
   ]
  }
 ],
 "metadata": {
  "kernelspec": {
   "display_name": "Julia 1.9.2",
   "language": "julia",
   "name": "julia-1.9"
  },
  "language_info": {
   "file_extension": ".jl",
   "mimetype": "application/julia",
   "name": "julia",
   "version": "1.9.2"
  },
  "orig_nbformat": 4
 },
 "nbformat": 4,
 "nbformat_minor": 2
}
